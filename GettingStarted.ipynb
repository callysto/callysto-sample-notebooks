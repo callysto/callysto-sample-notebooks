{
 "cells": [
  {
   "cell_type": "markdown",
   "metadata": {},
   "source": [
    "## Getting Started\n",
    "\n",
    "**N.B.* This is an example only, I'm using the callysto-sample-notebook repository which has gotten fairly bloated. We'd probably want to pull down something much smaller in practice.**\n",
    "\n",
    "So you've logged in to (https://hub.callysto.ca), now what? Typically you'll be looking at the notebook's file manager interface and you will only have one file to play with (this one!).\n",
    "\n",
    "If you've used jupyter notebooks before, feel free to just start coding, but if not the resources in this notebook should help you get started. In the sections below, you will find links to some sample notebooks. Each links will use git to clone out a working copy of the notebook into your account and open it in your browser, just pick one that intersts you and get started!\n",
    "\n",
    "## General Interest\n",
    "\n",
    "  * [economics-data.ipynb](https://hub.callysto.ca/jupyter/hub/user-redirect/git-pull?repo=https://github.com/callysto/callysto-sample-notebooks&branch=master&subPath=notebooks/General_Interest/economics-data.ipynb) - Work through economic data from the World Bank\n",
    "\n",
    "## Math\n",
    "  * [FlippingCoins.ipynb](https://hub.callysto.ca/jupyter/hub/user-redirect/git-pull?repo=https://github.com/callysto/callysto-sample-notebooks&branch=master&subPath=notebooks/FlippingCoins.ipynb) - Random numbers, probability etc.\n",
    "\n",
    "## Physics\n",
    "  * [Nuclear.ipynb](https://hub.callysto.ca/jupyter/hub/user-redirect/git-pull?repo=https://github.com/callysto/callysto-sample-notebooks&branch=master&subPath=/notebooks/Physics/Nuclear.ipynb) - Study radioactive decay\n",
    "\n",
    "## Other Resources\n",
    "\n",
    "There are lots of resources for learning your way around the Jupyter ecosystem, a google (or github) search for your area of interest and \"Jupyter Notebook\" will often turn up something interesting. The links below are some \n",
    "\n",
    "  * [The Jupyter Notebook](https://jupyter-notebook.readthedocs.io/en/stable/) (official docs)\n",
    "  * [A gallery of interesting Jupyter Notebooks](https://github.com/jupyter/jupyter/wiki/A-gallery-of-interesting-Jupyter-Notebooks)\n",
    "  * Tutorials\n",
    "    * [Jupyter Notebook Quick Start Guide](http://jupyter-notebook-beginner-guide.readthedocs.io/en/latest/)\n",
    "    * [Jupyter Notebook: The Definitive Guide](https://www.datacamp.com/community/tutorials/tutorial-jupyter-notebook)\n",
    "  \n"
   ]
  },
  {
   "cell_type": "code",
   "execution_count": null,
   "metadata": {},
   "outputs": [],
   "source": []
  }
 ],
 "metadata": {
  "kernelspec": {
   "display_name": "Python 3",
   "language": "python",
   "name": "python3"
  },
  "language_info": {
   "codemirror_mode": {
    "name": "ipython",
    "version": 3
   },
   "file_extension": ".py",
   "mimetype": "text/x-python",
   "name": "python",
   "nbconvert_exporter": "python",
   "pygments_lexer": "ipython3",
   "version": "3.6.5"
  }
 },
 "nbformat": 4,
 "nbformat_minor": 2
}
