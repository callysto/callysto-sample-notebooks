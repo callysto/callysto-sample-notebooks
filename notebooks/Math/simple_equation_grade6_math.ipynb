{
 "cells": [
  {
   "cell_type": "markdown",
   "metadata": {},
   "source": [
    "# Simple Equations Solving and Python User Defined Function\n",
    "-Shomi Ahmed"
   ]
  },
  {
   "cell_type": "markdown",
   "metadata": {},
   "source": [
    "![Eq](https://image.pbs.org/poster_images/assets/Writing_Algebraic_Equations.jpg.resize.710x399.jpg)  \n",
    "Figure Source : [PBS Learning Media](https://www.pbslearningmedia.org/resource/muen-math-ee-writingalgequ/writing-algebraic-equations/#.WuDbtNPwYb0) "
   ]
  },
  {
   "cell_type": "markdown",
   "metadata": {},
   "source": [
    "An **equation** is a statement with equality sign ($=$). \n",
    "For example- \n",
    "![alt text](https://www.mathsisfun.com/algebra/images/expression-term.svg)  \n",
    "Figure Source : [Math is Fun](https://www.mathsisfun.com/definitions/equation.html)  \n",
    "\n",
    "Here, the unknown quantity is known as variable. \n",
    " \n",
    "- $\\boxed{y+1=2}$\n",
    "- $\\boxed{2z+3=5}$  \n",
    "\n",
    "Above are also equations with varibales $y$ & $z$ respectively. Mainly, the small letters $x,y,z$ are used as variables.    \n",
    "\n",
    "The format of a simple equation is $\\boxed{ax+b=c}$, where, $a,b,c$ are known as co-efficients.  \n",
    "\n",
    "**To Do :**\n",
    "- Write 5 equations using each of $x, y$ & $z$ ."
   ]
  },
  {
   "cell_type": "markdown",
   "metadata": {},
   "source": [
    "**Process of Solving Equation : **  \n",
    "\n",
    "The process of finding the value of the unknown is called solution and the value is called the root of the equation.  \n",
    "\n",
    "**Steps**-  \n",
    "  1. $\\boxed{ax+b=c}$ -Check equation if they are in this format or not. If not, take help from next steps to get this format.\n",
    "  1. $\\boxed{ax+b-b=c-b}$ -Get rid of ${\\bf b}$ by adding ${\\bf \\pm b}$ on both sides. Here, ${\\bf -b}$ is added. \n",
    "  1. $\\boxed{ax=c-b}$  \n",
    "  1. $\\boxed{\\frac{ax}{a}=\\frac{(c-b)}{a}}$ -Now get rid of ${\\bf a}$ by dividing both sides by ${\\bf a}$.\n",
    "  1. Therefore, $\\boxed{x=\\frac{(c-b)}{a}}$ -Finally, the value of ${\\bf x}$ is found.  \n",
    "  \n",
    "You can also check out this video for an awesome explanation.\n",
    "  \n",
    "[![IMAGE ALT TEXT HERE](http://img.youtube.com/vi/l3XzepN03KQ/0.jpg)](https://www.youtube.com/watch?v=l3XzepN03KQ)\n",
    "\n",
    "\n",
    "Now let's solve some equations-\n",
    "\n",
    "A. $\\boxed{x+1=2}$  \n",
    "\n",
    "   **Solution**  \n",
    "   \n",
    "   1. $\\boxed{x+1=2}$ - Check if it is in $\\boxed{ax+b=c}$ format or not? Yes.  \n",
    "   1. $\\boxed{x+1-1=2-1}$ - Get rid of $1$ by adding $-1$ on both sides.  \n",
    "   1. Finally, $\\boxed{x=1}$  \n",
    "   \n",
    "   \n",
    "   **Verification**  \n",
    "   Let's take the Left Hand Side (LHS) of equation **A** and use the value of $\\boxed{x=1}$. So,  \n",
    "   $\\boxed{LHS =1+1=2= RHS}$ (**Verified**)  \n",
    "\n",
    "This video can help you solving/understanding next problems.\n",
    "  \n",
    "[![IMAGE ALT TEXT HERE](http://img.youtube.com/vi/Qyd_v3DGzTM/0.jpg)](https://www.youtube.com/watch?v=Qyd_v3DGzTM)\n",
    "   \n",
    "B. $\\boxed{2x+1=9}$  \n",
    "\n",
    "   **Solution**  \n",
    "   \n",
    "   1. $\\boxed{2x+1=9}$ - Check if it is in $\\boxed{ax+b=c}$ format or not? Yes. \n",
    "   1. $\\boxed{2x+1-1=9-1}$ - Get rid of $1$ by adding $-1$ on both sides.  \n",
    "   1. $\\boxed{2x=8}$ - Now get rid of 2 by dividing both sides by 2.  \n",
    "   1. $\\boxed{\\frac{2x}{2}=\\frac{8}{2}}$ \n",
    "   1. Finally, $\\boxed{x=4}$  \n",
    "   \n",
    "   \n",
    "   **Verification**  \n",
    "   Let's take the Left Hand Side (LHS) of equation **B** and use the value of $\\boxed{x=4}$. So,  \n",
    "   $\\boxed{LHS =(2*4)+1=8+1=9= RHS}$ (**Verified**)\n",
    "   \n",
    "C. $\\boxed{3x-1=8}$  \n",
    "\n",
    "   **Solution**  \n",
    "   \n",
    "   1. $\\boxed{3x-1=8}$ - Check if it is in $\\boxed{ax+b=c}$ format or not? No.\n",
    "   1. $\\boxed{3x+(-1)=8}$ - Now it is in $\\boxed{ax+b=c}$ format.\n",
    "   1. $\\boxed{3x-1+1=8+1}$ - Get rid of $-1$ by adding $1$ on both sides.  \n",
    "   1. $\\boxed{3x=9}$ - Now get rid of co-efficient 3 of $x$ by dividing both sides by 3.  \n",
    "   1. $\\boxed{\\frac{3x}{3}=\\frac{3}{3}}$ \n",
    "   1. Finally, $\\boxed{x=3}$  \n",
    "   \n",
    "   \n",
    "   **Verification**  \n",
    "   Let's take the Left Hand Side (LHS) of equation **C** and use the value of $\\boxed{x=3}$. So,  \n",
    "   $\\boxed{LHS =(3*3)-1=9-1=8= RHS}$ (**Verified**)  \n",
    "   \n",
    "D. $\\boxed{5y-2=3y+8}$  \n",
    "\n",
    "   **Solution**  \n",
    "   \n",
    "   1. $\\boxed{5y-2=3y+8}$ - Check if it is in $\\boxed{ax+b=c}$ format or not? No.  \n",
    "   1. $\\boxed{5y-2-3y=3y+8-3y}$ - Get rid of $3y$ by adding $-3y$ on both sides.  \n",
    "   1. $\\boxed{2y-2=8}$ - Check again if it is in $\\boxed{ax+b=c}$ format or not? No.\n",
    "   1. $\\boxed{2y+(-2)=8}$ - Now it is in $\\boxed{ax+b=c}$ format.\n",
    "   1. $\\boxed{2y-2+2=8+2}$ - Get rid of $-2$ by adding $2$ on both sides.  \n",
    "   1. $\\boxed{2y=10}$ - Now get rid of co-efficient 2 of $y$ by dividing both sides by 2.  \n",
    "   1. $\\boxed{\\frac{2y}{2}=\\frac{10}{2}}$  \n",
    "   1. Finally, $\\boxed{y=5}$  \n",
    "   \n",
    "   \n",
    "   **Verification**  \n",
    "   Let's use the value of $\\boxed{y=5}$ on both sides of equation **D**.  \n",
    "   - $\\boxed{LHS =(5*5)-2=25-2=23}$  \n",
    "   - $\\boxed{RHS =(3*5)+8=15+8=23}$ \n",
    "   - Therefore, $\\boxed{LHS=RHS}$ (**Verified**) "
   ]
  },
  {
   "cell_type": "markdown",
   "metadata": {},
   "source": [
    "**Solving Equation Using Python**  \n",
    "\n",
    "We can use python programming language to solve an equation.\n",
    "\n",
    "First of all, we have to create a user defined function.  \n",
    "- Steps  \n",
    "  - Declaring function by writing **def** followed by function name.\n",
    "  - Declare no. of variables/arguments inside parentheses just after function name followed by collon sign.\n",
    "  - Write the code to be executed\n",
    "  - Finally, end the function with/without return option.  \n",
    "  \n",
    "Now, let's create a user defined function to solve a simple equation.  "
   ]
  },
  {
   "cell_type": "code",
   "execution_count": 17,
   "metadata": {},
   "outputs": [],
   "source": [
    "def simple_equation(a,b,c):\n",
    "    x=(c-b)/a\n",
    "    return x\n"
   ]
  },
  {
   "cell_type": "markdown",
   "metadata": {},
   "source": [
    "**Explanation of the above code**  \n",
    "Accoding to steps -  \n",
    "1. function name is **simple_equation** and arguments are **a, b & c**.  \n",
    "1. Then the value of x from $\\boxed{ax+b=c}$ can be found by $\\boxed{x=\\frac{(c-b)}{a}}$.  \n",
    "1. In the third line the value of **x** has been returned.  \n",
    "\n",
    "And thus a user defined function named simple_equation has been created to find $x$.  \n",
    "\n",
    "Now, let's execute the function below-"
   ]
  },
  {
   "cell_type": "code",
   "execution_count": 19,
   "metadata": {},
   "outputs": [
    {
     "name": "stdout",
     "output_type": "stream",
     "text": [
      "4.0\n"
     ]
    }
   ],
   "source": [
    "r=simple_equation(2,1,9)\n",
    "print (r)"
   ]
  },
  {
   "cell_type": "markdown",
   "metadata": {},
   "source": [
    "**Explanation of the above code**  \n",
    "1. **simple_equation**${\\bf (2,1,9)}$ is going above where it has been created and replacing **a,b,c** by ${\\bf 2,1,9}$ respectively.  \n",
    "  1. Now, $\\boxed{x=\\frac{(9-1)}{2}=\\frac{8}{2}=4.0}$  \n",
    "  1. Then the value of $\\boxed{x=4.0}$ has been returned in place of **simple_equation**${\\bf (2,1,9)}$.  \n",
    "  1. And thus $\\boxed{r=4.0}$\n",
    "1. Now to display the result on screen **print** command has been executed.  \n",
    "1. Therefore, in the third line in above code we are seeing the result i.e. **4.0**\n"
   ]
  },
  {
   "cell_type": "markdown",
   "metadata": {},
   "source": [
    "**Exercise**  \n",
    "1. Solve the following equations and verify the correctness of the solution using verification rule and python code.\n",
    "  1. $\\boxed{x-3=7}$  \n",
    "  1. $\\boxed{2z+5=15}$  \n",
    "  1. $\\boxed{5-x=7}$ \n",
    "  1. $\\boxed{3x-8=x+2}$  \n",
    "  \n",
    "1. Fill up the table using the information from solution of above equations  \n",
    "\n",
    "\n",
    "| Equations | In ($ ax+b=c $) Format |   a   | b | c| x/y/z | Verification| By Python |\n",
    "| :---      | ---   | --- | --- | --- | --- | --- | --- |\n",
    "| x-3=7     |       |   |  |   |    |          |          | \n",
    "| 2z+5=15   |       |   |  |   |   |          |          |\n",
    "| 5-x=7     |       |   |  |   |     |          |          |\n",
    "| 3x-8=x+2  |       |   |  |   |   |          |          |\n"
   ]
  }
 ],
 "metadata": {
  "kernelspec": {
   "display_name": "Python 3",
   "language": "python",
   "name": "python3"
  },
  "language_info": {
   "codemirror_mode": {
    "name": "ipython",
    "version": 3
   },
   "file_extension": ".py",
   "mimetype": "text/x-python",
   "name": "python",
   "nbconvert_exporter": "python",
   "pygments_lexer": "ipython3",
   "version": "3.6.4"
  }
 },
 "nbformat": 4,
 "nbformat_minor": 2
}
