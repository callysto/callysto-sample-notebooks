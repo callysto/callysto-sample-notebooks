{
 "cells": [
  {
   "cell_type": "markdown",
   "metadata": {},
   "source": []
  },
  {
   "cell_type": "code",
   "execution_count": 1,
   "metadata": {},
   "outputs": [
    {
     "data": {
      "text/html": [
       "\n",
       "<script>\n",
       "  function code_toggle() {\n",
       "    if (code_shown){\n",
       "      $('div.input').hide('500');\n",
       "      $('#toggleButton').val('Show Code')\n",
       "    } else {\n",
       "      $('div.input').show('500');\n",
       "      $('#toggleButton').val('Hide Code')\n",
       "    }\n",
       "    code_shown = !code_shown\n",
       "  }\n",
       "\n",
       "  $( document ).ready(function(){\n",
       "    code_shown=false;\n",
       "    $('div.input').hide()\n",
       "  });\n",
       "</script>\n",
       "<form action=\"javascript:code_toggle()\"><input type=\"submit\" id=\"toggleButton\" value=\"Show Code\"></form>"
      ],
      "text/plain": [
       "<IPython.core.display.HTML object>"
      ]
     },
     "metadata": {},
     "output_type": "display_data"
    }
   ],
   "source": [
    "%%html\n",
    "\n",
    "<script>\n",
    "  function code_toggle() {\n",
    "    if (code_shown){\n",
    "      $('div.input').hide('500');\n",
    "      $('#toggleButton').val('Show Code')\n",
    "    } else {\n",
    "      $('div.input').show('500');\n",
    "      $('#toggleButton').val('Hide Code')\n",
    "    }\n",
    "    code_shown = !code_shown\n",
    "  }\n",
    "\n",
    "  $( document ).ready(function(){\n",
    "    code_shown=false;\n",
    "    $('div.input').hide()\n",
    "  });\n",
    "</script>\n",
    "<form action=\"javascript:code_toggle()\"><input type=\"submit\" id=\"toggleButton\" value=\"Show Code\"></form>"
   ]
  },
  {
   "cell_type": "markdown",
   "metadata": {},
   "source": [
    "# Interactive Geometry"
   ]
  },
  {
   "cell_type": "code",
   "execution_count": 2,
   "metadata": {},
   "outputs": [],
   "source": [
    "from __future__ import print_function\n",
    "from ipywidgets import interact, interactive, fixed, interact_manual\n",
    "import ipywidgets as widgets\n",
    "\n",
    "import matplotlib.pyplot as plt\n",
    "import matplotlib.patches as patches\n",
    "from matplotlib.patches import Polygon\n",
    "\n",
    "from mpl_toolkits.mplot3d import Axes3D\n",
    "import numpy as np\n",
    "from itertools import product, combinations\n",
    "\n",
    "import math\n",
    "import pylab\n",
    "\n",
    "%matplotlib inline \n",
    "\n",
    "pylab.rcParams['figure.figsize'] = (14, 14)"
   ]
  },
  {
   "cell_type": "markdown",
   "metadata": {},
   "source": [
    "Here's a simple example of how an interactive notebook could help in gaining intuition with basic geometry. First, let's take a look at the surface area of a cube."
   ]
  },
  {
   "cell_type": "markdown",
   "metadata": {},
   "source": [
    "## Surface Area of a Cube\n",
    "\n",
    "The surface area of a cube is the surface area of each of its 6 faces. While that might be fairly straightforward, let's ask a slightly more complicated question. What happens if we cut the width of the cube's edges in half? If we're not really thinking about it, we might say that the area will be cut in half. But it will actually be one fourth of its original value. While we can come to the right answer by plugging the numbers into the formula: $Surface Area = 6 \\times Width^2$, or realizing that because the width is squared in the formula, any change to it would have a squared effect on the surface area, it's harder to visualize what's happening without help.\n",
    "\n",
    "Here's where an interactive notebook can really come in handy, allowing you to play with the effects of changing the width of the cube in real time."
   ]
  },
  {
   "cell_type": "code",
   "execution_count": 3,
   "metadata": {},
   "outputs": [
    {
     "data": {
      "application/vnd.jupyter.widget-view+json": {
       "model_id": "2a362ab0bc324212aa15f3d0259cd65a",
       "version_major": 2,
       "version_minor": 0
      },
      "text/html": [
       "<p>Failed to display Jupyter Widget of type <code>interactive</code>.</p>\n",
       "<p>\n",
       "  If you're reading this message in the Jupyter Notebook or JupyterLab Notebook, it may mean\n",
       "  that the widgets JavaScript is still loading. If this message persists, it\n",
       "  likely means that the widgets JavaScript library is either not installed or\n",
       "  not enabled. See the <a href=\"https://ipywidgets.readthedocs.io/en/stable/user_install.html\">Jupyter\n",
       "  Widgets Documentation</a> for setup instructions.\n",
       "</p>\n",
       "<p>\n",
       "  If you're reading this message in another frontend (for example, a static\n",
       "  rendering on GitHub or <a href=\"https://nbviewer.jupyter.org/\">NBViewer</a>),\n",
       "  it may mean that your frontend doesn't currently support widgets.\n",
       "</p>\n"
      ],
      "text/plain": [
       "interactive(children=(IntSlider(value=5, description='width', max=10, min=1), Output()), _dom_classes=('widget-interact',))"
      ]
     },
     "metadata": {},
     "output_type": "display_data"
    },
    {
     "data": {
      "text/plain": [
       "<function __main__.cube(width)>"
      ]
     },
     "execution_count": 3,
     "metadata": {},
     "output_type": "execute_result"
    }
   ],
   "source": [
    "pylab.rcParams['figure.figsize'] = (14, 14)\n",
    "\n",
    "def cube(width):\n",
    "    fig = plt.figure()\n",
    "    ax = fig.add_subplot(1, 2, 1, projection='3d')\n",
    "    ax.set_aspect(\"equal\")\n",
    "    ax.set_xlim((0,10))\n",
    "    ax.set_ylim((0,10))\n",
    "    ax.set_zlim((0,10))\n",
    "    \n",
    "    # draw cube\n",
    "    r = [0, width]\n",
    "    for s, e in combinations(np.array(list(product(r, r, r))), 2):\n",
    "        if np.sum(np.abs(s-e)) == r[1]-r[0]:\n",
    "            ax.plot3D(*zip(s, e), color=\"b\")\n",
    "    \n",
    "    ax2 = fig.add_subplot(1, 2, 2)\n",
    "    ax2.set_aspect(\"equal\")\n",
    "    ax2.set_xlim((0,30))\n",
    "    ax2.set_ylim((0,20))\n",
    "    ax2.add_patch(patches.Rectangle((0,0),width, width, color=\"#009ACD\"))\n",
    "    ax2.add_patch(patches.Rectangle((0,width),width, width, color=\"#507786\"))\n",
    "    ax2.add_patch(patches.Rectangle((width,width),width, width, color=\"#539DC2\"))\n",
    "    ax2.add_patch(patches.Rectangle((width,0),width, width, color=\"#8DB6CD\"))\n",
    "    ax2.add_patch(patches.Rectangle((width*2,0),width, width, color=\"#67C8FF\"))\n",
    "    ax2.add_patch(patches.Rectangle((width*2,width),width, width, color=\"#325C74\"))\n",
    "    \n",
    "interact(cube, width=(1,10))"
   ]
  },
  {
   "cell_type": "markdown",
   "metadata": {},
   "source": [
    "## Using Triangles to Calculate the Area of a Circle\n",
    "\n",
    "If we want to accurately calculate the area of a circle, we should probably just use $A = \\pi{r}^2$. How about trying to estimate the area of a circle using triangles in order to gain some intuitive appreciation for why we're forced to study the relationship between the two. Calculating the area of a triangle is easy: $A = \\frac{{width} \\times {height}}{2}$. And if we can divide the circle into enough triangles, we can get pretty close to the actual area of the circle."
   ]
  },
  {
   "cell_type": "code",
   "execution_count": 4,
   "metadata": {},
   "outputs": [
    {
     "data": {
      "application/vnd.jupyter.widget-view+json": {
       "model_id": "a19393c935e348fd93206f477987c54e",
       "version_major": 2,
       "version_minor": 0
      },
      "text/html": [
       "<p>Failed to display Jupyter Widget of type <code>interactive</code>.</p>\n",
       "<p>\n",
       "  If you're reading this message in the Jupyter Notebook or JupyterLab Notebook, it may mean\n",
       "  that the widgets JavaScript is still loading. If this message persists, it\n",
       "  likely means that the widgets JavaScript library is either not installed or\n",
       "  not enabled. See the <a href=\"https://ipywidgets.readthedocs.io/en/stable/user_install.html\">Jupyter\n",
       "  Widgets Documentation</a> for setup instructions.\n",
       "</p>\n",
       "<p>\n",
       "  If you're reading this message in another frontend (for example, a static\n",
       "  rendering on GitHub or <a href=\"https://nbviewer.jupyter.org/\">NBViewer</a>),\n",
       "  it may mean that your frontend doesn't currently support widgets.\n",
       "</p>\n"
      ],
      "text/plain": [
       "interactive(children=(IntSlider(value=8, description='radius', max=10, min=1), IntSlider(value=3, description='triangles', max=50, min=3), Output()), _dom_classes=('widget-interact',))"
      ]
     },
     "metadata": {},
     "output_type": "display_data"
    },
    {
     "data": {
      "text/plain": [
       "<function __main__.circle(radius=8, triangles=3)>"
      ]
     },
     "execution_count": 4,
     "metadata": {},
     "output_type": "execute_result"
    }
   ],
   "source": [
    "radius = 10\n",
    "polygon_edges = 5\n",
    "\n",
    "def circle(radius=8, triangles=3):\n",
    "    degrees_per_edge = 360.0 / triangles\n",
    "\n",
    "    points = []\n",
    "    for i in range(0,triangles):\n",
    "        x = -radius * math.cos(math.radians(degrees_per_edge)*(i+1))\n",
    "        y = radius * math.sin(math.radians(degrees_per_edge)*(i+1))\n",
    "        points.append([x,y])\n",
    "\n",
    "    fig1 = plt.figure()\n",
    "    ax1 = fig1.add_subplot(111, aspect='equal')\n",
    "    ax1.set_xlim((-10,10))\n",
    "    ax1.set_ylim((-10,10))\n",
    "    ax1.add_patch(patches.Circle((0,0),radius))\n",
    "    for i in range(1,len(points)):\n",
    "        ax1.add_patch(Polygon([[0,0],points[i-1],points[i]], closed=True,fill=False, edgecolor='black'))\n",
    "    ax1.add_patch(Polygon([[0,0],points[len(points)-1],points[0]], closed=True,fill=False, edgecolor='black'))\n",
    "    \n",
    "    circle_area = math.pi * radius**2\n",
    "    triangle_area = radius**2 * math.sin(math.radians(degrees_per_edge)) / 2\n",
    "    plt.show()\n",
    "    print(f\"Area of the circle: {circle_area}\")\n",
    "    print(f\"Area of each triangle: {triangle_area}\")\n",
    "    print(f\"Total area of {triangles} triangles: {triangle_area * triangles}\")\n",
    "    \n",
    "interact(circle, radius=(1,10), triangles=(3,50), continuous_update = False, wait=True)"
   ]
  },
  {
   "cell_type": "markdown",
   "metadata": {},
   "source": []
  }
 ],
 "metadata": {
  "kernelspec": {
   "display_name": "Python 3",
   "language": "python",
   "name": "python3"
  },
  "language_info": {
   "codemirror_mode": {
    "name": "ipython",
    "version": 3
   },
   "file_extension": ".py",
   "mimetype": "text/x-python",
   "name": "python",
   "nbconvert_exporter": "python",
   "pygments_lexer": "ipython3",
   "version": "3.7.6"
  }
 },
 "nbformat": 4,
 "nbformat_minor": 2
}
