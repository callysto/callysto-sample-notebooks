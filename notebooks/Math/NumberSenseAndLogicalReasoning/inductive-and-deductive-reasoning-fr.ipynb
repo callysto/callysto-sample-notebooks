{
 "cells": [
  {
   "cell_type": "markdown",
   "metadata": {},
   "source": [
    "<img src=\"../../images/Callysto_Notebook-Banner_Top_06.06.18.jpg\"/>"
   ]
  },
  {
   "cell_type": "code",
   "execution_count": null,
   "metadata": {},
   "outputs": [],
   "source": [
    "import ipywidgets as widgets"
   ]
  },
  {
   "cell_type": "markdown",
   "metadata": {
    "lang": "en"
   },
   "source": [
    "# Inductive Reasoning and Deductive Reasoning\n",
    "\n",
    "There are two forms of reasoning that that are useful when investigating a piece of mathematics.\n",
    "\n",
    "* `Inductive reasoning` involves looking for __patterns__ in evidence in order to come up with conjectures (i.e. things that are likely to be true). This sort of reasoning will __not__ tell you whether or not something actually _is_ true but it is still very useful for making connections and figuring out what to investigate next.\n",
    "\n",
    "* `Deductive reasoning` involves starting with what you __know__ and logically figuring out if some conjecture __must__ also be true (and why). While deductive reasoning is stronger than inductive reasoning, it can also be more difficult to use.\n",
    "\n",
    "In practice, one will often use `inductive reasoning` to make conjectures and `deductive reasoning` to verify them. In some cases producing a conjecture will require a mix of inductive and deductive reasoning.\n",
    "\n",
    "In this notebook we will go over some example problems to help illustrate how one would go about using `inductive` and `deductive` reasoning in problem solving while avoiding pitfalls. Being able to apply these skills will make you a more effective problem solver. Being able to distinguish between the two will help you maintain a clear understanding of what you're doing, why you're doing it, and avoid mistakes in the processs."
   ]
  },
  {
   "cell_type": "markdown",
   "metadata": {
    "lang": "fr"
   },
   "source": [
    "# Raisonnement inductif et raisonnement déductif\n",
    "\n",
    "Il existe deux formes de raisonnement qui sont utiles lorsqu’on étudie un élément mathématique.\n",
    "\n",
    "*Par \"raisonnement inductif\", il faut rechercher __ patrons__ en tant que preuve afin de formuler des conjectures (c'est-à-dire des choses susceptibles d'être vraies). Ce type de raisonnement ne vous dira pas si quelque chose est réellement vrai ou non, mais il reste très utile pour établir des liens et déterminer ce qui doit être étudié ensuite.* Le «raisonnement déductif» implique de commencer par ce que vous __connaissez__ et de déterminer logiquement si une conjecture <__> doit également être vraie (et pourquoi). Bien que le raisonnement déductif soit plus fort que le raisonnement inductif, il peut aussi être plus difficile à utiliser.\n",
    "\n",
    "En pratique, on utilisera souvent le \"raisonnement inductif\" pour faire des conjectures et le \"raisonnement déductif\" pour les vérifier. Dans certains cas, produire une conjecture nécessitera un mélange de raisonnement inductif et déductif.\n",
    "\n",
    "Dans ce cahier, nous allons passer en revue quelques exemples de problèmes pour illustrer comment utiliser le raisonnement `inductif` et` déductif` dans la résolution de problèmes tout en évitant les pièges. Pouvoir appliquer ces compétences vous permettra de résoudre les problèmes plus efficacement. Etre capable de faire la distinction entre les deux vous aidera à bien comprendre ce que vous faites, pourquoi vous le faites et à éviter les erreurs dans les processus."
   ]
  },
  {
   "cell_type": "markdown",
   "metadata": {
    "lang": "en"
   },
   "source": [
    "## A Flawed Application of Inductive Reasoning\n",
    "\n",
    "In this problem a circle is partitioned into regions by adding dots to the edges and drawing chords connecting them. The circle on the top left has only a single dot and a single region. The next one has two dots and two regions.\n",
    "\n",
    "Before we can apply inductive reasoning we need some examples. To that end I've counted the number of regions for the first five cases:\n",
    "\n",
    "$$1, 2, 4, 8, 16.$$\n",
    "\n",
    "It looks like there is a pattern here. Inductive reasoning might suggest that the circle with $n$ dots will have $2^{n-1}$ regions, is that true?\n",
    "\n",
    "Try counting the number of regions in the sixth case.\n",
    "\n",
    "![Circle Regions](./images/circles.png \"circle regions\")\n",
    "\n",
    "Unfortunately, as it turns out the sixth circle will break down into $31$ regions (the last one is contained in the intersection at the center, almost inexistent because of how I drew it), not $32$. This is an example where inductive reasoning can lead you astray. Fortunately for us we managed to find a counterexample right away but there are conjectures where the first counterexample took decades to find and required numbers so large that it's virtually impossible for people to find them by hand. So we should always be very skeptical about the things inductive thinking may lead us to believe."
   ]
  },
  {
   "cell_type": "markdown",
   "metadata": {
    "lang": "fr"
   },
   "source": [
    "## Une application erronée du raisonnement inductif\n",
    "\n",
    "Dans ce problème, un cercle est partitionné en régions en ajoutant des points sur les bords et en traçant des accords les reliant. Le cercle en haut à gauche ne comporte qu'un seul point et une seule région. La suivante a deux points et deux régions.\n",
    "\n",
    "Avant de pouvoir appliquer le raisonnement inductif, il nous faut quelques exemples. À cette fin, j'ai compté le nombre de régions pour les cinq premiers cas:\n",
    "\n",
    "$$1, 2, 4, 8, 16.$$\n",
    "\n",
    "On dirait qu'il y a un motif ici. Le raisonnement inductif pourrait suggérer que le cercle avec les points $n$ aura des régions $2^{n-1}$, est-ce vrai?\n",
    "\n",
    "Essayez de compter le nombre de régions dans le sixième cas.\n",
    "\n",
    "![Zones du cercle](./images/circles.png \"régions du cercle\")\n",
    "\n",
    "Malheureusement, il s'avère que le sixième cercle se décomposera en régions $31$ (le dernier est contenu dans l'intersection au centre, presque inexistant à cause de la façon dont je l'ai dessiné), pas $32$. Ceci est un exemple où le raisonnement inductif peut vous égarer. Heureusement pour nous, nous avons réussi à trouver un contre-exemple tout de suite, mais il existe des hypothèses selon lesquelles le premier contre-exemple a mis des décennies à trouver et nécessitait des nombres si importants qu'il est pratiquement impossible pour les gens de les trouver à la main. Nous devrions donc toujours être très sceptiques quant aux choses que la pensée inductive peut nous amener à croire."
   ]
  },
  {
   "cell_type": "markdown",
   "metadata": {
    "lang": "en"
   },
   "source": [
    "## Some Flawed Applications of Deductive Reasoning\n",
    "\n",
    "Deductive reasoning can also fail us if we are not careful. It is possible to get caught up manipulating equations and not realize there's an underlying logical problem.\n",
    "\n",
    "Here are two flawed proofs. Try and find the problem in each one!\n",
    "\n",
    "### A Classic Flawed Proof\n",
    "\n",
    "There are a few variations of this proof (with the same flaw) floating around. Every so often a student rediscovers it and thinks they've broken math.\n",
    "\n",
    "Let $a=b$.\n",
    "\n",
    "Then it follows that $b^2=ab$.\n",
    "\n",
    "$$\n",
    "\\begin{align*}\n",
    "    a^2 - b^2 &= a^2 - b^2\\\\\n",
    "    a^2 - b^2 &= a^2 - ab \\tag{Since $b^2=ab$}\\\\\n",
    "    (a+b)(a-b) &= (a)(a-b) \\tag{Factoring}\\\\\n",
    "    a+b &= a \\tag{Divide by sides by $a-b$}\\\\\n",
    "    2a &= a \\tag{Since $a=b$}\\\\\n",
    "    2 &= 1 \\tag{Divide both sides by $a$}\n",
    "\\end{align*}\n",
    "$$\n",
    "\n",
    "Hint: The problem involves division.\n",
    "\n",
    "The problem is introduced when both sides are divided by $a-b$ because $a-b=0$ and division by zero is not allowed (for reasons like this).\n",
    "\n",
    "### A Flawed Proof Involving Radicals\n",
    "\n",
    "This one is somewhat less common but still interesting.\n",
    "\n",
    "$$\n",
    "\\begin{align*}\n",
    "    -1 \n",
    "    &= i^2 \\\\\n",
    "    &= (i)(i) \\\\\n",
    "    &= \\sqrt{-1}\\sqrt{-1} \\\\\n",
    "    &= \\sqrt{(-1)(-1)} \\\\\n",
    "    &= \\sqrt{1} \\\\\n",
    "    &= 1\n",
    "\\end{align*}\n",
    "$$\n",
    "\n",
    "So $-1=1$.\n",
    "\n",
    "Hint: The problem involves distributing roots.\n",
    "\n",
    "The problem occurs because $\\sqrt{ab}=\\sqrt{a}\\sqrt{b}$ only holds when $a$ and $b$ are both greater than or equal to $0$ (neither $a$ nor $b$ are allowed to be negative)."
   ]
  },
  {
   "cell_type": "markdown",
   "metadata": {
    "lang": "fr"
   },
   "source": [
    "## Quelques applications erronées du raisonnement déductif\n",
    "\n",
    "Le raisonnement déductif peut également nous manquer si nous ne faisons pas attention. Il est possible de se laisser prendre à manipuler des équations sans se rendre compte qu'il existe un problème logique sous-jacent.\n",
    "\n",
    "Voici deux preuves imparfaites. Essayez de trouver le problème dans chacun d'entre eux!\n",
    "\n",
    "### Une preuve classique imparfaite\n",
    "\n",
    "Il existe quelques variantes de cette preuve (avec le même défaut) flottant autour. De temps en temps, un élève le redécouvre et pense qu’il a fait une erreur de calcul.\n",
    "\n",
    "Laissez $a=b$.\n",
    "\n",
    "Ensuite, il en résulte que $b^2=ab$.\n",
    "\n",
    "$$\n",
    "\\begin{align*}\n",
    "    a^2 - b^2 &= a^2 - b^2\\\\\n",
    "    a^2 - b^2 &= a^2 - ab \\tag{Since $b^2=ab$}\\\\\n",
    "    (a+b)(a-b) &= (a)(a-b) \\tag{Factoring}\\\\\n",
    "    a+b &= a \\tag{Divide by sides by $a-b$}\\\\\n",
    "    2a &= a \\tag{Since $a=b$}\\\\\n",
    "    2 &= 1 \\tag{Divide both sides by $a$}\n",
    "\\end{align*}\n",
    "$$\n",
    "\n",
    "Astuce: le problème implique la division.\n",
    "\n",
    "Le problème est introduit lorsque les deux côtés sont divisés par $a-b$, car $a-b=0$ et la division par zéro n’est pas autorisée (pour des raisons comme celle-ci).\n",
    "\n",
    "### Une preuve imparfaite impliquant des radicaux\n",
    "\n",
    "Celui-ci est un peu moins commun mais toujours intéressant.\n",
    "\n",
    "$$\n",
    "\\begin{align*}\n",
    "    -1 \n",
    "    &= i^2 \\\\\n",
    "    &= (i)(i) \\\\\n",
    "    &= \\sqrt{-1}\\sqrt{-1} \\\\\n",
    "    &= \\sqrt{(-1)(-1)} \\\\\n",
    "    &= \\sqrt{1} \\\\\n",
    "    &= 1\n",
    "\\end{align*}\n",
    "$$\n",
    "\n",
    "Alors $-1=1$.\n",
    "\n",
    "Astuce: Le problème implique la distribution des racines.\n",
    "\n",
    "Le problème se produit car $\\sqrt{ab}=\\sqrt{a}\\sqrt{b}$ n'est valable que lorsque $a$ et $b$ sont tous les deux supérieurs ou égaux à $0$ (ni $a$ ni $b$ ne sont autorisés à être négatifs)."
   ]
  },
  {
   "cell_type": "markdown",
   "metadata": {
    "lang": "en"
   },
   "source": [
    "## Some Applications of Inductive Reasoning\n",
    "\n",
    "### Sum of the first n odd numbers\n",
    "\n",
    "Suppose you need to compute the sum of the first $100$ odd numbers. You could do this directly but that likely wouldn't be very fun or interesting. Let's instead try applying inductive reasoning to try to come up with a better way to do it.\n",
    "\n",
    "Before we can start looking for patterns we'll first need to generate some examples (so that we can use them as evidence later). Let's do that in Python:"
   ]
  },
  {
   "cell_type": "markdown",
   "metadata": {
    "lang": "fr"
   },
   "source": [
    "## Quelques applications du raisonnement inductif\n",
    "\n",
    "### Somme des n premiers nombres impairs\n",
    "\n",
    "Supposons que vous deviez calculer la somme des premiers nombres impairs $100$. Vous pouvez le faire directement, mais cela ne serait probablement pas très amusant ou intéressant. Essayons plutôt d'appliquer un raisonnement inductif pour essayer de trouver un meilleur moyen de le faire.\n",
    "\n",
    "Avant de pouvoir rechercher des modèles, nous devons d’abord générer des exemples (pour pouvoir les utiliser ultérieurement comme preuves). Faisons cela en Python:"
   ]
  },
  {
   "cell_type": "code",
   "execution_count": null,
   "metadata": {
    "scrolled": true
   },
   "outputs": [],
   "source": [
    "# Create a list of odd numbers from 1 to 20 (incrementing by 2 each time).\n",
    "oddNumbers = range(1,2000,2)\n",
    "\n",
    "# Print a nice heading.\n",
    "print('|  n | Odd | S(n)|')\n",
    "print('------------------')\n",
    "\n",
    "# For each odd number print the step, the number, and the sum of all odd numbers so far.\n",
    "step = 0\n",
    "oddSum = 0\n",
    "for odd in oddNumbers:\n",
    "    step = step + 1\n",
    "    oddSum = oddSum + odd\n",
    "    print('|{:3d} | {:3d} | {:3d} |'.format(step, odd, oddSum))"
   ]
  },
  {
   "cell_type": "markdown",
   "metadata": {
    "lang": "en"
   },
   "source": [
    "For brevity we'll use $S(n)$ to refer to the __sum of the first $n$ odd numbers__.\n",
    "\n",
    "The code above gives us a list of the first $10$ odd numbers as well as $S(n)$ for each one (eg. for $n=3$, the $3$rd odd is $5$ and $S(3) = 1 + 3 + 5 = 9$).\n",
    "\n",
    "Now look closely at the data and try to see if there is a pattern there. Maybe consider changing the 20 in `range(1,20,2)` to a larger value to obtain more examples.\n",
    "\n",
    "Hint: $1+3+5=3^2$."
   ]
  },
  {
   "cell_type": "markdown",
   "metadata": {
    "lang": "fr"
   },
   "source": [
    "Par souci de brièveté, nous utiliserons $S(n)$ pour désigner la __somme des premiers nombres impairs $n$__.\n",
    "\n",
    "Le code ci-dessus nous donne une liste des premiers nombres impairs $10$ ainsi que $S(n)$ pour chacun (par exemple, pour $n=3$, le $3$rd impair est $5$ et $S(3) = 1 + 3 + 5 = 9$).\n",
    "\n",
    "Examinez maintenant attentivement les données et essayez de voir s’il existe une tendance. Envisagez peut-être de changer la valeur de 20 in `range (1,20,2)` en une valeur plus grande pour obtenir plus d'exemples.\n",
    "\n",
    "Indice: $1+3+5=3^2$."
   ]
  },
  {
   "cell_type": "markdown",
   "metadata": {
    "lang": "en"
   },
   "source": [
    "A good conjecture might be that\n",
    "\n",
    "$$S(n)=n^2.$$\n",
    "\n",
    "Here is a slider that tests our conjecture against a larger range of values:"
   ]
  },
  {
   "cell_type": "markdown",
   "metadata": {
    "lang": "fr"
   },
   "source": [
    "Une bonne conjecture pourrait être que\n",
    "\n",
    "$$S(n)=n^2.$$\n",
    "\n",
    "Voici un curseur qui teste notre conjecture par rapport à une plage de valeurs plus large:"
   ]
  },
  {
   "cell_type": "code",
   "execution_count": null,
   "metadata": {},
   "outputs": [],
   "source": [
    "num = widgets.IntSlider(description='n:', min=1)\n",
    "def oddCompare(num):\n",
    "    oddNumbers = range(1, num*2, 2)\n",
    "    oddSum = sum(list(oddNumbers))\n",
    "    print('S(n): {}'.format(oddSum))\n",
    "    print('n^2: {}'.format((num*num)))\n",
    "\n",
    "out = widgets.interactive_output(oddCompare, {'num': num})\n",
    "widgets.VBox([num, out])"
   ]
  },
  {
   "cell_type": "markdown",
   "metadata": {
    "lang": "en"
   },
   "source": [
    "Now that we have a conjecture it is typically very helpful if we're able to take it further and come up with some guesses about __why__ the conjecture holds. In this case the trick is to realize that we can compute the sum of the first $n$ odd numbers by taking the sum of the first $n-1$ odd numbers and adding the $n$'th odd. In other words:\n",
    "\n",
    "$$S(n+1)=S(n) + (n+1)^{\\text{th}} \\text{ odd number}.$$\n",
    "\n",
    "For instance, $S(5) = 1 + 3 + 5 + 7 + 9 = S(4) + 9$.\n",
    "\n",
    "Then combining this insight with the fact that we can represent square numbers as squares yields this visualization:\n",
    "\n",
    "![Odds](./images/odds.png \"odd sums\")\n",
    "\n",
    "Unfortunately as convincing as this visual representation may be, it isn't strong enough to prove that $S(n)=n^2$ for all numbers $n$. In order to prove that it holds for all $n$ we require a more advanced proof technique that we don't currently have access to. So we must grit our teeth and accept the fact that _as far as we know_ there could exist some number out there for which this fails."
   ]
  },
  {
   "cell_type": "markdown",
   "metadata": {
    "lang": "fr"
   },
   "source": [
    "Maintenant que nous avons une conjecture, il est généralement très utile de pouvoir aller plus loin et de faire des suppositions sur __pourquoi__ la conjecture est vraie. Dans ce cas, l'astuce consiste à réaliser que nous pouvons calculer la somme des premiers nombres impairs $n$ en prenant la somme des premiers nombres impairs $n-1$ et en ajoutant le $n$'th impair. En d'autres termes:\n",
    "\n",
    "$$S(n+1)=S(n) + (n+1)^{\\text{th}} \\text{ odd number}.$$\n",
    "\n",
    "Par exemple, $S(5) = 1 + 3 + 5 + 7 + 9 = S(4) + 9$.\n",
    "\n",
    "Ensuite, en combinant cette idée avec le fait que nous pouvons représenter des nombres carrés lorsque les carrés donnent cette visualisation:\n",
    "\n",
    "![Odds](./images/odds.png \"sommes étranges\")\n",
    "\n",
    "Malheureusement, aussi convaincante que puisse être cette représentation visuelle, elle n’est pas assez puissante pour prouver que $S(n)=n^2$ pour tous les nombres $n$. Afin de prouver que cela est vrai pour tous les $n$, nous avons besoin d’une technique de preuve plus avancée à laquelle nous n’avions pas accès actuellement. Nous devons donc serrer les dents et accepter le fait que, pour autant que nous sachions, il pourrait exister un certain nombre pour lequel cela échoue."
   ]
  },
  {
   "cell_type": "markdown",
   "metadata": {
    "lang": "en"
   },
   "source": [
    "### Triangular numbers\n",
    "\n",
    "There is famous story about the mathematician Carl Friedrich Gauss who as a child in primary school was tasked with computing the sum of the first 100 numbers as a way to keep him busy. As the story goes, Gauss quickly realized a pattern and wrote down the answer of 5050 within a few seconds.\n",
    "\n",
    "For brevity we'll use $T(n)$ to refer to the __sum of the first $n$ numbers__.\n",
    "\n",
    "The trick to seeing the pattern in this problem isn't as straightforward as the last one. As before we'll need to generate some examples to analyze first."
   ]
  },
  {
   "cell_type": "markdown",
   "metadata": {
    "lang": "fr"
   },
   "source": [
    "### Nombres triangulaires\n",
    "\n",
    "Il existe une histoire célèbre sur le mathématicien Carl Friedrich Gauss qui, enfant, était chargé de calculer la somme des 100 premiers nombres afin de le tenir occupé. Au fur et à mesure, Gauss réalisa rapidement un schéma et écrivit la réponse de 5050 en quelques secondes.\n",
    "\n",
    "Par souci de brièveté, nous utiliserons $T(n)$ pour faire référence à la __somme des premiers nombres $n$__.\n",
    "\n",
    "L'astuce pour voir le motif dans ce problème n'est pas aussi simple que le dernier. Comme auparavant, nous devrons générer quelques exemples à analyser en premier."
   ]
  },
  {
   "cell_type": "code",
   "execution_count": null,
   "metadata": {},
   "outputs": [],
   "source": [
    "# Create a list of the first 10 numbers.\n",
    "numbers = range(1,11)\n",
    "\n",
    "# Print a nice heading.\n",
    "print('|  n  | T(n)|')\n",
    "print('-------------')\n",
    "\n",
    "# For each odd number print the number and the sum of all numbers so far.\n",
    "tSum = 0\n",
    "for num in numbers:\n",
    "    tSum = tSum + num\n",
    "    print('| {:3d} | {:3d} |'.format(num, tSum))"
   ]
  },
  {
   "cell_type": "markdown",
   "metadata": {
    "lang": "en"
   },
   "source": [
    "Unfortunately this didn't turn out to be very insightful.\n",
    "\n",
    "Another approach we can take is to try to represent the sum differently. Taking a cue from the previous section we'll draw the sum visually:\n",
    "\n",
    "\n",
    "![Triangle Number](./images/triangle.png \"triangle number\")\n",
    "\n",
    "\n",
    "It is because of this representation that the sum of the first $n$ numbers is often referred to as a $n$'th `triangle number`. The value of our sum is represented by the 'area' of its triangular representation. Now, while it may not be easy to compute the area of such a triangle it is easy to compute the area of a rectangle and we can produce one by setting two triangles face to face:\n",
    "\n",
    "![Triangle Number Sum](./images/triangle-sum.png \"triangle number sum\")\n",
    "\n",
    "This representation suggests a good conjecture for computing the $n$'th triangle number:\n",
    "$$T(n)=\\frac{(n)(n+1)}{2}.$$\n",
    "\n",
    "Unfortunately we once again lack the advanced proof technique we need to prove (using deductive thinking) that this is true for all numbers $n$. So like before we've managed to obtain a really good conjecture through inductive thinking but are not able to confirm with certainty whether or not it's true."
   ]
  },
  {
   "cell_type": "markdown",
   "metadata": {
    "lang": "fr"
   },
   "source": [
    "Malheureusement, cela ne s'est pas révélé très perspicace.\n",
    "\n",
    "Une autre approche consiste à essayer de représenter la somme différemment. En nous basant sur la section précédente, nous allons tirer la somme visuellement:\n",
    "\n",
    "\n",
    "![Numéro du triangle](./images/triangle.png \"numéro du triangle\")\n",
    "\n",
    "\n",
    "C'est à cause de cette représentation que la somme des premiers nombres $n$ est souvent appelée $n$'th `triangle number`. La valeur de notre somme est représentée par la \"surface\" de sa représentation triangulaire. Maintenant, s’il est difficile de calculer l’aire d’un tel triangle, il est facile de calculer l’aire d’un rectangle et nous pouvons en produire un en plaçant deux triangles face à face:\n",
    "\n",
    "![Somme des nombres triangulaires](./images/triangle-sum.png \"somme des triangles\")\n",
    "\n",
    "Cette représentation suggère une bonne conjecture pour calculer le nombre du triangle $n$'th:\n",
    "$$T(n)=\\frac{(n)(n+1)}{2}.$$\n",
    "\n",
    "Malheureusement, une fois encore, nous n’avons pas la technique de preuve avancée dont nous avons besoin pour prouver (en utilisant la pensée déductive) que cela est vrai pour tous les nombres $n$. Donc, comme avant, nous avons réussi à obtenir une très bonne conjecture grâce à la pensée inductive, mais ne sommes pas en mesure de confirmer avec certitude si c'est vrai ou non."
   ]
  },
  {
   "cell_type": "markdown",
   "metadata": {
    "lang": "en"
   },
   "source": [
    "### One Weird Trick\n",
    "\n",
    "From time to time neat computational tricks like this will go viral on social media. Unfortunately the people presenting them will typically only show a few flashy examples and leave the readers feeling completely mystified about __why__ the trick works (or worse, feeling betrayed when it fails).\n",
    "\n",
    "![One Weird Trick](./images/trick2.jpg \"Mathematicians hate him\")\n",
    "\n",
    "Before we start lets first rephrase what the picture is saying:\n",
    "\n",
    "To compute $(97)(96)$:\n",
    "1. For each of our values, compute their difference from $100$:\n",
    "  - $3=100-97$\n",
    "  - $4=100-96$\n",
    "2. Multiply the differences to compute the first two digits of the result:\n",
    "  - $12=(3)(4)$\n",
    "3. Add the differences and subtract the result from $100$ to compute the remaining digits of the result:\n",
    "  - $93=100-(3+4)$\n",
    "4. Glue the two results together to get the final result:\n",
    "  - $(97)(96)=9312$\n",
    "\n",
    "It looks like step 3 could be simplified a bit to $93 = 97 - 4$ or $93 = 96 - 3$\n",
    "\n",
    "In general it looks like the algorithm may be something like this:\n",
    "\n",
    "To compute $(a)(b)$:\n",
    "1. For each of our values, compute their difference from $100$:\n",
    "  - $a'=100-a$\n",
    "  - $b'=100-b$\n",
    "2. Multiply the differences to compute the first two digits of the result:\n",
    "  - $D=(a')(b')$\n",
    "3. Add the differences and subtract the result from $100$ to compute the remaining digits of the result:\n",
    "  - $C=a-b'$\n",
    "4. Glue the two results together to get the final result:\n",
    "  - $(a)(b)=C\\text{ appended with }D$"
   ]
  },
  {
   "cell_type": "markdown",
   "metadata": {
    "lang": "fr"
   },
   "source": [
    "### Un tour étrange\n",
    "\n",
    "De temps en temps, des astuces informatiques comme celle-ci deviennent virales sur les médias sociaux. Malheureusement, les personnes qui les présentent ne montreront généralement que quelques exemples élogieux et laisseront les lecteurs se sentir complètement mystifiés par __pourquoi__ l'astuce fonctionne (ou pire, se sentir trahi quand il échoue).\n",
    "\n",
    "![Un tour étrange](./images/trick2.jpg \"Les mathématiciens le détestent\")\n",
    "\n",
    "Avant de commencer, reformulons d'abord ce que dit l'image:\n",
    "\n",
    "Pour calculer $(97)(96)$:\n",
    "1. Pour chacune de nos valeurs, calcule leur différence avec $100$:\n",
    "  - $3=100-97$\n",
    "  - $4=100-96$\n",
    "2. Multipliez les différences pour calculer les deux premiers chiffres du résultat:\n",
    "  - $12=(3)(4)$\n",
    "3. Ajoutez les différences et soustrayez le résultat de $100$ pour calculer les chiffres restants du résultat:\n",
    "  - $93=100-(3+4)$\n",
    "4. Collez les deux résultats ensemble pour obtenir le résultat final:\n",
    "  - $(97)(96)=9312$\n",
    "\n",
    "Il semble que l'étape 3 pourrait être simplifiée un peu en $93 = 97 - 4$ ou $93 = 96 - 3$\n",
    "\n",
    "En général, il semble que l'algorithme ressemble à ceci:\n",
    "\n",
    "Pour calculer $(a)(b)$:\n",
    "1. Pour chacune de nos valeurs, calcule leur différence avec $100$:\n",
    "  - $a'=100-a$\n",
    "  - $b'=100-b$\n",
    "2. Multipliez les différences pour calculer les deux premiers chiffres du résultat:\n",
    "  - $D=(a')(b')$\n",
    "3. Additionnez les différences et soustrayez le résultat de $100$ pour calculer les chiffres restants du résultat:\n",
    "  - $C=a-b'$\n",
    "4. Collez les deux résultats ensemble pour obtenir le résultat final:\n",
    "  - $(a)(b)=C\\text{ appended with }D$"
   ]
  },
  {
   "cell_type": "markdown",
   "metadata": {
    "lang": "en"
   },
   "source": [
    "Next lets have the computer generate some more examples for us so that we can get a better sense of the problem through `inductive reasoning`. The two sliders below let us choose some inputs and present the result created by the algorithm as well as the actual result with a message saying `Success!` if the algorithm gave the correct answer and `Fail!` if it gave the incorrect answer."
   ]
  },
  {
   "cell_type": "markdown",
   "metadata": {
    "lang": "fr"
   },
   "source": [
    "Ensuite, laissez l’ordinateur générer quelques exemples supplémentaires pour nous afin que nous puissions avoir une meilleure idée du problème par le «raisonnement inductif». Les deux curseurs ci-dessous nous permettent de choisir des entrées et de présenter le résultat créé par l’algorithme, ainsi que le résultat réel avec un message indiquant «Succès!» Si l’algorithme a donné la bonne réponse et «Echec!"
   ]
  },
  {
   "cell_type": "code",
   "execution_count": null,
   "metadata": {},
   "outputs": [],
   "source": [
    "a = widgets.IntSlider(description='a:', min=85, max=115, value=100)\n",
    "b = widgets.IntSlider(description='b:', min=85, max=115, value=100)\n",
    "\n",
    "def multiply(a,b):\n",
    "    aDiff = 100-a\n",
    "    bDiff = 100-b\n",
    "    \n",
    "    firstTwo = aDiff*bDiff\n",
    "    lastTwo = a - bDiff\n",
    "    \n",
    "    result = str(lastTwo).lstrip('0') + str(firstTwo).zfill(2)\n",
    "    print('Result: {}'.format(result))\n",
    "    print('Actual product: {}'.format((a*b)))\n",
    "    if (result == str(a*b)):\n",
    "        print('Success!')\n",
    "    else:\n",
    "        print('Fail!')\n",
    "\n",
    "out = widgets.interactive_output(multiply, {'a': a, 'b':b})\n",
    "widgets.VBox([a,b, out])"
   ]
  },
  {
   "cell_type": "markdown",
   "metadata": {
    "lang": "en"
   },
   "source": [
    "Playing around with the sliders it seems that the algorithm fails in two cases:\n",
    "1. Where the first digits in the result are greater than $100$.\n",
    "    * for instance, for $(101)(99)$ it gives `100-1` instead of `9999`\n",
    "2. Where the first digits in the result are negative.\n",
    "    * For instance, for $(110)(110)$ it gives `120120` instead of `12100`\n",
    "\n",
    "Can you see a pattern in the way the numbers fail, maybe a way to fix it?\n",
    "\n",
    "It seems like both instances can be fixed by carrying values. Perhaps, instead of gluing values together like strings we're actually supposed to be multiplying the last digits by $100$ and adding the first digits! For instance, instead of saying $$9312 = 93\\text{ appended with }12$$ we would say $$9312=(93)(100)+12.$$"
   ]
  },
  {
   "cell_type": "markdown",
   "metadata": {
    "lang": "fr"
   },
   "source": [
    "En jouant avec les curseurs, il semble que l'algorithme échoue dans deux cas:\n",
    "1. Où les premiers chiffres du résultat sont supérieurs à $100$.\n",
    "    *par exemple, pour $(101)(99)$, il donne `100-1` au lieu de` 9999`\n",
    "2. Où les premiers chiffres du résultat sont négatifs.* Par exemple, pour $(110)(110)$, cela donne `120120` au lieu de` 12100`\n",
    "\n",
    "Pouvez-vous voir un motif dans la façon dont les chiffres échouent, peut-être un moyen de le réparer?\n",
    "\n",
    "Il semble que les deux instances puissent être corrigées par des valeurs comptables. Peut-être qu'au lieu de coller des valeurs comme des chaînes, nous sommes supposés multiplier les derniers chiffres par $100$ et ajouter les premiers! Par exemple, au lieu de dire $$9312 = 93\\text{ appended with }12$$, nous dirions $$9312=(93)(100)+12.$$"
   ]
  },
  {
   "cell_type": "markdown",
   "metadata": {
    "lang": "en"
   },
   "source": [
    "Lets update the algorithm with this change:\n",
    "\n",
    "To compute $(a)(b)$:\n",
    "1. For each of our values, compute their difference from $100$:\n",
    "  - $a'=100-a$\n",
    "  - $b'=100-b$\n",
    "2. Multiply the differences to compute the first two digits of the result:\n",
    "  - $D=(a')(b')$\n",
    "3. Add the differences and subtract the result from $100$ to compute the remaining digits of the result:\n",
    "  - $C=a - b'$\n",
    "4. Combine the two results together to get the final result:\n",
    "  - $(a)(b)=(C)(100) + D$\n",
    "\n",
    "In other words: $$ab = [a-(100-b)](100) + (100-b)(100-a).$$\n",
    "\n",
    "Next let's create a new version of the sliders:"
   ]
  },
  {
   "cell_type": "markdown",
   "metadata": {
    "lang": "fr"
   },
   "source": [
    "Permet de mettre à jour l'algorithme avec cette modification:\n",
    "\n",
    "Pour calculer $(a)(b)$:\n",
    "1. Pour chacune de nos valeurs, calcule leur différence avec $100$:\n",
    "  - $a'=100-a$\n",
    "  - $b'=100-b$\n",
    "2. Multipliez les différences pour calculer les deux premiers chiffres du résultat:\n",
    "  - $D=(a')(b')$\n",
    "3. Additionnez les différences et soustrayez le résultat de $100$ pour calculer les chiffres restants du résultat:\n",
    "  - $C=a - b'$\n",
    "4. Combinez les deux résultats pour obtenir le résultat final:\n",
    "  - $(a)(b)=(C)(100) + D$\n",
    "\n",
    "En d'autres termes: $$ab = [a-(100-b)](100) + (100-b)(100-a).$$\n",
    "\n",
    "Ensuite, créons une nouvelle version des curseurs:"
   ]
  },
  {
   "cell_type": "code",
   "execution_count": null,
   "metadata": {},
   "outputs": [],
   "source": [
    "a = widgets.IntSlider(description='a:', min=85, max=115, value=100)\n",
    "b = widgets.IntSlider(description='b:', min=85, max=115, value=100)\n",
    "\n",
    "def multiply(a,b):\n",
    "    aDiff = 100-a\n",
    "    bDiff = 100-b\n",
    "    \n",
    "    firstTwo = aDiff*bDiff\n",
    "    lastTwo = 100 - (aDiff + bDiff)\n",
    " \n",
    "    result = lastTwo*100 + firstTwo\n",
    "    print('Result: {}'.format(result))\n",
    "    print('Actual product: {}'.format((a*b)))\n",
    "    if (result == a*b):\n",
    "        print('Success!')\n",
    "    else:\n",
    "        print('Fail!')\n",
    "\n",
    "out = widgets.interactive_output(multiply, {'a': a, 'b':b})\n",
    "widgets.VBox([a,b, out])"
   ]
  },
  {
   "cell_type": "markdown",
   "metadata": {
    "lang": "en"
   },
   "source": [
    "For the two failing examples mentioned above we now get:\n",
    "* For $(101)(99)$ we get `9999` which is correct!\n",
    "* For $(110)(110)$ we get `12100` which is correct!\n",
    "\n",
    "Now that we have a conjecture let's getting a better sense of why it works. One thing we can do is to take our equation from above:\n",
    "$$\n",
    "\\begin{align}\n",
    "ab &= [a-(100-b)](100) + (100-b)(100-a) \\\\\n",
    "&= (a)(100) - (100-b)(100) + (100-b)(100-a)\n",
    "\\end{align}\n",
    "$$\n",
    "\n",
    "We can visualize this:\n",
    "![Example](./images/products.png \"Example Multiplication\")\n",
    "\n",
    "Note: This visualization assumes that $a$ and $b$ are between $0$ and $100$ (though in our conjecture we also allow them be greater than $100$).\n"
   ]
  },
  {
   "cell_type": "markdown",
   "metadata": {
    "lang": "fr"
   },
   "source": [
    "Pour les deux exemples d'échec mentionnés ci-dessus, nous obtenons maintenant:\n",
    "*Pour $(101)(99)$, nous obtenons `9999` qui est correct!* Pour $(110)(110)$, nous obtenons `12100`, ce qui est correct!\n",
    "\n",
    "Maintenant que nous avons une conjecture, voyons pourquoi cela fonctionne. Une chose que nous pouvons faire est de prendre notre équation d’en haut:\n",
    "$$\n",
    "\\begin{align}\n",
    "ab &= [a-(100-b)](100) + (100-b)(100-a) \\\\\n",
    "&= (a)(100) - (100-b)(100) + (100-b)(100-a)\n",
    "\\end{align}\n",
    "$$\n",
    "\n",
    "Nous pouvons visualiser ceci:\n",
    "![Exemple](./images/products.png \"Exemple de multiplication\")\n",
    "\n",
    "Remarque: Cette visualisation suppose que $a$ et $b$ se trouvent entre $0$ et $100$ (bien que, dans notre conjecture, nous les permettions également d'être plus grands que $100$)."
   ]
  },
  {
   "cell_type": "markdown",
   "metadata": {
    "lang": "en"
   },
   "source": [
    "In general these sorts of techniques where one performs a computation by manipulating the digits of a value is called an 'algorism' (not to be confused with algorithm). They're not really used very much these days (except for fast mental math gimicks).\n",
    "\n",
    "This particular algorism has a lot of generalizations for dealing with larger numbers but the reasoning behind them gets quite convoluted and in the end the most important part isn't proving that a algorism works for all numbers but that it works for all the numbers for which a mental computation is fast. In this case we can be satisfied by saying that this algorism works for numbers between $91$ and $109$ since those values are the easiest to use in practice."
   ]
  },
  {
   "cell_type": "markdown",
   "metadata": {
    "lang": "fr"
   },
   "source": [
    "En général, ces types de techniques où l’on effectue un calcul en manipulant les chiffres d’une valeur sont appelées un «algorithme» (à ne pas confondre avec un algorithme). Ils ne sont pas vraiment utilisés beaucoup de nos jours (sauf pour ce qui est des mathématiques mentales rapides).\n",
    "\n",
    "Cet algorithme particulier a beaucoup de généralisations pour traiter avec des nombres plus grands mais le raisonnement derrière ces calculs devient assez compliqué et au final la partie la plus importante ne prouve pas qu'un algorithme fonctionne pour tous les nombres un calcul mental est rapide. Dans ce cas, nous pouvons être satisfaits en disant que cet algorithme fonctionne pour les nombres entre $91$ et $109$ puisque ces valeurs sont les plus faciles à utiliser dans la pratique."
   ]
  },
  {
   "cell_type": "markdown",
   "metadata": {},
   "source": [
    "<img src=\"../../images/Callysto_Notebook-Banners_Bottom_06.06.18.jpg\"/>"
   ]
  },
  {
   "cell_type": "markdown",
   "metadata": {},
   "source": [
    "\n"
   ]
  }
 ],
 "metadata": {
  "kernelspec": {
   "display_name": "Python 3",
   "language": "python",
   "name": "python3"
  },
  "language_info": {
   "codemirror_mode": {
    "name": "ipython",
    "version": 3
   },
   "file_extension": ".py",
   "mimetype": "text/x-python",
   "name": "python",
   "nbconvert_exporter": "python",
   "pygments_lexer": "ipython3",
   "version": "3.6.5"
  },
  "nbTranslate": {
   "displayLangs": [
    "*"
   ],
   "hotkey": "alt-t",
   "langInMainMenu": true,
   "sourceLang": "en",
   "targetLang": "fr",
   "useGoogleTranslate": true
  }
 },
 "nbformat": 4,
 "nbformat_minor": 2
}
