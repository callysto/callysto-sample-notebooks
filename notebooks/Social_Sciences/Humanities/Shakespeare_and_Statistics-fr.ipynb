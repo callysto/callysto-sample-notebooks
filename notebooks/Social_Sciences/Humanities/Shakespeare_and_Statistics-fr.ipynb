{
 "cells": [
  {
   "cell_type": "markdown",
   "metadata": {},
   "source": [
    "<img src=\"../../images/Callysto_Notebook-Banner_Top_06.06.18.jpg\"/>"
   ]
  },
  {
   "cell_type": "markdown",
   "metadata": {
    "lang": "en"
   },
   "source": [
    "# Shakespeare and Statistics\n",
    "\n",
    "![shakespeare](images/shakespeare-n-stats.png)"
   ]
  },
  {
   "cell_type": "markdown",
   "metadata": {
    "lang": "fr"
   },
   "source": [
    "# Shakespeare et Statistiques\n",
    "\n",
    "![shakespeare](images/shakespeare-n-stats.png)"
   ]
  },
  {
   "cell_type": "markdown",
   "metadata": {
    "lang": "en"
   },
   "source": [
    "Can art and science be combined? Natural language processing allows us to use the same statistical skills you might learn in a science class, such as counting up members of a population and looking at their distribution, to gain insight into the written word. Here's a really simple example of what you can do. Let's consider the following question:\n",
    "\n",
    "## What are the top 20 phrases in Shakespeare's Macbeth?\n",
    "\n",
    "Normally, when we study Shakespeare, we critically read his plays and study the plot, characters, and themes. While this is definitely interesting stuff, we can gain very different insights by taking a multidisciplinary approach.\n",
    "\n",
    "This is something we would probably never do if we had to do it by hand. Imagine getting out your clipboard, writing down every different word or phrase you come across and then counting how many times that same word or phrase reappears. Check out how quickly it can be done using Callysto and the free, open tools it brings with it...\n",
    "\n",
    "## Getting started\n",
    "\n",
    "First, we have to load a few things... This handles a lot of setup behind the scenes so that you don't have to have it in the notebook distracting students from what you really want to show. It also brings in a number helpers that we've made to avoid some of the technical details of grabbing text from a website and processing it. You could choose to include these details in this notebook or look at the files we're loading if you got really curious, but you don't have to.\n",
    "\n",
    "Simply run this block to continue."
   ]
  },
  {
   "cell_type": "markdown",
   "metadata": {
    "lang": "fr"
   },
   "source": [
    "L'art et la science peuvent-ils être combinés? Le traitement du langage naturel nous permet d'utiliser les mêmes compétences statistiques que celles que vous pourriez acquérir dans un cours de sciences, telles que compter les membres d'une population et examiner leur répartition, pour mieux comprendre le texte écrit. Voici un exemple très simple de ce que vous pouvez faire. Considérons la question suivante:\n",
    "\n",
    "## Quelles sont les 20 principales phrases du Macbeth de Shakespeare?\n",
    "\n",
    "Normalement, lorsque nous étudions Shakespeare, nous lisons de manière critique ses pièces et étudions l’intrigue, les personnages et les thèmes. Bien que ce soit vraiment intéressant, nous pouvons obtenir des informations très différentes en adoptant une approche multidisciplinaire.\n",
    "\n",
    "C’est quelque chose que nous ne ferions probablement jamais si nous devions le faire à la main. Imaginez sortir votre presse-papiers, écrire chaque mot ou expression que vous rencontrez, puis compter combien de fois ce même mot ou cette phrase réapparaît. Découvrez la rapidité avec laquelle vous pouvez utiliser Callysto et les outils ouverts et gratuits qu’il apporte.\n",
    "\n",
    "## Commencer\n",
    "\n",
    "Premièrement, nous devons charger quelques éléments ... Cela gère beaucoup de choses en arrière-plan, de sorte que vous n’ayez pas besoin de les avoir dans le cahier pour distraire les étudiants de ce que vous voulez vraiment montrer. Il apporte également un certain nombre d'aides que nous avons créées pour éviter certains détails techniques tels que la récupération de texte sur un site Web et son traitement. Vous pouvez choisir d'inclure ces détails dans ce bloc-notes ou consulter les fichiers que nous chargeons si vous êtes vraiment curieux, mais ce n'est pas obligatoire.\n",
    "\n",
    "Il suffit de lancer ce bloc pour continuer."
   ]
  },
  {
   "cell_type": "code",
   "execution_count": null,
   "metadata": {},
   "outputs": [],
   "source": [
    "from notebook_code.shakespeare import *"
   ]
  },
  {
   "cell_type": "markdown",
   "metadata": {
    "lang": "en"
   },
   "source": [
    "## Finding the text\n",
    "\n",
    "The helper we're using to get the right file from the [gutenberg.org](http://www.gutenberg.org) website needs a number. This is the same number that the folks at Gutenberg use to organize all the works available on the site. Let's track that down, starting with a google search.\n",
    "<br/>\n",
    "<br/>\n",
    "<br/>\n",
    "![google-search](images/google-search.png)\n",
    "\n",
    "![google-results](images/google-results.png)\n",
    "<br/>\n",
    "<br/>\n",
    "<br/>\n",
    "We may see more than one result, as there may be multiple versions of popular works. Just make sure to click a link that's from [gutenberg.org](http://www.gutenberg.org) and you should end up seeing a page like this:\n",
    "<br/>\n",
    "<br/>\n",
    "<br/>\n",
    "![gutenberg-download](images/gutenberg-download.png)\n",
    "<br/>\n",
    "<br/>\n",
    "<br/>\n",
    "Next, click that **Bibrec** tab, and you'll see a page like this:\n",
    "<br/>\n",
    "<br/>\n",
    "<br/>\n",
    "![gutenberg-bibrec](images/gutenberg-bibrec.png)\n",
    "<br/>\n",
    "<br/>\n",
    "<br/>\n",
    "On this page is the **EBook-No.** followed by a number. In this case, it's **1129**. That's the one we're looking for!"
   ]
  },
  {
   "cell_type": "markdown",
   "metadata": {
    "lang": "fr"
   },
   "source": [
    "## Trouver le texte\n",
    "\n",
    "L'assistant que nous utilisons pour obtenir le bon fichier sur le site Web [gutenberg.org](http://www.gutenberg.org) a besoin d'un numéro. C’est le même numéro que les gens de Gutenberg utilisent pour organiser toutes les œuvres disponibles sur le site. Retrouvons cela en commençant par une recherche google.\n",
    "<br/>\n",
    "<br/>\n",
    "<br/>\n",
    "![google-search](images/google-search.png)\n",
    "\n",
    "![résultats Google](images/google-results.png)\n",
    "<br/>\n",
    "<br/>\n",
    "<br/>\n",
    "Nous pouvons voir plus d’un résultat, car il peut y avoir plusieurs versions d’œuvres populaires. Assurez-vous simplement de cliquer sur un lien situé dans [gutenberg.org](http://www.gutenberg.org) et vous devriez finir par voir une page comme celle-ci:\n",
    "<br/>\n",
    "<br/>\n",
    "<br/>\n",
    "![gutenberg-download](images/gutenberg-download.png)\n",
    "<br/>\n",
    "<br/>\n",
    "<br/>\n",
    "Cliquez ensuite sur cet onglet **Bibrec** pour afficher une page comme celle-ci:\n",
    "<br/>\n",
    "<br/>\n",
    "<br/>\n",
    "![gutenberg-bibrec](images/gutenberg-bibrec.png)\n",
    "<br/>\n",
    "<br/>\n",
    "<br/>\n",
    "Sur cette page se trouve le **numéro de livre électronique** suivi d'un numéro. Dans ce cas, il s’agit de **1129**. C'est celui que nous recherchons!"
   ]
  },
  {
   "cell_type": "markdown",
   "metadata": {
    "lang": "en"
   },
   "source": [
    "## Loading the text\n",
    "\n",
    "Now we grab it using `get_gutenberg_text`. The following line goes to the site, fetches the text file with the **EBook-No.** *1129*, and stores it in `macbeth`. We can refer to it by using `macbeth` at any point from here on in."
   ]
  },
  {
   "cell_type": "markdown",
   "metadata": {
    "lang": "fr"
   },
   "source": [
    "## Chargement du texte\n",
    "\n",
    "Maintenant, nous le récupérons en utilisant `get _gutenberg_ text`. La ligne suivante va sur le site, récupère le fichier texte avec **EBook-No.** *1129* et le stocke dans `macbeth`. Nous pouvons nous y référer en utilisant `macbeth` à tout moment à partir de maintenant dans."
   ]
  },
  {
   "cell_type": "code",
   "execution_count": null,
   "metadata": {},
   "outputs": [],
   "source": [
    "macbeth = get_gutenberg_text(1129)"
   ]
  },
  {
   "cell_type": "markdown",
   "metadata": {
    "lang": "en"
   },
   "source": [
    "For example, we can just print it out to see that we've grabbed the correct document."
   ]
  },
  {
   "cell_type": "markdown",
   "metadata": {
    "lang": "fr"
   },
   "source": [
    "Par exemple, nous pouvons simplement l’imprimer pour constater que nous avons récupéré le bon document."
   ]
  },
  {
   "cell_type": "code",
   "execution_count": null,
   "metadata": {},
   "outputs": [],
   "source": [
    "print(macbeth)"
   ]
  },
  {
   "cell_type": "markdown",
   "metadata": {
    "lang": "en"
   },
   "source": [
    "Looks good! But that's a lot of reading to do. And a lot of phrases to count and keep track of. Here's where some more of those helpers come into play.\n",
    "\n",
    "## Crunching the text\n",
    "\n",
    "`noun_phrases` will grab groups of words that have been identified as phrases containing nouns. This isn't always 100% correct. English can be a challenging language even for machines, and sometimes even the files on [gutenberg.org](http://www.gutenberg.org) contain errors that make it even harder, but it can usually do a pretty good job."
   ]
  },
  {
   "cell_type": "markdown",
   "metadata": {
    "lang": "fr"
   },
   "source": [
    "Cela semble bon! Mais c'est beaucoup de lecture à faire. Et beaucoup de phrases à compter et à suivre. Voici où un peu plus de ces aides entrent en jeu.\n",
    "\n",
    "## Rédaction du texte\n",
    "\n",
    "`noun_phrases` récupérera des groupes de mots identifiés comme des phrases contenant des noms. Ce n'est pas toujours correct à 100%. L'anglais peut être une langue difficile même pour les machines, et parfois même les fichiers sur [gutenberg.org] (http://www.gutenberg.org) contiennent des erreurs qui le rendent encore plus difficile, mais il peut généralement faire un bon travail."
   ]
  },
  {
   "cell_type": "code",
   "execution_count": null,
   "metadata": {},
   "outputs": [],
   "source": [
    "macbeth_phrases = noun_phrases(macbeth)"
   ]
  },
  {
   "cell_type": "markdown",
   "metadata": {
    "lang": "en"
   },
   "source": [
    "We can print these phrases out to see what they look like just like we printed out the `macbeth` text above."
   ]
  },
  {
   "cell_type": "markdown",
   "metadata": {
    "lang": "fr"
   },
   "source": [
    "Nous pouvons imprimer ces phrases pour voir à quoi elles ressemblent, tout comme nous avons imprimé le texte `macbeth` ci-dessus."
   ]
  },
  {
   "cell_type": "code",
   "execution_count": null,
   "metadata": {},
   "outputs": [],
   "source": [
    "print(macbeth_phrases)"
   ]
  },
  {
   "cell_type": "markdown",
   "metadata": {
    "lang": "en"
   },
   "source": [
    "What you're seeing is no longer raw text. It's now a list of strings. How long is the list? Let's find out. `len` is short for \"length\", and it will tell you how many items are in any list."
   ]
  },
  {
   "cell_type": "markdown",
   "metadata": {
    "lang": "fr"
   },
   "source": [
    "Ce que vous voyez n'est plus du texte brut. C'est maintenant une liste de chaînes. Combien de temps dure la liste? Découvrons-le. `len` est un raccourci pour« longueur », et il vous dira combien d'éléments sont dans une liste"
   ]
  },
  {
   "cell_type": "code",
   "execution_count": null,
   "metadata": {},
   "outputs": [],
   "source": [
    "len(macbeth_phrases)"
   ]
  },
  {
   "cell_type": "markdown",
   "metadata": {
    "lang": "en"
   },
   "source": [
    "Looks like we have over 3000 noun phrases. We don't yet know how many of them are repeated."
   ]
  },
  {
   "cell_type": "markdown",
   "metadata": {
    "lang": "fr"
   },
   "source": [
    "On dirait que nous avons plus de 3000 phrases nominales. Nous ne savons pas encore combien d’entre elles se répètent."
   ]
  },
  {
   "cell_type": "markdown",
   "metadata": {
    "lang": "en"
   },
   "source": [
    "## Counting everything up\n",
    "\n",
    "Here's where this starts to look like a real science project! Let's use `count_unique` to get us a table of phrases and how many times they occur. They'll come back ordered from most frequent to least frequent. There will probably be a lot of them, so we'll add `[0:20]` which means to give us the top twenty. In these lists, the zero-th item is always the first item."
   ]
  },
  {
   "cell_type": "markdown",
   "metadata": {
    "lang": "fr"
   },
   "source": [
    "## Tout compter\n",
    "\n",
    "Voilà où cela commence à ressembler à un vrai projet scientifique! Utilisons `count_unique` pour nous obtenir un tableau de phrases et leur nombre. Ils reviendront par ordre du plus fréquent au moins fréquent. Il y en aura probablement beaucoup, nous allons donc ajouter «[0:20]», ce qui signifie que nous avons le top vingt. Dans ces listes, le zéro-ème élément est toujours le premier élément."
   ]
  },
  {
   "cell_type": "code",
   "execution_count": null,
   "metadata": {},
   "outputs": [],
   "source": [
    "macbeth_counts = count_unique(macbeth_phrases)[0:20]"
   ]
  },
  {
   "cell_type": "markdown",
   "metadata": {
    "lang": "en"
   },
   "source": [
    "Just like before, we can print out `macbeth_counts` to see what's inside, or we can refer to it without `print` and Callysto will automatically show a nicer table version:"
   ]
  },
  {
   "cell_type": "markdown",
   "metadata": {
    "lang": "fr"
   },
   "source": [
    "Comme auparavant, nous pouvons imprimer `macbeth_counts` pour voir ce qu'il y a à l'intérieur, ou nous pouvons nous y référer sans` print` et Callysto affichera automatiquement une version de table plus agréable:"
   ]
  },
  {
   "cell_type": "code",
   "execution_count": null,
   "metadata": {},
   "outputs": [],
   "source": [
    "macbeth_counts"
   ]
  },
  {
   "cell_type": "markdown",
   "metadata": {
    "lang": "en"
   },
   "source": [
    "There we have it! The top 20 phrases in Macbeth! Let's put those in a plot.\n",
    "\n",
    "## Plotting the results\n",
    "\n",
    "You can do almost any kind of plot or other visual respresentation of observations like this you could think of in Callysto. But you can also create helpers to easily produce plots with common datasets. We've created `plot_text_counts` which will take in any table like the above, with a `text` and `count` column, and produce a horizontal bar plot, ordered from most to least frequent word."
   ]
  },
  {
   "cell_type": "markdown",
   "metadata": {
    "lang": "fr"
   },
   "source": [
    "Là nous l'avons! Les 20 meilleures phrases de Macbeth! Mettons ceux-ci dans un complot.\n",
    "\n",
    "## Tracer les résultats\n",
    "\n",
    "Vous pouvez faire presque tous les types d’intrigue ou d’autres représentations visuelles d’observations de ce type auxquelles vous pourriez penser dans Callysto. Mais vous pouvez également créer des aides pour produire facilement des parcelles avec des jeux de données communs. Nous avons créé `plot _text_ count` qui prendra dans n'importe quelle table comme celle ci-dessus, avec une colonne` text` et `count`, et produira un graphique à barres horizontales, ordonné du mot le plus fréquent au moins fréquent ."
   ]
  },
  {
   "cell_type": "code",
   "execution_count": null,
   "metadata": {},
   "outputs": [],
   "source": [
    "plot_text_counts(macbeth_counts)"
   ]
  },
  {
   "cell_type": "markdown",
   "metadata": {
    "lang": "en"
   },
   "source": [
    "Surprise, surprise. *Macbeth* is the top phrase in Macbeth. Our main character is mentioned more than twice the number of times as the next most frequent phrase, *Macduff*, and more than three times the frequency that *Lady Macbeth* is mentioned.\n",
    "\n",
    "## Thinking about the results\n",
    "\n",
    "One of the first things we might realize from this simple investigation is the importance of proper nouns. Phrases containing the main characters occur far more frequently than other phrases, and the main character of the play is mentioned far more times than any other characters.\n",
    "\n",
    "Are these observations particular to Macbeth? Or to Shakespeare's plays? Or are they more universal?\n",
    "\n",
    "Now that we've gone through Macbeth, how hard could it be to look at a few others?\n",
    "\n",
    "**Hamlet** can be found on [gutenberg.org](http://www.gutenberg.org) under **EBook-No.** *1524*, and we already know from the above how to plot that out. In fact, there were really only 4 important lines."
   ]
  },
  {
   "cell_type": "markdown",
   "metadata": {
    "lang": "fr"
   },
   "source": [
    "Surprise Surprise. *Macbeth* est la phrase la plus utilisée dans Macbeth. Notre personnage principal est mentionné plus de deux fois plus souvent que la phrase suivante la plus fréquente, *Macduff*, et plus de trois fois la fréquence mentionnée par *Lady Macbeth*.\n",
    "\n",
    "## Réflexion sur les résultats\n",
    "\n",
    "Une des premières choses que nous pourrions réaliser de cette simple enquête est l’importance des noms propres. Les phrases contenant les personnages principaux sont beaucoup plus fréquentes que les autres, et le personnage principal de la pièce est mentionné beaucoup plus souvent que tous les autres personnages.\n",
    "\n",
    "Ces observations sont-elles particulières à Macbeth? Ou aux pièces de Shakespeare? Ou sont-ils plus universels?\n",
    "\n",
    "Maintenant que nous sommes passés par Macbeth, à quel point serait-il difficile d'en examiner quelques-uns?\n",
    "\n",
    "**Hamlet** est disponible sur [gutenberg.org] (http://www.gutenberg.org) sous **N ° EBook** *1524*, et nous savons déjà de ce qui précède comment tracer cela. En fait, il n'y avait vraiment que 4 lignes importantes."
   ]
  },
  {
   "cell_type": "markdown",
   "metadata": {
    "lang": "en"
   },
   "source": [
    "## Looking at Hamlet\n",
    "\n",
    "Run the following block to download **Hamlet**, pull out all the noun phrases, count them up, and plot them out."
   ]
  },
  {
   "cell_type": "markdown",
   "metadata": {
    "lang": "fr"
   },
   "source": [
    "## Regardant Hameau\n",
    "\n",
    "Exécutez le bloc suivant pour télécharger **Hamlet**, extrayez toutes les phrases nominales, comptez-les et créez-les."
   ]
  },
  {
   "cell_type": "code",
   "execution_count": null,
   "metadata": {},
   "outputs": [],
   "source": [
    "hamlet = get_gutenberg_text(1524)\n",
    "hamlet_phrases = noun_phrases(hamlet)\n",
    "hamlet_counts = count_unique(hamlet_phrases)[0:20]\n",
    "plot_text_counts(hamlet_counts)"
   ]
  },
  {
   "cell_type": "markdown",
   "metadata": {
    "lang": "en"
   },
   "source": [
    "## Comparing other texts\n",
    "\n",
    "We could keep doing this for other texts. But if you think about it, we're really just doing the same steps over and over and over again. We're copying those same 4 lines and the only thing we really need to change about them is the **EBook-No.** we give to `get_gutenberg_text`.\n",
    "\n",
    "What if you collected all of the **EBook-No.** numbers for texts you wanted to look at and put them in a list, with some labels to help you identify them? Here's how you can do that:"
   ]
  },
  {
   "cell_type": "markdown",
   "metadata": {
    "lang": "fr"
   },
   "source": [
    "## Comparaison d'autres textes\n",
    "\n",
    "Nous pourrions continuer à le faire pour d'autres textes. Mais si vous y réfléchissez, nous ne faisons que suivre les mêmes étapes, encore et encore. Nous copions ces mêmes 4 lignes et la seule chose que nous devons vraiment changer à leur sujet est le **EBook-No.** que nous donnons à `get _gutenberg_ text`.\n",
    "\n",
    "Que se passe-t-il si vous collectez tous les numéros **EBook-No.** des textes que vous souhaitez consulter et les mettez dans une liste, avec quelques étiquettes pour vous aider à les identifier? Voici comment vous pouvez faire cela:"
   ]
  },
  {
   "cell_type": "code",
   "execution_count": null,
   "metadata": {},
   "outputs": [],
   "source": [
    "choices = { 'Shakespeare - Macbeth': 1129, \n",
    "            'Shakespeare - Hamlet': 1524,\n",
    "            'Shakespeare - Romeo and Juliet': 1112,\n",
    "            'Charles Dickens - A Christmas Carol': 19337 }"
   ]
  },
  {
   "cell_type": "markdown",
   "metadata": {},
   "source": [
    "Now we'll make our recipe. This could be hidden and made into a helper like we've been using so far, but we want to show how you can fit together what you've learned."
   ]
  },
  {
   "cell_type": "code",
   "execution_count": null,
   "metadata": {},
   "outputs": [],
   "source": [
    "def plot_gutenberg(ebook_no):\n",
    "    text = get_gutenberg_text(ebook_no)\n",
    "    phrases = noun_phrases(text)\n",
    "    counts = count_unique(phrases)[0:20]\n",
    "    plot_text_counts(counts)"
   ]
  },
  {
   "cell_type": "markdown",
   "metadata": {
    "lang": "en"
   },
   "source": [
    "Notice that the main difference is that you've wrapped these lines inside something called `plot_gutenberg` which accepts a value it stores in `ebook_no`. Then, instead of the actual **EBook-No.**, you pass `ebook_no` into `get_gutenberg_text`.\n",
    "\n",
    "You could then use `plot_gutenberg` on any **EBook-No.**"
   ]
  },
  {
   "cell_type": "markdown",
   "metadata": {
    "lang": "fr"
   },
   "source": [
    "Notez que la différence principale réside dans le fait que vous avez enveloppé ces lignes dans un élément appelé `plot _gutenberg` qui accepte une valeur stockée dans` ebook_ no`. Ensuite, au lieu du **numéro de livre électronique** actuel, vous passez `ebook _no` dans` get_ gutenberg _text`.\n",
    "\n",
    "Vous pouvez ensuite utiliser `plot_ gutenberg` sur n'importe quel **EBook-No.**"
   ]
  },
  {
   "cell_type": "code",
   "execution_count": null,
   "metadata": {},
   "outputs": [],
   "source": [
    "plot_gutenberg(1129)"
   ]
  },
  {
   "cell_type": "markdown",
   "metadata": {
    "lang": "en"
   },
   "source": [
    "Or, you could use the `choices` list that we defined above to do the same thing in a more readable way. Now we're not just plotting out **EBook-No.** *1129*. We're plotting out Shakespeare's *Macbeth*!"
   ]
  },
  {
   "cell_type": "markdown",
   "metadata": {
    "lang": "fr"
   },
   "source": [
    "Ou bien, vous pouvez utiliser la liste `choices` que nous avons définie ci-dessus pour faire la même chose d'une manière plus lisible. Maintenant, nous ne nous contentons pas de traquer **EBook-No.** *1129*. Nous préparons le *Macbeth* de Shakespeare!"
   ]
  },
  {
   "cell_type": "code",
   "execution_count": null,
   "metadata": {},
   "outputs": [],
   "source": [
    "plot_gutenberg(choices['Shakespeare - Macbeth'])"
   ]
  },
  {
   "cell_type": "markdown",
   "metadata": {
    "lang": "en"
   },
   "source": [
    "Let's do one last thing. Why keep typing and running even one line when you can make it interactive!\n",
    "\n",
    "But before we do that, we need to deal with one little problem. We still have to wait a few seconds to see the results when we run `plot_gutenberg`, and if we're going to make it even easier to switch back and forth between different works, we don't want to have to always wait to see our plot.\n",
    "\n",
    "There are many ways to tackle this, but one quick way is to do the work that takes the most time up front and store the results. Let's create a new recipe called `count_noun_phrases` that'll do everything that `plot_gutenberg` did, *except* draw the final plot. Then we'll store it. We'll use the same `ebook_no` that the folks at Gutenberg do so we can easily find it.\n",
    "\n",
    "This might take a minute or two, so be patient! It's going to go through everything in `choices`, grab the text, find the noun phrases, and count them up, then store all that in `stored_counts`. That's a lot of work!"
   ]
  },
  {
   "cell_type": "markdown",
   "metadata": {
    "lang": "fr"
   },
   "source": [
    "Faisons une dernière chose. Pourquoi continuer à taper et à exécuter une seule ligne quand vous pouvez la rendre interactive!\n",
    "\n",
    "Mais avant cela, nous devons nous attaquer à un petit problème. Nous devons encore attendre quelques secondes pour voir les résultats lorsque nous exécutons `plot _gutenberg`, et si nous voulons rendre encore plus facile la permutation entre les différents travaux, nous ne voulons pas avoir attendre toujours pour voir notre complot.\n",
    "\n",
    "Il existe de nombreuses façons de remédier à ce problème, mais une solution rapide consiste à effectuer le travail qui prend le plus de temps à l’avance et à stocker les résultats. Créons une nouvelle recette appelée `count_ nom _phrases` qui fera tout ce que` plot_ gutenberg` a fait, *sauf* dessine l'intrigue finale. Ensuite, nous allons le stocker. Nous allons utiliser le même `ebook _no` que les gens de Gutenberg font afin de pouvoir le trouver facilement.\n",
    "\n",
    "Cela peut prendre une minute ou deux, alors soyez patient! Il va parcourir tout ce qui se trouve dans `choix`, saisir le texte, trouver les phrases nominales, les compter, puis les stocker dans` stocké_ compte`. C'est beaucoup de travail!"
   ]
  },
  {
   "cell_type": "code",
   "execution_count": null,
   "metadata": {},
   "outputs": [],
   "source": [
    "stored_counts = {}\n",
    "\n",
    "def count_noun_phrases(ebook_no):\n",
    "    text = get_gutenberg_text(ebook_no)\n",
    "    phrases = noun_phrases(text)\n",
    "    counts = count_unique(phrases)[0:20]\n",
    "    return counts\n",
    "\n",
    "for ebook_no in choices.values():\n",
    "    stored_counts[ebook_no] = count_noun_phrases(ebook_no)"
   ]
  },
  {
   "cell_type": "markdown",
   "metadata": {
    "lang": "en"
   },
   "source": [
    "Now let's redefine what `plot_gutenberg` does. It no longer needs to crunch the data every time. It can just grab it from `stored_counts`."
   ]
  },
  {
   "cell_type": "markdown",
   "metadata": {
    "lang": "fr"
   },
   "source": [
    "Redéfinissons maintenant ce que fait `plot _gutenberg`. Il n'est plus nécessaire de traiter les données à chaque fois. Il peut simplement le récupérer dans `stocké_ comptes`."
   ]
  },
  {
   "cell_type": "code",
   "execution_count": null,
   "metadata": {},
   "outputs": [],
   "source": [
    "def plot_gutenberg(ebook_no):\n",
    "    plot_text_counts(stored_counts[ebook_no])"
   ]
  },
  {
   "cell_type": "markdown",
   "metadata": {
    "lang": "en"
   },
   "source": [
    "## Building our text selector\n",
    "\n",
    "Time for the closing act! This is where things get a bit fancier. Don't worry if you don't fully understand what's going on in this next block. Right now, just see if you can spot some similar names, and note that with just a couple more lines, we're going to make it really easy to browse the top 20 phrases of any number of works from [gutenberg.org](http://www.gutenberg.org)!"
   ]
  },
  {
   "cell_type": "markdown",
   "metadata": {
    "lang": "fr"
   },
   "source": [
    "## Construire notre sélecteur de texte\n",
    "\n",
    "Temps pour l'acte de clôture! C'est là que les choses deviennent un peu plus sophistiquées. Ne vous inquiétez pas si vous ne comprenez pas bien ce qui se passe dans le bloc suivant. Pour l’instant, voyez si vous pouvez repérer des noms similaires et notez qu’avec quelques lignes de plus, nous allons faciliter la navigation dans les 20 phrases les plus fréquentes de nombreuses œuvres de [gutenberg.org] ( http://www.gutenberg.org)!"
   ]
  },
  {
   "cell_type": "code",
   "execution_count": null,
   "metadata": {},
   "outputs": [],
   "source": [
    "selector = widgets.Dropdown(options=choices, description='Select Text:')\n",
    "interact(plot_gutenberg, ebook_no=selector)"
   ]
  },
  {
   "cell_type": "markdown",
   "metadata": {
    "lang": "en"
   },
   "source": [
    "## And we're done!\n",
    "\n",
    "Plus, we may have even gotten some new insights. For example, you'll see a play from Charles Dickens in the list of choices. Sure enough, we find Scrooge, the main character of *A Christmas Carol*, right at the top, followed by a few other main characters in the top 20. So it's not just Shakespeare who likes to mention his main character's name a lot. Perhaps it's more common.\n",
    "\n",
    "If you've already read some of these, you may also find it interesting that the top 20 most frequent noun phrases also capture a lot of what's unique about that particular work.\n",
    "\n",
    "## Experimenting\n",
    "\n",
    "This is only scratching the surface. You could remove the proper nouns on purpose to observe how language and style might change between different writers during different times in history. With a few changes you could even run this on news articles or any other text you could get your hands on.\n",
    "\n",
    "One really easy thing to do is simply add more choices to your selector. Feel free to try this out on your own selection of Gutenberg texts. Once you find the right **EBook-No.**, just add it to the list of `choices`. Remember, you'll have to rerun the step above that crunches the noun phrases and stores them as well before rerunning the last step that makes our selector. "
   ]
  },
  {
   "cell_type": "markdown",
   "metadata": {
    "lang": "fr"
   },
   "source": [
    "## Et nous avons fini!\n",
    "\n",
    "De plus, nous avons peut-être même eu de nouvelles idées. Par exemple, vous verrez une pièce de Charles Dickens dans la liste des choix. Effectivement, nous trouvons Scrooge, le personnage principal de *A Christmas Carol*, tout en haut, suivi de quelques autres personnages principaux du top 20. Alors ce n’est pas seulement Shakespeare qui aime mentionner celui de son personnage principal. Nommez beaucoup. C'est peut-être plus commun.\n",
    "\n",
    "Si vous en avez déjà lu quelques-unes, il peut également être intéressant de noter que les 20 phrases nominales les plus fréquentes capturent également beaucoup de ce qui est unique dans ce travail particulier.\n",
    "\n",
    "## Expérimenter\n",
    "\n",
    "Ceci ne fait qu'effleurer la surface. Vous pouvez supprimer exprès les noms propres afin d'observer comment la langue et le style peuvent changer entre différents auteurs à différentes époques de l'histoire. Avec quelques modifications, vous pouvez même utiliser ceci sur des articles de presse ou tout autre texte sur lequel vous pourriez mettre la main.\n",
    "\n",
    "Une chose très facile à faire est simplement d'ajouter plus de choix à votre sélecteur. N'hésitez pas à essayer ceci sur votre propre sélection de textes Gutenberg. Une fois que vous avez trouvé le bon **numéro-de-livre**, ajoutez-le simplement à la liste de `choice`. N'oubliez pas que vous devrez réexécuter l'étape ci-dessus, qui déchire les phrases nominales et les stocke également avant de réexécuter la dernière étape qui constitue notre sélecteur."
   ]
  },
  {
   "cell_type": "markdown",
   "metadata": {},
   "source": [
    "<img src=\"../../images/Callysto_Notebook-Banners_Bottom_06.06.18.jpg\"/>"
   ]
  }
 ],
 "metadata": {
  "kernelspec": {
   "display_name": "Python 3",
   "language": "python",
   "name": "python3"
  },
  "language_info": {
   "codemirror_mode": {
    "name": "ipython",
    "version": 3
   },
   "file_extension": ".py",
   "mimetype": "text/x-python",
   "name": "python",
   "nbconvert_exporter": "python",
   "pygments_lexer": "ipython3",
   "version": "3.6.5"
  },
  "nbTranslate": {
   "displayLangs": [
    "*"
   ],
   "hotkey": "alt-t",
   "langInMainMenu": true,
   "sourceLang": "en",
   "targetLang": "fr",
   "useGoogleTranslate": true
  }
 },
 "nbformat": 4,
 "nbformat_minor": 2
}
