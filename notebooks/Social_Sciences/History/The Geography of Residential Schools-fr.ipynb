{
 "cells": [
  {
   "cell_type": "markdown",
   "metadata": {},
   "source": [
    "<img src=\"../../images/Callysto_Notebook-Banner_Top_06.06.18.jpg\"/>"
   ]
  },
  {
   "cell_type": "code",
   "execution_count": null,
   "metadata": {},
   "outputs": [],
   "source": [
    "%%html\n",
    "\n",
    "<script>\n",
    "  function code_toggle() {\n",
    "    if (code_shown){\n",
    "      $('div.input').hide('500');\n",
    "      $('#toggleButton').val('Show Code')\n",
    "    } else {\n",
    "      $('div.input').show('500');\n",
    "      $('#toggleButton').val('Hide Code')\n",
    "    }\n",
    "    code_shown = !code_shown\n",
    "  }\n",
    "  \n",
    "  $( document ).ready(function(){\n",
    "    code_shown=false;\n",
    "    $('div.input').hide()\n",
    "  });\n",
    "</script>\n",
    "<form action=\"javascript:code_toggle()\"><input type=\"submit\" id=\"toggleButton\" value=\"Show Code\"></form>"
   ]
  },
  {
   "cell_type": "markdown",
   "metadata": {
    "lang": "en"
   },
   "source": [
    "# Canada's Residential Schools"
   ]
  },
  {
   "cell_type": "markdown",
   "metadata": {
    "lang": "fr"
   },
   "source": [
    "# Pensionnats canadiens"
   ]
  },
  {
   "cell_type": "markdown",
   "metadata": {
    "lang": "en"
   },
   "source": [
    "The Truth and Reconciliation Commission (TRC) was formally created in the year 2008 in order to bring out to light the experiences of Indigenous students in the residential schools. In December 2015, TRC came up with the final report which gave in detail the history of residential schools, their devastating legacy and the abuse left by these residential schools. The intention of this notebook is to bring awareness about the residential schools and to know about the past associated with this country which will help in understanding why it is important to be supportive and inclusive of different groups of people, launguages and cultures."
   ]
  },
  {
   "cell_type": "markdown",
   "metadata": {
    "lang": "fr"
   },
   "source": [
    "La Commission de vérité et réconciliation (CVR) a été créée officiellement en 2008 afin de mettre en lumière les expériences des élèves autochtones dans les pensionnats. En décembre 2015, TRC a présenté son rapport final, qui détaille l'histoire des pensionnats indiens, leur héritage dévastateur et les abus laissés par ces pensionnats. Le but de ce cahier est de sensibiliser aux pensionnats indiens et de connaître le passé associé à ce pays, ce qui aidera à comprendre pourquoi il est important d’appuyer et d’inclure les différents groupes de personnes, religions et cultures."
   ]
  },
  {
   "cell_type": "markdown",
   "metadata": {
    "lang": "en"
   },
   "source": [
    "## What is a residential school?"
   ]
  },
  {
   "cell_type": "markdown",
   "metadata": {
    "lang": "fr"
   },
   "source": [
    "## Qu'est-ce qu'un pensionnat?"
   ]
  },
  {
   "cell_type": "markdown",
   "metadata": {
    "lang": "en"
   },
   "source": [
    "![Study time in residential school](images/study-time.jpg)\n",
    "<center>Study time in a residential school.</center>\n",
    "<center>Source: Library and Archives Canada, PA-042133</center>"
   ]
  },
  {
   "cell_type": "markdown",
   "metadata": {
    "lang": "fr"
   },
   "source": [
    "![Période d'étude dans un pensionnat](images/study-time.jpg)\n",
    "<center>Étude dans une école résidentielle.</center>\n",
    "<center>Source: Bibliothèque et Archives Canada, PA-042133</center>"
   ]
  },
  {
   "cell_type": "markdown",
   "metadata": {
    "lang": "en"
   },
   "source": [
    "The Canadian government in the 19th century decided that it was responsible for providing education and care for the aboriginal people of the country in order to assimilate them into the Canadian society. The government believed that the only way to achieve this is by separating the students from their families and denying access to their own culture, language, and traditions. The government also believed that the best chance of success for these students was to learn English and to adopt Christianity and Canadian customs. This way the students will pass on the newly adopted lifestyle, language and culture to their children which would completely abolish the native traditions in a few generations.\n",
    "\n",
    "In order to put these into action, the Canadian government developed a policy called \"aggressive assimilation\" to be taught at the government-funded educational institutions which were church-run and provided the Indigenous children with rudimentary training in the trades and agriculture. The government believed that the children were easier to mold than adults and the concept of boarding school with compulsory attendance where children were separated from their families and communities was the best way to prepare them for life in the mainstream society."
   ]
  },
  {
   "cell_type": "markdown",
   "metadata": {
    "lang": "fr"
   },
   "source": [
    "Au 19e siècle, le gouvernement canadien a décidé qu'il était responsable de l'éducation et des soins des peuples autochtones du pays afin de les assimiler à la société canadienne. Le gouvernement a estimé que le seul moyen d'y parvenir est de séparer les étudiants de leurs familles et de refuser l'accès à leur propre culture, langue et traditions. Le gouvernement croyait également que la meilleure chance de réussite de ces étudiants était d'apprendre l'anglais et d'adopter le christianisme et les coutumes canadiennes. De cette façon, les élèves transmettront à leurs enfants le style de vie, la langue et la culture nouvellement adoptés, qui aboliraient complètement les traditions autochtones en quelques générations.\n",
    "\n",
    "Afin de les concrétiser, le gouvernement canadien a mis au point une politique appelée \"assimilation agressive\" devant être enseignée dans les établissements d'enseignement financés par le gouvernement, gérés par une église et fournissant aux enfants autochtones une formation rudimentaire dans les métiers et l'agriculture. Le gouvernement estimait que les enfants étaient plus faciles à modeler que les adultes et le concept d'internat avec assiduité obligatoire où les enfants étaient séparés de leur famille et de leur communauté était le meilleur moyen de les préparer à la vie dans la société."
   ]
  },
  {
   "cell_type": "markdown",
   "metadata": {
    "lang": "en"
   },
   "source": [
    "## Students at the residential school"
   ]
  },
  {
   "cell_type": "markdown",
   "metadata": {
    "lang": "fr"
   },
   "source": [
    "## Etudiants au pensionnat"
   ]
  },
  {
   "cell_type": "markdown",
   "metadata": {
    "lang": "en"
   },
   "source": [
    "It is estimated that about 150,000 First Nation, Inuit, and Métis children attended these residential schools. \n",
    "\n",
    "**Métis:** Métis Nation's political organization, The Métis National Council (MNC), defines “Metis” as: “a person who self-identifies as Métis, is distinct from other Aboriginal Peoples, is of historic Métis Nation ancestry and who is accepted by the Métis Nation.” Métis people are a mix of European and Indigenous ancestry who trace their origin to Red River valley and the prairies including Ontario, British Columbia, the Northwest Territories and the northern United States.\n",
    "\n",
    "**Inuit:** Inhabitants of North American Arctic, covering a distance of 6,000 kilometres from the Bering Strait to East Greenland were termed as Inuit, which simply means \"the people\". Inuit also live in northern Alaska, Greenland and some even in Russia who have culturally common heritage and a common language. The term \"Eskimo\" was used to identify the Inuit people until recently.\n",
    "\n",
    "**First Nations:** A term used to refer to about 1.3 million Aboriginal people in Canada who are not Métis or Inuit and who are the original inhabitants of the land that is now called Canada. There are [634 First nations governments or band ](https://en.wikipedia.org/wiki/List_of_First_Nations_governments) in Canada, who speak more than 50 different languages."
   ]
  },
  {
   "cell_type": "markdown",
   "metadata": {
    "lang": "fr"
   },
   "source": [
    "On estime qu'environ 150 000 enfants des Premières nations, inuits et métis ont fréquenté ces pensionnats.\n",
    "\n",
    "**Métis:** Le Métis National Council (MNC), une organisation politique de la nation métisse, définit le terme «métis» comme suit: «une personne qui s'identifie comme métisse, distincte des autres peuples autochtones, est métisse historique. Une ascendance nationale et qui est acceptée par la nation métisse. »Les Métis sont un mélange d'ascendance européenne et autochtone qui tire leur origine de la vallée de la rivière Rouge et des Prairies, notamment de l'Ontario, de la Colombie-Britannique, des Territoires du Nord-Ouest et du Nord.\n",
    "\n",
    "**Inuit:** Les habitants de l'Arctique nord-américain, couvrant une distance de 6 000 kilomètres du détroit de Béring à l'est du Groenland, ont été qualifiés d'Inuits, ce qui signifie simplement \"le peuple\". Les Inuits vivent également dans le nord de l'Alaska, au Groenland et même en Russie, pays qui possède un patrimoine culturel commun et une langue commune. Le terme \"Esquimau\" était utilisé jusqu'à récemment pour identifier les Inuits.\n",
    "\n",
    "**Premières nations:** Ce terme désigne environ 1,3 million d'Autochtones au Canada qui ne sont ni des Métis ni des Inuits et qui sont les premiers habitants de la terre qui s'appelle maintenant le Canada. Il y a [634 gouvernements ou bandes des premières nations] (https://en.wikipedia.org/wiki/List _sur_ les _premiers_ premiers <_> gouvernements) au Canada, qui parlent plus de 50 langues différentes. langues."
   ]
  },
  {
   "cell_type": "markdown",
   "metadata": {
    "lang": "en"
   },
   "source": [
    "### Questions\n",
    "\n",
    "1. Identify two recognized First nations governments in your province."
   ]
  },
  {
   "cell_type": "markdown",
   "metadata": {
    "lang": "fr"
   },
   "source": [
    "### Des questions\n",
    "\n",
    "1. Identifiez deux gouvernements des Premières nations reconnus dans votre province."
   ]
  },
  {
   "cell_type": "markdown",
   "metadata": {
    "lang": "en"
   },
   "source": [
    "## Issues at residential schools"
   ]
  },
  {
   "cell_type": "markdown",
   "metadata": {
    "lang": "fr"
   },
   "source": [
    "## Problèmes dans les pensionnats"
   ]
  },
  {
   "cell_type": "markdown",
   "metadata": {
    "lang": "en"
   },
   "source": [
    "### Quality of Education:"
   ]
  },
  {
   "cell_type": "markdown",
   "metadata": {
    "lang": "fr"
   },
   "source": [
    "### Qualité de l'éducation:"
   ]
  },
  {
   "cell_type": "markdown",
   "metadata": {
    "lang": "en"
   },
   "source": [
    "The quality of education and skills that were taught at the residential schools were generally substandard. The students were often trained for menial labor positions that many were not able to adapt or function in an urban setting."
   ]
  },
  {
   "cell_type": "markdown",
   "metadata": {
    "lang": "fr"
   },
   "source": [
    "La qualité de l'éducation et les compétences enseignées dans les pensionnats étaient généralement inférieures aux normes. Les étudiants étaient souvent formés à des postes de travail subalterne que beaucoup n’étaient pas en mesure de s’adapter ou de fonctionner en milieu urbain."
   ]
  },
  {
   "cell_type": "markdown",
   "metadata": {
    "lang": "en"
   },
   "source": [
    "### Language, Values, beliefs, culture and traditions:"
   ]
  },
  {
   "cell_type": "markdown",
   "metadata": {
    "lang": "fr"
   },
   "source": [
    "### Langue, valeurs, croyances, culture et traditions:"
   ]
  },
  {
   "cell_type": "markdown",
   "metadata": {
    "lang": "en"
   },
   "source": [
    "The schools were increasingly run by well-established churches in Canada, which meant the students were exposed to Christian values, beliefs, and traditions. The students were not allowed to wear traditional clothing or accessories. They were given uniform clothing (mostly of substandard quality), a number assigned to each student and / or a Christian name. Children were punished if they were found using their traditional names, which further separated the children from their culture and idenitities.\n",
    "\n",
    "Students were encouraged to speak in either English or French and were restrained from speaking their first language or even practice any native traditions. The students were belittled and punished when they were found speaking in their first language or practicing their traditions. As a result of this students were deprived of speaking and learning their first language and made them feel like they didn't belong in their own family whenever they went back to their reserves and made them feel ashamed of their native heritage. Without the knowledge of their first language comes the loss of the ability to understand the teachings and stories that were passed down in Indigenous cultures that value oral tradition."
   ]
  },
  {
   "cell_type": "markdown",
   "metadata": {
    "lang": "fr"
   },
   "source": [
    "Les écoles étaient de plus en plus gérées par des églises bien établies au Canada, ce qui signifiait que les élèves étaient exposés aux valeurs, aux croyances et aux traditions chrétiennes. Les étudiants n'étaient pas autorisés à porter des vêtements ou des accessoires traditionnels. Ils ont reçu des vêtements d'uniforme (la plupart du temps d'une qualité inférieure aux normes), un numéro attribué à chaque élève et / ou un prénom. Les enfants étaient punis s’ils trouvaient leurs noms traditionnels, ce qui les séparait davantage de leur culture et de leurs identités.\n",
    "\n",
    "Les élèves ont été encouragés à parler en anglais ou en français et ont été empêchés de parler leur langue maternelle et même de ne pratiquer aucune tradition autochtone. Les étudiants ont été rabaissés et punis lorsqu'ils se sont retrouvés à parler dans leur langue maternelle ou à pratiquer leurs traditions. En conséquence, les élèves ont été privés de la langue parlée et de l’apprentissage de leur langue maternelle et leur ont fait sentir qu’ils n’appartenaient pas à leur propre famille chaque fois qu’ils retournaient dans leurs réserves et leur faisaient ressentir la honte de leur patrimoine autochtone. Sans la connaissance de leur langue maternelle, on perd la capacité de comprendre les enseignements et les récits transmis dans les cultures autochtones qui valorisent la tradition orale."
   ]
  },
  {
   "cell_type": "markdown",
   "metadata": {
    "lang": "en"
   },
   "source": [
    "### Separation from family:"
   ]
  },
  {
   "cell_type": "markdown",
   "metadata": {
    "lang": "fr"
   },
   "source": [
    "### Séparation de la famille:"
   ]
  },
  {
   "cell_type": "markdown",
   "metadata": {
    "lang": "en"
   },
   "source": [
    "Attendance was initially voluntary but later the government became more stringent and attendance was made compulsory. The idea was to separate the children as far away as possible from their family and communities to sever connections to their roots. Students never got to experience the normal life outside these schools as most students in these residential schools spent almost 10months of a year in the school, away from their parents; some even stayed all year round. Students were also forced to have all correspondence sent to their parents be written in English, which many parents couldn't read, which further broke ties with their families."
   ]
  },
  {
   "cell_type": "markdown",
   "metadata": {
    "lang": "fr"
   },
   "source": [
    "La participation était au départ volontaire, mais plus tard, le gouvernement est devenu plus strict et la présence obligatoire. L'idée était de séparer les enfants aussi loin que possible de leur famille et de leurs communautés afin de rompre les liens avec leurs racines. Les élèves n’ont jamais eu la vie normale en dehors de ces écoles, car la plupart des élèves de ces pensionnats ont passé près de 10 mois dans l’école, loin de leurs parents; certains sont même restés toute l'année. Les étudiants ont également été obligés de faire rédiger toute la correspondance envoyée à leurs parents en anglais, ce que beaucoup de parents ne savaient pas lire, ce qui rompait encore les liens avec leur famille."
   ]
  },
  {
   "cell_type": "markdown",
   "metadata": {
    "lang": "en"
   },
   "source": [
    "### Poor nutrition:"
   ]
  },
  {
   "cell_type": "markdown",
   "metadata": {
    "lang": "fr"
   },
   "source": [
    "### Mauvaise nutrition:"
   ]
  },
  {
   "cell_type": "markdown",
   "metadata": {
    "lang": "en"
   },
   "source": [
    "Dr. Peter Bryce reported in 1907, medical inspector for the Department of Indian affairs, found that the students were not given nutritious food, the living conditions were often very poor and the schools were overcrowded. It was also noted that the school buildings were often poorly constructed with bad ventilation and poor heating which paved way for various disease outbreaks."
   ]
  },
  {
   "cell_type": "markdown",
   "metadata": {
    "lang": "fr"
   },
   "source": [
    "Le Dr Peter Bryce rapporta qu'en 1907, inspecteur médical du département des Affaires indiennes, avait constaté que les étudiants ne recevaient pas de nourriture nutritive, les conditions de vie étaient souvent très mauvaises et les écoles surpeuplées. Il a également été noté que les bâtiments scolaires étaient souvent mal construits, mal ventilés et mal chauffés, ce qui a ouvert la voie à diverses épidémies."
   ]
  },
  {
   "cell_type": "markdown",
   "metadata": {
    "lang": "en"
   },
   "source": [
    "### Abuse:"
   ]
  },
  {
   "cell_type": "markdown",
   "metadata": {
    "lang": "fr"
   },
   "source": [
    "### Abuser de:"
   ]
  },
  {
   "cell_type": "markdown",
   "metadata": {
    "lang": "en"
   },
   "source": [
    "Students were often subject to emotional, physical and sexual abuse. Since the schools were overcrowded the students did not receive any personal attention and the lack of love or care from family and the fear of being punished for making mistakes contributed to long-term depression, anxiety, and disconnect. About half of the 80,000 survivors of the residential school system reported of being seriously abused either physically or sexually. These cases went unreported or often ignored by the institutions in order to save their own face than protecting the children."
   ]
  },
  {
   "cell_type": "markdown",
   "metadata": {
    "lang": "fr"
   },
   "source": [
    "Les élèves étaient souvent victimes d'abus émotionnel, physique et sexuel. Comme les écoles étaient surpeuplées, les élèves ne bénéficiaient d'aucune attention personnelle. Le manque d'amour ou d'attention de la part de la famille et la peur d'être puni pour avoir commis des erreurs ont contribué à la dépression, à l'anxiété et à la déconnexion qui perdurent. Environ la moitié des 80 000 survivants du système des pensionnats indiens ont déclaré avoir été sérieusement maltraités physiquement ou sexuellement. Ces cas n'ont pas été signalés ou ont souvent été ignorés par les institutions afin de sauver leur propre visage plutôt que de protéger les enfants."
   ]
  },
  {
   "cell_type": "markdown",
   "metadata": {
    "lang": "en"
   },
   "source": [
    "### Missing or gone:"
   ]
  },
  {
   "cell_type": "markdown",
   "metadata": {
    "lang": "fr"
   },
   "source": [
    "### manquant ou disparu:"
   ]
  },
  {
   "cell_type": "markdown",
   "metadata": {
    "lang": "en"
   },
   "source": [
    "Many students tried to escape these residential schools, the harsh punishments and abuse to be back with their parents often risking their own lives without supplies, help or proper clothing. Children were often caught by officials and brought back to the schools to be severely punished. A number of children even lost their lives trying to escape the horrible conditions to return to their loved ones."
   ]
  },
  {
   "cell_type": "markdown",
   "metadata": {
    "lang": "fr"
   },
   "source": [
    "De nombreux étudiants ont essayé d'échapper à ces pensionnats indiens, les punitions sévères et les mauvais traitements pour être de retour avec leurs parents risquant souvent leur vie, sans ravitaillement, aide ni vêtements appropriés. Les enfants ont souvent été attrapés par des fonctionnaires et ramenés dans les écoles pour y être sévèrement punis. Un certain nombre d'enfants ont même perdu la vie en tentant d'échapper aux conditions horribles qui les empêchaient de retrouver leurs proches."
   ]
  },
  {
   "cell_type": "markdown",
   "metadata": {
    "lang": "en"
   },
   "source": [
    "### Questions\n",
    "\n",
    "1. Can you relate a time where a relative passed on a particular skill to you?\n",
    "2. Can you relate a story that has been passed down to you from an older generation that you would be able to tell the next generation? What part(s) of the story offer a learning aspect?"
   ]
  },
  {
   "cell_type": "markdown",
   "metadata": {
    "lang": "fr"
   },
   "source": [
    "### Des questions\n",
    "\n",
    "1. Pouvez-vous raconter une époque où un membre de votre famille vous a transmis une compétence particulière?\n",
    "2. Pouvez-vous raconter une histoire qui vous a été transmise par une génération plus ancienne et que vous seriez capable de raconter à la génération suivante? Quelle partie de l'histoire offre un aspect d'apprentissage?"
   ]
  },
  {
   "cell_type": "markdown",
   "metadata": {},
   "source": [
    "### Activity"
   ]
  },
  {
   "cell_type": "markdown",
   "metadata": {
    "lang": "en"
   },
   "source": [
    "Below is a video interview of one of the survivors of the residential school system. Watch the video carefully and answer the questions that follow.\n",
    "\n",
    "Video source: http://www.cbc.ca/player/play/1178497603731/"
   ]
  },
  {
   "cell_type": "markdown",
   "metadata": {
    "lang": "fr"
   },
   "source": [
    "Vous trouverez ci-dessous une interview vidéo de l’un des survivants du système des pensionnats. Regardez attentivement la vidéo et répondez aux questions suivantes.\n",
    "\n",
    "Source vidéo: http://www.cbc.ca/player/play/1178497603731/"
   ]
  },
  {
   "cell_type": "code",
   "execution_count": null,
   "metadata": {},
   "outputs": [],
   "source": [
    "from IPython.display import HTML\n",
    "HTML('<iframe src=\"//www.cbc.ca/i/caffeine/syndicate/?mediaId=1178497603731\" width=\"640\" height=\"360\" frameborder=\"0\" allowfullscreen></iframe>')"
   ]
  },
  {
   "cell_type": "markdown",
   "metadata": {
    "lang": "en"
   },
   "source": [
    "### Questions\n",
    "\n",
    "1. What key issues did Wanbdi discuss in the video? ( Choose all that apply: Anger, physical abuse, flight, poor nutrition, racism, pride, mental abuse)\n",
    "\n",
    "2. What consequences did Wanbdi face for running away from residential school?\n",
    "\n",
    "3. What are his recommendations to Canadians on reconciliation?"
   ]
  },
  {
   "cell_type": "markdown",
   "metadata": {
    "lang": "fr"
   },
   "source": [
    "### Des questions\n",
    "\n",
    "1. Quelles questions clés Wanbdi a-t-il abordées dans la vidéo? (Choisissez tout ce qui s'applique: colère, abus physique, fuite, mauvaise nutrition, racisme, fierté, abus mental)\n",
    "\n",
    "2. Quelles conséquences Wanbdi a-t-il subies lors de sa fuite du pensionnat?\n",
    "\n",
    "3. Quelles sont ses recommandations aux Canadiens sur la réconciliation?"
   ]
  },
  {
   "cell_type": "markdown",
   "metadata": {
    "lang": "en"
   },
   "source": [
    "## Geographic locations of residential schools"
   ]
  },
  {
   "cell_type": "markdown",
   "metadata": {
    "lang": "fr"
   },
   "source": [
    "## Emplacements géographiques des pensionnats"
   ]
  },
  {
   "cell_type": "markdown",
   "metadata": {
    "lang": "en"
   },
   "source": [
    "![Mohawk School](images/mohawk-school.jpg)\n",
    "***The first residential school - Mohawk Institute Residential School in Ontario (Library and Archives Canada)***"
   ]
  },
  {
   "cell_type": "markdown",
   "metadata": {
    "lang": "fr"
   },
   "source": [
    "![École mohawk](images/mohawk-school.jpg)\n",
    "*** Premier pensionnat - pensionnat du Mohawk Institute en Ontario (Bibliothèque et Archives Canada)** *"
   ]
  },
  {
   "cell_type": "markdown",
   "metadata": {
    "lang": "en"
   },
   "source": [
    "In order to understand and acknowledge the truth behind these devastating residential schools, it is important to know the locations of such schools. From this, we can understand how and where it all began, which was the first residential school and how the idea quickly progressed to other provinces. Knowing the history of the place you live is important to give the respect that the place and people that belong to that place deserve and also critical to form meaningful relationships with them."
   ]
  },
  {
   "cell_type": "markdown",
   "metadata": {
    "lang": "fr"
   },
   "source": [
    "Afin de comprendre et de reconnaître la vérité qui se cache derrière ces pensionnats dévastateurs, il est important de connaître l'emplacement de ces pensionnats. À partir de là, nous pouvons comprendre comment et où tout a commencé, qui était le premier pensionnat et comment l’idée a rapidement progressé dans d’autres provinces. Connaître l'histoire de l'endroit où vous vivez est important pour donner le respect que méritent cet endroit et les personnes qui appartiennent à cet endroit. Il est également essentiel de nouer des relations significatives avec eux."
   ]
  },
  {
   "cell_type": "markdown",
   "metadata": {
    "lang": "en"
   },
   "source": [
    "To begin with we first download open data set available at http://hesperus-wild.org/GIS_carto/IRS.html that contains the locations and other information about the residential schools."
   ]
  },
  {
   "cell_type": "markdown",
   "metadata": {
    "lang": "fr"
   },
   "source": [
    "Pour commencer, nous téléchargeons d’abord le fichier ouvert disponible à l’adresse http://hesperus-wild.org/GIS_carto/IRS.html contenant les emplacements et d’autres informations sur les pensionnats."
   ]
  },
  {
   "cell_type": "code",
   "execution_count": null,
   "metadata": {},
   "outputs": [],
   "source": [
    "from fastkml import  kml\n",
    "from lxml import etree\n",
    "import pandas as pd\n",
    "import pandas as pd\n",
    "import matplotlib.pyplot as plt\n",
    "from plotly.offline import init_notebook_mode, iplot\n",
    "import plotly.graph_objs as go\n",
    "import plotly.plotly as py\n",
    "init_notebook_mode(connected=True)\n",
    "\n",
    "kml_file = 'data/IRS.kml'\n",
    "myfile = open(kml_file, 'rt', encoding='utf-8')\n",
    "doc=myfile.read().encode('utf-8')\n",
    "\n",
    "k = kml.KML()\n",
    "k.from_string(doc)\n",
    "\n",
    "for doc in k.features():\n",
    "    for folder in doc.features():\n",
    "        value_dict = []\n",
    "        for plcm in folder.features():\n",
    "            \n",
    "            for schema_data in plcm.extended_data.elements:\n",
    "                \n",
    "                data_dict ={}\n",
    "                for data in schema_data.data:\n",
    "                    \n",
    "                    data_dict[data['name']] = data['value']               \n",
    "            value_dict.append(data_dict)                       \n",
    "\n",
    "residential_df = pd.DataFrame(value_dict)\n",
    "residential_df['Longitude'] = pd.to_numeric(residential_df['Longitude'],errors='ignore')\n",
    "residential_df['Latitude'] = pd.to_numeric(residential_df['Latitude'],errors='ignore')\n",
    "residential_df\n",
    "\n"
   ]
  },
  {
   "cell_type": "markdown",
   "metadata": {
    "lang": "en"
   },
   "source": [
    "Now that we have the data on hand, lets try to plot them on a graph to  find the locations of the schools. "
   ]
  },
  {
   "cell_type": "markdown",
   "metadata": {
    "lang": "fr"
   },
   "source": [
    "Maintenant que nous avons les données sous la main, essayons de les tracer sur un graphique pour trouver l'emplacement des écoles."
   ]
  },
  {
   "cell_type": "code",
   "execution_count": null,
   "metadata": {},
   "outputs": [],
   "source": [
    "# residential_df.plot(kind=\"scatter\", x=\"Longitude\", y=\"Latitude\", alpha=0.4, label=\"Residential School\",\n",
    "#         figsize=(10,7),)\n",
    "# plt.show()\n",
    "\n",
    "trace = go.Scatter(\n",
    "    y = residential_df['Latitude'],\n",
    "    x = residential_df['Longitude'],\n",
    "    text = residential_df['map_name']+ '<br>'+'From:  '+residential_df['From']+'<br>' +'To:  '+residential_df['To'],\n",
    "    mode='markers',\n",
    "    marker = dict(\n",
    "    opacity = 0.5,\n",
    "    color = 'blue')\n",
    "    )\n",
    "\n",
    "layout = go.Layout(\n",
    "    title='Latitude vs Longitude - Scatter plot',\n",
    "    xaxis=dict(\n",
    "        title='Longitude'\n",
    "    ),\n",
    "    yaxis=dict(\n",
    "        title='Latitude'\n",
    "    )\n",
    ")\n",
    "\n",
    "data = [trace]\n",
    "\n",
    "fig = dict(data=data, layout=layout)\n",
    "iplot(fig, filename='styled-scatter')"
   ]
  },
  {
   "cell_type": "markdown",
   "metadata": {
    "lang": "en"
   },
   "source": [
    "What we see above is a scatter plot to diplay two values of our dataset Latitude vs Longitude, but what do they mean and how are we supposed to use it? To get a better understanding of Latitudes and Longitudes, let us take a quick detour to explore a little more about these concepts. Before we do that lets test your knowledge about scatter plots. Try and answer the questions that follow."
   ]
  },
  {
   "cell_type": "markdown",
   "metadata": {
    "lang": "fr"
   },
   "source": [
    "Ce que nous voyons ci-dessus est un nuage de points pour afficher deux valeurs de notre ensemble de données Latitude vs Longitude, mais que signifient-elles et comment devons-nous l'utiliser? Pour mieux comprendre les latitudes et les longitudes, faisons un petit détour pour explorer un peu plus ces concepts. Avant de faire cela, permet de tester vos connaissances sur les nuages ​​de points. Essayez de répondre aux questions qui suivent."
   ]
  },
  {
   "cell_type": "markdown",
   "metadata": {
    "lang": "en"
   },
   "source": [
    "### Questions\n",
    "\n",
    "1. What is a scatter plot?\n",
    "2. What two variables are related in the scatterplot? \n",
    "3. What do each dot on the plot represent?\n",
    "4. Why are some dots lighter and some darker? (Hint: Zoom in on darker dots)\n"
   ]
  },
  {
   "cell_type": "markdown",
   "metadata": {
    "lang": "fr"
   },
   "source": [
    "### Des questions\n",
    "\n",
    "1. Qu'est-ce qu'un diagramme de dispersion?\n",
    "2. Quelles sont les deux variables liées dans le diagramme de dispersion?\n",
    "3. Que représente chaque point de l'intrigue?\n",
    "4. Pourquoi certains points sont-ils plus clairs et d'autres plus sombres? (Indice: zoom sur les points plus foncés)"
   ]
  },
  {
   "cell_type": "markdown",
   "metadata": {
    "lang": "en"
   },
   "source": [
    "## Brief Detour About Geography\n",
    "\n",
    "**Latitudes and longitudes** are very basic terms in geography. They help us to explain the location or position of something anywhere in the world. Latitudes and longitudes form a grid system on the globe, and by knowing the shape of this grid, we can easily locate any place on Earth."
   ]
  },
  {
   "cell_type": "markdown",
   "metadata": {
    "lang": "fr"
   },
   "source": [
    "## Bref détour de la géographie\n",
    "\n",
    "**Les latitudes et longitudes** sont des termes très fondamentaux en géographie. Ils nous aident à expliquer l'emplacement ou la position de quelque chose n'importe où dans le monde. Les latitudes et les longitudes forment un système de grille sur le globe, et en connaissant la forme de cette grille, nous pouvons facilement localiser n'importe quel endroit de la Terre."
   ]
  },
  {
   "cell_type": "markdown",
   "metadata": {
    "lang": "en"
   },
   "source": [
    "### Latitude\n",
    "\n",
    "Lines of latitudes are horizontal systems of measurement that encircle the globe from east to west. Latitudes are sometimes called \"parallels,\" as they are at an equal distance from each other and never meet.\n",
    "\n",
    "Latitude lines measure how far north or south of the equator something is. The equator is defined as the starting point for measuring latitude - that's why it is marked as 0 degrees latitude. The North Pole is listed at 90 degrees, and the South Pole is listed at -90 degrees. The more \"degrees latitude\" a location is, the further away it is from the equator. For example, 50 degrees latitude is further from the equator than 20 degrees latitude is. Depending on if a location is above or below the equator, they are listed as \"degrees North\" or \"degrees South\", and are given a matching positive (+) or negative (-) symbol. \n",
    "\n",
    "\n",
    "Each degree of latitude is approximately 111 kilometers apart (69 miles), although there is some variation as the Earth is not perfectly round. The globe below has the parallels drawn on it. Feel free to spin the globe and zoom in or out on any location. Parallels located south of the Equator are orange, and this part of the Earth is called the Southern Hemisphere. Conversely, parallels located north to the Equator are blue, and this part of the Earth is called the Northern Hemisphere.\n"
   ]
  },
  {
   "cell_type": "markdown",
   "metadata": {
    "lang": "fr"
   },
   "source": [
    "### Latitude\n",
    "\n",
    "Les lignes de latitude sont des systèmes de mesure horizontaux qui encerclent le globe d’est en ouest. Les latitudes sont parfois appelées \"parallèles\", car elles sont à égale distance les unes des autres et ne se rencontrent jamais.\n",
    "\n",
    "Les lignes de latitude mesurent la distance entre le nord et le sud de l'équateur. L'équateur est défini comme le point de départ de la mesure de la latitude. C'est pourquoi il est marqué par une latitude de 0 degré. Le pôle Nord est répertorié à 90 degrés et le pôle Sud à -90 degrés. Plus une position en degrés de latitude est grande, plus il s’éloigne de l’équateur. Par exemple, 50 degrés de latitude sont plus éloignés de l'équateur que 20 degrés de latitude. Selon si un emplacement est situé au-dessus ou au-dessous de l'équateur, ils sont répertoriés en tant que \"degrés nord\" ou \"degrés sud\" et reçoivent un symbole correspondant (+) ou négatif (-).\n",
    "\n",
    "\n",
    "Chaque degré de latitude est séparé d’environ 111 kilomètres (69 milles), bien qu’il y ait quelques variations car la Terre n’est pas parfaitement ronde. Le globe ci-dessous a les parallèles tracés. N'hésitez pas à faire tourner le globe et à effectuer un zoom avant ou arrière sur n’importe quel emplacement. Les parallèles situés au sud de l'équateur sont orange et cette partie de la Terre s'appelle l'hémisphère sud. À l'inverse, les parallèles situés au nord de l'équateur sont en bleu et cette partie de la Terre s'appelle l'hémisphère nord."
   ]
  },
  {
   "cell_type": "code",
   "execution_count": null,
   "metadata": {},
   "outputs": [],
   "source": [
    "\n",
    "contours = []\n",
    "\n",
    "equator_lon = [-180,-170,-160,-150,-140,-130,-120,-110,-100,-90,-80,-70,-60,-50,-40,-30,-20,-10,0,\n",
    "               10,20,30,40,50,60,70,80,90,100,110,120,130,140,150,160,170,180]\n",
    "euator_lat = [0,0,0,0,0,0,0,0,0,0,0,0,0,0,0,0,0,0,0,0,0,0,0,0,0,0,0,0,0,0,0,0,0,0,0,0,0]\n",
    "\n",
    "#equator\n",
    "contours.append( dict(\n",
    "        type = 'scattergeo',\n",
    "        hoverinfo='text',\n",
    "        text= '0° equator',\n",
    "        name = '0° equator',\n",
    "        lon = equator_lon,\n",
    "        lat = euator_lat,\n",
    "        mode = 'lines',\n",
    "        line = dict(\n",
    "            width = 3,\n",
    "            color = 'green'\n",
    "        )\n",
    "    ) )\n",
    "#north pole\n",
    "contours.append( dict(\n",
    "        type = 'scattergeo',\n",
    "        hoverinfo='text',\n",
    "        text= '90° north pole',\n",
    "        name = '90° north pole',\n",
    "        lon = [0],\n",
    "        lat = [90],\n",
    "        mode = 'markers',\n",
    "        line = dict(\n",
    "            width = 2,\n",
    "            color = 'rgb(50,136,189)'\n",
    "        )\n",
    "    ) )\n",
    "#north hemispere\n",
    "for i in range (1,9):\n",
    "    contours.append( dict(\n",
    "        type = 'scattergeo',\n",
    "        hoverinfo='text',\n",
    "        text= str(10*i)+'° north',\n",
    "        name = str(10*i)+'° north',\n",
    "        lon = equator_lon,\n",
    "        lat = [x+10*i for x in euator_lat],\n",
    "        mode = 'lines',\n",
    "        line = dict(\n",
    "            width = 2,\n",
    "            color = 'rgb(50,136,189)'\n",
    "        )\n",
    "    ) )\n",
    "    \n",
    "#south hemispere\n",
    "for i in range (1,9):\n",
    "    contours.append( dict(\n",
    "        type = 'scattergeo',\n",
    "        hoverinfo='text',\n",
    "        text= str(-10*i)+'° south',\n",
    "        name = str(-10*i)+'° south',\n",
    "        lon = equator_lon,\n",
    "        lat = [x-10*i for x in euator_lat],\n",
    "        mode = 'lines',\n",
    "        line = dict(\n",
    "            width = 2,\n",
    "            color = 'rgb(244,109,67)'\n",
    "        )\n",
    "    ) )\n",
    "    \n",
    "contours.append( dict(\n",
    "        type = 'scattergeo',\n",
    "        hoverinfo='text',\n",
    "        text= '-90° south pole',\n",
    "        name = '-90° south pole',\n",
    "        lon = [0],\n",
    "        lat = [-90],\n",
    "        mode = 'markers',\n",
    "        line = dict(\n",
    "            width = 2,\n",
    "            color = 'rgb(244,109,67)'\n",
    "        )\n",
    "    ) )\n",
    "\n",
    "layout = dict(\n",
    "        title = 'Parallels over globe<br>(Click and drag to rotate)',        \n",
    "        geo = dict(\n",
    "            showland = True,\n",
    "            showlakes = True,\n",
    "            showcountries = True,\n",
    "            showocean = True,\n",
    "            countrywidth = 0.5,\n",
    "            lakecolor = 'rgb(255, 255, 255)',\n",
    "            oceancolor = 'rgb(255, 255, 255)',\n",
    "            landcolor = 'rgb(212, 212, 212)',\n",
    "            projection = dict( \n",
    "                type = 'orthographic',\n",
    "                rotation = dict(\n",
    "                    lon = -100,\n",
    "                    lat = 40,\n",
    "                    roll = 0\n",
    "                )            \n",
    "            ),\n",
    "\n",
    "        )\n",
    "    )\n",
    "    \n",
    "fig = dict( data=contours, layout=layout )\n",
    "iplot( fig, validate=False )"
   ]
  },
  {
   "cell_type": "markdown",
   "metadata": {
    "lang": "en"
   },
   "source": [
    "### Questions\n",
    "\n",
    "Look at the globe. Try rotating it and hover your mouse over different parallels. \n",
    "Every tenth parallel is displayed.\n",
    "If you click on any parallel listing on the right, the latitude line will either appear or disappear on the map.\n",
    "\n",
    "1. Can you find the Equator? Which continents does it go through?\n",
    "2. Find Canada. Is it located in the Southern or Northern Hemisphere?\n",
    "3. Which latitude lines is Canada located between?"
   ]
  },
  {
   "cell_type": "markdown",
   "metadata": {
    "lang": "fr"
   },
   "source": [
    "### Des questions\n",
    "\n",
    "Regarde le globe. Essayez de le faire pivoter et passez votre souris sur différents parallèles.\n",
    "Chaque dixième parallèle est affiché.\n",
    "Si vous cliquez sur une liste parallèle à droite, la ligne de latitude apparaîtra ou disparaîtra sur la carte.\n",
    "\n",
    "1. Pouvez-vous trouver l'équateur? Quels continents traverse-t-il?\n",
    "2. Trouver le Canada. Est-il situé dans l'hémisphère sud ou nord?\n",
    "3. Entre quelles lignes de latitude se situe le Canada?"
   ]
  },
  {
   "cell_type": "markdown",
   "metadata": {
    "lang": "en"
   },
   "source": [
    "### Longitude\n",
    "In contrast to latitude, longitude lines Lines are vertical systems of measurement that encircle the globe from north to south. Longitude lines converge at poles and are widest at the equator. Longitude lines can also be called \"meridian lines\". Longitude shows how far a location is east or west of a universal vertical line, called the Prime Meridian. The Prime Meridian line runs through the British Royal Observatory in Greenwich England, from the North Pole to the South Pole. As the vertical starting point for longitude, the Prime Meridian is defined as 0 degrees longitude. Interestingly, for many years, each country had its own prime meridian. In 1884, a group of scientists, navigators, and business owners made Greenwich, England, the official worldwide Prime Meridian.\n",
    "\n",
    "Longitude lines span 180 degrees both east and west of the Prime Meridian. Longitude lines that are **east** of the prime meridian are positive (+), and lines that are **west** of the Prime Meridian are negative (-). The longitude line that is exactly 180 degrees east and west of the Prime Meridian is known as the International Date Line (it is directly opposite to the Prime Meridian). \n",
    "\n",
    "Lines of longitude at every ten degrees are shown on the globe below, try rotating it and hover your mouse over different meridians. If you click on any meridian listed on the right it will disappear/reappear on the map. On this map, the blue meridians located east of the Prime Meridian are part of the Eastern Hemisphere. The orange meridians located west to the Prime Meridian are part of the Western Hemisphere."
   ]
  },
  {
   "cell_type": "markdown",
   "metadata": {
    "lang": "fr"
   },
   "source": [
    "### Longitude\n",
    "Contrairement à la latitude, les lignes de longitude Les lignes sont des systèmes de mesure verticaux qui entourent le globe du nord au sud. Les lignes de longitude convergent aux pôles et sont les plus larges à l'équateur. Les lignes de longitude peuvent également être appelées \"lignes méridiennes\". La longitude indique à quelle distance un emplacement se trouve à l'est ou à l'ouest d'une ligne verticale universelle appelée premier méridien. La ligne du premier méridien traverse l’observatoire royal britannique à Greenwich en Angleterre, du pôle Nord au pôle Sud. En tant que point de départ vertical de la longitude, le méridien d'origine est défini à 0 degré de longitude. Il est intéressant de noter que pendant de nombreuses années, chaque pays a eu son propre méridien. En 1884, un groupe de scientifiques, de navigateurs et de chefs d’entreprise a fait de Greenwich, en Angleterre, le premier méridien officiel dans le monde entier.\n",
    "\n",
    "Les lignes de longitude s'étendent sur 180 degrés à l'est et à l'ouest du premier méridien. Les lignes de longitude qui sont **est** du premier méridien sont positives (+) et les lignes qui sont **ouest** du premier méridien sont négatives (-). La ligne de longitude qui se trouve exactement à 180 degrés à l’est et à l’ouest du premier méridien est appelée ligne de date internationale (elle est directement opposée au premier méridien).\n",
    "\n",
    "Les lignes de longitude à tous les dix degrés sont indiquées sur le globe terrestre ci-dessous, essayez de la faire pivoter et passez votre souris sur différents méridiens. Si vous cliquez sur l'un des méridiens figurant à droite, il disparaîtra / réapparaîtra sur la carte. Sur cette carte, les méridiens bleus situés à l'est du premier méridien font partie de l'hémisphère oriental. Les méridiens orange situés à l'ouest du premier méridien font partie de l'hémisphère occidental."
   ]
  },
  {
   "cell_type": "code",
   "execution_count": null,
   "metadata": {},
   "outputs": [],
   "source": [
    "contours = []\n",
    "\n",
    "mer_lat1 = [90,100,110,120,130,140,150,160,170,180,-180,-170,-160,-150,-140,-130,-120,-110,-100,-90]\n",
    "mer_lon1 = [0,0,0,0,0,0,0,0,0,0,0,0,0,0,0,0,0,0,0,0]\n",
    "\n",
    "mer_lat2 = [-90,-80,-70,-60,-50,-40,-30,-20,-10,0,10,20,30,40,50,60,70,80,90]\n",
    "mer_lon2 = [0,0,0,0,0,0,0,0,0,0,0,0,0,0,0,0,0,0,0]\n",
    "\n",
    "#zero meridian\n",
    "contours.append( dict(\n",
    "        type = 'scattergeo',\n",
    "        hoverinfo='text',\n",
    "        text= '0° Prime meridian',\n",
    "        name = '0° Prime meridian',\n",
    "        lon = mer_lon2,\n",
    "        lat = mer_lat2,\n",
    "        mode = 'lines',\n",
    "        line = dict(\n",
    "            width = 3,\n",
    "            color = 'green'\n",
    "        )\n",
    "    ) )\n",
    "\n",
    "contours.append( dict(\n",
    "        type = 'scattergeo',\n",
    "        hoverinfo='text',\n",
    "        text= '180° International Date Line',\n",
    "        name = '180° International Date Line',\n",
    "        lon = mer_lon1,\n",
    "        lat = mer_lat1,\n",
    "        mode = 'lines',\n",
    "        line = dict(\n",
    "            width = 3,\n",
    "            color = 'green'\n",
    "        )\n",
    "    ) )\n",
    "\n",
    "#west hemispere\n",
    "for i in range (1,18):\n",
    "    contours.append( dict(\n",
    "        type = 'scattergeo',\n",
    "        hoverinfo='text',\n",
    "        text= str(10*i-180)+'° west',\n",
    "        name = str(10*i-180)+'° west',\n",
    "        lat = mer_lat1,\n",
    "        lon = [x+10*i for x in mer_lon1],\n",
    "        mode = 'lines',\n",
    "        line = dict(\n",
    "            width = 2,\n",
    "            color = 'rgb(244,109,67)'\n",
    "        )\n",
    "    ) )\n",
    "    \n",
    "#east hemispere\n",
    "for i in range (1,18):\n",
    "    contours.append( dict(\n",
    "        type = 'scattergeo',\n",
    "        hoverinfo='text',\n",
    "        text= str(10*i)+'° east',\n",
    "        name = str(10*i)+'° east',\n",
    "        lat = mer_lat2,\n",
    "        lon = [x+10*i for x in mer_lon2],\n",
    "        mode = 'lines',\n",
    "        line = dict(\n",
    "            width = 2,\n",
    "            color = 'rgb(50,136,189)'\n",
    "        )\n",
    "    ) )\n",
    "    \n",
    "\n",
    "\n",
    "layout = dict(\n",
    "        title = 'Meridians over globe<br>(Click and drag to rotate)',\n",
    "       # showlegend = False,         \n",
    "        geo = dict(\n",
    "            showland = True,\n",
    "            showlakes = True,\n",
    "            showcountries = True,\n",
    "            showocean = True,\n",
    "            countrywidth = 0.5,\n",
    "            lakecolor = 'rgb(255, 255, 255)',\n",
    "            oceancolor = 'rgb(255, 255, 255)',\n",
    "            landcolor = 'rgb(212, 212, 212)',\n",
    "            projection = dict( \n",
    "                type = 'orthographic',\n",
    "                rotation = dict(\n",
    "                    lon = -100,\n",
    "                    lat = 40,\n",
    "                    roll = 0\n",
    "                )            \n",
    "            ),\n",
    "    \n",
    "        )\n",
    "    )\n",
    "    \n",
    "fig = dict( data=contours, layout=layout )\n",
    "iplot( fig, validate=False )"
   ]
  },
  {
   "cell_type": "markdown",
   "metadata": {
    "lang": "en"
   },
   "source": [
    "### Questions\n",
    "\n",
    "\n",
    "\n",
    "1. Can you locate the Prime Meridian? \n",
    "    A. What city in Great Britain does it pass through? \n",
    "    B. What other countries does the Prime Meridian pass through?\n",
    "2. Locate Canada on the globe. Is Canada located in the Eastern or Western Hemisphere?\n",
    "3. Approximately what lines of latitude is Canada located between?"
   ]
  },
  {
   "cell_type": "markdown",
   "metadata": {
    "lang": "fr"
   },
   "source": [
    "### Des questions\n",
    "\n",
    "\n",
    "\n",
    "1. Pouvez-vous localiser le premier méridien?\n",
    "    A. Quelle ville en Grande-Bretagne traverse-t-il?\n",
    "    B. Quels autres pays le premier méridien traverse-t-il?\n",
    "2. Localisez le Canada sur le globe. Le Canada est-il situé dans l'hémisphère oriental ou occidental?\n",
    "3. Quelles sont les lignes de latitude approximatives entre le Canada et le Canada?"
   ]
  },
  {
   "cell_type": "markdown",
   "metadata": {
    "lang": "en"
   },
   "source": [
    "## Looking at Canada's map\n",
    "Lets display some of the Canadian cities on the map.\n",
    "\n",
    "From the map below, if you hover your mouse over different cities, their latitude and longitude locations are  displayed as a pair of numbers: `(longitude, latitude)`. For example, if you hover your mouse over Ottawa, you will see: (-75.7, 45.42). This tells us that that Ottawa is located 75.7 degrees west (longitude) and 45.42 degrees north (latitude)."
   ]
  },
  {
   "cell_type": "markdown",
   "metadata": {
    "lang": "fr"
   },
   "source": [
    "## Regarde la carte du Canada\n",
    "Permet d'afficher certaines des villes canadiennes sur la carte.\n",
    "\n",
    "Sur la carte ci-dessous, si vous passez la souris sur différentes villes, leurs positions de latitude et de longitude sont affichées sous forme de deux chiffres: `(longitude, latitude)`. Par exemple, si vous passez la souris sur Ottawa, vous verrez: (-75.7, 45.42). Cela nous indique qu'Ottawa est situé à 75,7 degrés ouest (longitude) et à 45,42 degrés nord (latitude)."
   ]
  },
  {
   "cell_type": "code",
   "execution_count": null,
   "metadata": {
    "scrolled": true
   },
   "outputs": [],
   "source": [
    "import plotly.plotly as py\n",
    "import pandas as pd\n",
    "\n",
    "df = pd.read_csv('https://raw.githubusercontent.com/plotly/datasets/master/2011_february_us_airport_traffic.csv')\n",
    "df.head()\n",
    "name=[\"Edmonton\", \"Victoria\",\"Winnipeg\",\"Fredericton\",\"St. John's\",\"Halifax\",\"Toronto\",\n",
    "      #\"Charlottetown\",\"Quebec City\", \n",
    "      \"Regina\",\"Whitehorse\",\"Iqaluit\",\"Yellowknife\", \"Ottawa\"]\n",
    "long=[-113.49,-123.37,-97.14,-66.64, -52.71, -63.57, -79.38,\n",
    "      #-63.13,-71.21,\n",
    "      -104.62,-135.06,-68.52,-114.38,-75.70]\n",
    "latt=[53.54,48.43,49.90,45.97, 47.56, 44.65, 43.65,\n",
    "      #46.238240,46.813878,\n",
    "      50.44,60.72,63.75,62.45,45.42]\n",
    "df['text'] = df['airport'] + '' + df['city'] + ', ' + df['state'] + '' + 'Arrivals: ' + df['cnt'].astype(str)\n",
    "\n",
    "data = [ dict(\n",
    "        type = 'scattergeo',\n",
    "        locationmode = 'north america',\n",
    "        lon = long,\n",
    "        lat = latt,\n",
    "        text = name,\n",
    "        mode = 'markers+text',\n",
    "        textposition= 'top',\n",
    "        marker = dict(\n",
    "            size = 8,\n",
    "            opacity = 0.8,\n",
    "            reversescale = True,\n",
    "            autocolorscale = False,\n",
    "            symbol = 'square',\n",
    "            line = dict(\n",
    "                width=1,\n",
    "                color='rgba(102, 102, 102)'\n",
    "            ),\n",
    "            color = 'red',\n",
    "        ))]\n",
    "\n",
    "layout = dict(\n",
    "        title = \"Some Canada's provincial capitals <br>(Hover for coordinates)\",\n",
    "        colorbar = True,\n",
    "        geo = dict(\n",
    "            scope = 'north america',\n",
    "            showland = True,\n",
    "            landcolor = \"rgb(212, 212, 212)\",\n",
    "            countrycolor = \"rgb(255, 255, 255)\",\n",
    "            showlakes = True,\n",
    "            lakecolor = \"rgb(255, 255, 255)\",\n",
    "            showsubunits = False,\n",
    "            showcountries = True,\n",
    "            resolution = 50,\n",
    "            projection = dict(\n",
    "                type = 'kavrayskiy7',\n",
    "            ),\n",
    "            lonaxis = dict(\n",
    "                showgrid = True,\n",
    "                gridcolor ='rgb(244,109,67)',\n",
    "                gridwidth = 2,\n",
    "                range= [ -140, -50 ],\n",
    "                dtick = 10\n",
    "            ),\n",
    "            lataxis = dict (\n",
    "                showgrid = True,\n",
    "                gridcolor ='rgb(50,136,189)',\n",
    "                gridwidth = 2,\n",
    "                range= [ 40.0, 80.0 ],\n",
    "                dtick = 10\n",
    "            )\n",
    "        )\n",
    "    )\n",
    "\n",
    "fig = dict( data=data, layout=layout )\n",
    "iplot( fig, validate=False )"
   ]
  },
  {
   "cell_type": "markdown",
   "metadata": {
    "lang": "en"
   },
   "source": [
    "### Questions \n",
    "\n",
    "1. Are there any negative values of latitude and longitude in Canada? Why or why not?\n",
    "2. What's the northern most Canadian city on the map? What are its coordinates?\n",
    "3. Locate Winnipeg and Regina, and note down their coordinates. What do you notice about their latitude values? What does this tell you?\n",
    "4. Locate both Edmonton and Yellowknife.\n",
    "    A. What is the difference between their latitudes?\n",
    "    B. What does the distance between their latitudes tell you?\n",
    "    C. Given that 1 degree of latitude covers approximately 111 km, calculate the distance between these cities. \n",
    "\n",
    "(Answer: (62.45-53.54)*111=989.01km )\n"
   ]
  },
  {
   "cell_type": "markdown",
   "metadata": {
    "lang": "fr"
   },
   "source": [
    "### Des questions\n",
    "\n",
    "1. Y a-t-il des valeurs négatives de latitude et de longitude au Canada? Pourquoi ou pourquoi pas?\n",
    "2. Quelle est la ville la plus septentrionale du Canada sur la carte? Quelles sont ses coordonnées?\n",
    "3. Localisez Winnipeg et Regina et notez leurs coordonnées. Que remarquez-vous sur leurs valeurs de latitude? Qu'est-ce que cela vous dit?\n",
    "4. Localisez Edmonton et Yellowknife.\n",
    "    A. Quelle est la différence entre leurs latitudes?\n",
    "    B. Que vous dit la distance entre leurs latitudes?\n",
    "    C. Étant donné que 1 degré de latitude couvre environ 111 km, calculez la distance entre ces villes.\n",
    "\n",
    "(Réponse: (62.45-53.54) * 111 = 989.01 km)"
   ]
  },
  {
   "cell_type": "markdown",
   "metadata": {},
   "source": [
    "Now that we have a good understanding of what Latitude and Longitudes are, let's use them to plot the residential schools on a map. "
   ]
  },
  {
   "cell_type": "code",
   "execution_count": null,
   "metadata": {},
   "outputs": [],
   "source": [
    "df = pd.read_csv('https://raw.githubusercontent.com/plotly/datasets/master/2011_february_us_airport_traffic.csv')\n",
    "df.head()\n",
    "name=[\"Edmonton\", \"Victoria\",\"Winnipeg\",\"Fredericton\",\"St. John's\",\"Halifax\",\"Toronto\",\n",
    "      #\"Charlottetown\",\"Quebec City\", \n",
    "      \"Regina\",\"Whitehorse\",\"Iqaluit\",\"Yellowknife\", \"Ottawa\"]\n",
    "long=[-113.49,-123.37,-97.14,-66.64, -52.71, -63.57, -79.38,\n",
    "      #-63.13,-71.21,\n",
    "      -104.62,-135.06,-68.52,-114.38,-75.70]\n",
    "latt=[53.54,48.43,49.90,45.97, 47.56, 44.65, 43.65,\n",
    "      #46.238240,46.813878,\n",
    "      50.44,60.72,63.75,62.45,45.42]\n",
    "df['text'] = df['airport'] + '' + df['city'] + ', ' + df['state'] + '' + 'Arrivals: ' + df['cnt'].astype(str)\n",
    "\n",
    "\n",
    "N = 500\n",
    "\n",
    "trace0 = go.Scattergeo(\n",
    "    locationmode = 'country names',\n",
    "    lon = long,\n",
    "    lat = latt,\n",
    "    text = name,\n",
    "    name = 'Cities',\n",
    "    mode = 'markers+text',\n",
    "        textposition= 'top right',\n",
    "        marker = dict(\n",
    "            size = 8,\n",
    "            opacity = 0.8,\n",
    "            reversescale = True,\n",
    "            autocolorscale = False,\n",
    "            symbol = 'square',\n",
    "            \n",
    "            color = 'red',\n",
    "        )\n",
    ")\n",
    "\n",
    "trace1 = go.Scattergeo(\n",
    "    lat = residential_df['Latitude'],\n",
    "    lon = residential_df['Longitude'],\n",
    "    text = residential_df['map_name']+ '<br>'+'From:  '+residential_df['From']+'<br>' +'To:  '+residential_df['To'],\n",
    "    name = 'Schools',\n",
    "    marker = dict(\n",
    "    opacity = 0.8,\n",
    "    color = 'blue')\n",
    "    )\n",
    "\n",
    "data = [trace0, trace1]\n",
    "\n",
    "layout = dict(\n",
    "        geo = dict(\n",
    "            scope = 'north america',\n",
    "            showland = True,\n",
    "            landcolor = \"rgb(212, 212, 212)\",\n",
    "            countrycolor = \"rgb(255, 255, 255)\",\n",
    "            showlakes = True,\n",
    "            lakecolor = \"rgb(255, 255, 255)\",\n",
    "            showsubunits = True,\n",
    "            showcountries = True,\n",
    "            resolution = 50,\n",
    "            projection = dict(\n",
    "                type = 'kavrayskiy7',\n",
    "            ),\n",
    "            lonaxis = dict(\n",
    "                showgrid = False,\n",
    "                range= [ -140, -50 ],\n",
    "                dtick = 10\n",
    "            ),\n",
    "            lataxis = dict (\n",
    "                showgrid = False,\n",
    "                range= [ 40.0, 80.0 ],\n",
    "                dtick = 10\n",
    "            )\n",
    "        )\n",
    "             )\n",
    "\n",
    "fig = dict(data=data, layout=layout)\n",
    "iplot(fig, filename='styled-scatter')"
   ]
  },
  {
   "cell_type": "markdown",
   "metadata": {
    "lang": "en"
   },
   "source": [
    "### Questions\n",
    "\n",
    "\n",
    "\n",
    "1. What was the last residential school to be opened and in which province was it located?\n",
    "(Hint: Hover over each marker to find out the name and year of operation)\n",
    "2. Locate a residential school that is close to where you currently live or go to school. Write down the name of the school and years of operation. \n",
    "3. How many schools were there in your province of residence?"
   ]
  },
  {
   "cell_type": "markdown",
   "metadata": {
    "lang": "fr"
   },
   "source": [
    "### Des questions\n",
    "\n",
    "\n",
    "\n",
    "1. Quel a été le dernier pensionnat ouvert et dans quelle province était-il situé?\n",
    "(Indice: survolez chaque marqueur pour connaître le nom et l'année de fonctionnement)\n",
    "2. Localisez un pensionnat situé à proximité de votre lieu de résidence ou d’enseignement actuel. Notez le nom de l'école et les années d'activité.\n",
    "3. Combien d'écoles y avait-il dans votre province de résidence?"
   ]
  },
  {
   "cell_type": "markdown",
   "metadata": {
    "lang": "en"
   },
   "source": [
    "To make answering to question 3 in the above section a little easier, let us build a table by grouping number of schools by their province."
   ]
  },
  {
   "cell_type": "markdown",
   "metadata": {
    "lang": "fr"
   },
   "source": [
    "Pour faciliter la réponse à la question 3 de la section ci-dessus, construisons un tableau en regroupant le nombre d'écoles par province."
   ]
  },
  {
   "cell_type": "code",
   "execution_count": null,
   "metadata": {},
   "outputs": [],
   "source": [
    "province_count = residential_df.groupby(by='Province o', as_index=False).agg({'Atlas_pg': pd.Series.nunique})\n",
    "province_count.columns = ['Province', 'No. of Schools']\n",
    "province_count.sort_values(by=['No. of Schools'])"
   ]
  },
  {
   "cell_type": "markdown",
   "metadata": {
    "lang": "en"
   },
   "source": [
    "The resulting table shows that the province with least residential schools was Nova Scotia with only 1 school in the provicne and Alberta had most number of residential schools with about 33 schools in the province. "
   ]
  },
  {
   "cell_type": "markdown",
   "metadata": {
    "lang": "fr"
   },
   "source": [
    "Le tableau qui en résulte montre que la province comptant le moins de pensionnats était la Nouvelle-Écosse, avec une seule école dans la province, et que l'Alberta comptait le plus grand nombre d'internats, avec environ 33 écoles dans la province."
   ]
  },
  {
   "cell_type": "markdown",
   "metadata": {
    "lang": "en"
   },
   "source": [
    "The Shingwauk Residential School Centre at Algoma University has put together a dataset with list of residential schools with information about their names, location, dates of operation, religion that the school followed, and some notes about them. It is to be noted that this may not be a definitive or complete list as it was created as part of their work in process as a community archive.\n",
    "\n",
    "Take a look at this second dataset below and try to answer the questions that follow."
   ]
  },
  {
   "cell_type": "markdown",
   "metadata": {},
   "source": [
    "Le centre des pensionnats de Shingwauk de l’Université d’Algoma a constitué un ensemble de données comprenant une liste des pensionnats, ainsi que des informations sur leurs noms, leur lieu, leurs dates d’opération, leur religion et des notes les concernant. Il est à noter qu'il ne s'agit peut-être pas d'une liste définitive ni complète, car elle a été créée dans le cadre de leur travail en cours en tant qu'archive communautaire.\n",
    "\n",
    "Jetez un coup d'œil à ce deuxième jeu de données ci-dessous et tentez de répondre aux questions suivantes."
   ]
  },
  {
   "cell_type": "code",
   "execution_count": null,
   "metadata": {},
   "outputs": [],
   "source": [
    "shingwauk_df = pd.read_excel('data/IRSList2018.xlsx')\n",
    "shingwauk_df"
   ]
  },
  {
   "cell_type": "markdown",
   "metadata": {
    "lang": "en"
   },
   "source": [
    "### Questions\n",
    "\n",
    "1. Can you identify two differences between this dataset and the previous one? Please describe them.\n",
    "2. What information is missing that is required to plot these schools on a map?"
   ]
  },
  {
   "cell_type": "markdown",
   "metadata": {},
   "source": [
    "\n",
    "### Des questions\n",
    "\n",
    "1. Pouvez-vous identifier deux différences entre cet ensemble de données et le précédent? Veuillez les décrire.\n",
    "2. Quelles sont les informations manquantes nécessaires pour tracer ces écoles sur une carte?"
   ]
  },
  {
   "cell_type": "markdown",
   "metadata": {},
   "source": [
    "Like we already discussed in previous sections, to plot a location on map we need to have two data points, latitude and longitude. Geocoding the process of converting addresses into geographic coordinates (latitudes and longitudes). Below you'll see the complete geocoded dataset with the latitude and longitude values pointing to the city mentioned under the location column."
   ]
  },
  {
   "cell_type": "markdown",
   "metadata": {},
   "source": [
    "\n",
    "Comme nous l'avons déjà mentionné dans les sections précédentes, pour tracer un emplacement sur la carte, nous devons disposer de deux points de données, latitude et longitude. Géocodage du processus de conversion d'adresses en coordonnées géographiques (latitudes et longitudes). Vous trouverez ci-dessous l'ensemble de données géocodé complet, avec les valeurs de latitude et de longitude pointant vers la ville indiquée sous la colonne Emplacement."
   ]
  },
  {
   "cell_type": "code",
   "execution_count": null,
   "metadata": {},
   "outputs": [],
   "source": [
    "### This is the code that was used to geocode the locations and write them to a new file\n",
    "\n",
    "# # we may have to download the geocoder before running the rest of the code.\n",
    "# #!pip install -U geocoder\n",
    "# import geocoder\n",
    "# import time\n",
    "# import csv\n",
    "\n",
    "# # Read the file and get Residential schools into a list.\n",
    "# file_in = pd.read_excel('data/IRSList2018.xlsx', sheet_name=0, header=0)\n",
    "\n",
    "# # Get the location information into a list\n",
    "# addresses = file_in['Location']\n",
    "\n",
    "# # Loop over the location list and geocode each location and add their coordinates to a list\n",
    "# results = []\n",
    "# geocode_done = False\n",
    "# for address in addresses:\n",
    "#     geocode_result = geocoder.google(address)\n",
    "#     print(geocode_result.status)\n",
    "#     if geocode_result.status == 'OVER_QUERY_LIMIT':\n",
    "#         time.sleep(120)\n",
    "#         geocode_result = geocoder.google(address)\n",
    "#     elif geocode_result.status != 'OK':\n",
    "#         geocode_result = geocoder.osm(address)\n",
    "    \n",
    "#     if geocode_result.status == 'ERROR - No results':\n",
    "#             time.sleep(60)\n",
    "#             geocode_result = geocoder.google(address)\n",
    "        \n",
    "#     results.append(geocode_result.json)\n",
    "# results\n",
    "\n",
    "# # Loop over the latitude and longitude list and add them to the \n",
    "# # original pandas dataframe that has the rest of the school information\n",
    "\n",
    "# lat_list = []\n",
    "# lng_list = []\n",
    "# for result in results:\n",
    "#     if result is not None:\n",
    "#         lat_list.append(result['lat'])\n",
    "#         lng_list.append(result['lng'])\n",
    "#     else:\n",
    "#         print(\"its none\")\n",
    "#         lat_list.append(0)\n",
    "#         lng_list.append(0)\n",
    "        \n",
    "        \n",
    "# file_in[\"latitude\"] = lat_list\n",
    "# file_in[\"longitude\"] = lng_list\n",
    "\n",
    "# # write the dataframe to a file\n",
    "# file_in.to_csv(\"data/IRSlist_with_latlng.csv\")"
   ]
  },
  {
   "cell_type": "code",
   "execution_count": null,
   "metadata": {},
   "outputs": [],
   "source": [
    "latlng_df = pd.read_csv('data/IRSlist_with_latlng.csv', sep=\"\\t\")\n",
    "latlng_df.loc[latlng_df[\"Dates\"].isnull()]"
   ]
  },
  {
   "cell_type": "markdown",
   "metadata": {},
   "source": [
    "Now let us plot the schools onto the previous map, so we can compare and contrast the two datasets. The blue markers represent the residential schools listed in the first dataset while yellow markers respresent the schools listed in the second dataset. \n",
    "\n",
    "Since we geolocated the latitude and longitude values in the second dataset to their nearest city or town listed in the location column, they may not represent the precise location of the school while in the first dataset we had the precise geographic coordinates for most of the schools. If you hover over the data points on the map you'll see that some of schools from the two datasets align perfectly at the same location while some do not. \n",
    "\n",
    "The orange or brown markers are nothing but a few of blue and yellow markers super imposed at a single location."
   ]
  },
  {
   "cell_type": "markdown",
   "metadata": {},
   "source": [
    "Présentons maintenant les écoles sur la carte précédente afin de pouvoir comparer et contraster les deux jeux de données. Les marqueurs bleus représentent les pensionnats répertoriés dans le premier jeu de données, tandis que les marqueurs jaunes représentent les écoles répertoriées dans le deuxième jeu de données.\n",
    "\n",
    "Dans la mesure où nous avons géolocalisé les valeurs de latitude et de longitude du deuxième jeu de données dans la ville ou le village le plus proche, répertoriées dans la colonne Emplacement, elles peuvent ne pas représenter l'emplacement exact de l'école. Dans le premier jeu de données, nous avions les coordonnées géographiques précises de la plupart des écoles . Si vous survolez les points de données sur la carte, vous constaterez que certaines écoles des deux jeux de données sont parfaitement alignées au même endroit, alors que d'autres non.\n",
    "\n",
    "Les marqueurs orange ou marron ne sont que quelques-uns des marqueurs bleus et jaunes superposés à un seul endroit."
   ]
  },
  {
   "cell_type": "code",
   "execution_count": null,
   "metadata": {},
   "outputs": [],
   "source": [
    "df = pd.read_csv('https://raw.githubusercontent.com/plotly/datasets/master/2011_february_us_airport_traffic.csv')\n",
    "df.head()\n",
    "name=[\"Edmonton\", \"Victoria\",\"Winnipeg\",\"Fredericton\",\"St. John's\",\"Halifax\",\"Toronto\",\n",
    "      #\"Charlottetown\",\"Quebec City\", \n",
    "      \"Regina\",\"Whitehorse\",\"Iqaluit\",\"Yellowknife\", \"Ottawa\"]\n",
    "long=[-113.49,-123.37,-97.14,-66.64, -52.71, -63.57, -79.38,\n",
    "      #-63.13,-71.21,\n",
    "      -104.62,-135.06,-68.52,-114.38,-75.70]\n",
    "latt=[53.54,48.43,49.90,45.97, 47.56, 44.65, 43.65,\n",
    "      #46.238240,46.813878,\n",
    "      50.44,60.72,63.75,62.45,45.42]\n",
    "df['text'] = df['airport'] + '' + df['city'] + ', ' + df['state'] + '' + 'Arrivals: ' + df['cnt'].astype(str)\n",
    "\n",
    "\n",
    "N = 500\n",
    "\n",
    "trace0 = go.Scattergeo(\n",
    "    locationmode = 'country names',\n",
    "    lon = long,\n",
    "    lat = latt,\n",
    "    text = name,\n",
    "    name = 'Cities',\n",
    "    mode = 'markers+text',\n",
    "        textposition= 'top right',\n",
    "        marker = dict(\n",
    "            size = 8,\n",
    "            opacity = 0.8,\n",
    "            reversescale = True,\n",
    "            autocolorscale = False,\n",
    "            symbol = 'square',\n",
    "            \n",
    "            color = 'red',\n",
    "        )\n",
    ")\n",
    "\n",
    "trace1 = go.Scattergeo(\n",
    "    lat = residential_df['Latitude'],\n",
    "    lon = residential_df['Longitude'],\n",
    "    text = residential_df['map_name']+ '<br>'+'From:  '+residential_df['From']+'<br>' +'To:  '+residential_df['To'],\n",
    "    name = 'Schools dataset 1',\n",
    "    marker = dict(\n",
    "    opacity = 0.8,\n",
    "    color = 'blue')\n",
    "    )\n",
    "\n",
    "trace2 = go.Scattergeo(\n",
    "    lat = latlng_df['latitude'],\n",
    "    lon = latlng_df['longitude'],\n",
    "    text = latlng_df['School Name']+ '<br>' + latlng_df['Location']+ '<br>'+'From - To '+ latlng_df['Dates']+'<br>' +':  ',\n",
    "    name = 'Schools dataset 2',\n",
    "    marker = dict(\n",
    "    opacity = 0.6,\n",
    "    color = 'orange')\n",
    "    )\n",
    "\n",
    "data = [trace0, trace1, trace2]\n",
    "\n",
    "layout = dict(\n",
    "        geo = dict(\n",
    "            scope = 'north america',\n",
    "            showland = True,\n",
    "            landcolor = \"rgb(212, 212, 212)\",\n",
    "            countrycolor = \"rgb(255, 255, 255)\",\n",
    "            showlakes = True,\n",
    "            lakecolor = \"rgb(255, 255, 255)\",\n",
    "            showsubunits = True,\n",
    "            showcountries = True,\n",
    "            resolution = 50,\n",
    "            projection = dict(\n",
    "                type = 'kavrayskiy7',\n",
    "            ),\n",
    "            lonaxis = dict(\n",
    "                showgrid = False,\n",
    "                range= [ -140, -50 ],\n",
    "                dtick = 10\n",
    "            ),\n",
    "            lataxis = dict (\n",
    "                showgrid = False,\n",
    "                range= [ 40.0, 80.0 ],\n",
    "                dtick = 10\n",
    "            )\n",
    "        )\n",
    "             )\n",
    "\n",
    "fig = dict(data=data, layout=layout)\n",
    "iplot(fig, filename='styled-scatter')"
   ]
  },
  {
   "cell_type": "markdown",
   "metadata": {},
   "source": [
    "### Questions\n",
    "\n",
    "1. Identify 1 school in your province (if any) that has locations slightly different in the two datasets and note down their geographic coordinates.\n",
    "2. Identify 1 school in your province (if any) whose location information match pretty closely in the two datasets and note down their geographic coordinates. \n",
    "3. Why is it important to have precise location information?"
   ]
  },
  {
   "cell_type": "markdown",
   "metadata": {},
   "source": [
    "\n",
    "### Des questions\n",
    "\n",
    "1. Identifiez une école dans votre province (le cas échéant) ayant des emplacements légèrement différents dans les deux jeux de données et notez leurs coordonnées géographiques.\n",
    "2. Identifiez une école dans votre province (le cas échéant) dont les informations de localisation correspondent assez étroitement dans les deux jeux de données et notez leurs coordonnées géographiques.\n",
    "3. Pourquoi est-il important d'avoir des informations de localisation précises?"
   ]
  },
  {
   "cell_type": "markdown",
   "metadata": {},
   "source": [
    "## Calls to action"
   ]
  },
  {
   "cell_type": "markdown",
   "metadata": {},
   "source": [
    "\n",
    "## Appels à l'action"
   ]
  },
  {
   "cell_type": "markdown",
   "metadata": {},
   "source": [
    "The report that the Truth and Reconciliation commission published after hearing to thousands of residential school survivors paved way to construct 94 Calls to action: which were individual instructions to guide governments, communities and faith groups down the road to reconciliation. These 94 calls to action can be categorized into six themes: Child Welfare, Education, Language & Culture, Health, Justice, Reconciliation.\n",
    "\n",
    "CBCNews put up an interactive webpage called [Beyond94](www.cbc.ca/beyond94) dedicated to track the progress of these 94 calls to action. This webpage gives detailed information on all of these 94 calls to action and CBC's analysis on what has been acheived so for, what is in progress and what is yet to be started."
   ]
  },
  {
   "cell_type": "markdown",
   "metadata": {},
   "source": [
    "\n",
    "Le rapport que la Commission de vérité et de réconciliation a publié après avoir entendu des milliers de survivants des pensionnats a ouvert la voie à la construction. Ces 94 appels à l'action peuvent être classés en six thèmes: protection de l'enfance, éducation, langue et culture, santé, justice, réconciliation.\n",
    "\n",
    "CBCNews a mis en place une page Web interactive intitulée [Beyond94](www.cbc.ca/beyond94) dédiée au suivi des progrès de ces 94 appels à l’action. Cette page Web fournit des informations détaillées sur chacun de ces 94 appels à l'action et l'analyse de la SRC sur ce qui a été réalisé, sur ce qui est en cours et sur ce qui reste à faire."
   ]
  },
  {
   "cell_type": "markdown",
   "metadata": {},
   "source": [
    "### Questions\n",
    "\n",
    "Take a look at the [Beyond94](www.cbc.ca/beyond94) page to answer questions below:\n",
    "\n",
    "1. How many Calls to action are in progress? \n",
    "2. List the Calls to actions that has already been completed?\n",
    "3. Pick any one Call to Action under the theme \"Justice\", give a summary of what it means and write about its progress."
   ]
  },
  {
   "cell_type": "markdown",
   "metadata": {},
   "source": [
    "\n",
    "### Des questions\n",
    "\n",
    "Consultez la page [Beyond94](www.cbc.ca/beyond94) pour répondre aux questions ci-dessous:\n",
    "\n",
    "1. Combien d'appels à l'action sont en cours?\n",
    "2. Répertoriez les appels à des actions déjà terminées?\n",
    "3. Choisissez n'importe quel appel à l'action sous le thème \"Justice\", résumez ce qu'il signifie et écrivez sur ses progrès."
   ]
  },
  {
   "cell_type": "markdown",
   "metadata": {},
   "source": [
    "![alt text](https://github.com/callysto/callysto-sample-notebooks/blob/master/notebooks/images/Callysto_Notebook-Banners_Bottom_06.06.18.jpg?raw=true)"
   ]
  }
 ],
 "metadata": {
  "kernelspec": {
   "display_name": "Python 3",
   "language": "python",
   "name": "python3"
  },
  "language_info": {
   "codemirror_mode": {
    "name": "ipython",
    "version": 3
   },
   "file_extension": ".py",
   "mimetype": "text/x-python",
   "name": "python",
   "nbconvert_exporter": "python",
   "pygments_lexer": "ipython3",
   "version": "3.6.5"
  },
  "nbTranslate": {
   "displayLangs": [
    "*"
   ],
   "hotkey": "alt-t",
   "langInMainMenu": true,
   "sourceLang": "en",
   "targetLang": "fr",
   "useGoogleTranslate": true
  }
 },
 "nbformat": 4,
 "nbformat_minor": 2
}
