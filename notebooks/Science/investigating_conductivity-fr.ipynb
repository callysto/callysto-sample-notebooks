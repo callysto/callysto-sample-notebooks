{
 "cells": [
  {
   "cell_type": "markdown",
   "metadata": {},
   "source": [
    "<img src=\"../images/Callysto_Notebook-Banner_Top_06.06.18.jpg\"/>"
   ]
  },
  {
   "cell_type": "code",
   "execution_count": null,
   "metadata": {},
   "outputs": [],
   "source": [
    "%%html\n",
    "\n",
    "<script>\n",
    "  function code_toggle() {\n",
    "    if (code_shown){\n",
    "      $('div.input').hide('500');\n",
    "      $('#toggleButton').val('Show Code')\n",
    "    } else {\n",
    "      $('div.input').show('500');\n",
    "      $('#toggleButton').val('Hide Code')\n",
    "    }\n",
    "    code_shown = !code_shown\n",
    "  }\n",
    "\n",
    "  $( document ).ready(function(){\n",
    "    code_shown=false;\n",
    "    $('div.input').hide()\n",
    "  });\n",
    "</script>\n",
    "\n",
    "<form action=\"javascript:code_toggle()\"><input type=\"submit\" id=\"toggleButton\" value=\"Show Code\"></form>"
   ]
  },
  {
   "cell_type": "markdown",
   "metadata": {
    "hide_input": true,
    "lang": "en"
   },
   "source": [
    "<img src=\"images/conductivity.jpg\" width=\"500px\" />\n",
    "\n",
    "# Electrical Conductivity\n",
    "\n",
    "Based on LibreTexts library experiment titled \"Electical Conductivity of Aqueous Solutions\" published under the [Creative Commons Attribution-NonCommercial-ShareAlike 3.0 United States](https://creativecommons.org/licenses/by-nc-sa/3.0/us/) license"
   ]
  },
  {
   "cell_type": "markdown",
   "metadata": {
    "lang": "fr"
   },
   "source": [
    "<img src=\"images/conductivity.jpg\" width=\"500px\" />\n",
    "\n",
    "# Conductivité électrique\n",
    "\n",
    "D'après l'expérience de la bibliothèque LibreTexts intitulée \"Conductivité électrique des solutions aqueuses\" publiée sous la [Creative Commons Attribution-NonCommercial-ShareAlike 3.0 États-Unis] (https://creativecommons.org/licenses/by-nc-sa/3.0/us/) Licence"
   ]
  },
  {
   "cell_type": "markdown",
   "metadata": {
    "lang": "en"
   },
   "source": [
    "## Background \n",
    "\n",
    "\n",
    "Electrical conductivity is based on the flow of electrons. Metals are good conductors of electricity because they allow electrons to flow through the entire piece of material. Thus, electrons flow like a “sea of electrons” through metals. In comparison, distilled water is a very poor conductor of electricity since very little electricity flows through water. Dissolving ions in these solutions changes this and allows electrons to travel through the solution. If the solution is able to conduct electricity, the current will be captured by a conductivity meter."
   ]
  },
  {
   "cell_type": "markdown",
   "metadata": {
    "lang": "fr"
   },
   "source": [
    "## Contexte\n",
    "\n",
    "\n",
    "La conductivité électrique est basée sur le flux d'électrons. Les métaux sont de bons conducteurs d’électricité car ils permettent aux électrons de circuler dans l’ensemble du matériau. Ainsi, les électrons circulent comme une «mer d’électrons» à travers les métaux. En comparaison, l'eau distillée est un très mauvais conducteur d'électricité car très peu d'électricité passe par l'eau. La dissolution des ions dans ces solutions change cela et permet aux électrons de voyager à travers la solution. Si la solution est capable de conduire l'électricité, le courant sera capturé par un conductimètre."
   ]
  },
  {
   "cell_type": "markdown",
   "metadata": {
    "lang": "en"
   },
   "source": [
    "## The Question  \n",
    "How does the conductivity of different solutions compare?"
   ]
  },
  {
   "cell_type": "markdown",
   "metadata": {
    "lang": "fr"
   },
   "source": [
    "## La question\n",
    "Comment se compare la conductivité de différentes solutions?"
   ]
  },
  {
   "cell_type": "markdown",
   "metadata": {
    "lang": "en"
   },
   "source": [
    "## The Hypothesis\n",
    "\n",
    "Enter your hypothesis below."
   ]
  },
  {
   "cell_type": "markdown",
   "metadata": {
    "lang": "fr"
   },
   "source": [
    "## L'hypothèse\n",
    "\n",
    "Entrez votre hypothèse ci-dessous."
   ]
  },
  {
   "cell_type": "markdown",
   "metadata": {},
   "source": []
  },
  {
   "cell_type": "markdown",
   "metadata": {
    "lang": "en"
   },
   "source": [
    "## Materials & Equipment\n",
    "\n",
    "* conductivity meter\n",
    "* wash bottle with distilled water\n",
    "* large beaker for rinsing/waste\n",
    "* sodium chloride\n",
    "* sugar\n",
    "* tissues \n",
    "\n",
    "Solutions: \n",
    "* acetic acid (vinegar) \n",
    "* tap water \n"
   ]
  },
  {
   "cell_type": "markdown",
   "metadata": {
    "lang": "fr"
   },
   "source": [
    "## Matériels et équipements\n",
    "\n",
    "*conductimètre* laver la bouteille avec de l'eau distillée\n",
    "*grand bécher pour le rinçage / déchets* chlorure de sodium\n",
    "*sucre* tissus\n",
    "\n",
    "Solutions:\n",
    "*acide acétique (vinaigre)* eau du robinet"
   ]
  },
  {
   "cell_type": "markdown",
   "metadata": {
    "lang": "en"
   },
   "source": [
    "## Procedure\n",
    "1. Use a wash bottle with distilled water and a large beaker labeled “waste” to rinse the electrodes. Dry using a  tissue. When switched on, the meter should report 0 (or very close to it).\n",
    "2. Put 50 mL of distilled water into a beaker.  \n",
    "3. Place the metal tips of your conductivity tester in the solution.\n",
    "4. Record the conductivity reading of the distilled water in the table below.  \n",
    "\n",
    "5. Repeat steps 1-4 with samples of the other solutions. For example, take a spoonful of salt and dissolve it in water. After each conductivity measurement, empty the beaker and rinse it with distilled water. \n",
    "\n",
    "6. Clean up when done."
   ]
  },
  {
   "cell_type": "markdown",
   "metadata": {
    "lang": "fr"
   },
   "source": [
    "## Procédure\n",
    "1. Utilisez un flacon de lavage contenant de l’eau distillée et un grand bécher portant la mention «déchets» pour rincer les électrodes. Sécher à l'aide d'un mouchoir. Lorsqu'il est allumé, le compteur doit indiquer 0 (ou très près de lui).\n",
    "2. Mettez 50 mL d’eau distillée dans un bécher.\n",
    "3. Placez les embouts métalliques de votre testeur de conductivité dans la solution.\n",
    "4. Notez le relevé de conductivité de l'eau distillée dans le tableau ci-dessous.\n",
    "\n",
    "5. Répétez les étapes 1 à 4 avec des échantillons des autres solutions. Par exemple, prenez une cuillerée de sel et dissolvez-le dans de l'eau. Après chaque mesure de conductivité, videz le bécher et rincez-le à l'eau distillée.\n",
    "\n",
    "6. Nettoyez lorsque vous avez terminé."
   ]
  },
  {
   "cell_type": "code",
   "execution_count": null,
   "metadata": {
    "hide_input": true,
    "scrolled": false
   },
   "outputs": [],
   "source": [
    "import pandas as pd\n",
    "import numpy as np\n",
    "import qgrid\n",
    "df = pd.DataFrame(index=pd.Series(['Distilled Water', 'Tap Water', 'Salt Water', 'Vinegar']), columns=pd.Series(['Reading 1', 'Reading 2','Notes']))\n",
    "df_widget = qgrid.QgridWidget(df =df, show_toolbar=True)\n",
    "df_widget"
   ]
  },
  {
   "cell_type": "code",
   "execution_count": null,
   "metadata": {},
   "outputs": [],
   "source": [
    "from IPython.display import Javascript, display\n",
    "from ipywidgets import widgets\n",
    "\n",
    "def run_all(ev):\n",
    "    display(Javascript('IPython.notebook.execute_cell_range(IPython.notebook.get_selected_index()+1,IPython.notebook.get_selected_index()+2)'))\n",
    "\n",
    "button = widgets.Button(description=\"Click to save data\")\n",
    "button.on_click(run_all)\n",
    "display(button)\n"
   ]
  },
  {
   "cell_type": "code",
   "execution_count": null,
   "metadata": {},
   "outputs": [],
   "source": [
    "output_data = df_widget.get_changed_df()"
   ]
  },
  {
   "cell_type": "markdown",
   "metadata": {
    "lang": "en"
   },
   "source": [
    "## Questions\n",
    "\n",
    "1. Why must the electrodes on the conductivity apparatus, as well as all the beakers, be rinsed with distilled water after each conductivity test?\n",
    "2. Which solution conducted electricity the best? How can you tell? \n",
    "3. Why did one solution conduct electricity better than another? "
   ]
  },
  {
   "cell_type": "markdown",
   "metadata": {
    "lang": "fr"
   },
   "source": [
    "## Des questions\n",
    "\n",
    "1. Pourquoi les électrodes de l'appareil de conductivité ainsi que tous les béchers doivent-ils être rincés à l'eau distillée après chaque test de conductivité?\n",
    "2. Quelle solution conduit l'électricité le meilleur? Comment pouvez-vous dire?\n",
    "3. Pourquoi une solution a-t-elle conduit l'électricité mieux qu'une autre?"
   ]
  },
  {
   "cell_type": "markdown",
   "metadata": {},
   "source": []
  },
  {
   "cell_type": "markdown",
   "metadata": {
    "lang": "en"
   },
   "source": [
    "## Conductivity in your neighborhood\n",
    "Electrical conductivity can be an important indicator of what is present in a given solution. Conductivity increases as more ions are dissolved in water. Therefore, the conductivity level can be used as an indicator for the water quality. For example, water treatment plants that process sea water and turn it into usable water use conductivity as an indicator for how well the plant removes salt from the water. In this case, a certain maximum conductivity level is set as a cutoff value for how much salt is allowed in the water before it can be used in a home or a mining operation. \n",
    "\n",
    "The table below shows you readings from the Rossdale Epcor water treatment plant in Edmonton over the last week. This plant supplies downtown Edmonton and the ELS region, covering the Northwest, West, and Southwest. Note that one of the quality indicators reported below is conductivity!"
   ]
  },
  {
   "cell_type": "markdown",
   "metadata": {
    "lang": "fr"
   },
   "source": [
    "## Conductivité dans votre quartier\n",
    "La conductivité électrique peut être un indicateur important de ce qui est présent dans une solution donnée. La conductivité augmente à mesure que plus d'ions se dissolvent dans l'eau. Par conséquent, le niveau de conductivité peut être utilisé comme indicateur de la qualité de l'eau. Par exemple, les usines de traitement de l’eau qui traitent l’eau de mer et la convertissent en une conductivité d’utilisation de l’eau utilisable comme indicateur de la capacité de la station à éliminer le sel de l’eau. Dans ce cas, un certain niveau de conductivité maximum est défini en tant que valeur limite pour la quantité de sel autorisée dans l'eau avant de pouvoir être utilisée dans une maison ou une opération minière.\n",
    "\n",
    "Le tableau ci-dessous montre les lectures effectuées à l'usine de traitement de l'eau Rossdale Epcor à Edmonton au cours de la dernière semaine. Cette usine alimente le centre-ville d'Edmonton et la région ELS, couvrant le nord-ouest, l'ouest et le sud-ouest. Notez que l'un des indicateurs de qualité mentionnés ci-dessous est la conductivité!"
   ]
  },
  {
   "cell_type": "code",
   "execution_count": null,
   "metadata": {
    "lang": "en",
    "scrolled": false
   },
   "outputs": [],
   "source": [
    "url_ELS = \"https://apps.epcor.ca/DAilyWaterQuality/Default.aspx?zone=ELS\"\n",
    "url_RD = \"https://apps.epcor.ca/DAilyWaterQuality/Default.aspx?zone=Rossdale\"\n",
    "table_RD = pd.read_html(url_RD, header=0)\n",
    "table_ELS = pd.read_html(url_ELS, header=0)\n",
    "qgrid.QgridWidget(df = table_RD[0])"
   ]
  },
  {
   "cell_type": "markdown",
   "metadata": {
    "lang": "en"
   },
   "source": [
    "We've taken the data from the water treatment plants along with the readings from your experiment and graphed the conductivity in the graph below. "
   ]
  },
  {
   "cell_type": "markdown",
   "metadata": {
    "lang": "fr"
   },
   "source": [
    "Nous avons pris les données des usines de traitement de l'eau, les résultats de votre expérience et tracé la conductivité dans le graphique ci-dessous."
   ]
  },
  {
   "cell_type": "code",
   "execution_count": null,
   "metadata": {},
   "outputs": [],
   "source": [
    "button = widgets.Button(description=\"Update the plot\")\n",
    "button.on_click(run_all)\n",
    "display(button)"
   ]
  },
  {
   "cell_type": "code",
   "execution_count": null,
   "metadata": {
    "scrolled": true
   },
   "outputs": [],
   "source": [
    "import matplotlib.pyplot as plt\n",
    "from matplotlib.colors import Normalize\n",
    "import matplotlib.cm as cm\n",
    "import warnings\n",
    "# ignoring runtime warning from taking the mean of a single number\n",
    "# this also catches strings. \n",
    "np.warnings.filterwarnings('ignore')\n",
    "cmap = cm.Set1\n",
    "\n",
    "norm=Normalize(vmin=0, vmax=len(output_data.index)+1)\n",
    "\n",
    "for i in range(len(output_data.index)): \n",
    "    try:\n",
    "        sample_mean=np.nanmean([float(output_data.iloc[i,0]),float(output_data.iloc[i,1])])\n",
    "        plt.axhline(y=sample_mean, c=cmap(norm(i)), ls='dashed', label='Average of ' + output_data.index[i], lw='3')\n",
    "\n",
    "    except ValueError as e:\n",
    "        # skip data that has strings in it. \n",
    "        continue\n",
    "\n",
    "\n",
    "plt.plot(table_RD[0].iloc[6, 1:8], 'bo-', label='Rossdale readings')\n",
    "#plt.plot(pd.DataFrame(table_RD[0].iloc[6, 1:8].apply(pd.to_numeric)))\n",
    "plt.xlabel('Day of Measurement')\n",
    "plt.ylabel('Conductivity (yS/cm)')\n",
    "plt.title('Conductivity in treated waste water over the last week')\n",
    "plt.legend(bbox_to_anchor=(1.05, 1), loc=2)\n",
    "plt.show()"
   ]
  },
  {
   "cell_type": "markdown",
   "metadata": {
    "lang": "en"
   },
   "source": [
    "How do your values compare? What does this say about the water leaving the Rossdale water treatment plant? "
   ]
  },
  {
   "cell_type": "markdown",
   "metadata": {
    "lang": "fr"
   },
   "source": [
    "Comment se comparent vos valeurs? Qu'est-ce que cela dit à propos de l'eau sortant de la station de traitement de Rossdale?"
   ]
  },
  {
   "cell_type": "markdown",
   "metadata": {},
   "source": []
  },
  {
   "cell_type": "markdown",
   "metadata": {},
   "source": [
    "<img src=\"../images/Callysto_Notebook-Banners_Bottom_06.06.18.jpg\"/>"
   ]
  }
 ],
 "metadata": {
  "kernelspec": {
   "display_name": "Python 3",
   "language": "python",
   "name": "python3"
  },
  "language_info": {
   "codemirror_mode": {
    "name": "ipython",
    "version": 3
   },
   "file_extension": ".py",
   "mimetype": "text/x-python",
   "name": "python",
   "nbconvert_exporter": "python",
   "pygments_lexer": "ipython3",
   "version": "3.6.5"
  },
  "nbTranslate": {
   "displayLangs": [
    "*"
   ],
   "hotkey": "alt-t",
   "langInMainMenu": true,
   "sourceLang": "en",
   "targetLang": "fr",
   "useGoogleTranslate": true
  }
 },
 "nbformat": 4,
 "nbformat_minor": 2
}
