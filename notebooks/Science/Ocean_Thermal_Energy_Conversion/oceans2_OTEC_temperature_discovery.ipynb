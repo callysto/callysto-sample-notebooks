{
 "cells": [
  {
   "cell_type": "markdown",
   "metadata": {
    "hidden": false
   },
   "source": [
    "![](images/Callysto_Notebook-Banner_Top.jpg)\n",
    "\n",
    "---"
   ]
  },
  {
   "cell_type": "code",
   "execution_count": 3,
   "metadata": {
    "hidden": true
   },
   "outputs": [
    {
     "name": "stdout",
     "output_type": "stream",
     "text": [
      "\u001b[31maiohttp requires Python '>=3.4.2' but the running Python is 2.7.13\u001b[0m\r\n"
     ]
    }
   ],
   "source": [
    "!pip install onc --user --quiet\n",
    "!pip install aiohttp --user --quiet\n",
    "!pip install asyncio --user --quiet\n",
    "!pip install --upgrade --force-reinstall --user --quiet git+git://github.com/callysto/nbplus.git@staging#egg=nbplus"
   ]
  },
  {
   "cell_type": "code",
   "execution_count": 10,
   "metadata": {
    "collapsed": true,
    "hidden": true
   },
   "outputs": [],
   "source": [
    "import datetime\n",
    "import functools\n",
    "import itertools\n",
    "import urllib3\n",
    "import asyncio\n",
    "import nbvis.magics\n",
    "\n",
    "from math import sqrt\n",
    "from heapq import nlargest\n",
    "from nbvis.classes import D3, Vis\n",
    "from concurrent.futures import ThreadPoolExecutor, ProcessPoolExecutor\n",
    "from IPython.display import Javascript\n",
    "from json import dumps\n",
    "from onc.onc import ONC\n",
    "\n",
    "urllib3.disable_warnings(urllib3.exceptions.InsecureRequestWarning)"
   ]
  },
  {
   "cell_type": "markdown",
   "metadata": {
    "hidden": true
   },
   "source": [
    "<h1 align=\"center\">$\\text{Oceans} \\ \\mathbb{2.0}$</h1>\n",
    "\n",
    "<h3 align=\"center\">Exploring Ocean Thermal Energy Conversion through Device Discovery</h3>\n",
    "\n",
    "---"
   ]
  },
  {
   "cell_type": "markdown",
   "metadata": {
    "hidden": true
   },
   "source": [
    "## Introduction\n",
    "\n",
    "**Ocean thermal energy conversion** (OTEC) is a renewable energy resource that utilizes temperature differences to generate energy. Deeper, _cooler_ ocean waters function as a heat sink, also known as a <span style=\"color:blue \">cold</span> reservoir, with respect to shallower, _warmer_ surface waters, i.e. a <span style=\"color:red\">hot</span> reservoir. If the temperature difference\n",
    "\n",
    "$$\\Delta T = T_{hot} - T_{cold}$$\n",
    "\n",
    "between these reservoirs is substantial, the resulting flow of heat does mechanical work. Such a system is known as a **heat engine**.\n",
    "\n",
    "Pelc and Fujita (2002) estimate that 10 trillion watts of power, approximately equal to the current global energy demand, could be provided by OTEC without affecting the thermal structure of the ocean. <sup>[0](#fn0)</sup>\n",
    "\n",
    "We will leverage the **Oceans 2.0** application programming interface (API) made available by Ocean Networks Canada (ONC) to seek candidate sites for this technology. To do so, we will gather temperature and location data from numerous sensors along the North American coastline, and quantify hypothetically the maximal efficiency of a heat engine assembled  between any two of these locations.\n",
    "\n",
    "---"
   ]
  },
  {
   "cell_type": "markdown",
   "metadata": {
    "hidden": true
   },
   "source": [
    "## Background\n",
    "\n",
    "#### Quantifying Efficiency\n",
    "\n",
    "How efficient is the conversion of thermal energy to mechanical work?\n",
    "\n",
    "That is, given the heat _input_ $Q_{heat}$ and mechanical _output_ $W$, what is the efficiency $\\displaystyle\\eta = {W\\over Q_{heat}}$?\n",
    "\n",
    "To quantify this, we consider the **Carnot heat engine**, an ideal and theoretical thermodynamic system. Its corresponding thermodynamic cycle, the **Carnot cycle**, places an upper limit on the efficiency of any classical heat engine. It turns out, by Carnot's theorem, that any heat engine between two reservoirs is less efficient than the Carnot heat engine. This is a result of the second law of thermodynamics. <sup>[1](#fn1)</sup>\n",
    "\n",
    "Given two reservoir temperatures $T_{hot}$ and $T_{cold}$, using the Kelvin scale, we may compute this maximal efficiency\n",
    "\n",
    "$$\\eta_{Carnot} = 1 - {T_{cold} \\over T_{hot}}.$$\n",
    "\n",
    "Let us define a function for computing $\\eta_{Carnot}$."
   ]
  },
  {
   "cell_type": "code",
   "execution_count": 11,
   "metadata": {
    "collapsed": true,
    "hidden": false
   },
   "outputs": [],
   "source": [
    "def max_efficiency(T_cold, T_hot): return 1 - T_cold / T_hot;"
   ]
  },
  {
   "cell_type": "markdown",
   "metadata": {
    "hidden": true
   },
   "source": [
    "Let us also define a function for converting temperatures from the Celsius scale to the Kelvin scale. "
   ]
  },
  {
   "cell_type": "code",
   "execution_count": 12,
   "metadata": {
    "collapsed": true,
    "hidden": false
   },
   "outputs": [],
   "source": [
    "def celsius_to_kelvin(T): return T + 273.15;"
   ]
  },
  {
   "cell_type": "markdown",
   "metadata": {
    "hidden": true
   },
   "source": [
    "We can now, for example, compute the maximal efficiency of a heat engine assembled between a <span style=\"color:red\">hot</span> reservoir of boiling water, and a <span style=\"color:blue\">cold</span> reservoir of ice."
   ]
  },
  {
   "cell_type": "code",
   "execution_count": 13,
   "metadata": {
    "hidden": false
   },
   "outputs": [
    {
     "name": "stdout",
     "output_type": "stream",
     "text": [
      "26.80 %\n"
     ]
    }
   ],
   "source": [
    "print('%.2f' % round(max_efficiency(T_cold=celsius_to_kelvin(0), T_hot=celsius_to_kelvin(100)) * 100, 2), '%')"
   ]
  },
  {
   "cell_type": "markdown",
   "metadata": {
    "hidden": true
   },
   "source": [
    "#### Querying Oceans 2.0\n",
    "\n",
    "Oceans 2.0 is an online data management system courtesy of ONC, offering \"ocean analytics that assist researchers, communities, industry, and policy-makers in making evidence-based decisions in Canada and globally.\" <sup>[2](#fn2)</sup> Accessing the Oceans 2.0 API is programmatic and available through a Python client library. The data is served three ways: <sup>[3](#fn3)</sup>\n",
    "\n",
    "* **Discovery**:  we can find and filter device codes by some criteria.\n",
    "* **Data Delivery**: once we have a device code, we can request data.\n",
    "* **Interoperability**: we may want to share with or integrate other data sources.\n",
    "\n",
    "We create an instance of `ONC()` class. This class wraps the methods we will use to gather data. It also requires an access token, which we load from a separate file."
   ]
  },
  {
   "cell_type": "code",
   "execution_count": 14,
   "metadata": {
    "collapsed": true,
    "hidden": false
   },
   "outputs": [],
   "source": [
    "onc = ONC(token=open('oceans2_api_token.txt', 'r').read())"
   ]
  },
  {
   "cell_type": "markdown",
   "metadata": {
    "hidden": true
   },
   "source": [
    "Our search for candidate OTEC sites relies on temperature data. Oceans 2.0 considers this \"scalar data,\" which is available through a class method `getDirectScalar()`. This method expects, at the least, a `locationCode` and a `deviceCategoryCode`. Two other class methods, `getDeviceCategories()` and `getLocations()`, will yield these codes. <sup>[4](#fn4)</sup>"
   ]
  },
  {
   "cell_type": "markdown",
   "metadata": {
    "hidden": true
   },
   "source": [
    "#### Finding Properties\n",
    "\n",
    "There may also be more than one way to observe temperature. We use `getProperties()` to see which phenomena are quantified, and produce a list of unique property codes via `set()` which include the substring `'temperature'`."
   ]
  },
  {
   "cell_type": "code",
   "execution_count": 15,
   "metadata": {
    "hidden": false
   },
   "outputs": [
    {
     "data": {
      "text/plain": [
       "['seawatertemperature',\n",
       " 'windchilltemperature',\n",
       " 'airtemperature',\n",
       " 'srslicebalancebuoytemperature',\n",
       " 'sedimenttemperature',\n",
       " 'seaicetemperature',\n",
       " 'wetbulbtemperature',\n",
       " 'sedimentsurfacetemperature',\n",
       " 'internaltemperature',\n",
       " 'differentialtemperature',\n",
       " 'ventfluidtemperature']"
      ]
     },
     "execution_count": 15,
     "metadata": {},
     "output_type": "execute_result"
    }
   ],
   "source": [
    "properties = onc.getProperties(filters={})\n",
    "propertyCodes = list(set(p['propertyCode'] for p in properties)) \n",
    "[p for p in propertyCodes if 'temperature' in p]"
   ]
  },
  {
   "cell_type": "markdown",
   "metadata": {
    "hidden": true
   },
   "source": [
    "#### Finding Device Categories\n",
    "\n",
    "We focus on the property code `'seawatertemperature'`."
   ]
  },
  {
   "cell_type": "code",
   "execution_count": 16,
   "metadata": {
    "collapsed": true,
    "hidden": false
   },
   "outputs": [],
   "source": [
    "propertyCode = 'seawatertemperature'\n",
    "unitOfMeasure = 'C'"
   ]
  },
  {
   "cell_type": "markdown",
   "metadata": {
    "hidden": true
   },
   "source": [
    "Let us gather the device category codes first via `getDeviceCategories()`, filtering by this property code."
   ]
  },
  {
   "cell_type": "code",
   "execution_count": 17,
   "metadata": {
    "collapsed": true,
    "hidden": false
   },
   "outputs": [],
   "source": [
    "categories = onc.getDeviceCategories(filters={'propertyCode': propertyCode})"
   ]
  },
  {
   "cell_type": "markdown",
   "metadata": {
    "hidden": true
   },
   "source": [
    "Each element of `categories` has a `deviceCategoryCode` attribute. These are what we are after."
   ]
  },
  {
   "cell_type": "code",
   "execution_count": 18,
   "metadata": {
    "hidden": false
   },
   "outputs": [
    {
     "data": {
      "text/plain": [
       "['ADCP1200KHZ',\n",
       " 'ADCP150KHZ',\n",
       " 'ADCP1MHZ',\n",
       " 'ADCP2MHZ',\n",
       " 'ADCP300KHZ',\n",
       " 'ADCP400KHZ',\n",
       " 'ADCP55KHZ',\n",
       " 'ADCP600KHZ',\n",
       " 'ADCP75KHZ',\n",
       " 'BBES',\n",
       " 'BPR',\n",
       " 'CO2SENSOR',\n",
       " 'CORK',\n",
       " 'CTD',\n",
       " 'CURRENTMETER',\n",
       " 'DEPTH_TEMP',\n",
       " 'DIVE_COMPUTER',\n",
       " 'ECHOSOUNDERBIOA',\n",
       " 'GTD',\n",
       " 'ICEPROFILER',\n",
       " 'MBPROFILESONAR',\n",
       " 'METHSENSOR',\n",
       " 'NODE',\n",
       " 'OXYSENSOR',\n",
       " 'PHSENSOR',\n",
       " 'PRES',\n",
       " 'PYRANOMETER',\n",
       " 'PYRGEOMETER',\n",
       " 'TARRAY',\n",
       " 'TEMPSENSOR',\n",
       " 'TILTMTR',\n",
       " 'TSG',\n",
       " 'WETLABS_WQM']"
      ]
     },
     "execution_count": 18,
     "metadata": {},
     "output_type": "execute_result"
    }
   ],
   "source": [
    "categoryCodes = [c['deviceCategoryCode'] for c in categories]\n",
    "categoryCodes"
   ]
  },
  {
   "cell_type": "markdown",
   "metadata": {
    "hidden": true
   },
   "source": [
    "#### Finding Locations\n",
    "\n",
    "What remains is to determine where these devices are. The class method `getLocations()` can filter by device category code. So that we are convinced that these are the right locations, we also filter by the same property code.\n",
    "\n",
    "Later we will get the locations of every device from every category that measures temperature. For now, we focus on the category code `'CTD'`. These are instruments that measure conductivity, temperature and depth."
   ]
  },
  {
   "cell_type": "code",
   "execution_count": 19,
   "metadata": {
    "collapsed": true,
    "hidden": false
   },
   "outputs": [],
   "source": [
    "categoryCode = 'CTD'\n",
    "locations = onc.getLocations(filters = {\n",
    "    'propertyCode': propertyCode,\n",
    "    'deviceCategoryCode': categoryCode\n",
    "})"
   ]
  },
  {
   "cell_type": "markdown",
   "metadata": {
    "hidden": true
   },
   "source": [
    "As with the device categories, each element of `locations` has a `locationCode` attribute. We slice the first five for a preview."
   ]
  },
  {
   "cell_type": "code",
   "execution_count": 20,
   "metadata": {
    "hidden": true
   },
   "outputs": [
    {
     "data": {
      "text/plain": [
       "['AS04', 'BACAX', 'BACCH', 'BACHY', 'BACME']"
      ]
     },
     "execution_count": 20,
     "metadata": {},
     "output_type": "execute_result"
    }
   ],
   "source": [
    "locationCodes = [l['locationCode'] for l in locations]\n",
    "locationCodes[:5]"
   ]
  },
  {
   "cell_type": "markdown",
   "metadata": {
    "hidden": true
   },
   "source": [
    "#### Getting Scalar Data\n",
    "\n",
    "At last, we have what we need to request a data product from Oceans 2.0. Let us focus on the first location code, `'AS04'`."
   ]
  },
  {
   "cell_type": "code",
   "execution_count": 21,
   "metadata": {
    "hidden": true
   },
   "outputs": [
    {
     "data": {
      "text/plain": [
       "'AS04'"
      ]
     },
     "execution_count": 21,
     "metadata": {},
     "output_type": "execute_result"
    }
   ],
   "source": [
    "firstLocationCode = locationCodes[0]\n",
    "firstLocationCode"
   ]
  },
  {
   "cell_type": "markdown",
   "metadata": {
    "hidden": true
   },
   "source": [
    "Let us also expect data no more than a day old, so that we query devices which are still deployed. We get the current time minus one day."
   ]
  },
  {
   "cell_type": "code",
   "execution_count": 22,
   "metadata": {
    "hidden": true
   },
   "outputs": [
    {
     "data": {
      "text/plain": [
       "'2018-07-11T02:45:40.994Z'"
      ]
     },
     "execution_count": 22,
     "metadata": {},
     "output_type": "execute_result"
    }
   ],
   "source": [
    "timeShift = datetime.timedelta(days=-1)\n",
    "dateFrom = (datetime.datetime.now() + timeShift).isoformat('T')[:-3] + 'Z'\n",
    "dateFrom"
   ]
  },
  {
   "cell_type": "markdown",
   "metadata": {
    "hidden": true
   },
   "source": [
    "Now we call to the class method `getDirectScalar()`, passing our sought after location and device category codes as arguments. Specifying `'metadata'` to be `'full'` requests the latitude and longitude of the location. The `rowLimit` restricts our request for data to at most five points in time."
   ]
  },
  {
   "cell_type": "code",
   "execution_count": 23,
   "metadata": {
    "hidden": true
   },
   "outputs": [
    {
     "data": {
      "text/plain": [
       "{'metadata': {'boundingBox': {'maxDepth': 120.0,\n",
       "   'maxLat': 48.300767,\n",
       "   'maxLon': -123.390117,\n",
       "   'minDepth': 120.0,\n",
       "   'minLat': 48.300767,\n",
       "   'minLon': -123.390117},\n",
       "  'depth': 120.0,\n",
       "  'deviceCategoryCode': 'CTD',\n",
       "  'lat': 48.300767,\n",
       "  'locationName': 'AS04 Mooring',\n",
       "  'lon': -123.390117},\n",
       " 'next': None,\n",
       " 'queryUrl': 'https://data.oceannetworks.ca/api/scalardata?locationCode=AS04&metadata=full&deviceCategoryCode=CTD&dateFrom=2018-07-11T02%3A45%3A40.994Z&rowLimit=5&method=getByLocation&token=0b8544ec-977b-404a-a0b3-8e99216aeed6',\n",
       " 'sensorData': None}"
      ]
     },
     "execution_count": 23,
     "metadata": {},
     "output_type": "execute_result"
    }
   ],
   "source": [
    "scalarData = onc.getDirectScalar(filters = {\n",
    "    'locationCode': firstLocationCode,\n",
    "    'metadata': 'full',\n",
    "    'deviceCategoryCode': categoryCode,\n",
    "    'dateFrom': dateFrom,\n",
    "    'rowLimit': 5\n",
    "})\n",
    "scalarData"
   ]
  },
  {
   "cell_type": "markdown",
   "metadata": {
    "hidden": true
   },
   "source": [
    "We check if there is sensor data, and if the latitude and longitude metadata was delivered.\n",
    "\n",
    "If these exist, we look for a sensor with degrees Celsius as its unit of measure, and get its most recent data point. If not, we try other codes until we find one with data."
   ]
  },
  {
   "cell_type": "code",
   "execution_count": 24,
   "metadata": {
    "hidden": true
   },
   "outputs": [
    {
     "name": "stdout",
     "output_type": "stream",
     "text": [
      "BACAX / 2018-07-11T02:45:45.786Z / 3.8344 C\n"
     ]
    }
   ],
   "source": [
    "sensorData = scalarData['sensorData']\n",
    "boundingBox = scalarData['metadata']['boundingBox']\n",
    "if sensorData is not None and not any(v is None for v in list(boundingBox.values())):\n",
    "    for s in sensorData:\n",
    "        if s['unitOfMeasure'] == unitOfMeasure:\n",
    "            sampleTime = s['data']['sampleTimes'][-1]\n",
    "            value = s['data']['values'][-1]\n",
    "            print(locationCode, '/', sampleTime, '/' , value, unitOfMeasure)\n",
    "else:\n",
    "    for locationCode in locationCodes:\n",
    "        scalarData = onc.getDirectScalar(filters = {\n",
    "            'locationCode': locationCode,\n",
    "            'metadata': 'full',\n",
    "            'deviceCategoryCode': categoryCode,\n",
    "            'dateFrom': dateFrom,\n",
    "            'rowLimit': 5\n",
    "        })\n",
    "        sensorData = scalarData['sensorData']\n",
    "        boundingBox = scalarData['metadata']['boundingBox']\n",
    "        if sensorData is not None and not any(v is None for v in list(boundingBox.values())):\n",
    "            for s in sensorData:\n",
    "                if s['unitOfMeasure'] == unitOfMeasure:\n",
    "                    sampleTime = s['data']['sampleTimes'][-1]\n",
    "                    value = s['data']['values'][-1]\n",
    "                    print(locationCode, '/', sampleTime, '/' , value, unitOfMeasure)\n",
    "            break;"
   ]
  },
  {
   "cell_type": "markdown",
   "metadata": {
    "hidden": true
   },
   "source": [
    "We may also gather the sensors' geographic coordinates, as well as its depth (in metres)."
   ]
  },
  {
   "cell_type": "code",
   "execution_count": 25,
   "metadata": {
    "hidden": true
   },
   "outputs": [
    {
     "name": "stdout",
     "output_type": "stream",
     "text": [
      "48.316583 / -126.05076 / 983.0\n"
     ]
    }
   ],
   "source": [
    "lat = (boundingBox['maxLat'] + boundingBox['minLat'])/2\n",
    "lon = (boundingBox['maxLon'] + boundingBox['minLon'])/2\n",
    "depth = (boundingBox['maxDepth'] + boundingBox['minDepth'])/2\n",
    "print(lat, '/', lon, '/', depth)"
   ]
  },
  {
   "cell_type": "markdown",
   "metadata": {
    "hidden": true
   },
   "source": [
    "---"
   ]
  },
  {
   "cell_type": "markdown",
   "metadata": {
    "hidden": true
   },
   "source": [
    "## Demonstration\n",
    "\n",
    "At this point we have isolated the temperature and location data of a single sensor. To determine candidate sites for OTEC, we should gather this data from many sensors from many locations.\n",
    "\n",
    "Here we set up a list of coroutines to asynchronously request this data from every device category code we found before. These requests are made simultaneously, i.e. _in parallel_, as the result of one does not affect another. We gather the same data from each location, and pass these locations to D3.js for visualization. "
   ]
  },
  {
   "cell_type": "code",
   "execution_count": 26,
   "metadata": {
    "collapsed": true,
    "hidden": true
   },
   "outputs": [],
   "source": [
    "import asyncio\n",
    "import concurrent.futures\n",
    "import requests\n",
    "import aiohttp\n",
    "\n",
    "LOOP = asyncio.new_event_loop()\n",
    "concurrent.futures.ThreadPoolExecutor().submit(LOOP.run_forever);"
   ]
  },
  {
   "cell_type": "code",
   "execution_count": 27,
   "metadata": {
    "collapsed": true,
    "hidden": true
   },
   "outputs": [],
   "source": [
    "def getLocationsFromCategory(categoryCode, propertyCode):\n",
    "    c = categoryCode; p = propertyCode\n",
    "    locations = onc.getLocations(filters={\n",
    "        'deviceCategoryCode': c,\n",
    "        'propertyCode': p\n",
    "    })\n",
    "    locationCodes = list(map(lambda l: l['locationCode'], locations))\n",
    "    return [(c, l) for l in locationCodes];"
   ]
  },
  {
   "cell_type": "code",
   "execution_count": 28,
   "metadata": {
    "collapsed": true,
    "hidden": true
   },
   "outputs": [],
   "source": [
    "async def runInParallel(func, iterative, *args):\n",
    "    with concurrent.futures.ThreadPoolExecutor(max_workers=len(iterative)) as executor:\n",
    "        futures = [\n",
    "            LOOP.run_in_executor(executor, func, *i, *args)\n",
    "                if isinstance(i, tuple)\n",
    "                else LOOP.run_in_executor(executor, func, i, *args)\n",
    "                    for i in iterative\n",
    "        ]\n",
    "        return await asyncio.gather(*futures)\n",
    "\n",
    "result = asyncio.run_coroutine_threadsafe(runInParallel(getLocationsFromCategory, categoryCodes, propertyCode), LOOP).result()\n",
    "categoryLocationId = [item for sublist in result for item in sublist]"
   ]
  },
  {
   "cell_type": "code",
   "execution_count": 29,
   "metadata": {
    "collapsed": true,
    "hidden": true
   },
   "outputs": [],
   "source": [
    "def getPropertyData(data, propertyCode, unitOfMeasure):\n",
    "    if data != []:\n",
    "        sensorData = data['sensorData']\n",
    "        for i in sensorData:\n",
    "            if i['unitOfMeasure'] == unitOfMeasure:\n",
    "                val = i['data']['values'][0]\n",
    "                time = i['data']['sampleTimes'][0]\n",
    "                unit = i['unitOfMeasure']\n",
    "                return time, val, unit;\n",
    "    else: return [];\n",
    "\n",
    "def getCoordinates(data):\n",
    "    lat, lon, depth = None, None, None\n",
    "    if data != []:\n",
    "        try:\n",
    "            boundingBox = data['metadata']['boundingBox']\n",
    "            lat = (boundingBox['maxLat'] + boundingBox['minLat'])/2\n",
    "            lon = (boundingBox['maxLon'] + boundingBox['minLon'])/2\n",
    "            depth = (boundingBox['maxDepth'] + boundingBox['minDepth'])/2\n",
    "        except TypeError: pass\n",
    "    return lat, lon, depth;\n",
    "\n",
    "def getDataFromLocation(categoryCode, locationCode, dateFrom):\n",
    "    data = onc.getDirectScalar(filters = {\n",
    "        'locationCode': locationCode,\n",
    "        'metadata': 'full',\n",
    "        'deviceCategoryCode': categoryCode,\n",
    "        'dateFrom': dateFrom,\n",
    "        'rowLimit': 1\n",
    "    })\n",
    "    if data['sensorData'] is not None:\n",
    "        temperature = getPropertyData(data, propertyCode, unitOfMeasure)\n",
    "        if temperature is not None:\n",
    "            coordinates = getCoordinates(data)\n",
    "            if None not in coordinates:\n",
    "                datum = {\n",
    "                    \"categoryCode\": categoryCode,\n",
    "                    \"locationCode\": locationCode,\n",
    "                    \"temperature\": temperature[1],\n",
    "                    \"depth\": coordinates[2],\n",
    "                    \"latitude\": coordinates[1],\n",
    "                    \"longitude\": coordinates[0]\n",
    "                }\n",
    "                display(Javascript(\"data.push(%s); updateCircles();\" % datum))\n",
    "                display(Javascript(\"console.log(%s);\" % datum))\n",
    "                return datum\n",
    "    else:\n",
    "        display(Javascript(\"console.log('No sensor data from %s at %s');\" % (categoryCode, locationCode)))"
   ]
  },
  {
   "cell_type": "code",
   "execution_count": 30,
   "metadata": {
    "hidden": true
   },
   "outputs": [
    {
     "name": "stdout",
     "output_type": "stream",
     "text": [
      "Initialized d3_code container!\n",
      "Code added to D3 visualization queue ...\n"
     ]
    },
    {
     "data": {
      "application/javascript": [
       "requirejs.config({\n",
       "    paths: {\"d3-require\": \"//unpkg.com/d3-require@1.0.4/dist/d3-require.min\", \"topojson\": \"//unpkg.com/topojson-client@3?\", \"mathBox\": \"//cdn.rawgit.com/unconed/mathbox/eaeb8e15/build/mathbox-bundle\"}\n",
       "});\n",
       "\n",
       "requirejs(['d3-require', 'topojson', 'mathBox'], (d3, topojson) => {\n",
       "    d3.require(...['d3-array', 'd3-axis', 'd3-brush', 'd3-chord', 'd3-collection', 'd3-color', 'd3-contour', 'd3-dispatch', 'd3-drag', 'd3-dsv', 'd3-ease', 'd3-fetch', 'd3-force', 'd3-format', 'd3-geo', 'd3-hierarchy', 'd3-interpolate', 'd3-path', 'd3-polygon', 'd3-quadtree', 'd3-random', 'd3-scale', 'd3-scale-chromatic', 'd3-selection', 'd3-shape', 'd3-time', 'd3-time-format', 'd3-timer', 'd3-transition', 'd3-voronoi', 'd3-zoom']).then(d3 => {\n",
       "        window.data = [];\n",
       "var svg = d3.select(\"svg#geography\");\n",
       "\n",
       "svg.selectAll(\"*\").remove();\n",
       "var width = +svg.node().getBoundingClientRect().width;\n",
       "var height = +svg.attr(\"height\");\n",
       "\n",
       "const projection = d3.geoMercator();\n",
       "const initialScale = projection.scale();\n",
       "projection\n",
       "    .scale(850)\n",
       "    .rotate([100, -60, 0])\n",
       "    .translate([width/2, height/2]);\n",
       "\n",
       "const geoPath = d3.geoPath().projection(projection);\n",
       "const path = svg.append('path').attr('stroke', 'gray');\n",
       "const circlePath =  d3.geoPath().projection(projection);\n",
       "\n",
       "var graticule = d3.geoGraticule()\n",
       "\n",
       "svg.append(\"path\")\n",
       "    .datum(graticule)\n",
       "    .attr(\"class\", \"graticule\")\n",
       "    .style(\"fill\", \"none\")\n",
       "    .style(\"stroke\", \"#777\")\n",
       "    .style(\"stroke-width\", \"0.5px\")\n",
       "    .style(\"stroke-opacity\", \"0.5\")\n",
       "    .attr(\"d\", geoPath);\n",
       "\n",
       "let moving = false;\n",
       "\n",
       "var geojson = [\n",
       "    \"https://unpkg.com/world-atlas@1/world/110m.json\",\n",
       "    \"https://unpkg.com/world-atlas@1/world/50m.json\"\n",
       "];\n",
       "\n",
       "window.updateCircles = () => {\n",
       "    svg.append(\"g\")\n",
       "               .selectAll(\"path\")\n",
       "               .data(data)\n",
       "               .enter().append(\"path\")\n",
       "               .attr(\"fill\", \"red\")\n",
       "               .attr(\"d\", d => geoPath(d3.geoCircle()\n",
       "                                         .center([d.latitude, d.longitude])\n",
       "                                         .radius(2e-1/d3.zoomTransform(svg.node()).k)()))\n",
       "}\n",
       "\n",
       "Promise.all(geojson.map(url => d3.json(url)))\n",
       "    .then(function([world110m, world50m]) {\n",
       "\n",
       "        const countries110m = topojson\n",
       "            .feature(world110m, world110m.objects.countries);\n",
       "        const countries50m = topojson\n",
       "            .feature(world50m, world50m.objects.countries);\n",
       "        const render = () => {\n",
       "            svg.selectAll(\"path\").attr(\"d\", geoPath)\n",
       "\n",
       "            updateCircles();\n",
       "\n",
       "            // render low/high resolution boundaries when moving/stopped\n",
       "            path.attr('d', geoPath(moving ? countries110m : countries50m));\n",
       "        };\n",
       "        render();\n",
       "\n",
       "        let rotate0, coords0;\n",
       "        const coords = () => projection.rotate(rotate0)\n",
       "            .invert([d3.event.x, d3.event.y]);\n",
       "\n",
       "        svg\n",
       "            .call(d3.drag()\n",
       "                .on('start', () => {\n",
       "                    rotate0 = projection.rotate();\n",
       "                    coords0 = coords();\n",
       "                    moving = true;\n",
       "                })\n",
       "                .on('drag', () => {\n",
       "                    const coords1 = coords();\n",
       "                    projection.rotate([\n",
       "                                  rotate0[0] + coords1[0] - coords0[0],\n",
       "                                  rotate0[1] + coords1[1] - coords0[1],\n",
       "                    ])\n",
       "                    render();\n",
       "                })\n",
       "                .on('end', () => {\n",
       "                  moving = false;\n",
       "                  render();\n",
       "                })\n",
       "              )\n",
       "\n",
       "          d3.geoZoom()\n",
       "            .projection(projection)\n",
       "            .northUp(true)\n",
       "            .onMove(render)\n",
       "          (svg.node());\n",
       "    })\n",
       "    .catch(e => { console.log(e); }); \n",
       "    });\n",
       "});\n"
      ],
      "text/plain": [
       "<IPython.core.display.Javascript object>"
      ]
     },
     "metadata": {},
     "output_type": "display_data"
    }
   ],
   "source": [
    "%%d3 --reset --queue\n",
    "window.data = [];\n",
    "var svg = d3.select(\"svg#geography\");\n",
    "\n",
    "svg.selectAll(\"*\").remove();\n",
    "var width = +svg.node().getBoundingClientRect().width;\n",
    "var height = +svg.attr(\"height\");\n",
    "\n",
    "const projection = d3.geoMercator();\n",
    "const initialScale = projection.scale();\n",
    "projection\n",
    "    .scale(850)\n",
    "    .rotate([100, -60, 0])\n",
    "    .translate([width/2, height/2]);\n",
    "\n",
    "const geoPath = d3.geoPath().projection(projection);\n",
    "const path = svg.append('path').attr('stroke', 'gray');\n",
    "const circlePath =  d3.geoPath().projection(projection);\n",
    "\n",
    "var graticule = d3.geoGraticule()\n",
    "\n",
    "svg.append(\"path\")\n",
    "    .datum(graticule)\n",
    "    .attr(\"class\", \"graticule\")\n",
    "    .style(\"fill\", \"none\")\n",
    "    .style(\"stroke\", \"#777\")\n",
    "    .style(\"stroke-width\", \"0.5px\")\n",
    "    .style(\"stroke-opacity\", \"0.5\")\n",
    "    .attr(\"d\", geoPath);\n",
    "\n",
    "let moving = false;\n",
    "\n",
    "var geojson = [\n",
    "    \"https://unpkg.com/world-atlas@1/world/110m.json\",\n",
    "    \"https://unpkg.com/world-atlas@1/world/50m.json\"\n",
    "];\n",
    "\n",
    "window.updateCircles = () => {\n",
    "    svg.append(\"g\")\n",
    "               .selectAll(\"path\")\n",
    "               .data(data)\n",
    "               .enter().append(\"path\")\n",
    "               .attr(\"fill\", \"red\")\n",
    "               .attr(\"d\", d => geoPath(d3.geoCircle()\n",
    "                                         .center([d.latitude, d.longitude])\n",
    "                                         .radius(2e-1/d3.zoomTransform(svg.node()).k)()))\n",
    "}\n",
    "\n",
    "Promise.all(geojson.map(url => d3.json(url)))\n",
    "    .then(function([world110m, world50m]) {\n",
    "\n",
    "        const countries110m = topojson\n",
    "            .feature(world110m, world110m.objects.countries);\n",
    "        const countries50m = topojson\n",
    "            .feature(world50m, world50m.objects.countries);\n",
    "        const render = () => {\n",
    "            svg.selectAll(\"path\").attr(\"d\", geoPath)\n",
    "\n",
    "            updateCircles();\n",
    "\n",
    "            // render low/high resolution boundaries when moving/stopped\n",
    "            path.attr('d', geoPath(moving ? countries110m : countries50m));\n",
    "        };\n",
    "        render();\n",
    "\n",
    "        let rotate0, coords0;\n",
    "        const coords = () => projection.rotate(rotate0)\n",
    "            .invert([d3.event.x, d3.event.y]);\n",
    "\n",
    "        svg\n",
    "            .call(d3.drag()\n",
    "                .on('start', () => {\n",
    "                    rotate0 = projection.rotate();\n",
    "                    coords0 = coords();\n",
    "                    moving = true;\n",
    "                })\n",
    "                .on('drag', () => {\n",
    "                    const coords1 = coords();\n",
    "                    projection.rotate([\n",
    "                                  rotate0[0] + coords1[0] - coords0[0],\n",
    "                                  rotate0[1] + coords1[1] - coords0[1],\n",
    "                    ])\n",
    "                    render();\n",
    "                })\n",
    "                .on('end', () => {\n",
    "                  moving = false;\n",
    "                  render();\n",
    "                })\n",
    "              )\n",
    "\n",
    "          d3.geoZoom()\n",
    "            .projection(projection)\n",
    "            .northUp(true)\n",
    "            .onMove(render)\n",
    "          (svg.node());\n",
    "    })\n",
    "    .catch(e => { console.log(e); }); "
   ]
  },
  {
   "cell_type": "code",
   "execution_count": 31,
   "metadata": {
    "hidden": false
   },
   "outputs": [
    {
     "data": {
      "application/javascript": [
       "requirejs.config({\n",
       "    paths: {\"d3-require\": \"//unpkg.com/d3-require@1.0.4/dist/d3-require.min\", \"topojson\": \"//unpkg.com/topojson-client@3?\", \"mathBox\": \"//cdn.rawgit.com/unconed/mathbox/eaeb8e15/build/mathbox-bundle\"}\n",
       "});\n",
       "\n",
       "requirejs(['d3-require', 'topojson', 'mathBox'], (d3, topojson) => {\n",
       "    d3.require(...['d3-array', 'd3-axis', 'd3-brush', 'd3-chord', 'd3-collection', 'd3-color', 'd3-contour', 'd3-dispatch', 'd3-drag', 'd3-dsv', 'd3-ease', 'd3-fetch', 'd3-force', 'd3-format', 'd3-geo', 'd3-hierarchy', 'd3-interpolate', 'd3-path', 'd3-polygon', 'd3-quadtree', 'd3-random', 'd3-scale', 'd3-scale-chromatic', 'd3-selection', 'd3-shape', 'd3-time', 'd3-time-format', 'd3-timer', 'd3-transition', 'd3-voronoi', 'd3-zoom', 'd3-geo-projection', 'd3-geo-zoom']).then(d3 => {\n",
       "        d3.select(element[0]).append(\"svg\")\n",
       "    .attr(\"id\", \"geography\")\n",
       "    .attr(\"width\", \"100%\")\n",
       "    .attr(\"height\", 600);\n",
       "\n",
       "window.data = [];\n",
       "var svg = d3.select(\"svg#geography\");\n",
       "\n",
       "svg.selectAll(\"*\").remove();\n",
       "var width = +svg.node().getBoundingClientRect().width;\n",
       "var height = +svg.attr(\"height\");\n",
       "\n",
       "const projection = d3.geoMercator();\n",
       "const initialScale = projection.scale();\n",
       "projection\n",
       "    .scale(850)\n",
       "    .rotate([100, -60, 0])\n",
       "    .translate([width/2, height/2]);\n",
       "\n",
       "const geoPath = d3.geoPath().projection(projection);\n",
       "const path = svg.append('path').attr('stroke', 'gray');\n",
       "const circlePath =  d3.geoPath().projection(projection);\n",
       "\n",
       "var graticule = d3.geoGraticule()\n",
       "\n",
       "svg.append(\"path\")\n",
       "    .datum(graticule)\n",
       "    .attr(\"class\", \"graticule\")\n",
       "    .style(\"fill\", \"none\")\n",
       "    .style(\"stroke\", \"#777\")\n",
       "    .style(\"stroke-width\", \"0.5px\")\n",
       "    .style(\"stroke-opacity\", \"0.5\")\n",
       "    .attr(\"d\", geoPath);\n",
       "\n",
       "let moving = false;\n",
       "\n",
       "var geojson = [\n",
       "    \"https://unpkg.com/world-atlas@1/world/110m.json\",\n",
       "    \"https://unpkg.com/world-atlas@1/world/50m.json\"\n",
       "];\n",
       "\n",
       "window.updateCircles = () => {\n",
       "    svg.append(\"g\")\n",
       "               .selectAll(\"path\")\n",
       "               .data(data)\n",
       "               .enter().append(\"path\")\n",
       "               .attr(\"fill\", \"red\")\n",
       "               .attr(\"d\", d => geoPath(d3.geoCircle()\n",
       "                                         .center([d.latitude, d.longitude])\n",
       "                                         .radius(2e-1/d3.zoomTransform(svg.node()).k)()))\n",
       "}\n",
       "\n",
       "Promise.all(geojson.map(url => d3.json(url)))\n",
       "    .then(function([world110m, world50m]) {\n",
       "\n",
       "        const countries110m = topojson\n",
       "            .feature(world110m, world110m.objects.countries);\n",
       "        const countries50m = topojson\n",
       "            .feature(world50m, world50m.objects.countries);\n",
       "        const render = () => {\n",
       "            svg.selectAll(\"path\").attr(\"d\", geoPath)\n",
       "\n",
       "            updateCircles();\n",
       "\n",
       "            // render low/high resolution boundaries when moving/stopped\n",
       "            path.attr('d', geoPath(moving ? countries110m : countries50m));\n",
       "        };\n",
       "        render();\n",
       "\n",
       "        let rotate0, coords0;\n",
       "        const coords = () => projection.rotate(rotate0)\n",
       "            .invert([d3.event.x, d3.event.y]);\n",
       "\n",
       "        svg\n",
       "            .call(d3.drag()\n",
       "                .on('start', () => {\n",
       "                    rotate0 = projection.rotate();\n",
       "                    coords0 = coords();\n",
       "                    moving = true;\n",
       "                })\n",
       "                .on('drag', () => {\n",
       "                    const coords1 = coords();\n",
       "                    projection.rotate([\n",
       "                                  rotate0[0] + coords1[0] - coords0[0],\n",
       "                                  rotate0[1] + coords1[1] - coords0[1],\n",
       "                    ])\n",
       "                    render();\n",
       "                })\n",
       "                .on('end', () => {\n",
       "                  moving = false;\n",
       "                  render();\n",
       "                })\n",
       "              )\n",
       "\n",
       "          d3.geoZoom()\n",
       "            .projection(projection)\n",
       "            .northUp(true)\n",
       "            .onMove(render)\n",
       "          (svg.node());\n",
       "    })\n",
       "    .catch(e => { console.log(e); }); \n",
       "\n",
       "    });\n",
       "});\n"
      ],
      "text/plain": [
       "<IPython.core.display.Javascript object>"
      ]
     },
     "metadata": {},
     "output_type": "display_data"
    }
   ],
   "source": [
    "geography = D3(\"geography\").svg(height=600)\n",
    "geography.require(\"d3-geo-projection\", \"d3-geo-zoom\")\n",
    "Vis(geography);"
   ]
  },
  {
   "cell_type": "code",
   "execution_count": 32,
   "metadata": {
    "hidden": true
   },
   "outputs": [
    {
     "data": {
      "application/javascript": [
       "console.log('No sensor data from ADCP150KHZ at BACMW');"
      ],
      "text/plain": [
       "<IPython.core.display.Javascript object>"
      ]
     },
     "metadata": {},
     "output_type": "display_data"
    },
    {
     "data": {
      "application/javascript": [
       "console.log('No sensor data from ADCP150KHZ at VEC');"
      ],
      "text/plain": [
       "<IPython.core.display.Javascript object>"
      ]
     },
     "metadata": {},
     "output_type": "display_data"
    },
    {
     "data": {
      "application/javascript": [
       "console.log('No sensor data from ADCP1MHZ at SCBBL');"
      ],
      "text/plain": [
       "<IPython.core.display.Javascript object>"
      ]
     },
     "metadata": {},
     "output_type": "display_data"
    },
    {
     "data": {
      "application/javascript": [
       "console.log('No sensor data from ADCP2MHZ at BACWL');"
      ],
      "text/plain": [
       "<IPython.core.display.Javascript object>"
      ]
     },
     "metadata": {},
     "output_type": "display_data"
    },
    {
     "data": {
      "application/javascript": [
       "console.log('No sensor data from ADCP1MHZ at PBBL');"
      ],
      "text/plain": [
       "<IPython.core.display.Javascript object>"
      ]
     },
     "metadata": {},
     "output_type": "display_data"
    },
    {
     "data": {
      "application/javascript": [
       "console.log('No sensor data from ADCP300KHZ at LSDDL');"
      ],
      "text/plain": [
       "<IPython.core.display.Javascript object>"
      ]
     },
     "metadata": {},
     "output_type": "display_data"
    },
    {
     "data": {
      "application/javascript": [
       "console.log('No sensor data from ADCP300KHZ at SCBBL');"
      ],
      "text/plain": [
       "<IPython.core.display.Javascript object>"
      ]
     },
     "metadata": {},
     "output_type": "display_data"
    },
    {
     "data": {
      "application/javascript": [
       "console.log('No sensor data from ADCP2MHZ at BACAX');"
      ],
      "text/plain": [
       "<IPython.core.display.Javascript object>"
      ]
     },
     "metadata": {},
     "output_type": "display_data"
    },
    {
     "data": {
      "application/javascript": [
       "console.log('No sensor data from ADCP2MHZ at BACCC.A2');"
      ],
      "text/plain": [
       "<IPython.core.display.Javascript object>"
      ]
     },
     "metadata": {},
     "output_type": "display_data"
    },
    {
     "data": {
      "application/javascript": [
       "data.push({'categoryCode': 'ADCP1200KHZ', 'locationCode': 'CBYIP', 'temperature': 0.45, 'depth': 9.0, 'latitude': -105.06403, 'longitude': 69.1129}); updateCircles();"
      ],
      "text/plain": [
       "<IPython.core.display.Javascript object>"
      ]
     },
     "metadata": {},
     "output_type": "display_data"
    },
    {
     "data": {
      "application/javascript": [
       "console.log('No sensor data from ADCP2MHZ at BACCC.A1');"
      ],
      "text/plain": [
       "<IPython.core.display.Javascript object>"
      ]
     },
     "metadata": {},
     "output_type": "display_data"
    },
    {
     "data": {
      "application/javascript": [
       "console.log('No sensor data from ADCP2MHZ at MAC');"
      ],
      "text/plain": [
       "<IPython.core.display.Javascript object>"
      ]
     },
     "metadata": {},
     "output_type": "display_data"
    },
    {
     "data": {
      "application/javascript": [
       "console.log('No sensor data from ADCP300KHZ at SEDDL');"
      ],
      "text/plain": [
       "<IPython.core.display.Javascript object>"
      ]
     },
     "metadata": {},
     "output_type": "display_data"
    },
    {
     "data": {
      "application/javascript": [
       "console.log('No sensor data from ADCP2MHZ at AS04');"
      ],
      "text/plain": [
       "<IPython.core.display.Javascript object>"
      ]
     },
     "metadata": {},
     "output_type": "display_data"
    },
    {
     "data": {
      "application/javascript": [
       "console.log('No sensor data from ADCP2MHZ at JFCN');"
      ],
      "text/plain": [
       "<IPython.core.display.Javascript object>"
      ]
     },
     "metadata": {},
     "output_type": "display_data"
    },
    {
     "data": {
      "application/javascript": [
       "console.log('No sensor data from ADCP2MHZ at BACMW');"
      ],
      "text/plain": [
       "<IPython.core.display.Javascript object>"
      ]
     },
     "metadata": {},
     "output_type": "display_data"
    },
    {
     "data": {
      "application/javascript": [
       "console.log('No sensor data from ADCP1MHZ at LSBBL');"
      ],
      "text/plain": [
       "<IPython.core.display.Javascript object>"
      ]
     },
     "metadata": {},
     "output_type": "display_data"
    },
    {
     "data": {
      "application/javascript": [
       "console.log('No sensor data from ADCP2MHZ at BDYPM');"
      ],
      "text/plain": [
       "<IPython.core.display.Javascript object>"
      ]
     },
     "metadata": {},
     "output_type": "display_data"
    },
    {
     "data": {
      "application/javascript": [
       "console.log('No sensor data from ADCP2MHZ at HPBB');"
      ],
      "text/plain": [
       "<IPython.core.display.Javascript object>"
      ]
     },
     "metadata": {},
     "output_type": "display_data"
    },
    {
     "data": {
      "application/javascript": [
       "console.log('No sensor data from ADCP2MHZ at FGPPN');"
      ],
      "text/plain": [
       "<IPython.core.display.Javascript object>"
      ]
     },
     "metadata": {},
     "output_type": "display_data"
    },
    {
     "data": {
      "application/javascript": [
       "console.log('No sensor data from ADCP2MHZ at JF2C');"
      ],
      "text/plain": [
       "<IPython.core.display.Javascript object>"
      ]
     },
     "metadata": {},
     "output_type": "display_data"
    },
    {
     "data": {
      "application/javascript": [
       "console.log('No sensor data from ADCP300KHZ at PBBL');"
      ],
      "text/plain": [
       "<IPython.core.display.Javascript object>"
      ]
     },
     "metadata": {},
     "output_type": "display_data"
    },
    {
     "data": {
      "application/javascript": [
       "console.log('No sensor data from ADCP300KHZ at IOST');"
      ],
      "text/plain": [
       "<IPython.core.display.Javascript object>"
      ]
     },
     "metadata": {},
     "output_type": "display_data"
    },
    {
     "data": {
      "application/javascript": [
       "console.log('No sensor data from ADCP300KHZ at LSBBL');"
      ],
      "text/plain": [
       "<IPython.core.display.Javascript object>"
      ]
     },
     "metadata": {},
     "output_type": "display_data"
    },
    {
     "data": {
      "application/javascript": [
       "console.log({'categoryCode': 'ADCP1200KHZ', 'locationCode': 'CBYIP', 'temperature': 0.45, 'depth': 9.0, 'latitude': -105.06403, 'longitude': 69.1129});"
      ],
      "text/plain": [
       "<IPython.core.display.Javascript object>"
      ]
     },
     "metadata": {},
     "output_type": "display_data"
    },
    {
     "data": {
      "application/javascript": [
       "data.push({'categoryCode': 'ADCP150KHZ', 'locationCode': 'BACME', 'temperature': 3.97, 'depth': 895.0, 'latitude': -126.058533, 'longitude': 48.314901}); updateCircles();"
      ],
      "text/plain": [
       "<IPython.core.display.Javascript object>"
      ]
     },
     "metadata": {},
     "output_type": "display_data"
    },
    {
     "data": {
      "application/javascript": [
       "console.log('No sensor data from ADCP300KHZ at PVIP');"
      ],
      "text/plain": [
       "<IPython.core.display.Javascript object>"
      ]
     },
     "metadata": {},
     "output_type": "display_data"
    },
    {
     "data": {
      "application/javascript": [
       "console.log('No sensor data from ADCP400KHZ at BACVP');"
      ],
      "text/plain": [
       "<IPython.core.display.Javascript object>"
      ]
     },
     "metadata": {},
     "output_type": "display_data"
    },
    {
     "data": {
      "application/javascript": [
       "console.log('No sensor data from ADCP600KHZ at SCBBL');"
      ],
      "text/plain": [
       "<IPython.core.display.Javascript object>"
      ]
     },
     "metadata": {},
     "output_type": "display_data"
    },
    {
     "data": {
      "application/javascript": [
       "console.log('No sensor data from ADCP400KHZ at IOST2');"
      ],
      "text/plain": [
       "<IPython.core.display.Javascript object>"
      ]
     },
     "metadata": {},
     "output_type": "display_data"
    },
    {
     "data": {
      "application/javascript": [
       "console.log('No sensor data from ADCP400KHZ at BFIP');"
      ],
      "text/plain": [
       "<IPython.core.display.Javascript object>"
      ]
     },
     "metadata": {},
     "output_type": "display_data"
    },
    {
     "data": {
      "application/javascript": [
       "console.log('No sensor data from ADCP600KHZ at LSBBL');"
      ],
      "text/plain": [
       "<IPython.core.display.Javascript object>"
      ]
     },
     "metadata": {},
     "output_type": "display_data"
    },
    {
     "data": {
      "application/javascript": [
       "console.log('No sensor data from ADCP600KHZ at SEDDL');"
      ],
      "text/plain": [
       "<IPython.core.display.Javascript object>"
      ]
     },
     "metadata": {},
     "output_type": "display_data"
    },
    {
     "data": {
      "application/javascript": [
       "console.log('No sensor data from ADCP300KHZ at FGPD');"
      ],
      "text/plain": [
       "<IPython.core.display.Javascript object>"
      ]
     },
     "metadata": {},
     "output_type": "display_data"
    },
    {
     "data": {
      "application/javascript": [
       "console.log('No sensor data from ADCP600KHZ at FGPPN');"
      ],
      "text/plain": [
       "<IPython.core.display.Javascript object>"
      ]
     },
     "metadata": {},
     "output_type": "display_data"
    },
    {
     "data": {
      "application/javascript": [
       "console.log('No sensor data from ADCP600KHZ at BACAX');"
      ],
      "text/plain": [
       "<IPython.core.display.Javascript object>"
      ]
     },
     "metadata": {},
     "output_type": "display_data"
    },
    {
     "data": {
      "application/javascript": [
       "data.push({'categoryCode': 'ADCP2MHZ', 'locationCode': 'RISB', 'temperature': 7.96, 'depth': 0.0, 'latitude': -54.122818, 'longitude': 47.31873}); updateCircles();"
      ],
      "text/plain": [
       "<IPython.core.display.Javascript object>"
      ]
     },
     "metadata": {},
     "output_type": "display_data"
    },
    {
     "data": {
      "application/javascript": [
       "console.log('No sensor data from ADCP600KHZ at PBBL');"
      ],
      "text/plain": [
       "<IPython.core.display.Javascript object>"
      ]
     },
     "metadata": {},
     "output_type": "display_data"
    },
    {
     "data": {
      "application/javascript": [
       "console.log({'categoryCode': 'ADCP150KHZ', 'locationCode': 'BACME', 'temperature': 3.97, 'depth': 895.0, 'latitude': -126.058533, 'longitude': 48.314901});"
      ],
      "text/plain": [
       "<IPython.core.display.Javascript object>"
      ]
     },
     "metadata": {},
     "output_type": "display_data"
    },
    {
     "data": {
      "application/javascript": [
       "console.log('No sensor data from ADCP75KHZ at BACAX');"
      ],
      "text/plain": [
       "<IPython.core.display.Javascript object>"
      ]
     },
     "metadata": {},
     "output_type": "display_data"
    },
    {
     "data": {
      "application/javascript": [
       "console.log('No sensor data from ADCP75KHZ at JPT');"
      ],
      "text/plain": [
       "<IPython.core.display.Javascript object>"
      ]
     },
     "metadata": {},
     "output_type": "display_data"
    },
    {
     "data": {
      "application/javascript": [
       "console.log('No sensor data from ADCP75KHZ at PVIP');"
      ],
      "text/plain": [
       "<IPython.core.display.Javascript object>"
      ]
     },
     "metadata": {},
     "output_type": "display_data"
    },
    {
     "data": {
      "application/javascript": [
       "console.log('No sensor data from ADCP75KHZ at NC89');"
      ],
      "text/plain": [
       "<IPython.core.display.Javascript object>"
      ]
     },
     "metadata": {},
     "output_type": "display_data"
    },
    {
     "data": {
      "application/javascript": [
       "console.log('No sensor data from BPR at CNE25');"
      ],
      "text/plain": [
       "<IPython.core.display.Javascript object>"
      ]
     },
     "metadata": {},
     "output_type": "display_data"
    },
    {
     "data": {
      "application/javascript": [
       "console.log('No sensor data from ADCP75KHZ at RVFK');"
      ],
      "text/plain": [
       "<IPython.core.display.Javascript object>"
      ]
     },
     "metadata": {},
     "output_type": "display_data"
    },
    {
     "data": {
      "application/javascript": [
       "console.log({'categoryCode': 'ADCP2MHZ', 'locationCode': 'RISB', 'temperature': 7.96, 'depth': 0.0, 'latitude': -54.122818, 'longitude': 47.31873});"
      ],
      "text/plain": [
       "<IPython.core.display.Javascript object>"
      ]
     },
     "metadata": {},
     "output_type": "display_data"
    },
    {
     "data": {
      "application/javascript": [
       "data.push({'categoryCode': 'ADCP150KHZ', 'locationCode': 'SCVIP', 'temperature': 9.13, 'depth': 298.0, 'latitude': -123.425809, 'longitude': 49.040683}); updateCircles();"
      ],
      "text/plain": [
       "<IPython.core.display.Javascript object>"
      ]
     },
     "metadata": {},
     "output_type": "display_data"
    },
    {
     "data": {
      "application/javascript": [
       "console.log('No sensor data from BPR at CNW12');"
      ],
      "text/plain": [
       "<IPython.core.display.Javascript object>"
      ]
     },
     "metadata": {},
     "output_type": "display_data"
    },
    {
     "data": {
      "application/javascript": [
       "console.log('No sensor data from BPR at OTTB');"
      ],
      "text/plain": [
       "<IPython.core.display.Javascript object>"
      ]
     },
     "metadata": {},
     "output_type": "display_data"
    },
    {
     "data": {
      "application/javascript": [
       "console.log('No sensor data from BPR at CSE25');"
      ],
      "text/plain": [
       "<IPython.core.display.Javascript object>"
      ]
     },
     "metadata": {},
     "output_type": "display_data"
    },
    {
     "data": {
      "application/javascript": [
       "console.log('No sensor data from BPR at NC27T.P2');"
      ],
      "text/plain": [
       "<IPython.core.display.Javascript object>"
      ]
     },
     "metadata": {},
     "output_type": "display_data"
    },
    {
     "data": {
      "application/javascript": [
       "console.log('No sensor data from BPR at CNE12');"
      ],
      "text/plain": [
       "<IPython.core.display.Javascript object>"
      ]
     },
     "metadata": {},
     "output_type": "display_data"
    },
    {
     "data": {
      "application/javascript": [
       "console.log({'categoryCode': 'ADCP150KHZ', 'locationCode': 'SCVIP', 'temperature': 9.13, 'depth': 298.0, 'latitude': -123.425809, 'longitude': 49.040683});"
      ],
      "text/plain": [
       "<IPython.core.display.Javascript object>"
      ]
     },
     "metadata": {},
     "output_type": "display_data"
    },
    {
     "data": {
      "application/javascript": [
       "console.log('No sensor data from BPR at IOST');"
      ],
      "text/plain": [
       "<IPython.core.display.Javascript object>"
      ]
     },
     "metadata": {},
     "output_type": "display_data"
    },
    {
     "data": {
      "application/javascript": [
       "console.log('No sensor data from BPR at NCHR');"
      ],
      "text/plain": [
       "<IPython.core.display.Javascript object>"
      ]
     },
     "metadata": {},
     "output_type": "display_data"
    },
    {
     "data": {
      "application/javascript": [
       "data.push({'categoryCode': 'ADCP150KHZ', 'locationCode': 'SEVIP', 'temperature': 9.73, 'depth': 166.0, 'latitude': -123.316579, 'longitude': 49.042586}); updateCircles();"
      ],
      "text/plain": [
       "<IPython.core.display.Javascript object>"
      ]
     },
     "metadata": {},
     "output_type": "display_data"
    },
    {
     "data": {
      "application/javascript": [
       "console.log('No sensor data from BPR at NC89T');"
      ],
      "text/plain": [
       "<IPython.core.display.Javascript object>"
      ]
     },
     "metadata": {},
     "output_type": "display_data"
    },
    {
     "data": {
      "application/javascript": [
       "console.log('No sensor data from BPR at CS12');"
      ],
      "text/plain": [
       "<IPython.core.display.Javascript object>"
      ]
     },
     "metadata": {},
     "output_type": "display_data"
    },
    {
     "data": {
      "application/javascript": [
       "console.log('No sensor data from CO2SENSOR at IOST2');"
      ],
      "text/plain": [
       "<IPython.core.display.Javascript object>"
      ]
     },
     "metadata": {},
     "output_type": "display_data"
    },
    {
     "data": {
      "application/javascript": [
       "data.push({'categoryCode': 'ADCP2MHZ', 'locationCode': 'BACUS', 'temperature': 5.58, 'depth': 394.0, 'latitude': -126.174741, 'longitude': 48.426949}); updateCircles();"
      ],
      "text/plain": [
       "<IPython.core.display.Javascript object>"
      ]
     },
     "metadata": {},
     "output_type": "display_data"
    },
    {
     "data": {
      "application/javascript": [
       "data.push({'categoryCode': 'ADCP1MHZ', 'locationCode': 'USDDL', 'temperature': 9.85, 'depth': 109.0, 'latitude': -123.330155, 'longitude': 49.085095}); updateCircles();"
      ],
      "text/plain": [
       "<IPython.core.display.Javascript object>"
      ]
     },
     "metadata": {},
     "output_type": "display_data"
    },
    {
     "data": {
      "application/javascript": [
       "console.log('No sensor data from CO2SENSOR at BACVP');"
      ],
      "text/plain": [
       "<IPython.core.display.Javascript object>"
      ]
     },
     "metadata": {},
     "output_type": "display_data"
    },
    {
     "data": {
      "application/javascript": [
       "data.push({'categoryCode': 'ADCP2MHZ', 'locationCode': 'BACME', 'temperature': 4.14, 'depth': 893.0, 'latitude': -126.058587, 'longitude': 48.31494}); updateCircles();"
      ],
      "text/plain": [
       "<IPython.core.display.Javascript object>"
      ]
     },
     "metadata": {},
     "output_type": "display_data"
    },
    {
     "data": {
      "application/javascript": [
       "console.log('No sensor data from CO2SENSOR at OAP');"
      ],
      "text/plain": [
       "<IPython.core.display.Javascript object>"
      ]
     },
     "metadata": {},
     "output_type": "display_data"
    },
    {
     "data": {
      "application/javascript": [
       "console.log('No sensor data from CO2SENSOR at CBYIP.D2');"
      ],
      "text/plain": [
       "<IPython.core.display.Javascript object>"
      ]
     },
     "metadata": {},
     "output_type": "display_data"
    },
    {
     "data": {
      "application/javascript": [
       "console.log({'categoryCode': 'ADCP1MHZ', 'locationCode': 'USDDL', 'temperature': 9.85, 'depth': 109.0, 'latitude': -123.330155, 'longitude': 49.085095});"
      ],
      "text/plain": [
       "<IPython.core.display.Javascript object>"
      ]
     },
     "metadata": {},
     "output_type": "display_data"
    },
    {
     "data": {
      "application/javascript": [
       "console.log({'categoryCode': 'ADCP150KHZ', 'locationCode': 'SEVIP', 'temperature': 9.73, 'depth': 166.0, 'latitude': -123.316579, 'longitude': 49.042586});"
      ],
      "text/plain": [
       "<IPython.core.display.Javascript object>"
      ]
     },
     "metadata": {},
     "output_type": "display_data"
    },
    {
     "data": {
      "application/javascript": [
       "console.log({'categoryCode': 'ADCP2MHZ', 'locationCode': 'BACUS', 'temperature': 5.58, 'depth': 394.0, 'latitude': -126.174741, 'longitude': 48.426949});"
      ],
      "text/plain": [
       "<IPython.core.display.Javascript object>"
      ]
     },
     "metadata": {},
     "output_type": "display_data"
    },
    {
     "data": {
      "application/javascript": [
       "console.log('No sensor data from CTD at BACCH');"
      ],
      "text/plain": [
       "<IPython.core.display.Javascript object>"
      ]
     },
     "metadata": {},
     "output_type": "display_data"
    },
    {
     "data": {
      "application/javascript": [
       "console.log('No sensor data from CTD at CRIP.C2');"
      ],
      "text/plain": [
       "<IPython.core.display.Javascript object>"
      ]
     },
     "metadata": {},
     "output_type": "display_data"
    },
    {
     "data": {
      "application/javascript": [
       "console.log({'categoryCode': 'ADCP2MHZ', 'locationCode': 'BACME', 'temperature': 4.14, 'depth': 893.0, 'latitude': -126.058587, 'longitude': 48.31494});"
      ],
      "text/plain": [
       "<IPython.core.display.Javascript object>"
      ]
     },
     "metadata": {},
     "output_type": "display_data"
    },
    {
     "data": {
      "application/javascript": [
       "console.log('No sensor data from CTD at CFMTC3');"
      ],
      "text/plain": [
       "<IPython.core.display.Javascript object>"
      ]
     },
     "metadata": {},
     "output_type": "display_data"
    },
    {
     "data": {
      "application/javascript": [
       "console.log('No sensor data from CTD at BDYPM');"
      ],
      "text/plain": [
       "<IPython.core.display.Javascript object>"
      ]
     },
     "metadata": {},
     "output_type": "display_data"
    },
    {
     "data": {
      "application/javascript": [
       "console.log('No sensor data from CTD at BACVP');"
      ],
      "text/plain": [
       "<IPython.core.display.Javascript object>"
      ]
     },
     "metadata": {},
     "output_type": "display_data"
    },
    {
     "data": {
      "application/javascript": [
       "console.log('No sensor data from CTD at BACHY');"
      ],
      "text/plain": [
       "<IPython.core.display.Javascript object>"
      ]
     },
     "metadata": {},
     "output_type": "display_data"
    },
    {
     "data": {
      "application/javascript": [
       "console.log('No sensor data from CTD at BACWL');"
      ],
      "text/plain": [
       "<IPython.core.display.Javascript object>"
      ]
     },
     "metadata": {},
     "output_type": "display_data"
    },
    {
     "data": {
      "application/javascript": [
       "console.log('No sensor data from CTD at BFIP');"
      ],
      "text/plain": [
       "<IPython.core.display.Javascript object>"
      ]
     },
     "metadata": {},
     "output_type": "display_data"
    },
    {
     "data": {
      "application/javascript": [
       "data.push({'categoryCode': 'ADCP600KHZ', 'locationCode': 'BACUS', 'temperature': 5.51, 'depth': 393.0, 'latitude': -126.174789, 'longitude': 48.426958}); updateCircles();"
      ],
      "text/plain": [
       "<IPython.core.display.Javascript object>"
      ]
     },
     "metadata": {},
     "output_type": "display_data"
    },
    {
     "data": {
      "application/javascript": [
       "console.log('No sensor data from CTD at CFMTC2');"
      ],
      "text/plain": [
       "<IPython.core.display.Javascript object>"
      ]
     },
     "metadata": {},
     "output_type": "display_data"
    },
    {
     "data": {
      "application/javascript": [
       "console.log('No sensor data from CTD at JF2C');"
      ],
      "text/plain": [
       "<IPython.core.display.Javascript object>"
      ]
     },
     "metadata": {},
     "output_type": "display_data"
    },
    {
     "data": {
      "application/javascript": [
       "console.log('No sensor data from CTD at CFMTC');"
      ],
      "text/plain": [
       "<IPython.core.display.Javascript object>"
      ]
     },
     "metadata": {},
     "output_type": "display_data"
    },
    {
     "data": {
      "application/javascript": [
       "console.log('No sensor data from CTD at CFMTC4');"
      ],
      "text/plain": [
       "<IPython.core.display.Javascript object>"
      ]
     },
     "metadata": {},
     "output_type": "display_data"
    },
    {
     "data": {
      "application/javascript": [
       "console.log('No sensor data from CTD at IOST2');"
      ],
      "text/plain": [
       "<IPython.core.display.Javascript object>"
      ]
     },
     "metadata": {},
     "output_type": "display_data"
    },
    {
     "data": {
      "application/javascript": [
       "console.log({'categoryCode': 'ADCP600KHZ', 'locationCode': 'BACUS', 'temperature': 5.51, 'depth': 393.0, 'latitude': -126.174789, 'longitude': 48.426958});"
      ],
      "text/plain": [
       "<IPython.core.display.Javascript object>"
      ]
     },
     "metadata": {},
     "output_type": "display_data"
    },
    {
     "data": {
      "application/javascript": [
       "console.log('No sensor data from CTD at HERC');"
      ],
      "text/plain": [
       "<IPython.core.display.Javascript object>"
      ]
     },
     "metadata": {},
     "output_type": "display_data"
    },
    {
     "data": {
      "application/javascript": [
       "data.push({'categoryCode': 'ADCP55KHZ', 'locationCode': 'BACAX', 'temperature': 4.95, 'depth': 981.0, 'latitude': -126.050718, 'longitude': 48.31664}); updateCircles();"
      ],
      "text/plain": [
       "<IPython.core.display.Javascript object>"
      ]
     },
     "metadata": {},
     "output_type": "display_data"
    },
    {
     "data": {
      "application/javascript": [
       "console.log('No sensor data from CTD at LSBBL');"
      ],
      "text/plain": [
       "<IPython.core.display.Javascript object>"
      ]
     },
     "metadata": {},
     "output_type": "display_data"
    },
    {
     "data": {
      "application/javascript": [
       "console.log('No sensor data from CTD at JAS2');"
      ],
      "text/plain": [
       "<IPython.core.display.Javascript object>"
      ]
     },
     "metadata": {},
     "output_type": "display_data"
    },
    {
     "data": {
      "application/javascript": [
       "console.log('No sensor data from CTD at HERC.S1');"
      ],
      "text/plain": [
       "<IPython.core.display.Javascript object>"
      ]
     },
     "metadata": {},
     "output_type": "display_data"
    },
    {
     "data": {
      "application/javascript": [
       "console.log('No sensor data from CTD at LSDDL');"
      ],
      "text/plain": [
       "<IPython.core.display.Javascript object>"
      ]
     },
     "metadata": {},
     "output_type": "display_data"
    },
    {
     "data": {
      "application/javascript": [
       "console.log('No sensor data from CTD at JFCN');"
      ],
      "text/plain": [
       "<IPython.core.display.Javascript object>"
      ]
     },
     "metadata": {},
     "output_type": "display_data"
    },
    {
     "data": {
      "application/javascript": [
       "console.log('No sensor data from CTD at MAC');"
      ],
      "text/plain": [
       "<IPython.core.display.Javascript object>"
      ]
     },
     "metadata": {},
     "output_type": "display_data"
    },
    {
     "data": {
      "application/javascript": [
       "console.log('No sensor data from CTD at PHDW');"
      ],
      "text/plain": [
       "<IPython.core.display.Javascript object>"
      ]
     },
     "metadata": {},
     "output_type": "display_data"
    },
    {
     "data": {
      "application/javascript": [
       "console.log({'categoryCode': 'ADCP55KHZ', 'locationCode': 'BACAX', 'temperature': 4.95, 'depth': 981.0, 'latitude': -126.050718, 'longitude': 48.31664});"
      ],
      "text/plain": [
       "<IPython.core.display.Javascript object>"
      ]
     },
     "metadata": {},
     "output_type": "display_data"
    },
    {
     "data": {
      "application/javascript": [
       "console.log('No sensor data from CTD at FGPPN');"
      ],
      "text/plain": [
       "<IPython.core.display.Javascript object>"
      ]
     },
     "metadata": {},
     "output_type": "display_data"
    },
    {
     "data": {
      "application/javascript": [
       "console.log('No sensor data from CTD at OAP');"
      ],
      "text/plain": [
       "<IPython.core.display.Javascript object>"
      ]
     },
     "metadata": {},
     "output_type": "display_data"
    },
    {
     "data": {
      "application/javascript": [
       "console.log('No sensor data from CTD at ODYSS');"
      ],
      "text/plain": [
       "<IPython.core.display.Javascript object>"
      ]
     },
     "metadata": {},
     "output_type": "display_data"
    },
    {
     "data": {
      "application/javascript": [
       "console.log('No sensor data from CTD at LND1');"
      ],
      "text/plain": [
       "<IPython.core.display.Javascript object>"
      ]
     },
     "metadata": {},
     "output_type": "display_data"
    },
    {
     "data": {
      "application/javascript": [
       "console.log('No sensor data from CTD at NQU5');"
      ],
      "text/plain": [
       "<IPython.core.display.Javascript object>"
      ]
     },
     "metadata": {},
     "output_type": "display_data"
    },
    {
     "data": {
      "application/javascript": [
       "console.log('No sensor data from CTD at PDCF');"
      ],
      "text/plain": [
       "<IPython.core.display.Javascript object>"
      ]
     },
     "metadata": {},
     "output_type": "display_data"
    },
    {
     "data": {
      "application/javascript": [
       "console.log('No sensor data from CTD at P3D');"
      ],
      "text/plain": [
       "<IPython.core.display.Javascript object>"
      ]
     },
     "metadata": {},
     "output_type": "display_data"
    },
    {
     "data": {
      "application/javascript": [
       "console.log('No sensor data from ADCP300KHZ at SILL');"
      ],
      "text/plain": [
       "<IPython.core.display.Javascript object>"
      ]
     },
     "metadata": {},
     "output_type": "display_data"
    },
    {
     "data": {
      "application/javascript": [
       "console.log('No sensor data from CTD at PVIP.C3');"
      ],
      "text/plain": [
       "<IPython.core.display.Javascript object>"
      ]
     },
     "metadata": {},
     "output_type": "display_data"
    },
    {
     "data": {
      "application/javascript": [
       "console.log('No sensor data from CTD at PDCF2');"
      ],
      "text/plain": [
       "<IPython.core.display.Javascript object>"
      ]
     },
     "metadata": {},
     "output_type": "display_data"
    },
    {
     "data": {
      "application/javascript": [
       "console.log('No sensor data from CTD at P07');"
      ],
      "text/plain": [
       "<IPython.core.display.Javascript object>"
      ]
     },
     "metadata": {},
     "output_type": "display_data"
    },
    {
     "data": {
      "application/javascript": [
       "console.log('No sensor data from CTD at PBBL');"
      ],
      "text/plain": [
       "<IPython.core.display.Javascript object>"
      ]
     },
     "metadata": {},
     "output_type": "display_data"
    },
    {
     "data": {
      "application/javascript": [
       "console.log('No sensor data from CTD at PRV2');"
      ],
      "text/plain": [
       "<IPython.core.display.Javascript object>"
      ]
     },
     "metadata": {},
     "output_type": "display_data"
    },
    {
     "data": {
      "application/javascript": [
       "console.log('No sensor data from CTD at RCNW3');"
      ],
      "text/plain": [
       "<IPython.core.display.Javascript object>"
      ]
     },
     "metadata": {},
     "output_type": "display_data"
    },
    {
     "data": {
      "application/javascript": [
       "console.log('No sensor data from CTD at ROPOS.S2');"
      ],
      "text/plain": [
       "<IPython.core.display.Javascript object>"
      ]
     },
     "metadata": {},
     "output_type": "display_data"
    },
    {
     "data": {
      "application/javascript": [
       "console.log('No sensor data from CTD at PVIP.C2');"
      ],
      "text/plain": [
       "<IPython.core.display.Javascript object>"
      ]
     },
     "metadata": {},
     "output_type": "display_data"
    },
    {
     "data": {
      "application/javascript": [
       "console.log('No sensor data from CTD at ROPOS.S1');"
      ],
      "text/plain": [
       "<IPython.core.display.Javascript object>"
      ]
     },
     "metadata": {},
     "output_type": "display_data"
    },
    {
     "data": {
      "application/javascript": [
       "console.log('No sensor data from CTD at ROVMP');"
      ],
      "text/plain": [
       "<IPython.core.display.Javascript object>"
      ]
     },
     "metadata": {},
     "output_type": "display_data"
    },
    {
     "data": {
      "application/javascript": [
       "data.push({'categoryCode': 'ADCP300KHZ', 'locationCode': 'USDDL', 'temperature': 9.83, 'depth': 109.0, 'latitude': -123.330155, 'longitude': 49.085095}); updateCircles();"
      ],
      "text/plain": [
       "<IPython.core.display.Javascript object>"
      ]
     },
     "metadata": {},
     "output_type": "display_data"
    },
    {
     "data": {
      "application/javascript": [
       "console.log('No sensor data from CTD at SCBBL');"
      ],
      "text/plain": [
       "<IPython.core.display.Javascript object>"
      ]
     },
     "metadata": {},
     "output_type": "display_data"
    },
    {
     "data": {
      "application/javascript": [
       "console.log({'categoryCode': 'ADCP300KHZ', 'locationCode': 'USDDL', 'temperature': 9.83, 'depth': 109.0, 'latitude': -123.330155, 'longitude': 49.085095});"
      ],
      "text/plain": [
       "<IPython.core.display.Javascript object>"
      ]
     },
     "metadata": {},
     "output_type": "display_data"
    },
    {
     "data": {
      "application/javascript": [
       "console.log('No sensor data from CTD at CWB10');"
      ],
      "text/plain": [
       "<IPython.core.display.Javascript object>"
      ]
     },
     "metadata": {},
     "output_type": "display_data"
    },
    {
     "data": {
      "application/javascript": [
       "console.log('No sensor data from CTD at SL346');"
      ],
      "text/plain": [
       "<IPython.core.display.Javascript object>"
      ]
     },
     "metadata": {},
     "output_type": "display_data"
    },
    {
     "data": {
      "application/javascript": [
       "console.log('No sensor data from CTD at SEHDW');"
      ],
      "text/plain": [
       "<IPython.core.display.Javascript object>"
      ]
     },
     "metadata": {},
     "output_type": "display_data"
    },
    {
     "data": {
      "application/javascript": [
       "data.push({'categoryCode': 'ADCP600KHZ', 'locationCode': 'KEMF', 'temperature': 1.8800000000000001, 'depth': 2195.0, 'latitude': -129.098226, 'longitude': 47.949091}); updateCircles();"
      ],
      "text/plain": [
       "<IPython.core.display.Javascript object>"
      ]
     },
     "metadata": {},
     "output_type": "display_data"
    },
    {
     "data": {
      "application/javascript": [
       "console.log('No sensor data from CTD at SCHDW');"
      ],
      "text/plain": [
       "<IPython.core.display.Javascript object>"
      ]
     },
     "metadata": {},
     "output_type": "display_data"
    },
    {
     "data": {
      "application/javascript": [
       "console.log('No sensor data from CTD at NQU4');"
      ],
      "text/plain": [
       "<IPython.core.display.Javascript object>"
      ]
     },
     "metadata": {},
     "output_type": "display_data"
    },
    {
     "data": {
      "application/javascript": [
       "console.log('No sensor data from CTD at ROVOE');"
      ],
      "text/plain": [
       "<IPython.core.display.Javascript object>"
      ]
     },
     "metadata": {},
     "output_type": "display_data"
    },
    {
     "data": {
      "application/javascript": [
       "console.log('No sensor data from CTD at VIC9');"
      ],
      "text/plain": [
       "<IPython.core.display.Javascript object>"
      ]
     },
     "metadata": {},
     "output_type": "display_data"
    },
    {
     "data": {
      "application/javascript": [
       "console.log({'categoryCode': 'ADCP600KHZ', 'locationCode': 'KEMF', 'temperature': 1.8800000000000001, 'depth': 2195.0, 'latitude': -129.098226, 'longitude': 47.949091});"
      ],
      "text/plain": [
       "<IPython.core.display.Javascript object>"
      ]
     },
     "metadata": {},
     "output_type": "display_data"
    },
    {
     "data": {
      "application/javascript": [
       "console.log('No sensor data from CTD at SEDDL');"
      ],
      "text/plain": [
       "<IPython.core.display.Javascript object>"
      ]
     },
     "metadata": {},
     "output_type": "display_data"
    },
    {
     "data": {
      "application/javascript": [
       "console.log('No sensor data from CTD at SEVIP.C2');"
      ],
      "text/plain": [
       "<IPython.core.display.Javascript object>"
      ]
     },
     "metadata": {},
     "output_type": "display_data"
    },
    {
     "data": {
      "application/javascript": [
       "console.log('No sensor data from CURRENTMETER at LSDDL.R1');"
      ],
      "text/plain": [
       "<IPython.core.display.Javascript object>"
      ]
     },
     "metadata": {},
     "output_type": "display_data"
    },
    {
     "data": {
      "application/javascript": [
       "console.log('No sensor data from CTD at YPVPF');"
      ],
      "text/plain": [
       "<IPython.core.display.Javascript object>"
      ]
     },
     "metadata": {},
     "output_type": "display_data"
    },
    {
     "data": {
      "application/javascript": [
       "console.log('No sensor data from CURRENTMETER at AS04');"
      ],
      "text/plain": [
       "<IPython.core.display.Javascript object>"
      ]
     },
     "metadata": {},
     "output_type": "display_data"
    },
    {
     "data": {
      "application/javascript": [
       "console.log('No sensor data from CURRENTMETER at BACCH');"
      ],
      "text/plain": [
       "<IPython.core.display.Javascript object>"
      ]
     },
     "metadata": {},
     "output_type": "display_data"
    },
    {
     "data": {
      "application/javascript": [
       "console.log('No sensor data from CTD at YPVPP.C1');"
      ],
      "text/plain": [
       "<IPython.core.display.Javascript object>"
      ]
     },
     "metadata": {},
     "output_type": "display_data"
    },
    {
     "data": {
      "application/javascript": [
       "console.log('No sensor data from CURRENTMETER at JF2C');"
      ],
      "text/plain": [
       "<IPython.core.display.Javascript object>"
      ]
     },
     "metadata": {},
     "output_type": "display_data"
    },
    {
     "data": {
      "application/javascript": [
       "console.log('No sensor data from CURRENTMETER at LSHA');"
      ],
      "text/plain": [
       "<IPython.core.display.Javascript object>"
      ]
     },
     "metadata": {},
     "output_type": "display_data"
    },
    {
     "data": {
      "application/javascript": [
       "console.log('No sensor data from CURRENTMETER at PBBL');"
      ],
      "text/plain": [
       "<IPython.core.display.Javascript object>"
      ]
     },
     "metadata": {},
     "output_type": "display_data"
    },
    {
     "data": {
      "application/javascript": [
       "console.log('No sensor data from CURRENTMETER at LSDDL.R2');"
      ],
      "text/plain": [
       "<IPython.core.display.Javascript object>"
      ]
     },
     "metadata": {},
     "output_type": "display_data"
    },
    {
     "data": {
      "application/javascript": [
       "console.log('No sensor data from CTD at YPVPP.C2');"
      ],
      "text/plain": [
       "<IPython.core.display.Javascript object>"
      ]
     },
     "metadata": {},
     "output_type": "display_data"
    },
    {
     "data": {
      "application/javascript": [
       "console.log('No sensor data from CTD at ZEUS2');"
      ],
      "text/plain": [
       "<IPython.core.display.Javascript object>"
      ]
     },
     "metadata": {},
     "output_type": "display_data"
    },
    {
     "data": {
      "application/javascript": [
       "console.log('No sensor data from CURRENTMETER at LSBBL');"
      ],
      "text/plain": [
       "<IPython.core.display.Javascript object>"
      ]
     },
     "metadata": {},
     "output_type": "display_data"
    },
    {
     "data": {
      "application/javascript": [
       "console.log('No sensor data from CURRENTMETER at BDYPM');"
      ],
      "text/plain": [
       "<IPython.core.display.Javascript object>"
      ]
     },
     "metadata": {},
     "output_type": "display_data"
    },
    {
     "data": {
      "application/javascript": [
       "console.log('No sensor data from CURRENTMETER at IOST');"
      ],
      "text/plain": [
       "<IPython.core.display.Javascript object>"
      ]
     },
     "metadata": {},
     "output_type": "display_data"
    },
    {
     "data": {
      "application/javascript": [
       "console.log('No sensor data from CURRENTMETER at BACWL');"
      ],
      "text/plain": [
       "<IPython.core.display.Javascript object>"
      ]
     },
     "metadata": {},
     "output_type": "display_data"
    },
    {
     "data": {
      "application/javascript": [
       "console.log('No sensor data from CURRENTMETER at FGPPN');"
      ],
      "text/plain": [
       "<IPython.core.display.Javascript object>"
      ]
     },
     "metadata": {},
     "output_type": "display_data"
    },
    {
     "data": {
      "application/javascript": [
       "console.log('No sensor data from CURRENTMETER at JFCN');"
      ],
      "text/plain": [
       "<IPython.core.display.Javascript object>"
      ]
     },
     "metadata": {},
     "output_type": "display_data"
    },
    {
     "data": {
      "application/javascript": [
       "console.log('No sensor data from CURRENTMETER at MAC');"
      ],
      "text/plain": [
       "<IPython.core.display.Javascript object>"
      ]
     },
     "metadata": {},
     "output_type": "display_data"
    },
    {
     "data": {
      "application/javascript": [
       "console.log('No sensor data from CTD at YPVPP');"
      ],
      "text/plain": [
       "<IPython.core.display.Javascript object>"
      ]
     },
     "metadata": {},
     "output_type": "display_data"
    },
    {
     "data": {
      "application/javascript": [
       "console.log('No sensor data from CURRENTMETER at PDCF.R2');"
      ],
      "text/plain": [
       "<IPython.core.display.Javascript object>"
      ]
     },
     "metadata": {},
     "output_type": "display_data"
    },
    {
     "data": {
      "application/javascript": [
       "console.log('No sensor data from CURRENTMETER at PVIP');"
      ],
      "text/plain": [
       "<IPython.core.display.Javascript object>"
      ]
     },
     "metadata": {},
     "output_type": "display_data"
    },
    {
     "data": {
      "application/javascript": [
       "console.log('No sensor data from CURRENTMETER at PDCF.R1');"
      ],
      "text/plain": [
       "<IPython.core.display.Javascript object>"
      ]
     },
     "metadata": {},
     "output_type": "display_data"
    },
    {
     "data": {
      "application/javascript": [
       "console.log('No sensor data from DIVE_COMPUTER at CBYDS');"
      ],
      "text/plain": [
       "<IPython.core.display.Javascript object>"
      ]
     },
     "metadata": {},
     "output_type": "display_data"
    },
    {
     "data": {
      "application/javascript": [
       "data.push({'categoryCode': 'ADCP75KHZ', 'locationCode': 'RCNW5', 'temperature': 2.0100000000000002, 'depth': 1898.0, 'latitude': -129.08715, 'longitude': 47.974647}); updateCircles();"
      ],
      "text/plain": [
       "<IPython.core.display.Javascript object>"
      ]
     },
     "metadata": {},
     "output_type": "display_data"
    },
    {
     "data": {
      "application/javascript": [
       "console.log('No sensor data from CURRENTMETER at USDDL.R1');"
      ],
      "text/plain": [
       "<IPython.core.display.Javascript object>"
      ]
     },
     "metadata": {},
     "output_type": "display_data"
    },
    {
     "data": {
      "application/javascript": [
       "console.log('No sensor data from CURRENTMETER at SEDDL.R2');"
      ],
      "text/plain": [
       "<IPython.core.display.Javascript object>"
      ]
     },
     "metadata": {},
     "output_type": "display_data"
    },
    {
     "data": {
      "application/javascript": [
       "console.log('No sensor data from CURRENTMETER at SCBBL');"
      ],
      "text/plain": [
       "<IPython.core.display.Javascript object>"
      ]
     },
     "metadata": {},
     "output_type": "display_data"
    },
    {
     "data": {
      "application/javascript": [
       "console.log('No sensor data from CURRENTMETER at SEDDL.R1');"
      ],
      "text/plain": [
       "<IPython.core.display.Javascript object>"
      ]
     },
     "metadata": {},
     "output_type": "display_data"
    },
    {
     "data": {
      "application/javascript": [
       "console.log({'categoryCode': 'ADCP75KHZ', 'locationCode': 'RCNW5', 'temperature': 2.0100000000000002, 'depth': 1898.0, 'latitude': -129.08715, 'longitude': 47.974647});"
      ],
      "text/plain": [
       "<IPython.core.display.Javascript object>"
      ]
     },
     "metadata": {},
     "output_type": "display_data"
    },
    {
     "data": {
      "application/javascript": [
       "console.log('No sensor data from CURRENTMETER at USDDL.R2');"
      ],
      "text/plain": [
       "<IPython.core.display.Javascript object>"
      ]
     },
     "metadata": {},
     "output_type": "display_data"
    },
    {
     "data": {
      "application/javascript": [
       "data.push({'categoryCode': 'ADCP75KHZ', 'locationCode': 'RCSE5.A1', 'temperature': 2.06, 'depth': 1977.0, 'latitude': -129.098893, 'longitude': 47.933395}); updateCircles();"
      ],
      "text/plain": [
       "<IPython.core.display.Javascript object>"
      ]
     },
     "metadata": {},
     "output_type": "display_data"
    },
    {
     "data": {
      "application/javascript": [
       "console.log('No sensor data from ECHOSOUNDERBIOA at IOST2');"
      ],
      "text/plain": [
       "<IPython.core.display.Javascript object>"
      ]
     },
     "metadata": {},
     "output_type": "display_data"
    },
    {
     "data": {
      "application/javascript": [
       "console.log('No sensor data from ECHOSOUNDERBIOA at RVFK');"
      ],
      "text/plain": [
       "<IPython.core.display.Javascript object>"
      ]
     },
     "metadata": {},
     "output_type": "display_data"
    },
    {
     "data": {
      "application/javascript": [
       "console.log('No sensor data from ECHOSOUNDERBIOA at BACVP');"
      ],
      "text/plain": [
       "<IPython.core.display.Javascript object>"
      ]
     },
     "metadata": {},
     "output_type": "display_data"
    },
    {
     "data": {
      "application/javascript": [
       "console.log('No sensor data from ECHOSOUNDERBIOA at FGPD');"
      ],
      "text/plain": [
       "<IPython.core.display.Javascript object>"
      ]
     },
     "metadata": {},
     "output_type": "display_data"
    },
    {
     "data": {
      "application/javascript": [
       "console.log('No sensor data from ECHOSOUNDERBIOA at YPVPF');"
      ],
      "text/plain": [
       "<IPython.core.display.Javascript object>"
      ]
     },
     "metadata": {},
     "output_type": "display_data"
    },
    {
     "data": {
      "application/javascript": [
       "console.log({'categoryCode': 'ADCP75KHZ', 'locationCode': 'RCSE5.A1', 'temperature': 2.06, 'depth': 1977.0, 'latitude': -129.098893, 'longitude': 47.933395});"
      ],
      "text/plain": [
       "<IPython.core.display.Javascript object>"
      ]
     },
     "metadata": {},
     "output_type": "display_data"
    },
    {
     "data": {
      "application/javascript": [
       "console.log('No sensor data from ECHOSOUNDERBIOA at JPT');"
      ],
      "text/plain": [
       "<IPython.core.display.Javascript object>"
      ]
     },
     "metadata": {},
     "output_type": "display_data"
    },
    {
     "data": {
      "application/javascript": [
       "console.log('No sensor data from METHSENSOR at BACWL.M1');"
      ],
      "text/plain": [
       "<IPython.core.display.Javascript object>"
      ]
     },
     "metadata": {},
     "output_type": "display_data"
    },
    {
     "data": {
      "application/javascript": [
       "console.log('No sensor data from ECHOSOUNDERBIOA at USDDL');"
      ],
      "text/plain": [
       "<IPython.core.display.Javascript object>"
      ]
     },
     "metadata": {},
     "output_type": "display_data"
    },
    {
     "data": {
      "application/javascript": [
       "console.log('No sensor data from ECHOSOUNDERBIOA at P3D');"
      ],
      "text/plain": [
       "<IPython.core.display.Javascript object>"
      ]
     },
     "metadata": {},
     "output_type": "display_data"
    },
    {
     "data": {
      "application/javascript": [
       "console.log('No sensor data from CTD at DDISC');"
      ],
      "text/plain": [
       "<IPython.core.display.Javascript object>"
      ]
     },
     "metadata": {},
     "output_type": "display_data"
    },
    {
     "data": {
      "application/javascript": [
       "console.log('No sensor data from MBPROFILESONAR at BACME');"
      ],
      "text/plain": [
       "<IPython.core.display.Javascript object>"
      ]
     },
     "metadata": {},
     "output_type": "display_data"
    },
    {
     "data": {
      "application/javascript": [
       "console.log('No sensor data from ECHOSOUNDERBIOA at PDCF');"
      ],
      "text/plain": [
       "<IPython.core.display.Javascript object>"
      ]
     },
     "metadata": {},
     "output_type": "display_data"
    },
    {
     "data": {
      "application/javascript": [
       "console.log('No sensor data from ECHOSOUNDERBIOA at LSDDL');"
      ],
      "text/plain": [
       "<IPython.core.display.Javascript object>"
      ]
     },
     "metadata": {},
     "output_type": "display_data"
    },
    {
     "data": {
      "application/javascript": [
       "console.log('No sensor data from ECHOSOUNDERBIOA at SCVIP');"
      ],
      "text/plain": [
       "<IPython.core.display.Javascript object>"
      ]
     },
     "metadata": {},
     "output_type": "display_data"
    },
    {
     "data": {
      "application/javascript": [
       "console.log('No sensor data from OXYSENSOR at BACHY');"
      ],
      "text/plain": [
       "<IPython.core.display.Javascript object>"
      ]
     },
     "metadata": {},
     "output_type": "display_data"
    },
    {
     "data": {
      "application/javascript": [
       "console.log('No sensor data from ECHOSOUNDERBIOA at SEDDL');"
      ],
      "text/plain": [
       "<IPython.core.display.Javascript object>"
      ]
     },
     "metadata": {},
     "output_type": "display_data"
    },
    {
     "data": {
      "application/javascript": [
       "console.log('No sensor data from METHSENSOR at BACWL.M2');"
      ],
      "text/plain": [
       "<IPython.core.display.Javascript object>"
      ]
     },
     "metadata": {},
     "output_type": "display_data"
    },
    {
     "data": {
      "application/javascript": [
       "console.log('No sensor data from OXYSENSOR at BFIP');"
      ],
      "text/plain": [
       "<IPython.core.display.Javascript object>"
      ]
     },
     "metadata": {},
     "output_type": "display_data"
    },
    {
     "data": {
      "application/javascript": [
       "data.push({'categoryCode': 'ADCP75KHZ', 'locationCode': 'RCSE5.A2', 'temperature': 2.2, 'depth': 1977.0, 'latitude': -129.098893, 'longitude': 47.933395}); updateCircles();"
      ],
      "text/plain": [
       "<IPython.core.display.Javascript object>"
      ]
     },
     "metadata": {},
     "output_type": "display_data"
    },
    {
     "data": {
      "application/javascript": [
       "console.log('No sensor data from OXYSENSOR at JAS2');"
      ],
      "text/plain": [
       "<IPython.core.display.Javascript object>"
      ]
     },
     "metadata": {},
     "output_type": "display_data"
    },
    {
     "data": {
      "application/javascript": [
       "console.log('No sensor data from OXYSENSOR at BACCH');"
      ],
      "text/plain": [
       "<IPython.core.display.Javascript object>"
      ]
     },
     "metadata": {},
     "output_type": "display_data"
    },
    {
     "data": {
      "application/javascript": [
       "console.log('No sensor data from OXYSENSOR at BACVP.O2');"
      ],
      "text/plain": [
       "<IPython.core.display.Javascript object>"
      ]
     },
     "metadata": {},
     "output_type": "display_data"
    },
    {
     "data": {
      "application/javascript": [
       "console.log({'categoryCode': 'ADCP75KHZ', 'locationCode': 'RCSE5.A2', 'temperature': 2.2, 'depth': 1977.0, 'latitude': -129.098893, 'longitude': 47.933395});"
      ],
      "text/plain": [
       "<IPython.core.display.Javascript object>"
      ]
     },
     "metadata": {},
     "output_type": "display_data"
    },
    {
     "data": {
      "application/javascript": [
       "console.log('No sensor data from OXYSENSOR at CRIP.O2');"
      ],
      "text/plain": [
       "<IPython.core.display.Javascript object>"
      ]
     },
     "metadata": {},
     "output_type": "display_data"
    },
    {
     "data": {
      "application/javascript": [
       "console.log('No sensor data from OXYSENSOR at GAL9');"
      ],
      "text/plain": [
       "<IPython.core.display.Javascript object>"
      ]
     },
     "metadata": {},
     "output_type": "display_data"
    },
    {
     "data": {
      "application/javascript": [
       "console.log('No sensor data from OXYSENSOR at CFMTC4');"
      ],
      "text/plain": [
       "<IPython.core.display.Javascript object>"
      ]
     },
     "metadata": {},
     "output_type": "display_data"
    },
    {
     "data": {
      "application/javascript": [
       "console.log('No sensor data from OXYSENSOR at CFMTC3');"
      ],
      "text/plain": [
       "<IPython.core.display.Javascript object>"
      ]
     },
     "metadata": {},
     "output_type": "display_data"
    },
    {
     "data": {
      "application/javascript": [
       "console.log('No sensor data from OXYSENSOR at BACVP.O1');"
      ],
      "text/plain": [
       "<IPython.core.display.Javascript object>"
      ]
     },
     "metadata": {},
     "output_type": "display_data"
    },
    {
     "data": {
      "application/javascript": [
       "console.log('No sensor data from OXYSENSOR at IOST2');"
      ],
      "text/plain": [
       "<IPython.core.display.Javascript object>"
      ]
     },
     "metadata": {},
     "output_type": "display_data"
    },
    {
     "data": {
      "application/javascript": [
       "console.log('No sensor data from OXYSENSOR at CFMTC2');"
      ],
      "text/plain": [
       "<IPython.core.display.Javascript object>"
      ]
     },
     "metadata": {},
     "output_type": "display_data"
    },
    {
     "data": {
      "application/javascript": [
       "console.log('No sensor data from OXYSENSOR at CFMTC');"
      ],
      "text/plain": [
       "<IPython.core.display.Javascript object>"
      ]
     },
     "metadata": {},
     "output_type": "display_data"
    },
    {
     "data": {
      "application/javascript": [
       "console.log('No sensor data from OXYSENSOR at FGPPN');"
      ],
      "text/plain": [
       "<IPython.core.display.Javascript object>"
      ]
     },
     "metadata": {},
     "output_type": "display_data"
    },
    {
     "data": {
      "application/javascript": [
       "console.log('No sensor data from OXYSENSOR at JFCN');"
      ],
      "text/plain": [
       "<IPython.core.display.Javascript object>"
      ]
     },
     "metadata": {},
     "output_type": "display_data"
    },
    {
     "data": {
      "application/javascript": [
       "console.log('No sensor data from OXYSENSOR at ROPOS');"
      ],
      "text/plain": [
       "<IPython.core.display.Javascript object>"
      ]
     },
     "metadata": {},
     "output_type": "display_data"
    },
    {
     "data": {
      "application/javascript": [
       "console.log('No sensor data from OXYSENSOR at FGPD.O1');"
      ],
      "text/plain": [
       "<IPython.core.display.Javascript object>"
      ]
     },
     "metadata": {},
     "output_type": "display_data"
    },
    {
     "data": {
      "application/javascript": [
       "console.log('No sensor data from OXYSENSOR at HERC.S1');"
      ],
      "text/plain": [
       "<IPython.core.display.Javascript object>"
      ]
     },
     "metadata": {},
     "output_type": "display_data"
    },
    {
     "data": {
      "application/javascript": [
       "console.log('No sensor data from OXYSENSOR at P3D');"
      ],
      "text/plain": [
       "<IPython.core.display.Javascript object>"
      ]
     },
     "metadata": {},
     "output_type": "display_data"
    },
    {
     "data": {
      "application/javascript": [
       "data.push({'categoryCode': 'CORK', 'locationCode': 'CBC27', 'temperature': 1.8591490879999952, 'depth': 2656.0, 'latitude': -127.731117, 'longitude': 47.75645}); updateCircles();"
      ],
      "text/plain": [
       "<IPython.core.display.Javascript object>"
      ]
     },
     "metadata": {},
     "output_type": "display_data"
    },
    {
     "data": {
      "application/javascript": [
       "console.log('No sensor data from OXYSENSOR at LND1');"
      ],
      "text/plain": [
       "<IPython.core.display.Javascript object>"
      ]
     },
     "metadata": {},
     "output_type": "display_data"
    },
    {
     "data": {
      "application/javascript": [
       "console.log('No sensor data from OXYSENSOR at PDCF2');"
      ],
      "text/plain": [
       "<IPython.core.display.Javascript object>"
      ]
     },
     "metadata": {},
     "output_type": "display_data"
    },
    {
     "data": {
      "application/javascript": [
       "console.log('No sensor data from OXYSENSOR at PRV2');"
      ],
      "text/plain": [
       "<IPython.core.display.Javascript object>"
      ]
     },
     "metadata": {},
     "output_type": "display_data"
    },
    {
     "data": {
      "application/javascript": [
       "console.log('No sensor data from OXYSENSOR at OAP');"
      ],
      "text/plain": [
       "<IPython.core.display.Javascript object>"
      ]
     },
     "metadata": {},
     "output_type": "display_data"
    },
    {
     "data": {
      "application/javascript": [
       "console.log('No sensor data from OXYSENSOR at JF2C');"
      ],
      "text/plain": [
       "<IPython.core.display.Javascript object>"
      ]
     },
     "metadata": {},
     "output_type": "display_data"
    },
    {
     "data": {
      "application/javascript": [
       "console.log('No sensor data from OXYSENSOR at ODYSS');"
      ],
      "text/plain": [
       "<IPython.core.display.Javascript object>"
      ]
     },
     "metadata": {},
     "output_type": "display_data"
    },
    {
     "data": {
      "application/javascript": [
       "console.log('No sensor data from OXYSENSOR at P07');"
      ],
      "text/plain": [
       "<IPython.core.display.Javascript object>"
      ]
     },
     "metadata": {},
     "output_type": "display_data"
    },
    {
     "data": {
      "application/javascript": [
       "console.log('No sensor data from ADCP75KHZ at RCNE5');"
      ],
      "text/plain": [
       "<IPython.core.display.Javascript object>"
      ]
     },
     "metadata": {},
     "output_type": "display_data"
    },
    {
     "data": {
      "application/javascript": [
       "console.log('No sensor data from OXYSENSOR at PHDW');"
      ],
      "text/plain": [
       "<IPython.core.display.Javascript object>"
      ]
     },
     "metadata": {},
     "output_type": "display_data"
    },
    {
     "data": {
      "application/javascript": [
       "console.log('No sensor data from OXYSENSOR at ROVOE.O2');"
      ],
      "text/plain": [
       "<IPython.core.display.Javascript object>"
      ]
     },
     "metadata": {},
     "output_type": "display_data"
    },
    {
     "data": {
      "application/javascript": [
       "console.log('No sensor data from OXYSENSOR at BDYPM');"
      ],
      "text/plain": [
       "<IPython.core.display.Javascript object>"
      ]
     },
     "metadata": {},
     "output_type": "display_data"
    },
    {
     "data": {
      "application/javascript": [
       "console.log('No sensor data from OXYSENSOR at ROVMP');"
      ],
      "text/plain": [
       "<IPython.core.display.Javascript object>"
      ]
     },
     "metadata": {},
     "output_type": "display_data"
    },
    {
     "data": {
      "application/javascript": [
       "console.log({'categoryCode': 'CORK', 'locationCode': 'CBC27', 'temperature': 1.8591490879999952, 'depth': 2656.0, 'latitude': -127.731117, 'longitude': 47.75645});"
      ],
      "text/plain": [
       "<IPython.core.display.Javascript object>"
      ]
     },
     "metadata": {},
     "output_type": "display_data"
    },
    {
     "data": {
      "application/javascript": [
       "console.log('No sensor data from OXYSENSOR at SCHDW.O2');"
      ],
      "text/plain": [
       "<IPython.core.display.Javascript object>"
      ]
     },
     "metadata": {},
     "output_type": "display_data"
    },
    {
     "data": {
      "application/javascript": [
       "console.log('No sensor data from OXYSENSOR at ROVOE');"
      ],
      "text/plain": [
       "<IPython.core.display.Javascript object>"
      ]
     },
     "metadata": {},
     "output_type": "display_data"
    },
    {
     "data": {
      "application/javascript": [
       "console.log('No sensor data from PHSENSOR at ROPOS');"
      ],
      "text/plain": [
       "<IPython.core.display.Javascript object>"
      ]
     },
     "metadata": {},
     "output_type": "display_data"
    },
    {
     "data": {
      "application/javascript": [
       "console.log('No sensor data from OXYSENSOR at RVFK');"
      ],
      "text/plain": [
       "<IPython.core.display.Javascript object>"
      ]
     },
     "metadata": {},
     "output_type": "display_data"
    },
    {
     "data": {
      "application/javascript": [
       "console.log('No sensor data from PRES at NC27T.P1');"
      ],
      "text/plain": [
       "<IPython.core.display.Javascript object>"
      ]
     },
     "metadata": {},
     "output_type": "display_data"
    },
    {
     "data": {
      "application/javascript": [
       "console.log('No sensor data from OXYSENSOR at MAC');"
      ],
      "text/plain": [
       "<IPython.core.display.Javascript object>"
      ]
     },
     "metadata": {},
     "output_type": "display_data"
    },
    {
     "data": {
      "application/javascript": [
       "console.log('No sensor data from OXYSENSOR at SEVIP.O2');"
      ],
      "text/plain": [
       "<IPython.core.display.Javascript object>"
      ]
     },
     "metadata": {},
     "output_type": "display_data"
    },
    {
     "data": {
      "application/javascript": [
       "console.log('No sensor data from PHSENSOR at OAP');"
      ],
      "text/plain": [
       "<IPython.core.display.Javascript object>"
      ]
     },
     "metadata": {},
     "output_type": "display_data"
    },
    {
     "data": {
      "application/javascript": [
       "console.log('No sensor data from OXYSENSOR at SL346');"
      ],
      "text/plain": [
       "<IPython.core.display.Javascript object>"
      ]
     },
     "metadata": {},
     "output_type": "display_data"
    },
    {
     "data": {
      "application/javascript": [
       "console.log('No sensor data from OXYSENSOR at VIC9');"
      ],
      "text/plain": [
       "<IPython.core.display.Javascript object>"
      ]
     },
     "metadata": {},
     "output_type": "display_data"
    },
    {
     "data": {
      "application/javascript": [
       "console.log('No sensor data from OXYSENSOR at PDCF.O2');"
      ],
      "text/plain": [
       "<IPython.core.display.Javascript object>"
      ]
     },
     "metadata": {},
     "output_type": "display_data"
    },
    {
     "data": {
      "application/javascript": [
       "console.log('No sensor data from OXYSENSOR at SEHDW');"
      ],
      "text/plain": [
       "<IPython.core.display.Javascript object>"
      ]
     },
     "metadata": {},
     "output_type": "display_data"
    },
    {
     "data": {
      "application/javascript": [
       "console.log('No sensor data from PRES at LSSLP.P3');"
      ],
      "text/plain": [
       "<IPython.core.display.Javascript object>"
      ]
     },
     "metadata": {},
     "output_type": "display_data"
    },
    {
     "data": {
      "application/javascript": [
       "console.log('No sensor data from PRES at LSSLP.P1');"
      ],
      "text/plain": [
       "<IPython.core.display.Javascript object>"
      ]
     },
     "metadata": {},
     "output_type": "display_data"
    },
    {
     "data": {
      "application/javascript": [
       "console.log('No sensor data from OXYSENSOR at PDCF.O1');"
      ],
      "text/plain": [
       "<IPython.core.display.Javascript object>"
      ]
     },
     "metadata": {},
     "output_type": "display_data"
    },
    {
     "data": {
      "application/javascript": [
       "console.log('No sensor data from OXYSENSOR at NQU5');"
      ],
      "text/plain": [
       "<IPython.core.display.Javascript object>"
      ]
     },
     "metadata": {},
     "output_type": "display_data"
    },
    {
     "data": {
      "application/javascript": [
       "console.log('No sensor data from OXYSENSOR at CWB10');"
      ],
      "text/plain": [
       "<IPython.core.display.Javascript object>"
      ]
     },
     "metadata": {},
     "output_type": "display_data"
    },
    {
     "data": {
      "application/javascript": [
       "console.log('No sensor data from TARRAY at SCHDW');"
      ],
      "text/plain": [
       "<IPython.core.display.Javascript object>"
      ]
     },
     "metadata": {},
     "output_type": "display_data"
    },
    {
     "data": {
      "application/javascript": [
       "console.log('No sensor data from OXYSENSOR at BFBR');"
      ],
      "text/plain": [
       "<IPython.core.display.Javascript object>"
      ]
     },
     "metadata": {},
     "output_type": "display_data"
    },
    {
     "data": {
      "application/javascript": [
       "console.log('No sensor data from OXYSENSOR at YPVPP.O1');"
      ],
      "text/plain": [
       "<IPython.core.display.Javascript object>"
      ]
     },
     "metadata": {},
     "output_type": "display_data"
    },
    {
     "data": {
      "application/javascript": [
       "console.log('No sensor data from OXYSENSOR at SCHDW.O1');"
      ],
      "text/plain": [
       "<IPython.core.display.Javascript object>"
      ]
     },
     "metadata": {},
     "output_type": "display_data"
    },
    {
     "data": {
      "application/javascript": [
       "console.log('No sensor data from PRES at LSSLP.P2');"
      ],
      "text/plain": [
       "<IPython.core.display.Javascript object>"
      ]
     },
     "metadata": {},
     "output_type": "display_data"
    },
    {
     "data": {
      "application/javascript": [
       "console.log('No sensor data from PRES at SEDDL');"
      ],
      "text/plain": [
       "<IPython.core.display.Javascript object>"
      ]
     },
     "metadata": {},
     "output_type": "display_data"
    },
    {
     "data": {
      "application/javascript": [
       "console.log('No sensor data from TARRAY at KEMF.T2');"
      ],
      "text/plain": [
       "<IPython.core.display.Javascript object>"
      ]
     },
     "metadata": {},
     "output_type": "display_data"
    },
    {
     "data": {
      "application/javascript": [
       "console.log('No sensor data from TARRAY at IOST3');"
      ],
      "text/plain": [
       "<IPython.core.display.Javascript object>"
      ]
     },
     "metadata": {},
     "output_type": "display_data"
    },
    {
     "data": {
      "application/javascript": [
       "console.log('No sensor data from TEMPSENSOR at HBDB');"
      ],
      "text/plain": [
       "<IPython.core.display.Javascript object>"
      ]
     },
     "metadata": {},
     "output_type": "display_data"
    },
    {
     "data": {
      "application/javascript": [
       "console.log('No sensor data from PRES at NC89T');"
      ],
      "text/plain": [
       "<IPython.core.display.Javascript object>"
      ]
     },
     "metadata": {},
     "output_type": "display_data"
    },
    {
     "data": {
      "application/javascript": [
       "console.log('No sensor data from PRES at NC27T.P2');"
      ],
      "text/plain": [
       "<IPython.core.display.Javascript object>"
      ]
     },
     "metadata": {},
     "output_type": "display_data"
    },
    {
     "data": {
      "application/javascript": [
       "console.log('No sensor data from TEMPSENSOR at LSSLP.T1');"
      ],
      "text/plain": [
       "<IPython.core.display.Javascript object>"
      ]
     },
     "metadata": {},
     "output_type": "display_data"
    },
    {
     "data": {
      "application/javascript": [
       "console.log('No sensor data from TARRAY at BACHY');"
      ],
      "text/plain": [
       "<IPython.core.display.Javascript object>"
      ]
     },
     "metadata": {},
     "output_type": "display_data"
    },
    {
     "data": {
      "application/javascript": [
       "console.log('No sensor data from TEMPSENSOR at KEMFR');"
      ],
      "text/plain": [
       "<IPython.core.display.Javascript object>"
      ]
     },
     "metadata": {},
     "output_type": "display_data"
    },
    {
     "data": {
      "application/javascript": [
       "console.log('No sensor data from TARRAY at KEMF.T3');"
      ],
      "text/plain": [
       "<IPython.core.display.Javascript object>"
      ]
     },
     "metadata": {},
     "output_type": "display_data"
    },
    {
     "data": {
      "application/javascript": [
       "console.log('No sensor data from TEMPSENSOR at RVFK');"
      ],
      "text/plain": [
       "<IPython.core.display.Javascript object>"
      ]
     },
     "metadata": {},
     "output_type": "display_data"
    },
    {
     "data": {
      "application/javascript": [
       "console.log('No sensor data from TEMPSENSOR at JAS2.T1');"
      ],
      "text/plain": [
       "<IPython.core.display.Javascript object>"
      ]
     },
     "metadata": {},
     "output_type": "display_data"
    },
    {
     "data": {
      "application/javascript": [
       "console.log('No sensor data from TEMPSENSOR at HERC');"
      ],
      "text/plain": [
       "<IPython.core.display.Javascript object>"
      ]
     },
     "metadata": {},
     "output_type": "display_data"
    },
    {
     "data": {
      "application/javascript": [
       "console.log('No sensor data from TEMPSENSOR at TWDP');"
      ],
      "text/plain": [
       "<IPython.core.display.Javascript object>"
      ]
     },
     "metadata": {},
     "output_type": "display_data"
    },
    {
     "data": {
      "application/javascript": [
       "console.log('No sensor data from TARRAY at SEHDW');"
      ],
      "text/plain": [
       "<IPython.core.display.Javascript object>"
      ]
     },
     "metadata": {},
     "output_type": "display_data"
    },
    {
     "data": {
      "application/javascript": [
       "console.log('No sensor data from TEMPSENSOR at ROPOS');"
      ],
      "text/plain": [
       "<IPython.core.display.Javascript object>"
      ]
     },
     "metadata": {},
     "output_type": "display_data"
    },
    {
     "data": {
      "application/javascript": [
       "console.log('No sensor data from TSG at RVFK');"
      ],
      "text/plain": [
       "<IPython.core.display.Javascript object>"
      ]
     },
     "metadata": {},
     "output_type": "display_data"
    },
    {
     "data": {
      "application/javascript": [
       "console.log('No sensor data from TARRAY at KEMF');"
      ],
      "text/plain": [
       "<IPython.core.display.Javascript object>"
      ]
     },
     "metadata": {},
     "output_type": "display_data"
    },
    {
     "data": {
      "application/javascript": [
       "console.log('No sensor data from TEMPSENSOR at LSSLP.T2');"
      ],
      "text/plain": [
       "<IPython.core.display.Javascript object>"
      ]
     },
     "metadata": {},
     "output_type": "display_data"
    },
    {
     "data": {
      "application/javascript": [
       "console.log('No sensor data from TSG at JPT');"
      ],
      "text/plain": [
       "<IPython.core.display.Javascript object>"
      ]
     },
     "metadata": {},
     "output_type": "display_data"
    },
    {
     "data": {
      "application/javascript": [
       "console.log('No sensor data from WETLABS_WQM at CRIP');"
      ],
      "text/plain": [
       "<IPython.core.display.Javascript object>"
      ]
     },
     "metadata": {},
     "output_type": "display_data"
    },
    {
     "data": {
      "application/javascript": [
       "console.log('No sensor data from WETLABS_WQM at KVIP');"
      ],
      "text/plain": [
       "<IPython.core.display.Javascript object>"
      ]
     },
     "metadata": {},
     "output_type": "display_data"
    },
    {
     "data": {
      "application/javascript": [
       "console.log('No sensor data from TSG at RVSKSQ.TH1');"
      ],
      "text/plain": [
       "<IPython.core.display.Javascript object>"
      ]
     },
     "metadata": {},
     "output_type": "display_data"
    },
    {
     "data": {
      "application/javascript": [
       "console.log('No sensor data from WETLABS_WQM at CBYIP');"
      ],
      "text/plain": [
       "<IPython.core.display.Javascript object>"
      ]
     },
     "metadata": {},
     "output_type": "display_data"
    },
    {
     "data": {
      "application/javascript": [
       "console.log('No sensor data from OXYSENSOR at PVIP.O1');"
      ],
      "text/plain": [
       "<IPython.core.display.Javascript object>"
      ]
     },
     "metadata": {},
     "output_type": "display_data"
    },
    {
     "data": {
      "application/javascript": [
       "console.log('No sensor data from OXYSENSOR at NQU4');"
      ],
      "text/plain": [
       "<IPython.core.display.Javascript object>"
      ]
     },
     "metadata": {},
     "output_type": "display_data"
    },
    {
     "data": {
      "application/javascript": [
       "console.log('No sensor data from WETLABS_WQM at MBYIP');"
      ],
      "text/plain": [
       "<IPython.core.display.Javascript object>"
      ]
     },
     "metadata": {},
     "output_type": "display_data"
    },
    {
     "data": {
      "application/javascript": [
       "console.log('No sensor data from TSG at RVSKG.TH2');"
      ],
      "text/plain": [
       "<IPython.core.display.Javascript object>"
      ]
     },
     "metadata": {},
     "output_type": "display_data"
    },
    {
     "data": {
      "application/javascript": [
       "console.log('No sensor data from CURRENTMETER at PABB');"
      ],
      "text/plain": [
       "<IPython.core.display.Javascript object>"
      ]
     },
     "metadata": {},
     "output_type": "display_data"
    },
    {
     "data": {
      "application/javascript": [
       "console.log('No sensor data from GTD at PVIP');"
      ],
      "text/plain": [
       "<IPython.core.display.Javascript object>"
      ]
     },
     "metadata": {},
     "output_type": "display_data"
    },
    {
     "data": {
      "application/javascript": [
       "data.push({'categoryCode': 'BPR', 'locationCode': 'ENWF', 'temperature': 1.9238295999999977, 'depth': 2360.0, 'latitude': -129.124283, 'longitude': 47.959863}); updateCircles();"
      ],
      "text/plain": [
       "<IPython.core.display.Javascript object>"
      ]
     },
     "metadata": {},
     "output_type": "display_data"
    },
    {
     "data": {
      "application/javascript": [
       "console.log({'categoryCode': 'BPR', 'locationCode': 'ENWF', 'temperature': 1.9238295999999977, 'depth': 2360.0, 'latitude': -129.124283, 'longitude': 47.959863});"
      ],
      "text/plain": [
       "<IPython.core.display.Javascript object>"
      ]
     },
     "metadata": {},
     "output_type": "display_data"
    },
    {
     "data": {
      "application/javascript": [
       "console.log('No sensor data from CTD at SEIR');"
      ],
      "text/plain": [
       "<IPython.core.display.Javascript object>"
      ]
     },
     "metadata": {},
     "output_type": "display_data"
    },
    {
     "data": {
      "application/javascript": [
       "data.push({'categoryCode': 'ADCP75KHZ', 'locationCode': 'NCBC', 'temperature': 5.66, 'depth': 395.0, 'latitude': -126.174665, 'longitude': 48.427428}); updateCircles();"
      ],
      "text/plain": [
       "<IPython.core.display.Javascript object>"
      ]
     },
     "metadata": {},
     "output_type": "display_data"
    },
    {
     "data": {
      "application/javascript": [
       "console.log({'categoryCode': 'ADCP75KHZ', 'locationCode': 'NCBC', 'temperature': 5.66, 'depth': 395.0, 'latitude': -126.174665, 'longitude': 48.427428});"
      ],
      "text/plain": [
       "<IPython.core.display.Javascript object>"
      ]
     },
     "metadata": {},
     "output_type": "display_data"
    },
    {
     "data": {
      "application/javascript": [
       "data.push({'categoryCode': 'BPR', 'locationCode': 'KEMO', 'temperature': 1.8944473439999996, 'depth': 2275.0, 'latitude': -129.1082, 'longitude': 47.924088}); updateCircles();"
      ],
      "text/plain": [
       "<IPython.core.display.Javascript object>"
      ]
     },
     "metadata": {},
     "output_type": "display_data"
    },
    {
     "data": {
      "application/javascript": [
       "console.log({'categoryCode': 'BPR', 'locationCode': 'KEMO', 'temperature': 1.8944473439999996, 'depth': 2275.0, 'latitude': -129.1082, 'longitude': 47.924088});"
      ],
      "text/plain": [
       "<IPython.core.display.Javascript object>"
      ]
     },
     "metadata": {},
     "output_type": "display_data"
    },
    {
     "data": {
      "application/javascript": [
       "console.log('No sensor data from TEMPSENSOR at DDISC');"
      ],
      "text/plain": [
       "<IPython.core.display.Javascript object>"
      ]
     },
     "metadata": {},
     "output_type": "display_data"
    },
    {
     "data": {
      "application/javascript": [
       "console.log('No sensor data from OXYSENSOR at IRS3');"
      ],
      "text/plain": [
       "<IPython.core.display.Javascript object>"
      ]
     },
     "metadata": {},
     "output_type": "display_data"
    },
    {
     "data": {
      "application/javascript": [
       "console.log('No sensor data from OXYSENSOR at KVIP.O1');"
      ],
      "text/plain": [
       "<IPython.core.display.Javascript object>"
      ]
     },
     "metadata": {},
     "output_type": "display_data"
    },
    {
     "data": {
      "application/javascript": [
       "data.push({'categoryCode': 'PYRANOMETER', 'locationCode': 'TWDP', 'temperature': 19.83, 'depth': 3.0, 'latitude': -123.887326, 'longitude': 49.187846}); updateCircles();"
      ],
      "text/plain": [
       "<IPython.core.display.Javascript object>"
      ]
     },
     "metadata": {},
     "output_type": "display_data"
    },
    {
     "data": {
      "application/javascript": [
       "console.log({'categoryCode': 'PYRANOMETER', 'locationCode': 'TWDP', 'temperature': 19.83, 'depth': 3.0, 'latitude': -123.887326, 'longitude': 49.187846});"
      ],
      "text/plain": [
       "<IPython.core.display.Javascript object>"
      ]
     },
     "metadata": {},
     "output_type": "display_data"
    },
    {
     "data": {
      "application/javascript": [
       "data.push({'categoryCode': 'ECHOSOUNDERBIOA', 'locationCode': 'PVIP', 'temperature': 9.288813519512303, 'depth': 93.0, 'latitude': -123.486358, 'longitude': 48.651366}); updateCircles();"
      ],
      "text/plain": [
       "<IPython.core.display.Javascript object>"
      ]
     },
     "metadata": {},
     "output_type": "display_data"
    },
    {
     "data": {
      "application/javascript": [
       "console.log({'categoryCode': 'ECHOSOUNDERBIOA', 'locationCode': 'PVIP', 'temperature': 9.288813519512303, 'depth': 93.0, 'latitude': -123.486358, 'longitude': 48.651366});"
      ],
      "text/plain": [
       "<IPython.core.display.Javascript object>"
      ]
     },
     "metadata": {},
     "output_type": "display_data"
    },
    {
     "data": {
      "application/javascript": [
       "console.log('No sensor data from OXYSENSOR at CRV6');"
      ],
      "text/plain": [
       "<IPython.core.display.Javascript object>"
      ]
     },
     "metadata": {},
     "output_type": "display_data"
    },
    {
     "data": {
      "application/javascript": [
       "console.log('No sensor data from BPR at CW25');"
      ],
      "text/plain": [
       "<IPython.core.display.Javascript object>"
      ]
     },
     "metadata": {},
     "output_type": "display_data"
    },
    {
     "data": {
      "application/javascript": [
       "console.log('No sensor data from OXYSENSOR at SVN8');"
      ],
      "text/plain": [
       "<IPython.core.display.Javascript object>"
      ]
     },
     "metadata": {},
     "output_type": "display_data"
    },
    {
     "data": {
      "application/javascript": [
       "console.log('No sensor data from OXYSENSOR at SILL');"
      ],
      "text/plain": [
       "<IPython.core.display.Javascript object>"
      ]
     },
     "metadata": {},
     "output_type": "display_data"
    },
    {
     "data": {
      "application/javascript": [
       "data.push({'categoryCode': 'OXYSENSOR', 'locationCode': 'BACAX', 'temperature': 3.8362909430827585, 'depth': 983.0, 'latitude': -126.05076, 'longitude': 48.316583}); updateCircles();"
      ],
      "text/plain": [
       "<IPython.core.display.Javascript object>"
      ]
     },
     "metadata": {},
     "output_type": "display_data"
    },
    {
     "data": {
      "application/javascript": [
       "console.log({'categoryCode': 'OXYSENSOR', 'locationCode': 'BACAX', 'temperature': 3.8362909430827585, 'depth': 983.0, 'latitude': -126.05076, 'longitude': 48.316583});"
      ],
      "text/plain": [
       "<IPython.core.display.Javascript object>"
      ]
     },
     "metadata": {},
     "output_type": "display_data"
    },
    {
     "data": {
      "application/javascript": [
       "console.log('No sensor data from TSG at OKEX');"
      ],
      "text/plain": [
       "<IPython.core.display.Javascript object>"
      ]
     },
     "metadata": {},
     "output_type": "display_data"
    },
    {
     "data": {
      "application/javascript": [
       "console.log('No sensor data from OXYSENSOR at DIIP.O2');"
      ],
      "text/plain": [
       "<IPython.core.display.Javascript object>"
      ]
     },
     "metadata": {},
     "output_type": "display_data"
    },
    {
     "data": {
      "application/javascript": [
       "data.push({'categoryCode': 'OXYSENSOR', 'locationCode': 'PVIP.O3', 'temperature': 9.324481677026968, 'depth': 93.0, 'latitude': -123.486358, 'longitude': 48.651366}); updateCircles();"
      ],
      "text/plain": [
       "<IPython.core.display.Javascript object>"
      ]
     },
     "metadata": {},
     "output_type": "display_data"
    },
    {
     "data": {
      "application/javascript": [
       "console.log({'categoryCode': 'OXYSENSOR', 'locationCode': 'PVIP.O3', 'temperature': 9.324481677026968, 'depth': 93.0, 'latitude': -123.486358, 'longitude': 48.651366});"
      ],
      "text/plain": [
       "<IPython.core.display.Javascript object>"
      ]
     },
     "metadata": {},
     "output_type": "display_data"
    },
    {
     "data": {
      "application/javascript": [
       "console.log('No sensor data from CTD at BFBR');"
      ],
      "text/plain": [
       "<IPython.core.display.Javascript object>"
      ]
     },
     "metadata": {},
     "output_type": "display_data"
    },
    {
     "data": {
      "application/javascript": [
       "data.push({'categoryCode': 'CTD', 'locationCode': 'RCSE2', 'temperature': 1.8672, 'depth': 2175.0, 'latitude': -129.098893, 'longitude': 47.933395}); updateCircles();"
      ],
      "text/plain": [
       "<IPython.core.display.Javascript object>"
      ]
     },
     "metadata": {},
     "output_type": "display_data"
    },
    {
     "data": {
      "application/javascript": [
       "console.log({'categoryCode': 'CTD', 'locationCode': 'RCSE2', 'temperature': 1.8672, 'depth': 2175.0, 'latitude': -129.098893, 'longitude': 47.933395});"
      ],
      "text/plain": [
       "<IPython.core.display.Javascript object>"
      ]
     },
     "metadata": {},
     "output_type": "display_data"
    },
    {
     "data": {
      "application/javascript": [
       "data.push({'categoryCode': 'OXYSENSOR', 'locationCode': 'NC27', 'temperature': 1.7855824711294304, 'depth': 2654.0, 'latitude': -127.758933, 'longitude': 47.762657}); updateCircles();"
      ],
      "text/plain": [
       "<IPython.core.display.Javascript object>"
      ]
     },
     "metadata": {},
     "output_type": "display_data"
    },
    {
     "data": {
      "application/javascript": [
       "console.log('No sensor data from OXYSENSOR at AS04');"
      ],
      "text/plain": [
       "<IPython.core.display.Javascript object>"
      ]
     },
     "metadata": {},
     "output_type": "display_data"
    },
    {
     "data": {
      "application/javascript": [
       "console.log({'categoryCode': 'OXYSENSOR', 'locationCode': 'NC27', 'temperature': 1.7855824711294304, 'depth': 2654.0, 'latitude': -127.758933, 'longitude': 47.762657});"
      ],
      "text/plain": [
       "<IPython.core.display.Javascript object>"
      ]
     },
     "metadata": {},
     "output_type": "display_data"
    },
    {
     "data": {
      "application/javascript": [
       "data.push({'categoryCode': 'OXYSENSOR', 'locationCode': 'BACND', 'temperature': 4.803200099032551, 'depth': 643.0, 'latitude': -126.157843, 'longitude': 48.345913}); updateCircles();"
      ],
      "text/plain": [
       "<IPython.core.display.Javascript object>"
      ]
     },
     "metadata": {},
     "output_type": "display_data"
    },
    {
     "data": {
      "application/javascript": [
       "console.log({'categoryCode': 'OXYSENSOR', 'locationCode': 'BACND', 'temperature': 4.803200099032551, 'depth': 643.0, 'latitude': -126.157843, 'longitude': 48.345913});"
      ],
      "text/plain": [
       "<IPython.core.display.Javascript object>"
      ]
     },
     "metadata": {},
     "output_type": "display_data"
    },
    {
     "data": {
      "application/javascript": [
       "data.push({'categoryCode': 'MBPROFILESONAR', 'locationCode': 'FAE', 'temperature': 16.0, 'depth': 145.0, 'latitude': -123.339098, 'longitude': 49.080815}); updateCircles();"
      ],
      "text/plain": [
       "<IPython.core.display.Javascript object>"
      ]
     },
     "metadata": {},
     "output_type": "display_data"
    },
    {
     "data": {
      "application/javascript": [
       "console.log({'categoryCode': 'MBPROFILESONAR', 'locationCode': 'FAE', 'temperature': 16.0, 'depth': 145.0, 'latitude': -123.339098, 'longitude': 49.080815});"
      ],
      "text/plain": [
       "<IPython.core.display.Javascript object>"
      ]
     },
     "metadata": {},
     "output_type": "display_data"
    },
    {
     "data": {
      "application/javascript": [
       "data.push({'categoryCode': 'CTD', 'locationCode': 'RCSE1', 'temperature': 1.8471, 'depth': 2221.0, 'latitude': -129.098893, 'longitude': 47.933395}); updateCircles();"
      ],
      "text/plain": [
       "<IPython.core.display.Javascript object>"
      ]
     },
     "metadata": {},
     "output_type": "display_data"
    },
    {
     "data": {
      "application/javascript": [
       "console.log({'categoryCode': 'CTD', 'locationCode': 'RCSE1', 'temperature': 1.8471, 'depth': 2221.0, 'latitude': -129.098893, 'longitude': 47.933395});"
      ],
      "text/plain": [
       "<IPython.core.display.Javascript object>"
      ]
     },
     "metadata": {},
     "output_type": "display_data"
    },
    {
     "data": {
      "application/javascript": [
       "data.push({'categoryCode': 'OXYSENSOR', 'locationCode': 'BACME', 'temperature': 3.9615080091992354, 'depth': 896.0, 'latitude': -126.058465, 'longitude': 48.314913}); updateCircles();"
      ],
      "text/plain": [
       "<IPython.core.display.Javascript object>"
      ]
     },
     "metadata": {},
     "output_type": "display_data"
    },
    {
     "data": {
      "application/javascript": [
       "console.log({'categoryCode': 'OXYSENSOR', 'locationCode': 'BACME', 'temperature': 3.9615080091992354, 'depth': 896.0, 'latitude': -126.058465, 'longitude': 48.314913});"
      ],
      "text/plain": [
       "<IPython.core.display.Javascript object>"
      ]
     },
     "metadata": {},
     "output_type": "display_data"
    },
    {
     "data": {
      "application/javascript": [
       "console.log('No sensor data from CTD at RCSW2');"
      ],
      "text/plain": [
       "<IPython.core.display.Javascript object>"
      ]
     },
     "metadata": {},
     "output_type": "display_data"
    },
    {
     "data": {
      "application/javascript": [
       "console.log('No sensor data from CTD at AS04');"
      ],
      "text/plain": [
       "<IPython.core.display.Javascript object>"
      ]
     },
     "metadata": {},
     "output_type": "display_data"
    },
    {
     "data": {
      "application/javascript": [
       "data.push({'categoryCode': 'BPR', 'locationCode': 'NCBC', 'temperature': 5.56812167639, 'depth': 392.0, 'latitude': -126.174752, 'longitude': 48.427298}); updateCircles();"
      ],
      "text/plain": [
       "<IPython.core.display.Javascript object>"
      ]
     },
     "metadata": {},
     "output_type": "display_data"
    },
    {
     "data": {
      "application/javascript": [
       "data.push({'categoryCode': 'CTD', 'locationCode': 'BACME', 'temperature': 3.9597, 'depth': 896.0, 'latitude': -126.058465, 'longitude': 48.314913}); updateCircles();"
      ],
      "text/plain": [
       "<IPython.core.display.Javascript object>"
      ]
     },
     "metadata": {},
     "output_type": "display_data"
    },
    {
     "data": {
      "application/javascript": [
       "console.log({'categoryCode': 'CTD', 'locationCode': 'BACME', 'temperature': 3.9597, 'depth': 896.0, 'latitude': -126.058465, 'longitude': 48.314913});"
      ],
      "text/plain": [
       "<IPython.core.display.Javascript object>"
      ]
     },
     "metadata": {},
     "output_type": "display_data"
    },
    {
     "data": {
      "application/javascript": [
       "console.log({'categoryCode': 'BPR', 'locationCode': 'NCBC', 'temperature': 5.56812167639, 'depth': 392.0, 'latitude': -126.174752, 'longitude': 48.427298});"
      ],
      "text/plain": [
       "<IPython.core.display.Javascript object>"
      ]
     },
     "metadata": {},
     "output_type": "display_data"
    },
    {
     "data": {
      "application/javascript": [
       "data.push({'categoryCode': 'OXYSENSOR', 'locationCode': 'KVIP.O2', 'temperature': 7.298428572555736, 'depth': 40.0, 'latitude': -128.657038, 'longitude': 53.974663}); updateCircles();"
      ],
      "text/plain": [
       "<IPython.core.display.Javascript object>"
      ]
     },
     "metadata": {},
     "output_type": "display_data"
    },
    {
     "data": {
      "application/javascript": [
       "console.log({'categoryCode': 'OXYSENSOR', 'locationCode': 'KVIP.O2', 'temperature': 7.298428572555736, 'depth': 40.0, 'latitude': -128.657038, 'longitude': 53.974663});"
      ],
      "text/plain": [
       "<IPython.core.display.Javascript object>"
      ]
     },
     "metadata": {},
     "output_type": "display_data"
    },
    {
     "data": {
      "application/javascript": [
       "data.push({'categoryCode': 'OXYSENSOR', 'locationCode': 'FGPD.O2', 'temperature': 8.34933582866148, 'depth': 95.0, 'latitude': -125.280723, 'longitude': 48.813712}); updateCircles();"
      ],
      "text/plain": [
       "<IPython.core.display.Javascript object>"
      ]
     },
     "metadata": {},
     "output_type": "display_data"
    },
    {
     "data": {
      "application/javascript": [
       "console.log({'categoryCode': 'OXYSENSOR', 'locationCode': 'FGPD.O2', 'temperature': 8.34933582866148, 'depth': 95.0, 'latitude': -125.280723, 'longitude': 48.813712});"
      ],
      "text/plain": [
       "<IPython.core.display.Javascript object>"
      ]
     },
     "metadata": {},
     "output_type": "display_data"
    },
    {
     "data": {
      "application/javascript": [
       "console.log('No sensor data from CTD at RCSW1');"
      ],
      "text/plain": [
       "<IPython.core.display.Javascript object>"
      ]
     },
     "metadata": {},
     "output_type": "display_data"
    },
    {
     "data": {
      "application/javascript": [
       "data.push({'categoryCode': 'BPR', 'locationCode': 'RCS', 'temperature': 1.840043578839996, 'depth': 2228.0, 'latitude': -129.098849, 'longitude': 47.933101}); updateCircles();"
      ],
      "text/plain": [
       "<IPython.core.display.Javascript object>"
      ]
     },
     "metadata": {},
     "output_type": "display_data"
    },
    {
     "data": {
      "application/javascript": [
       "console.log({'categoryCode': 'BPR', 'locationCode': 'RCS', 'temperature': 1.840043578839996, 'depth': 2228.0, 'latitude': -129.098849, 'longitude': 47.933101});"
      ],
      "text/plain": [
       "<IPython.core.display.Javascript object>"
      ]
     },
     "metadata": {},
     "output_type": "display_data"
    },
    {
     "data": {
      "application/javascript": [
       "data.push({'categoryCode': 'CTD', 'locationCode': 'RCSE3', 'temperature': 1.9052, 'depth': 2100.0, 'latitude': -129.098893, 'longitude': 47.933395}); updateCircles();"
      ],
      "text/plain": [
       "<IPython.core.display.Javascript object>"
      ]
     },
     "metadata": {},
     "output_type": "display_data"
    },
    {
     "data": {
      "application/javascript": [
       "console.log({'categoryCode': 'CTD', 'locationCode': 'RCSE3', 'temperature': 1.9052, 'depth': 2100.0, 'latitude': -129.098893, 'longitude': 47.933395});"
      ],
      "text/plain": [
       "<IPython.core.display.Javascript object>"
      ]
     },
     "metadata": {},
     "output_type": "display_data"
    },
    {
     "data": {
      "application/javascript": [
       "data.push({'categoryCode': 'OXYSENSOR', 'locationCode': 'NCBC', 'temperature': 5.4984317345409295, 'depth': 406.0, 'latitude': -126.174585, 'longitude': 48.427407}); updateCircles();"
      ],
      "text/plain": [
       "<IPython.core.display.Javascript object>"
      ]
     },
     "metadata": {},
     "output_type": "display_data"
    },
    {
     "data": {
      "application/javascript": [
       "console.log({'categoryCode': 'OXYSENSOR', 'locationCode': 'NCBC', 'temperature': 5.4984317345409295, 'depth': 406.0, 'latitude': -126.174585, 'longitude': 48.427407});"
      ],
      "text/plain": [
       "<IPython.core.display.Javascript object>"
      ]
     },
     "metadata": {},
     "output_type": "display_data"
    },
    {
     "data": {
      "application/javascript": [
       "data.push({'categoryCode': 'OXYSENSOR', 'locationCode': 'NC89', 'temperature': 3.0148795278595912, 'depth': 1253.0, 'latitude': -126.847847, 'longitude': 48.67064}); updateCircles();"
      ],
      "text/plain": [
       "<IPython.core.display.Javascript object>"
      ]
     },
     "metadata": {},
     "output_type": "display_data"
    },
    {
     "data": {
      "application/javascript": [
       "console.log({'categoryCode': 'OXYSENSOR', 'locationCode': 'NC89', 'temperature': 3.0148795278595912, 'depth': 1253.0, 'latitude': -126.847847, 'longitude': 48.67064});"
      ],
      "text/plain": [
       "<IPython.core.display.Javascript object>"
      ]
     },
     "metadata": {},
     "output_type": "display_data"
    },
    {
     "data": {
      "application/javascript": [
       "console.log('No sensor data from DEPTH_TEMP at BFIP');"
      ],
      "text/plain": [
       "<IPython.core.display.Javascript object>"
      ]
     },
     "metadata": {},
     "output_type": "display_data"
    },
    {
     "data": {
      "application/javascript": [
       "data.push({'categoryCode': 'CTD', 'locationCode': 'BACND', 'temperature': 4.7994, 'depth': 643.0, 'latitude': -126.157843, 'longitude': 48.345913}); updateCircles();"
      ],
      "text/plain": [
       "<IPython.core.display.Javascript object>"
      ]
     },
     "metadata": {},
     "output_type": "display_data"
    },
    {
     "data": {
      "application/javascript": [
       "console.log({'categoryCode': 'CTD', 'locationCode': 'BACND', 'temperature': 4.7994, 'depth': 643.0, 'latitude': -126.157843, 'longitude': 48.345913});"
      ],
      "text/plain": [
       "<IPython.core.display.Javascript object>"
      ]
     },
     "metadata": {},
     "output_type": "display_data"
    },
    {
     "data": {
      "application/javascript": [
       "data.push({'categoryCode': 'OXYSENSOR', 'locationCode': 'KEMFT', 'temperature': 2.346, 'depth': 2196.0, 'latitude': -129.098323, 'longitude': 47.9493}); updateCircles();"
      ],
      "text/plain": [
       "<IPython.core.display.Javascript object>"
      ]
     },
     "metadata": {},
     "output_type": "display_data"
    },
    {
     "data": {
      "application/javascript": [
       "console.log({'categoryCode': 'OXYSENSOR', 'locationCode': 'KEMFT', 'temperature': 2.346, 'depth': 2196.0, 'latitude': -129.098323, 'longitude': 47.9493});"
      ],
      "text/plain": [
       "<IPython.core.display.Javascript object>"
      ]
     },
     "metadata": {},
     "output_type": "display_data"
    },
    {
     "data": {
      "application/javascript": [
       "data.push({'categoryCode': 'TSG', 'locationCode': 'TWSB', 'temperature': 12.0392, 'depth': 3.0, 'latitude': -123.13401, 'longitude': 49.006467}); updateCircles();"
      ],
      "text/plain": [
       "<IPython.core.display.Javascript object>"
      ]
     },
     "metadata": {},
     "output_type": "display_data"
    },
    {
     "data": {
      "application/javascript": [
       "console.log({'categoryCode': 'TSG', 'locationCode': 'TWSB', 'temperature': 12.0392, 'depth': 3.0, 'latitude': -123.13401, 'longitude': 49.006467});"
      ],
      "text/plain": [
       "<IPython.core.display.Javascript object>"
      ]
     },
     "metadata": {},
     "output_type": "display_data"
    },
    {
     "data": {
      "application/javascript": [
       "data.push({'categoryCode': 'OXYSENSOR', 'locationCode': 'SCVIP', 'temperature': 9.287159119372916, 'depth': 298.0, 'latitude': -123.425809, 'longitude': 49.040683}); updateCircles();"
      ],
      "text/plain": [
       "<IPython.core.display.Javascript object>"
      ]
     },
     "metadata": {},
     "output_type": "display_data"
    },
    {
     "data": {
      "application/javascript": [
       "console.log({'categoryCode': 'OXYSENSOR', 'locationCode': 'SCVIP', 'temperature': 9.287159119372916, 'depth': 298.0, 'latitude': -123.425809, 'longitude': 49.040683});"
      ],
      "text/plain": [
       "<IPython.core.display.Javascript object>"
      ]
     },
     "metadata": {},
     "output_type": "display_data"
    },
    {
     "data": {
      "application/javascript": [
       "data.push({'categoryCode': 'CTD', 'locationCode': 'BACAX', 'temperature': 3.8346, 'depth': 983.0, 'latitude': -126.05076, 'longitude': 48.316583}); updateCircles();"
      ],
      "text/plain": [
       "<IPython.core.display.Javascript object>"
      ]
     },
     "metadata": {},
     "output_type": "display_data"
    },
    {
     "data": {
      "application/javascript": [
       "console.log({'categoryCode': 'CTD', 'locationCode': 'BACAX', 'temperature': 3.8346, 'depth': 983.0, 'latitude': -126.05076, 'longitude': 48.316583});"
      ],
      "text/plain": [
       "<IPython.core.display.Javascript object>"
      ]
     },
     "metadata": {},
     "output_type": "display_data"
    },
    {
     "data": {
      "application/javascript": [
       "data.push({'categoryCode': 'TSG', 'locationCode': 'TWDP', 'temperature': 18.1201, 'depth': 3.0, 'latitude': -123.887326, 'longitude': 49.187846}); updateCircles();"
      ],
      "text/plain": [
       "<IPython.core.display.Javascript object>"
      ]
     },
     "metadata": {},
     "output_type": "display_data"
    },
    {
     "data": {
      "application/javascript": [
       "console.log({'categoryCode': 'TSG', 'locationCode': 'TWDP', 'temperature': 18.1201, 'depth': 3.0, 'latitude': -123.887326, 'longitude': 49.187846});"
      ],
      "text/plain": [
       "<IPython.core.display.Javascript object>"
      ]
     },
     "metadata": {},
     "output_type": "display_data"
    },
    {
     "data": {
      "application/javascript": [
       "console.log('No sensor data from OXYSENSOR at HBDB');"
      ],
      "text/plain": [
       "<IPython.core.display.Javascript object>"
      ]
     },
     "metadata": {},
     "output_type": "display_data"
    },
    {
     "data": {
      "application/javascript": [
       "console.log('No sensor data from TSG at HBDB');"
      ],
      "text/plain": [
       "<IPython.core.display.Javascript object>"
      ]
     },
     "metadata": {},
     "output_type": "display_data"
    },
    {
     "data": {
      "application/javascript": [
       "data.push({'categoryCode': 'CTD', 'locationCode': 'RCSW4', 'temperature': 1.9514, 'depth': 1974.0, 'latitude': -129.106723, 'longitude': 47.935512}); updateCircles();"
      ],
      "text/plain": [
       "<IPython.core.display.Javascript object>"
      ]
     },
     "metadata": {},
     "output_type": "display_data"
    },
    {
     "data": {
      "application/javascript": [
       "console.log({'categoryCode': 'CTD', 'locationCode': 'RCSW4', 'temperature': 1.9514, 'depth': 1974.0, 'latitude': -129.106723, 'longitude': 47.935512});"
      ],
      "text/plain": [
       "<IPython.core.display.Javascript object>"
      ]
     },
     "metadata": {},
     "output_type": "display_data"
    },
    {
     "data": {
      "application/javascript": [
       "console.log('No sensor data from OXYSENSOR at CRIP.O1');"
      ],
      "text/plain": [
       "<IPython.core.display.Javascript object>"
      ]
     },
     "metadata": {},
     "output_type": "display_data"
    },
    {
     "data": {
      "application/javascript": [
       "data.push({'categoryCode': 'CTD', 'locationCode': 'RCSW3', 'temperature': 1.9075, 'depth': 2049.0, 'latitude': -129.106723, 'longitude': 47.935512}); updateCircles();"
      ],
      "text/plain": [
       "<IPython.core.display.Javascript object>"
      ]
     },
     "metadata": {},
     "output_type": "display_data"
    },
    {
     "data": {
      "application/javascript": [
       "console.log({'categoryCode': 'CTD', 'locationCode': 'RCSW3', 'temperature': 1.9075, 'depth': 2049.0, 'latitude': -129.106723, 'longitude': 47.935512});"
      ],
      "text/plain": [
       "<IPython.core.display.Javascript object>"
      ]
     },
     "metadata": {},
     "output_type": "display_data"
    },
    {
     "data": {
      "application/javascript": [
       "data.push({'categoryCode': 'CTD', 'locationCode': 'RCNW1', 'temperature': 1.8786, 'depth': 2144.0, 'latitude': -129.08715, 'longitude': 47.974647}); updateCircles();"
      ],
      "text/plain": [
       "<IPython.core.display.Javascript object>"
      ]
     },
     "metadata": {},
     "output_type": "display_data"
    },
    {
     "data": {
      "application/javascript": [
       "console.log({'categoryCode': 'CTD', 'locationCode': 'RCNW1', 'temperature': 1.8786, 'depth': 2144.0, 'latitude': -129.08715, 'longitude': 47.974647});"
      ],
      "text/plain": [
       "<IPython.core.display.Javascript object>"
      ]
     },
     "metadata": {},
     "output_type": "display_data"
    },
    {
     "data": {
      "application/javascript": [
       "console.log('No sensor data from CTD at DIIP.C2');"
      ],
      "text/plain": [
       "<IPython.core.display.Javascript object>"
      ]
     },
     "metadata": {},
     "output_type": "display_data"
    },
    {
     "data": {
      "application/javascript": [
       "data.push({'categoryCode': 'CTD', 'locationCode': 'KVIP.C1', 'temperature': 7.1923, 'depth': 40.0, 'latitude': -128.657038, 'longitude': 53.974663}); updateCircles();"
      ],
      "text/plain": [
       "<IPython.core.display.Javascript object>"
      ]
     },
     "metadata": {},
     "output_type": "display_data"
    },
    {
     "data": {
      "application/javascript": [
       "console.log({'categoryCode': 'CTD', 'locationCode': 'KVIP.C1', 'temperature': 7.1923, 'depth': 40.0, 'latitude': -128.657038, 'longitude': 53.974663});"
      ],
      "text/plain": [
       "<IPython.core.display.Javascript object>"
      ]
     },
     "metadata": {},
     "output_type": "display_data"
    },
    {
     "data": {
      "application/javascript": [
       "console.log('No sensor data from CTD at RCNE1');"
      ],
      "text/plain": [
       "<IPython.core.display.Javascript object>"
      ]
     },
     "metadata": {},
     "output_type": "display_data"
    },
    {
     "data": {
      "application/javascript": [
       "data.push({'categoryCode': 'PYRGEOMETER', 'locationCode': 'TWDP', 'temperature': 19.83, 'depth': 3.0, 'latitude': -123.887326, 'longitude': 49.187846}); updateCircles();"
      ],
      "text/plain": [
       "<IPython.core.display.Javascript object>"
      ]
     },
     "metadata": {},
     "output_type": "display_data"
    },
    {
     "data": {
      "application/javascript": [
       "console.log({'categoryCode': 'PYRGEOMETER', 'locationCode': 'TWDP', 'temperature': 19.83, 'depth': 3.0, 'latitude': -123.887326, 'longitude': 49.187846});"
      ],
      "text/plain": [
       "<IPython.core.display.Javascript object>"
      ]
     },
     "metadata": {},
     "output_type": "display_data"
    },
    {
     "data": {
      "application/javascript": [
       "data.push({'categoryCode': 'OXYSENSOR', 'locationCode': 'TWSB', 'temperature': 12.4, 'depth': 3.0, 'latitude': -123.13401, 'longitude': 49.006467}); updateCircles();"
      ],
      "text/plain": [
       "<IPython.core.display.Javascript object>"
      ]
     },
     "metadata": {},
     "output_type": "display_data"
    },
    {
     "data": {
      "application/javascript": [
       "console.log({'categoryCode': 'OXYSENSOR', 'locationCode': 'TWSB', 'temperature': 12.4, 'depth': 3.0, 'latitude': -123.13401, 'longitude': 49.006467});"
      ],
      "text/plain": [
       "<IPython.core.display.Javascript object>"
      ]
     },
     "metadata": {},
     "output_type": "display_data"
    },
    {
     "data": {
      "application/javascript": [
       "data.push({'categoryCode': 'CTD', 'locationCode': 'NC27', 'temperature': 1.7833, 'depth': 2654.0, 'latitude': -127.758933, 'longitude': 47.762657}); updateCircles();"
      ],
      "text/plain": [
       "<IPython.core.display.Javascript object>"
      ]
     },
     "metadata": {},
     "output_type": "display_data"
    },
    {
     "data": {
      "application/javascript": [
       "console.log({'categoryCode': 'CTD', 'locationCode': 'NC27', 'temperature': 1.7833, 'depth': 2654.0, 'latitude': -127.758933, 'longitude': 47.762657});"
      ],
      "text/plain": [
       "<IPython.core.display.Javascript object>"
      ]
     },
     "metadata": {},
     "output_type": "display_data"
    },
    {
     "data": {
      "application/javascript": [
       "console.log('No sensor data from CTD at RCSE4');"
      ],
      "text/plain": [
       "<IPython.core.display.Javascript object>"
      ]
     },
     "metadata": {},
     "output_type": "display_data"
    },
    {
     "data": {
      "application/javascript": [
       "data.push({'categoryCode': 'CTD', 'locationCode': 'FGPD', 'temperature': 8.3463, 'depth': 95.0, 'latitude': -125.280723, 'longitude': 48.813712}); updateCircles();"
      ],
      "text/plain": [
       "<IPython.core.display.Javascript object>"
      ]
     },
     "metadata": {},
     "output_type": "display_data"
    },
    {
     "data": {
      "application/javascript": [
       "console.log({'categoryCode': 'CTD', 'locationCode': 'FGPD', 'temperature': 8.3463, 'depth': 95.0, 'latitude': -125.280723, 'longitude': 48.813712});"
      ],
      "text/plain": [
       "<IPython.core.display.Javascript object>"
      ]
     },
     "metadata": {},
     "output_type": "display_data"
    },
    {
     "data": {
      "application/javascript": [
       "data.push({'categoryCode': 'CTD', 'locationCode': 'RCNW4', 'temperature': 1.9169, 'depth': 1944.0, 'latitude': -129.08715, 'longitude': 47.974647}); updateCircles();"
      ],
      "text/plain": [
       "<IPython.core.display.Javascript object>"
      ]
     },
     "metadata": {},
     "output_type": "display_data"
    },
    {
     "data": {
      "application/javascript": [
       "console.log({'categoryCode': 'CTD', 'locationCode': 'RCNW4', 'temperature': 1.9169, 'depth': 1944.0, 'latitude': -129.08715, 'longitude': 47.974647});"
      ],
      "text/plain": [
       "<IPython.core.display.Javascript object>"
      ]
     },
     "metadata": {},
     "output_type": "display_data"
    },
    {
     "data": {
      "application/javascript": [
       "data.push({'categoryCode': 'OXYSENSOR', 'locationCode': 'TWDP', 'temperature': 18.45, 'depth': 3.0, 'latitude': -123.887326, 'longitude': 49.187846}); updateCircles();"
      ],
      "text/plain": [
       "<IPython.core.display.Javascript object>"
      ]
     },
     "metadata": {},
     "output_type": "display_data"
    },
    {
     "data": {
      "application/javascript": [
       "console.log('No sensor data from CTD at CRIP.C1');"
      ],
      "text/plain": [
       "<IPython.core.display.Javascript object>"
      ]
     },
     "metadata": {},
     "output_type": "display_data"
    },
    {
     "data": {
      "application/javascript": [
       "console.log({'categoryCode': 'OXYSENSOR', 'locationCode': 'TWDP', 'temperature': 18.45, 'depth': 3.0, 'latitude': -123.887326, 'longitude': 49.187846});"
      ],
      "text/plain": [
       "<IPython.core.display.Javascript object>"
      ]
     },
     "metadata": {},
     "output_type": "display_data"
    },
    {
     "data": {
      "application/javascript": [
       "data.push({'categoryCode': 'CTD', 'locationCode': 'RCNW2', 'temperature': 1.879, 'depth': 2096.0, 'latitude': -129.08715, 'longitude': 47.974647}); updateCircles();"
      ],
      "text/plain": [
       "<IPython.core.display.Javascript object>"
      ]
     },
     "metadata": {},
     "output_type": "display_data"
    },
    {
     "data": {
      "application/javascript": [
       "console.log({'categoryCode': 'CTD', 'locationCode': 'RCNW2', 'temperature': 1.879, 'depth': 2096.0, 'latitude': -129.08715, 'longitude': 47.974647});"
      ],
      "text/plain": [
       "<IPython.core.display.Javascript object>"
      ]
     },
     "metadata": {},
     "output_type": "display_data"
    },
    {
     "data": {
      "application/javascript": [
       "data.push({'categoryCode': 'CTD', 'locationCode': 'NCBC', 'temperature': 5.4937, 'depth': 406.0, 'latitude': -126.174585, 'longitude': 48.427407}); updateCircles();"
      ],
      "text/plain": [
       "<IPython.core.display.Javascript object>"
      ]
     },
     "metadata": {},
     "output_type": "display_data"
    },
    {
     "data": {
      "application/javascript": [
       "console.log({'categoryCode': 'CTD', 'locationCode': 'NCBC', 'temperature': 5.4937, 'depth': 406.0, 'latitude': -126.174585, 'longitude': 48.427407});"
      ],
      "text/plain": [
       "<IPython.core.display.Javascript object>"
      ]
     },
     "metadata": {},
     "output_type": "display_data"
    },
    {
     "data": {
      "application/javascript": [
       "console.log('No sensor data from CTD at RCNE3');"
      ],
      "text/plain": [
       "<IPython.core.display.Javascript object>"
      ]
     },
     "metadata": {},
     "output_type": "display_data"
    },
    {
     "data": {
      "application/javascript": [
       "data.push({'categoryCode': 'CTD', 'locationCode': 'PVIP.C1', 'temperature': 9.3141, 'depth': 93.0, 'latitude': -123.486358, 'longitude': 48.651366}); updateCircles();"
      ],
      "text/plain": [
       "<IPython.core.display.Javascript object>"
      ]
     },
     "metadata": {},
     "output_type": "display_data"
    },
    {
     "data": {
      "application/javascript": [
       "console.log({'categoryCode': 'CTD', 'locationCode': 'PVIP.C1', 'temperature': 9.3141, 'depth': 93.0, 'latitude': -123.486358, 'longitude': 48.651366});"
      ],
      "text/plain": [
       "<IPython.core.display.Javascript object>"
      ]
     },
     "metadata": {},
     "output_type": "display_data"
    },
    {
     "data": {
      "application/javascript": [
       "console.log('No sensor data from CTD at RCNE4');"
      ],
      "text/plain": [
       "<IPython.core.display.Javascript object>"
      ]
     },
     "metadata": {},
     "output_type": "display_data"
    },
    {
     "data": {
      "application/javascript": [
       "data.push({'categoryCode': 'CO2SENSOR', 'locationCode': 'TWDP', 'temperature': 44.5, 'depth': 3.0, 'latitude': -123.887326, 'longitude': 49.187846}); updateCircles();"
      ],
      "text/plain": [
       "<IPython.core.display.Javascript object>"
      ]
     },
     "metadata": {},
     "output_type": "display_data"
    },
    {
     "data": {
      "application/javascript": [
       "console.log({'categoryCode': 'CO2SENSOR', 'locationCode': 'TWDP', 'temperature': 44.5, 'depth': 3.0, 'latitude': -123.887326, 'longitude': 49.187846});"
      ],
      "text/plain": [
       "<IPython.core.display.Javascript object>"
      ]
     },
     "metadata": {},
     "output_type": "display_data"
    },
    {
     "data": {
      "application/javascript": [
       "data.push({'categoryCode': 'CTD', 'locationCode': 'SEVIP', 'temperature': 9.6765, 'depth': 166.0, 'latitude': -123.316579, 'longitude': 49.042586}); updateCircles();"
      ],
      "text/plain": [
       "<IPython.core.display.Javascript object>"
      ]
     },
     "metadata": {},
     "output_type": "display_data"
    },
    {
     "data": {
      "application/javascript": [
       "console.log('No sensor data from CTD at DIIP.C1');"
      ],
      "text/plain": [
       "<IPython.core.display.Javascript object>"
      ]
     },
     "metadata": {},
     "output_type": "display_data"
    },
    {
     "data": {
      "application/javascript": [
       "console.log({'categoryCode': 'CTD', 'locationCode': 'SEVIP', 'temperature': 9.6765, 'depth': 166.0, 'latitude': -123.316579, 'longitude': 49.042586});"
      ],
      "text/plain": [
       "<IPython.core.display.Javascript object>"
      ]
     },
     "metadata": {},
     "output_type": "display_data"
    },
    {
     "data": {
      "application/javascript": [
       "console.log('No sensor data from CTD at RCNE2');"
      ],
      "text/plain": [
       "<IPython.core.display.Javascript object>"
      ]
     },
     "metadata": {},
     "output_type": "display_data"
    },
    {
     "data": {
      "application/javascript": [
       "data.push({'categoryCode': 'CTD', 'locationCode': 'USDDL', 'temperature': 9.6957, 'depth': 109.0, 'latitude': -123.330155, 'longitude': 49.085095}); updateCircles();"
      ],
      "text/plain": [
       "<IPython.core.display.Javascript object>"
      ]
     },
     "metadata": {},
     "output_type": "display_data"
    },
    {
     "data": {
      "application/javascript": [
       "console.log({'categoryCode': 'CTD', 'locationCode': 'USDDL', 'temperature': 9.6957, 'depth': 109.0, 'latitude': -123.330155, 'longitude': 49.085095});"
      ],
      "text/plain": [
       "<IPython.core.display.Javascript object>"
      ]
     },
     "metadata": {},
     "output_type": "display_data"
    },
    {
     "data": {
      "application/javascript": [
       "data.push({'categoryCode': 'CTD', 'locationCode': 'NC89', 'temperature': 3.0125, 'depth': 1253.0, 'latitude': -126.847847, 'longitude': 48.67064}); updateCircles();"
      ],
      "text/plain": [
       "<IPython.core.display.Javascript object>"
      ]
     },
     "metadata": {},
     "output_type": "display_data"
    },
    {
     "data": {
      "application/javascript": [
       "console.log({'categoryCode': 'CTD', 'locationCode': 'NC89', 'temperature': 3.0125, 'depth': 1253.0, 'latitude': -126.847847, 'longitude': 48.67064});"
      ],
      "text/plain": [
       "<IPython.core.display.Javascript object>"
      ]
     },
     "metadata": {},
     "output_type": "display_data"
    },
    {
     "data": {
      "application/javascript": [
       "data.push({'categoryCode': 'CTD', 'locationCode': 'SCVIP', 'temperature': 9.1975, 'depth': 298.0, 'latitude': -123.425809, 'longitude': 49.040683}); updateCircles();"
      ],
      "text/plain": [
       "<IPython.core.display.Javascript object>"
      ]
     },
     "metadata": {},
     "output_type": "display_data"
    },
    {
     "data": {
      "application/javascript": [
       "console.log({'categoryCode': 'CTD', 'locationCode': 'SCVIP', 'temperature': 9.1975, 'depth': 298.0, 'latitude': -123.425809, 'longitude': 49.040683});"
      ],
      "text/plain": [
       "<IPython.core.display.Javascript object>"
      ]
     },
     "metadata": {},
     "output_type": "display_data"
    },
    {
     "data": {
      "application/javascript": [
       "data.push({'categoryCode': 'OXYSENSOR', 'locationCode': 'SEVIP', 'temperature': 9.787980178962641, 'depth': 166.0, 'latitude': -123.316579, 'longitude': 49.042586}); updateCircles();"
      ],
      "text/plain": [
       "<IPython.core.display.Javascript object>"
      ]
     },
     "metadata": {},
     "output_type": "display_data"
    },
    {
     "data": {
      "application/javascript": [
       "console.log({'categoryCode': 'OXYSENSOR', 'locationCode': 'SEVIP', 'temperature': 9.787980178962641, 'depth': 166.0, 'latitude': -123.316579, 'longitude': 49.042586});"
      ],
      "text/plain": [
       "<IPython.core.display.Javascript object>"
      ]
     },
     "metadata": {},
     "output_type": "display_data"
    },
    {
     "data": {
      "application/javascript": [
       "console.log('No sensor data from CTD at SILL');"
      ],
      "text/plain": [
       "<IPython.core.display.Javascript object>"
      ]
     },
     "metadata": {},
     "output_type": "display_data"
    },
    {
     "data": {
      "application/javascript": [
       "console.log('No sensor data from CTD at KVIP.C2');"
      ],
      "text/plain": [
       "<IPython.core.display.Javascript object>"
      ]
     },
     "metadata": {},
     "output_type": "display_data"
    },
    {
     "data": {
      "application/javascript": [
       "data.push({'categoryCode': 'CTD', 'locationCode': 'OAGDY', 'temperature': 0.0, 'depth': 21.0, 'latitude': -91.310528, 'longitude': 74.659944}); updateCircles();"
      ],
      "text/plain": [
       "<IPython.core.display.Javascript object>"
      ]
     },
     "metadata": {},
     "output_type": "display_data"
    },
    {
     "data": {
      "application/javascript": [
       "console.log({'categoryCode': 'CTD', 'locationCode': 'OAGDY', 'temperature': 0.0, 'depth': 21.0, 'latitude': -91.310528, 'longitude': 74.659944});"
      ],
      "text/plain": [
       "<IPython.core.display.Javascript object>"
      ]
     },
     "metadata": {},
     "output_type": "display_data"
    },
    {
     "data": {
      "application/javascript": [
       "data.push({'categoryCode': 'CTD', 'locationCode': 'PRATS', 'temperature': 13.389, 'depth': 6.0, 'latitude': -130.320968, 'longitude': 54.318708}); updateCircles();"
      ],
      "text/plain": [
       "<IPython.core.display.Javascript object>"
      ]
     },
     "metadata": {},
     "output_type": "display_data"
    },
    {
     "data": {
      "application/javascript": [
       "console.log({'categoryCode': 'CTD', 'locationCode': 'PRATS', 'temperature': 13.389, 'depth': 6.0, 'latitude': -130.320968, 'longitude': 54.318708});"
      ],
      "text/plain": [
       "<IPython.core.display.Javascript object>"
      ]
     },
     "metadata": {},
     "output_type": "display_data"
    },
    {
     "data": {
      "application/javascript": [
       "console.log('No sensor data from ADCP400KHZ at BFBR');"
      ],
      "text/plain": [
       "<IPython.core.display.Javascript object>"
      ]
     },
     "metadata": {},
     "output_type": "display_data"
    },
    {
     "data": {
      "application/javascript": [
       "console.log('No sensor data from TILTMTR at NC89');"
      ],
      "text/plain": [
       "<IPython.core.display.Javascript object>"
      ]
     },
     "metadata": {},
     "output_type": "display_data"
    },
    {
     "data": {
      "application/javascript": [
       "console.log('No sensor data from TILTMTR at BACND');"
      ],
      "text/plain": [
       "<IPython.core.display.Javascript object>"
      ]
     },
     "metadata": {},
     "output_type": "display_data"
    },
    {
     "data": {
      "application/javascript": [
       "data.push({'categoryCode': 'TARRAY', 'locationCode': 'KEMFT', 'temperature': 2.25, 'depth': 2196.0, 'latitude': -129.098323, 'longitude': 47.9493}); updateCircles();"
      ],
      "text/plain": [
       "<IPython.core.display.Javascript object>"
      ]
     },
     "metadata": {},
     "output_type": "display_data"
    },
    {
     "data": {
      "application/javascript": [
       "console.log({'categoryCode': 'TARRAY', 'locationCode': 'KEMFT', 'temperature': 2.25, 'depth': 2196.0, 'latitude': -129.098323, 'longitude': 47.9493});"
      ],
      "text/plain": [
       "<IPython.core.display.Javascript object>"
      ]
     },
     "metadata": {},
     "output_type": "display_data"
    },
    {
     "data": {
      "application/javascript": [
       "data.push({'categoryCode': 'BPR', 'locationCode': 'FGPD', 'temperature': 8.516372004599997, 'depth': 95.0, 'latitude': -125.280989, 'longitude': 48.814027}); updateCircles();"
      ],
      "text/plain": [
       "<IPython.core.display.Javascript object>"
      ]
     },
     "metadata": {},
     "output_type": "display_data"
    },
    {
     "data": {
      "application/javascript": [
       "console.log({'categoryCode': 'BPR', 'locationCode': 'FGPD', 'temperature': 8.516372004599997, 'depth': 95.0, 'latitude': -125.280989, 'longitude': 48.814027});"
      ],
      "text/plain": [
       "<IPython.core.display.Javascript object>"
      ]
     },
     "metadata": {},
     "output_type": "display_data"
    },
    {
     "data": {
      "application/javascript": [
       "console.log('No sensor data from CTD at GAL9');"
      ],
      "text/plain": [
       "<IPython.core.display.Javascript object>"
      ]
     },
     "metadata": {},
     "output_type": "display_data"
    },
    {
     "data": {
      "application/javascript": [
       "data.push({'categoryCode': 'BPR', 'locationCode': 'KEMF', 'temperature': 1.8787385208200007, 'depth': 2195.0, 'latitude': -129.098678, 'longitude': 47.948583}); updateCircles();"
      ],
      "text/plain": [
       "<IPython.core.display.Javascript object>"
      ]
     },
     "metadata": {},
     "output_type": "display_data"
    },
    {
     "data": {
      "application/javascript": [
       "console.log({'categoryCode': 'BPR', 'locationCode': 'KEMF', 'temperature': 1.8787385208200007, 'depth': 2195.0, 'latitude': -129.098678, 'longitude': 47.948583});"
      ],
      "text/plain": [
       "<IPython.core.display.Javascript object>"
      ]
     },
     "metadata": {},
     "output_type": "display_data"
    },
    {
     "data": {
      "application/javascript": [
       "console.log('No sensor data from BPR at ENEF');"
      ],
      "text/plain": [
       "<IPython.core.display.Javascript object>"
      ]
     },
     "metadata": {},
     "output_type": "display_data"
    },
    {
     "data": {
      "application/javascript": [
       "console.log('No sensor data from CTD at CRV6');"
      ],
      "text/plain": [
       "<IPython.core.display.Javascript object>"
      ]
     },
     "metadata": {},
     "output_type": "display_data"
    },
    {
     "data": {
      "application/javascript": [
       "console.log('No sensor data from CTD at IRS3');"
      ],
      "text/plain": [
       "<IPython.core.display.Javascript object>"
      ]
     },
     "metadata": {},
     "output_type": "display_data"
    },
    {
     "data": {
      "application/javascript": [
       "data.push({'categoryCode': 'CURRENTMETER', 'locationCode': 'RCNW2', 'temperature': 2.05, 'depth': 2096.0, 'latitude': -129.08715, 'longitude': 47.974647}); updateCircles();"
      ],
      "text/plain": [
       "<IPython.core.display.Javascript object>"
      ]
     },
     "metadata": {},
     "output_type": "display_data"
    },
    {
     "data": {
      "application/javascript": [
       "console.log({'categoryCode': 'CURRENTMETER', 'locationCode': 'RCNW2', 'temperature': 2.05, 'depth': 2096.0, 'latitude': -129.08715, 'longitude': 47.974647});"
      ],
      "text/plain": [
       "<IPython.core.display.Javascript object>"
      ]
     },
     "metadata": {},
     "output_type": "display_data"
    },
    {
     "data": {
      "application/javascript": [
       "data.push({'categoryCode': 'CURRENTMETER', 'locationCode': 'RCSE2', 'temperature': 1.99, 'depth': 2175.0, 'latitude': -129.098893, 'longitude': 47.933395}); updateCircles();"
      ],
      "text/plain": [
       "<IPython.core.display.Javascript object>"
      ]
     },
     "metadata": {},
     "output_type": "display_data"
    },
    {
     "data": {
      "application/javascript": [
       "console.log({'categoryCode': 'CURRENTMETER', 'locationCode': 'RCSE2', 'temperature': 1.99, 'depth': 2175.0, 'latitude': -129.098893, 'longitude': 47.933395});"
      ],
      "text/plain": [
       "<IPython.core.display.Javascript object>"
      ]
     },
     "metadata": {},
     "output_type": "display_data"
    },
    {
     "data": {
      "application/javascript": [
       "data.push({'categoryCode': 'BPR', 'locationCode': 'NC27', 'temperature': 1.9534935074999993, 'depth': 2654.0, 'latitude': -127.75829, 'longitude': 47.762609}); updateCircles();"
      ],
      "text/plain": [
       "<IPython.core.display.Javascript object>"
      ]
     },
     "metadata": {},
     "output_type": "display_data"
    },
    {
     "data": {
      "application/javascript": [
       "console.log({'categoryCode': 'BPR', 'locationCode': 'NC27', 'temperature': 1.9534935074999993, 'depth': 2654.0, 'latitude': -127.75829, 'longitude': 47.762609});"
      ],
      "text/plain": [
       "<IPython.core.display.Javascript object>"
      ]
     },
     "metadata": {},
     "output_type": "display_data"
    },
    {
     "data": {
      "application/javascript": [
       "console.log('No sensor data from CURRENTMETER at RCNE1');"
      ],
      "text/plain": [
       "<IPython.core.display.Javascript object>"
      ]
     },
     "metadata": {},
     "output_type": "display_data"
    },
    {
     "data": {
      "application/javascript": [
       "data.push({'categoryCode': 'CURRENTMETER', 'locationCode': 'RCSE3', 'temperature': 2.12, 'depth': 2100.0, 'latitude': -129.098893, 'longitude': 47.933395}); updateCircles();"
      ],
      "text/plain": [
       "<IPython.core.display.Javascript object>"
      ]
     },
     "metadata": {},
     "output_type": "display_data"
    },
    {
     "data": {
      "application/javascript": [
       "console.log({'categoryCode': 'CURRENTMETER', 'locationCode': 'RCSE3', 'temperature': 2.12, 'depth': 2100.0, 'latitude': -129.098893, 'longitude': 47.933395});"
      ],
      "text/plain": [
       "<IPython.core.display.Javascript object>"
      ]
     },
     "metadata": {},
     "output_type": "display_data"
    },
    {
     "data": {
      "application/javascript": [
       "data.push({'categoryCode': 'CURRENTMETER', 'locationCode': 'RCNW3', 'temperature': 2.13, 'depth': 2019.0, 'latitude': -129.08715, 'longitude': 47.974647}); updateCircles();"
      ],
      "text/plain": [
       "<IPython.core.display.Javascript object>"
      ]
     },
     "metadata": {},
     "output_type": "display_data"
    },
    {
     "data": {
      "application/javascript": [
       "console.log({'categoryCode': 'CURRENTMETER', 'locationCode': 'RCNW3', 'temperature': 2.13, 'depth': 2019.0, 'latitude': -129.08715, 'longitude': 47.974647});"
      ],
      "text/plain": [
       "<IPython.core.display.Javascript object>"
      ]
     },
     "metadata": {},
     "output_type": "display_data"
    },
    {
     "data": {
      "application/javascript": [
       "data.push({'categoryCode': 'PHSENSOR', 'locationCode': 'CBYIP', 'temperature': 0.1971, 'depth': 9.0, 'latitude': -105.06403, 'longitude': 69.1129}); updateCircles();"
      ],
      "text/plain": [
       "<IPython.core.display.Javascript object>"
      ]
     },
     "metadata": {},
     "output_type": "display_data"
    },
    {
     "data": {
      "application/javascript": [
       "console.log({'categoryCode': 'PHSENSOR', 'locationCode': 'CBYIP', 'temperature': 0.1971, 'depth': 9.0, 'latitude': -105.06403, 'longitude': 69.1129});"
      ],
      "text/plain": [
       "<IPython.core.display.Javascript object>"
      ]
     },
     "metadata": {},
     "output_type": "display_data"
    },
    {
     "data": {
      "application/javascript": [
       "console.log('No sensor data from BPR at CNE20');"
      ],
      "text/plain": [
       "<IPython.core.display.Javascript object>"
      ]
     },
     "metadata": {},
     "output_type": "display_data"
    },
    {
     "data": {
      "application/javascript": [
       "console.log('No sensor data from CURRENTMETER at RCSW2');"
      ],
      "text/plain": [
       "<IPython.core.display.Javascript object>"
      ]
     },
     "metadata": {},
     "output_type": "display_data"
    },
    {
     "data": {
      "application/javascript": [
       "console.log('No sensor data from CURRENTMETER at RCNE2');"
      ],
      "text/plain": [
       "<IPython.core.display.Javascript object>"
      ]
     },
     "metadata": {},
     "output_type": "display_data"
    },
    {
     "data": {
      "application/javascript": [
       "console.log('No sensor data from CURRENTMETER at RCSW4');"
      ],
      "text/plain": [
       "<IPython.core.display.Javascript object>"
      ]
     },
     "metadata": {},
     "output_type": "display_data"
    },
    {
     "data": {
      "application/javascript": [
       "console.log('No sensor data from CURRENTMETER at RCSE4');"
      ],
      "text/plain": [
       "<IPython.core.display.Javascript object>"
      ]
     },
     "metadata": {},
     "output_type": "display_data"
    },
    {
     "data": {
      "application/javascript": [
       "data.push({'categoryCode': 'CURRENTMETER', 'locationCode': 'RCSW3', 'temperature': 2.08, 'depth': 2049.0, 'latitude': -129.106723, 'longitude': 47.935512}); updateCircles();"
      ],
      "text/plain": [
       "<IPython.core.display.Javascript object>"
      ]
     },
     "metadata": {},
     "output_type": "display_data"
    },
    {
     "data": {
      "application/javascript": [
       "console.log({'categoryCode': 'CURRENTMETER', 'locationCode': 'RCSW3', 'temperature': 2.08, 'depth': 2049.0, 'latitude': -129.106723, 'longitude': 47.935512});"
      ],
      "text/plain": [
       "<IPython.core.display.Javascript object>"
      ]
     },
     "metadata": {},
     "output_type": "display_data"
    },
    {
     "data": {
      "application/javascript": [
       "console.log('No sensor data from CURRENTMETER at RCNE3');"
      ],
      "text/plain": [
       "<IPython.core.display.Javascript object>"
      ]
     },
     "metadata": {},
     "output_type": "display_data"
    },
    {
     "data": {
      "application/javascript": [
       "console.log('No sensor data from CURRENTMETER at RCSW1');"
      ],
      "text/plain": [
       "<IPython.core.display.Javascript object>"
      ]
     },
     "metadata": {},
     "output_type": "display_data"
    },
    {
     "data": {
      "application/javascript": [
       "console.log('No sensor data from CURRENTMETER at USDDL.R4');"
      ],
      "text/plain": [
       "<IPython.core.display.Javascript object>"
      ]
     },
     "metadata": {},
     "output_type": "display_data"
    },
    {
     "data": {
      "application/javascript": [
       "console.log('No sensor data from CURRENTMETER at RCNE4');"
      ],
      "text/plain": [
       "<IPython.core.display.Javascript object>"
      ]
     },
     "metadata": {},
     "output_type": "display_data"
    },
    {
     "data": {
      "application/javascript": [
       "data.push({'categoryCode': 'CURRENTMETER', 'locationCode': 'RCNW1', 'temperature': 2.23, 'depth': 2144.0, 'latitude': -129.08715, 'longitude': 47.974647}); updateCircles();"
      ],
      "text/plain": [
       "<IPython.core.display.Javascript object>"
      ]
     },
     "metadata": {},
     "output_type": "display_data"
    },
    {
     "data": {
      "application/javascript": [
       "console.log({'categoryCode': 'CURRENTMETER', 'locationCode': 'RCNW1', 'temperature': 2.23, 'depth': 2144.0, 'latitude': -129.08715, 'longitude': 47.974647});"
      ],
      "text/plain": [
       "<IPython.core.display.Javascript object>"
      ]
     },
     "metadata": {},
     "output_type": "display_data"
    },
    {
     "data": {
      "application/javascript": [
       "data.push({'categoryCode': 'CURRENTMETER', 'locationCode': 'RCNW4', 'temperature': 2.18, 'depth': 1944.0, 'latitude': -129.08715, 'longitude': 47.974647}); updateCircles();"
      ],
      "text/plain": [
       "<IPython.core.display.Javascript object>"
      ]
     },
     "metadata": {},
     "output_type": "display_data"
    },
    {
     "data": {
      "application/javascript": [
       "console.log({'categoryCode': 'CURRENTMETER', 'locationCode': 'RCNW4', 'temperature': 2.18, 'depth': 1944.0, 'latitude': -129.08715, 'longitude': 47.974647});"
      ],
      "text/plain": [
       "<IPython.core.display.Javascript object>"
      ]
     },
     "metadata": {},
     "output_type": "display_data"
    },
    {
     "data": {
      "application/javascript": [
       "data.push({'categoryCode': 'CURRENTMETER', 'locationCode': 'RCSE1', 'temperature': 2.0, 'depth': 2221.0, 'latitude': -129.098893, 'longitude': 47.933395}); updateCircles();"
      ],
      "text/plain": [
       "<IPython.core.display.Javascript object>"
      ]
     },
     "metadata": {},
     "output_type": "display_data"
    },
    {
     "data": {
      "application/javascript": [
       "console.log({'categoryCode': 'CURRENTMETER', 'locationCode': 'RCSE1', 'temperature': 2.0, 'depth': 2221.0, 'latitude': -129.098893, 'longitude': 47.933395});"
      ],
      "text/plain": [
       "<IPython.core.display.Javascript object>"
      ]
     },
     "metadata": {},
     "output_type": "display_data"
    },
    {
     "data": {
      "application/javascript": [
       "data.push({'categoryCode': 'CORK', 'locationCode': 'NC27', 'temperature': 1.875867273213143, 'depth': 2660.5, 'latitude': -127.759212, 'longitude': 47.7626}); updateCircles();"
      ],
      "text/plain": [
       "<IPython.core.display.Javascript object>"
      ]
     },
     "metadata": {},
     "output_type": "display_data"
    },
    {
     "data": {
      "application/javascript": [
       "console.log({'categoryCode': 'CORK', 'locationCode': 'NC27', 'temperature': 1.875867273213143, 'depth': 2660.5, 'latitude': -127.759212, 'longitude': 47.7626});"
      ],
      "text/plain": [
       "<IPython.core.display.Javascript object>"
      ]
     },
     "metadata": {},
     "output_type": "display_data"
    },
    {
     "data": {
      "application/javascript": [
       "data.push({'categoryCode': 'BPR', 'locationCode': 'NC89', 'temperature': 3.0695117477500062, 'depth': 1258.0, 'latitude': -126.847965, 'longitude': 48.670835}); updateCircles();"
      ],
      "text/plain": [
       "<IPython.core.display.Javascript object>"
      ]
     },
     "metadata": {},
     "output_type": "display_data"
    },
    {
     "data": {
      "application/javascript": [
       "console.log('No sensor data from CTD at SVN8');"
      ],
      "text/plain": [
       "<IPython.core.display.Javascript object>"
      ]
     },
     "metadata": {},
     "output_type": "display_data"
    },
    {
     "data": {
      "application/javascript": [
       "console.log({'categoryCode': 'BPR', 'locationCode': 'NC89', 'temperature': 3.0695117477500062, 'depth': 1258.0, 'latitude': -126.847965, 'longitude': 48.670835});"
      ],
      "text/plain": [
       "<IPython.core.display.Javascript object>"
      ]
     },
     "metadata": {},
     "output_type": "display_data"
    },
    {
     "data": {
      "application/javascript": [
       "data.push({'categoryCode': 'CURRENTMETER', 'locationCode': 'ENWF', 'temperature': 1.93, 'depth': 2360.0, 'latitude': -129.124283, 'longitude': 47.959863}); updateCircles();"
      ],
      "text/plain": [
       "<IPython.core.display.Javascript object>"
      ]
     },
     "metadata": {},
     "output_type": "display_data"
    },
    {
     "data": {
      "application/javascript": [
       "console.log({'categoryCode': 'CURRENTMETER', 'locationCode': 'ENWF', 'temperature': 1.93, 'depth': 2360.0, 'latitude': -129.124283, 'longitude': 47.959863});"
      ],
      "text/plain": [
       "<IPython.core.display.Javascript object>"
      ]
     },
     "metadata": {},
     "output_type": "display_data"
    },
    {
     "data": {
      "application/javascript": [
       "data.push({'categoryCode': 'CORK', 'locationCode': 'CQS64', 'temperature': 3.0552075839999944, 'depth': 1329.0, 'latitude': -126.872152, 'longitude': 48.699937}); updateCircles();"
      ],
      "text/plain": [
       "<IPython.core.display.Javascript object>"
      ]
     },
     "metadata": {},
     "output_type": "display_data"
    },
    {
     "data": {
      "application/javascript": [
       "console.log({'categoryCode': 'CORK', 'locationCode': 'CQS64', 'temperature': 3.0552075839999944, 'depth': 1329.0, 'latitude': -126.872152, 'longitude': 48.699937});"
      ],
      "text/plain": [
       "<IPython.core.display.Javascript object>"
      ]
     },
     "metadata": {},
     "output_type": "display_data"
    },
    {
     "data": {
      "application/javascript": [
       "data.push({'categoryCode': 'CURRENTMETER', 'locationCode': 'NC27', 'temperature': 1.91, 'depth': 2654.0, 'latitude': -127.75829, 'longitude': 47.762609}); updateCircles();"
      ],
      "text/plain": [
       "<IPython.core.display.Javascript object>"
      ]
     },
     "metadata": {},
     "output_type": "display_data"
    },
    {
     "data": {
      "application/javascript": [
       "console.log({'categoryCode': 'CURRENTMETER', 'locationCode': 'NC27', 'temperature': 1.91, 'depth': 2654.0, 'latitude': -127.75829, 'longitude': 47.762609});"
      ],
      "text/plain": [
       "<IPython.core.display.Javascript object>"
      ]
     },
     "metadata": {},
     "output_type": "display_data"
    },
    {
     "data": {
      "application/javascript": [
       "console.log('No sensor data from CURRENTMETER at NC89');"
      ],
      "text/plain": [
       "<IPython.core.display.Javascript object>"
      ]
     },
     "metadata": {},
     "output_type": "display_data"
    },
    {
     "data": {
      "application/javascript": [
       "data.push({'categoryCode': 'OXYSENSOR', 'locationCode': 'CBYIP', 'temperature': 0.0998276395908988, 'depth': 9.0, 'latitude': -105.06403, 'longitude': 69.1129}); updateCircles();"
      ],
      "text/plain": [
       "<IPython.core.display.Javascript object>"
      ]
     },
     "metadata": {},
     "output_type": "display_data"
    },
    {
     "data": {
      "application/javascript": [
       "console.log({'categoryCode': 'OXYSENSOR', 'locationCode': 'CBYIP', 'temperature': 0.0998276395908988, 'depth': 9.0, 'latitude': -105.06403, 'longitude': 69.1129});"
      ],
      "text/plain": [
       "<IPython.core.display.Javascript object>"
      ]
     },
     "metadata": {},
     "output_type": "display_data"
    },
    {
     "data": {
      "application/javascript": [
       "data.push({'categoryCode': 'ADCP2MHZ', 'locationCode': 'MPBB', 'temperature': 8.41, 'depth': 0.0, 'latitude': -54.685, 'longitude': 46.98}); updateCircles();"
      ],
      "text/plain": [
       "<IPython.core.display.Javascript object>"
      ]
     },
     "metadata": {},
     "output_type": "display_data"
    },
    {
     "data": {
      "application/javascript": [
       "console.log({'categoryCode': 'ADCP2MHZ', 'locationCode': 'MPBB', 'temperature': 8.41, 'depth': 0.0, 'latitude': -54.685, 'longitude': 46.98});"
      ],
      "text/plain": [
       "<IPython.core.display.Javascript object>"
      ]
     },
     "metadata": {},
     "output_type": "display_data"
    },
    {
     "data": {
      "application/javascript": [
       "data.push({'categoryCode': 'BBES', 'locationCode': 'MEFS', 'temperature': 13.75, 'depth': 2189.0, 'latitude': -129.098605, 'longitude': 47.948058}); updateCircles();"
      ],
      "text/plain": [
       "<IPython.core.display.Javascript object>"
      ]
     },
     "metadata": {},
     "output_type": "display_data"
    },
    {
     "data": {
      "application/javascript": [
       "console.log({'categoryCode': 'BBES', 'locationCode': 'MEFS', 'temperature': 13.75, 'depth': 2189.0, 'latitude': -129.098605, 'longitude': 47.948058});"
      ],
      "text/plain": [
       "<IPython.core.display.Javascript object>"
      ]
     },
     "metadata": {},
     "output_type": "display_data"
    },
    {
     "data": {
      "application/javascript": [
       "data.push({'categoryCode': 'ADCP75KHZ', 'locationCode': 'NC27', 'temperature': 1.75, 'depth': 2663.0, 'latitude': -127.758817, 'longitude': 47.762365}); updateCircles();"
      ],
      "text/plain": [
       "<IPython.core.display.Javascript object>"
      ]
     },
     "metadata": {},
     "output_type": "display_data"
    },
    {
     "data": {
      "application/javascript": [
       "console.log({'categoryCode': 'ADCP75KHZ', 'locationCode': 'NC27', 'temperature': 1.75, 'depth': 2663.0, 'latitude': -127.758817, 'longitude': 47.762365});"
      ],
      "text/plain": [
       "<IPython.core.display.Javascript object>"
      ]
     },
     "metadata": {},
     "output_type": "display_data"
    },
    {
     "data": {
      "application/javascript": [
       "data.push({'categoryCode': 'ICEPROFILER', 'locationCode': 'CBYIP', 'temperature': 0.1097484123916388, 'depth': 9.0, 'latitude': -105.06403, 'longitude': 69.1129}); updateCircles();"
      ],
      "text/plain": [
       "<IPython.core.display.Javascript object>"
      ]
     },
     "metadata": {},
     "output_type": "display_data"
    },
    {
     "data": {
      "application/javascript": [
       "console.log({'categoryCode': 'ICEPROFILER', 'locationCode': 'CBYIP', 'temperature': 0.1097484123916388, 'depth': 9.0, 'latitude': -105.06403, 'longitude': 69.1129});"
      ],
      "text/plain": [
       "<IPython.core.display.Javascript object>"
      ]
     },
     "metadata": {},
     "output_type": "display_data"
    },
    {
     "data": {
      "application/javascript": [
       "data.push({'categoryCode': 'NODE', 'locationCode': 'SAAN', 'temperature': 18.506916099999998, 'depth': 99.8, 'latitude': -123.486712, 'longitude': 48.6509}); updateCircles();"
      ],
      "text/plain": [
       "<IPython.core.display.Javascript object>"
      ]
     },
     "metadata": {},
     "output_type": "display_data"
    },
    {
     "data": {
      "application/javascript": [
       "console.log({'categoryCode': 'NODE', 'locationCode': 'SAAN', 'temperature': 18.506916099999998, 'depth': 99.8, 'latitude': -123.486712, 'longitude': 48.6509});"
      ],
      "text/plain": [
       "<IPython.core.display.Javascript object>"
      ]
     },
     "metadata": {},
     "output_type": "display_data"
    },
    {
     "data": {
      "application/javascript": [
       "data.push({'categoryCode': 'NODE', 'locationCode': 'SGE', 'temperature': 20.4376635, 'depth': 170.0, 'latitude': -123.317265, 'longitude': 49.042835}); updateCircles();"
      ],
      "text/plain": [
       "<IPython.core.display.Javascript object>"
      ]
     },
     "metadata": {},
     "output_type": "display_data"
    },
    {
     "data": {
      "application/javascript": [
       "console.log({'categoryCode': 'NODE', 'locationCode': 'SGE', 'temperature': 20.4376635, 'depth': 170.0, 'latitude': -123.317265, 'longitude': 49.042835});"
      ],
      "text/plain": [
       "<IPython.core.display.Javascript object>"
      ]
     },
     "metadata": {},
     "output_type": "display_data"
    },
    {
     "data": {
      "application/javascript": [
       "data.push({'categoryCode': 'CTD', 'locationCode': 'CBYIP', 'temperature': 0.0958, 'depth': 9.0, 'latitude': -105.06403, 'longitude': 69.1129}); updateCircles();"
      ],
      "text/plain": [
       "<IPython.core.display.Javascript object>"
      ]
     },
     "metadata": {},
     "output_type": "display_data"
    },
    {
     "data": {
      "application/javascript": [
       "console.log({'categoryCode': 'CTD', 'locationCode': 'CBYIP', 'temperature': 0.0958, 'depth': 9.0, 'latitude': -105.06403, 'longitude': 69.1129});"
      ],
      "text/plain": [
       "<IPython.core.display.Javascript object>"
      ]
     },
     "metadata": {},
     "output_type": "display_data"
    }
   ],
   "source": [
    "data = asyncio.run_coroutine_threadsafe(runInParallel(getDataFromLocation, categoryLocationId, dateFrom), LOOP).result();"
   ]
  },
  {
   "cell_type": "markdown",
   "metadata": {
    "hidden": true
   },
   "source": [
    "---"
   ]
  },
  {
   "cell_type": "markdown",
   "metadata": {
    "hidden": true
   },
   "source": [
    "## Optimization"
   ]
  },
  {
   "cell_type": "markdown",
   "metadata": {
    "hidden": true
   },
   "source": [
    "Initially we set out to find candidate sites for OTEC. In our demonstration above, we patiently recover `data`, which contains the temperature and location data for every sensor that Oceans 2.0 could deliver."
   ]
  },
  {
   "cell_type": "code",
   "execution_count": 33,
   "metadata": {
    "hidden": true
   },
   "outputs": [
    {
     "data": {
      "text/plain": [
       "[{'categoryCode': 'ADCP1200KHZ',\n",
       "  'locationCode': 'CBYIP',\n",
       "  'temperature': 0.45,\n",
       "  'depth': 9.0,\n",
       "  'latitude': -105.06403,\n",
       "  'longitude': 69.1129},\n",
       " {'categoryCode': 'ADCP150KHZ',\n",
       "  'locationCode': 'BACME',\n",
       "  'temperature': 3.97,\n",
       "  'depth': 895.0,\n",
       "  'latitude': -126.058533,\n",
       "  'longitude': 48.314901},\n",
       " None,\n",
       " {'categoryCode': 'ADCP150KHZ',\n",
       "  'locationCode': 'SCVIP',\n",
       "  'temperature': 9.13,\n",
       "  'depth': 298.0,\n",
       "  'latitude': -123.425809,\n",
       "  'longitude': 49.040683},\n",
       " {'categoryCode': 'ADCP150KHZ',\n",
       "  'locationCode': 'SEVIP',\n",
       "  'temperature': 9.73,\n",
       "  'depth': 166.0,\n",
       "  'latitude': -123.316579,\n",
       "  'longitude': 49.042586}]"
      ]
     },
     "execution_count": 33,
     "metadata": {},
     "output_type": "execute_result"
    }
   ],
   "source": [
    "data[:5]"
   ]
  },
  {
   "cell_type": "markdown",
   "metadata": {
    "hidden": true
   },
   "source": [
    "With this we may compute the ideal locations for <span style=\"color:blue\">cold</span> and <span style=\"color:red\">hot</span> reservoirs to maximize the effiency of a Carnot heat engine."
   ]
  },
  {
   "cell_type": "markdown",
   "metadata": {
    "hidden": true
   },
   "source": [
    "As we see on the map, some locations are simply too far apart for OTEC. We should only consider locations that are near one another."
   ]
  },
  {
   "cell_type": "markdown",
   "metadata": {
    "hidden": true
   },
   "source": [
    "To constrain our results, we create a function, `nearby(latitudeDifference, longitudeDifference, depthDifference)`, to check if the Euclidean distance between any two locations is less than 2 kilometres. We also check that the distance is greater than zero, to avoid a physical impossibility. As an approximation, we suppose that a degree of latitude or longitude is at most 112 kilometres. <sup>[5](#fn5)</sup> "
   ]
  },
  {
   "cell_type": "code",
   "execution_count": 34,
   "metadata": {
    "collapsed": true,
    "hidden": true
   },
   "outputs": [],
   "source": [
    "def nearby(latitudeDifference, longitudeDifference, depthDifference):\n",
    "    distance = sqrt(latitudeDifference*latitudeDifference + longitudeDifference*longitudeDifference + depthDifference*depthDifference)\n",
    "    if 0 < distance < 2:\n",
    "        return True;\n",
    "    return False;"
   ]
  },
  {
   "cell_type": "markdown",
   "metadata": {
    "hidden": true
   },
   "source": [
    "We generate a list of all possible pairs of sensors, and slice the first two for a preview."
   ]
  },
  {
   "cell_type": "code",
   "execution_count": 35,
   "metadata": {
    "hidden": true
   },
   "outputs": [
    {
     "data": {
      "text/plain": [
       "[({'categoryCode': 'ADCP1200KHZ',\n",
       "   'locationCode': 'CBYIP',\n",
       "   'temperature': 0.45,\n",
       "   'depth': 9.0,\n",
       "   'latitude': -105.06403,\n",
       "   'longitude': 69.1129},\n",
       "  {'categoryCode': 'ADCP150KHZ',\n",
       "   'locationCode': 'BACME',\n",
       "   'temperature': 3.97,\n",
       "   'depth': 895.0,\n",
       "   'latitude': -126.058533,\n",
       "   'longitude': 48.314901}),\n",
       " ({'categoryCode': 'ADCP1200KHZ',\n",
       "   'locationCode': 'CBYIP',\n",
       "   'temperature': 0.45,\n",
       "   'depth': 9.0,\n",
       "   'latitude': -105.06403,\n",
       "   'longitude': 69.1129},\n",
       "  None)]"
      ]
     },
     "execution_count": 35,
     "metadata": {},
     "output_type": "execute_result"
    }
   ],
   "source": [
    "sensorPairs = list(itertools.combinations(data, 2))\n",
    "sensorPairs[:2]"
   ]
  },
  {
   "cell_type": "markdown",
   "metadata": {
    "hidden": true
   },
   "source": [
    "Next we filter `sensorPairs`, overlooking sensors that are mutually more than 2 kilometres apart."
   ]
  },
  {
   "cell_type": "code",
   "execution_count": 36,
   "metadata": {
    "hidden": true
   },
   "outputs": [
    {
     "data": {
      "text/plain": [
       "[({'categoryCode': 'ADCP150KHZ',\n",
       "   'locationCode': 'BACME',\n",
       "   'temperature': 3.97,\n",
       "   'depth': 895.0,\n",
       "   'latitude': -126.058533,\n",
       "   'longitude': 48.314901},\n",
       "  {'categoryCode': 'ADCP2MHZ',\n",
       "   'locationCode': 'BACME',\n",
       "   'temperature': 4.14,\n",
       "   'depth': 893.0,\n",
       "   'latitude': -126.058587,\n",
       "   'longitude': 48.31494}),\n",
       " ({'categoryCode': 'ADCP150KHZ',\n",
       "   'locationCode': 'BACME',\n",
       "   'temperature': 3.97,\n",
       "   'depth': 895.0,\n",
       "   'latitude': -126.058533,\n",
       "   'longitude': 48.314901},\n",
       "  {'categoryCode': 'ADCP55KHZ',\n",
       "   'locationCode': 'BACAX',\n",
       "   'temperature': 4.95,\n",
       "   'depth': 981.0,\n",
       "   'latitude': -126.050718,\n",
       "   'longitude': 48.31664})]"
      ]
     },
     "execution_count": 36,
     "metadata": {},
     "output_type": "execute_result"
    }
   ],
   "source": [
    "closeSensorPairs = []\n",
    "for pair in sensorPairs:\n",
    "    try:\n",
    "        latitudeDifference = (pair[0]['latitude'] - pair[1]['latitude']) * 112\n",
    "        longitudeDifference = (pair[0]['longitude'] - pair[1]['longitude']) * 112\n",
    "        depthDifference = (pair[0]['depth'] - pair[1]['depth']) / 1000\n",
    "    \n",
    "        if nearby(latitudeDifference, longitudeDifference, depthDifference):\n",
    "            closeSensorPairs += [pair]\n",
    "    except TypeError: pass\n",
    "closeSensorPairs[:2]"
   ]
  },
  {
   "cell_type": "markdown",
   "metadata": {
    "hidden": true
   },
   "source": [
    "From `closeSensorPairs`, we generate a list of all possible pairs of locations, as well as a list of all possible pairs of temperatures $\\left(T_{cold}, T_{hot}\\right)$, with every temperature represented using the Kelvin scale.\n",
    "\n",
    "We `zip` these lists to preserve the pairing of locations with temperatures. Naturally, the <span style=\"color:blue\">cold</span> reservoir will be one of two locations with a lower temperature, so we ignore elements where $T_{cold}$ is greater than $T_{hot}$."
   ]
  },
  {
   "cell_type": "markdown",
   "metadata": {
    "hidden": true
   },
   "source": [
    "In theory, OTEC provides as much energy with a 20 degree temperature difference as a hydroelectric plant with 34 metre head, given the same volume of water flow. <sup>[6](#fn6)</sup>"
   ]
  },
  {
   "cell_type": "markdown",
   "metadata": {
    "hidden": true
   },
   "source": [
    "It is unreasonable to expect such a temperature difference $\\Delta T = T_{hot} - T_{cold}$ between nearby locations, namely this from the equator. In the event that there is no two locations with a temperature difference greater than 20 degrees, we check again for elements with a temperature difference of 19 degrees, then 18 degrees, and so forth, until we find a suitable location."
   ]
  },
  {
   "cell_type": "code",
   "execution_count": 37,
   "metadata": {
    "hidden": true
   },
   "outputs": [
    {
     "data": {
      "text/plain": [
       "[(('KEMF', 'MEFS'), (275.03, 286.9)),\n",
       " (('RCSE5.A1', 'MEFS'), (275.21, 286.9)),\n",
       " (('RCSE5.A2', 'MEFS'), (275.34999999999997, 286.9))]"
      ]
     },
     "execution_count": 37,
     "metadata": {},
     "output_type": "execute_result"
    }
   ],
   "source": [
    "temperatureDifference = 20\n",
    "locationPairs = [(c[0]['locationCode'], c[1]['locationCode']) for c in closeSensorPairs]\n",
    "temperaturePairs = [(celsius_to_kelvin(c[0]['temperature']), celsius_to_kelvin(c[1]['temperature'])) for c in closeSensorPairs]\n",
    "locationTemperaturePairs = [pair for pair in list(zip(locationPairs, temperaturePairs)) if pair[1][0] < pair[1][1] and not abs(pair[1][1] - pair[1][0]) < temperatureDifference]\n",
    "while locationTemperaturePairs == [] :\n",
    "    temperatureDifference -= 1\n",
    "    locationTemperaturePairs = [pair for pair in list(zip(locationPairs, temperaturePairs)) if pair[1][0] < pair[1][1] and not abs(pair[1][1] - pair[1][0]) < temperatureDifference]\n",
    "locationTemperaturePairs"
   ]
  },
  {
   "cell_type": "markdown",
   "metadata": {
    "hidden": true
   },
   "source": [
    "These pairs of temperatures are readily unpacked and passed to our function, `max_efficiency(T_cold, T_hot)`, that we defined at the onset. We isolate the temperature pair that maximizes the efficiency of a Carnot heat engine. So that we may determine the locations of its heat reservoirs, we get the indices of `locationTemperaturePairs` where the greatest efficiency values are attained."
   ]
  },
  {
   "cell_type": "code",
   "execution_count": 38,
   "metadata": {
    "hidden": true
   },
   "outputs": [
    {
     "data": {
      "text/plain": [
       "[('4.14 %', 0), ('4.07 %', 1), ('4.03 %', 2)]"
      ]
     },
     "execution_count": 38,
     "metadata": {},
     "output_type": "execute_result"
    }
   ],
   "source": [
    "efficiencies = [round(max_efficiency(*pair[1]) * 100, 2) for pair in locationTemperaturePairs] \n",
    "indices = [efficiencies.index(efficiency) for efficiency in nlargest(3, efficiencies)]\n",
    "list(zip(['%.2f ' % efficiencies[i] + '%' for i in indices], indices))"
   ]
  },
  {
   "cell_type": "markdown",
   "metadata": {
    "hidden": true
   },
   "source": [
    "Finally, we may isolate the candidate sites for OTEC."
   ]
  },
  {
   "cell_type": "code",
   "execution_count": 39,
   "metadata": {
    "hidden": true
   },
   "outputs": [
    {
     "data": {
      "text/plain": [
       "[('KEMF', 'MEFS'), ('RCSE5.A1', 'MEFS'), ('RCSE5.A2', 'MEFS')]"
      ]
     },
     "execution_count": 39,
     "metadata": {},
     "output_type": "execute_result"
    }
   ],
   "source": [
    "candidateSites = [locationTemperaturePairs[i][0] for i in indices]\n",
    "candidateSites"
   ]
  },
  {
   "cell_type": "markdown",
   "metadata": {
    "hidden": true
   },
   "source": [
    "We use `getLocations()` once more with each location code to name these locations and determine their depths."
   ]
  },
  {
   "cell_type": "code",
   "execution_count": 40,
   "metadata": {
    "hidden": true
   },
   "outputs": [
    {
     "name": "stdout",
     "output_type": "stream",
     "text": [
      "KEMF / Main Endeavour Field / 2191.226087  to  MEFS / Main Endeavour Field South / 2188.333333\n",
      "RCSE5.A1 / ADCP Upward / 1977.0  to  MEFS / Main Endeavour Field South / 2188.333333\n",
      "RCSE5.A2 / ADCP Downward / 1977.0  to  MEFS / Main Endeavour Field South / 2188.333333\n"
     ]
    }
   ],
   "source": [
    "for sites in candidateSites:\n",
    "    coldReservoir = onc.getLocations(filters = { 'locationCode': sites[0] })[0]\n",
    "    hotReservoir = onc.getLocations(filters = { 'locationCode': sites[1] })[0]\n",
    "    coldReservoirInfo = coldReservoir['locationCode'] + ' / ' + coldReservoir['locationName'] + ' / ' + str(coldReservoir['depth'])\n",
    "    hotReservoirInfo = hotReservoir['locationCode'] + ' / ' + hotReservoir['locationName'] + ' / ' + str(hotReservoir['depth'])\n",
    "    print(coldReservoirInfo, ' to ', hotReservoirInfo)"
   ]
  },
  {
   "cell_type": "markdown",
   "metadata": {
    "hidden": true
   },
   "source": [
    "These are candidate sites for OTEC!\n",
    "\n",
    "---"
   ]
  },
  {
   "cell_type": "markdown",
   "metadata": {
    "hidden": true
   },
   "source": [
    "## Conclusion\n",
    "\n",
    "We set out to find optimal development sites along Canadian coastlines for Ocean Thermal Energy Conversion, a hypothetical and renewable energy resource that, acting as heat engine, utilizes temperature differences to generate energy. We simplified our exploration by considering the Carnot heat engine, a theoretical physical model, to place an upper bound on the efficiency of OTEC developed between two sites.\n",
    "\n",
    "The use of the Oceans 2.0 API, courtesy of Ocean Networks Canada, allowed us to find all temperature sensors catalogued by ONC. With this temperature data, we narrowed our search to _nearby_ candidate sites with the greatest temperature difference, and computed the maximal efficiency $\\eta_{Carnot}$ of OTEC at each site.\n",
    "\n",
    "---"
   ]
  },
  {
   "cell_type": "markdown",
   "metadata": {
    "hidden": true
   },
   "source": [
    "#### Citations\n",
    "\n",
    "<a name=\"fn0\">0</a> : https://centerforoceansolutions.org/sites/default/files/publications/Pelc%20and%20Fujita%202002.pdf\n",
    "\n",
    "<a name=\"fn1\">1</a> : https://en.wikipedia.org/wiki/Carnot%27s_theorem_(thermodynamics)\n",
    "\n",
    "<a name=\"fn2\">2</a> : https://www.oceannetworks.ca\n",
    "\n",
    "<a name=\"fn3\">3</a> : https://wiki.oceannetworks.ca/display/O2A/API+Reference\n",
    "\n",
    "<a name=\"fn4\">4</a> : https://wiki.oceannetworks.ca/display/O2A/Python+Client+Library\n",
    "\n",
    "<a name=\"fn5\">5</a> : https://gis.stackexchange.com/a/142327\n",
    "\n",
    "<a name=\"fn6\">6</a> : https://en.wikipedia.org/wiki/Ocean_thermal_energy_conversion#Thermodynamics\n",
    "\n",
    "---"
   ]
  },
  {
   "cell_type": "markdown",
   "metadata": {
    "hidden": false
   },
   "source": [
    "![](images/Callysto_Notebook-Banners_Bottom.jpg)"
   ]
  }
 ],
 "metadata": {
  "kernelspec": {
   "display_name": "Python 3",
   "language": "python",
   "name": "python3"
  },
  "language_info": {
   "codemirror_mode": {
    "name": "ipython",
    "version": 3
   },
   "file_extension": ".py",
   "mimetype": "text/x-python",
   "name": "python",
   "nbconvert_exporter": "python",
   "pygments_lexer": "ipython3",
   "version": "3.6.1"
  }
 },
 "nbformat": 4,
 "nbformat_minor": 2
}
