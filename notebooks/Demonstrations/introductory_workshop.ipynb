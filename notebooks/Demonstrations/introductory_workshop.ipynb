{
 "cells": [
  {
   "cell_type": "markdown",
   "metadata": {
    "slideshow": {
     "slide_type": "notes"
    }
   },
   "source": [
    "# Things to cover (this slide will be removed) \n",
    "creating markdown cells \n",
    "\n",
    "REMEMBER TO ADD IMAGES/VIDEOS SO THIS ISN\"T HELLA BORING\n",
    "1. Introduction/Flashy examples of what you can do\n",
    "    1. Show off some of the cooler notebooks/lessons?\n",
    "    2. Woo the audience. \n",
    "\n",
    "2. Accessing Content\n",
    "   \n",
    "    1. logging in/github?\n",
    "    2. requesting new content?\n",
    "    3. how it's organized \n",
    "\n",
    "3. Doin' stuff with the content\n",
    "    1. how to run stuff, what you can do\n",
    "    2. changing it if you want\n",
    "    3. interactive activity of making things happen? \n",
    "    4. examples where no coding is required? \n",
    "4. Basic trouble shooting.\n",
    "    1. go over some error messages and how to fix them?\n",
    "    2. reload - kill kernel - run all\n",
    "    \n",
    "5. nbgitpuller for automation\n",
    "    1. how to set up automated assignments and grading\n",
    "\n",
    "6. How to use this in a classroom \n",
    "    "
   ]
  },
  {
   "cell_type": "markdown",
   "metadata": {
    "slideshow": {
     "slide_type": "slide"
    }
   },
   "source": [
    "# Introduction \n",
    "blah blah blah use our stuff. Maybe mention that a lot of this can look intimidating, but once you get used to it it's no more difficult (perhaps easier?) than running microsoft word/excel. This way we'll be taking it back to their comfort zone. \n",
    "## Jupyter/Callysto\n",
    "that's the name or whatever also it's free for you\n",
    "## What you can do\n",
    "1. Interactive Assignments/Laboratories\n",
    "2. Automate grading\n",
    "3. Work with us to request new content/create your own\n"
   ]
  },
  {
   "cell_type": "markdown",
   "metadata": {
    "slideshow": {
     "slide_type": "slide"
    }
   },
   "source": [
    "# [CanCode](https://www.canada.ca/en/innovation-science-economic-development/programs/science-technology-partnerships/cancode.html?utm_campaign=not-applicable&utm_source=cancode_vanity-url&utm_medium=vanity-url): Preparing Canada's Youth For a Digital Future\n",
    "\n",
    "- In order to prepare Canada's youth for an ever more competitive job market which requires digital skills, the federal government is supplying funding via the CanCode (project?, initiative?)\n",
    "- This project aims to teach Canadian students more than just how to use technoligy - **it aims to introduce Canadian students of all ages to the idea of 'Computational Thinking'**\n",
    "- Does not necessarily mean learning how to code, the idea of computational thinking does not necessarily require the use of programming"
   ]
  },
  {
   "cell_type": "markdown",
   "metadata": {
    "slideshow": {
     "slide_type": "subslide"
    }
   },
   "source": [
    "## Computational Thinking\n",
    "\n",
    ">\"Simply put, [computational thinking] is “thinking (or problem solving) like a computer scientist.” It is the thought processes involved in understanding a problem and expressing its solutions in such a way that a computer can potentially carry out the solution. CT is fundamentally about using analytic and algorithmic concepts and strategies most closely related to computer science to formulate, analyze and solve problems.\"\n",
    ">\n",
    ">-[Shuchi Grover](https://www.edsurge.com/news/2018-02-25-the-5th-c-of-21st-century-skills-try-computational-thinking-not-coding)"
   ]
  },
  {
   "cell_type": "markdown",
   "metadata": {
    "slideshow": {
     "slide_type": "subslide"
    }
   },
   "source": [
    "## Computational thinking is not:\n",
    "\n",
    "- Writing code.\n",
    "- Using computers to automate and solve problems.\n",
    "- Only important for math and science. \n",
    "\n",
    "\n",
    "<div style= \"float:right; position: relative; top: -75px; right:0px;\">\n",
    "<img src=\"images/code-cross.png\" width = 500  border=0></a>\n",
    "</div>"
   ]
  },
  {
   "cell_type": "markdown",
   "metadata": {
    "slideshow": {
     "slide_type": "subslide"
    }
   },
   "source": [
    "## Computational thinking is:\n",
    "- A problem solving methodology.\n",
    "- Thinking algorithmically.\n",
    "- Problem abstraction and modeling.\n",
    "- Problem modularization.\n",
    "- Finding solutions to abstract and complicated problems.\n",
    "\n",
    "\n"
   ]
  },
  {
   "cell_type": "markdown",
   "metadata": {
    "slideshow": {
     "slide_type": "subslide"
    }
   },
   "source": [
    "## Computational thinking can:\n",
    "- Be applied to all subjects and assist in curriculum outcomes.\n",
    "    - ** EXAMPLES OF THE ABOVE **\n",
    "- Be learned and taught without writing a single line of code.\n",
    "    - Of course, there is no reason why you couldn't write code.\n",
    "- Help teach course content, provide \"real world\" examples, and the thought processes that go into that analysis.\n",
    "\n"
   ]
  },
  {
   "cell_type": "markdown",
   "metadata": {
    "slideshow": {
     "slide_type": "slide"
    }
   },
   "source": [
    "# Content Examples\n",
    "insert links to some swanky notebooks once you know what you want. Although I think the ones we use should be reorganized/rewritten to show \"computational thinking\" -- basically explain how we're breaking down a problem and analyzing it to our solution. But i think it will be key to do this in a way that we're not outright saying that we're doing it, but we'll be like \"oh look we taught that without mentioning it in _all_ these courses. Use our stuff (for free)\" \n"
   ]
  },
  {
   "cell_type": "markdown",
   "metadata": {
    "slideshow": {
     "slide_type": "subslide"
    }
   },
   "source": [
    "# Accessing Ready Made Content\n",
    "1. Go to [hub.callysto.ca](https://hub.callysto.ca/)\n",
    "2. Log in with an existing Google account.\n",
    "3. Download content using nbgitpuller (TUTORIAL ON NBGITPULLER)\n",
    "4. Celebrate \n",
    "\n",
    "All this content is hosted on the Rapid Access Cloud (RAC) and can be used directly in your browser. <br>\n",
    "There is no need to install any packages or files to your, or your student's computers. <br>\n",
    "<br>\n",
    "Let's take a walk through of how the ready-made content is organized.\n",
    "\n",
    "<div style= \"float:right; position: relative; top: -125px; right:30px;\">\n",
    "<a href= \"https://hub.callysto.ca/\"><img src=\"images/jhub.png\" width = 250  ></a>\n",
    "</div>"
   ]
  },
  {
   "cell_type": "markdown",
   "metadata": {
    "slideshow": {
     "slide_type": "subslide"
    }
   },
   "source": [
    "# Using Ready Made Content\n",
    "1. Once you have the files, you can browse them from the Jupyter hub as you would on your computer.\n",
    "- Open DEMONSTRATION NOTEBOOK\n",
    "- In the top menu, click `Cell` $\\rightarrow$ `Run All`\n",
    "- Walk through of notebook\n",
    "- Note Show/Hide code button\n",
    "- Demo of FIRST DEMONSTRATION\n"
   ]
  },
  {
   "cell_type": "markdown",
   "metadata": {
    "slideshow": {
     "slide_type": "slide"
    }
   },
   "source": [
    "# Basic Jupyter/Python \n",
    "I suggest having a \"Do this section\" in the presentation, but making a separate notebook for the teachers to use themselves to keep them engaged/learn. "
   ]
  },
  {
   "cell_type": "markdown",
   "metadata": {
    "slideshow": {
     "slide_type": "subslide"
    }
   },
   "source": [
    "# Creating and Using a Markdown Cell\n",
    "\n",
    "In the event that you would like to add your own details or questions to a notebook, adding a narrative or \"Markdown\" cell in a Jupyter notebook is straight forward. Think of a markdown cell as analogous to a Microsoft Word document.  Using these cells you can customize the assignment/learning outcomes to your liking on-the-fly. In essence, you have complete control over the lesson right at your fingertips. Here's how to create/edit a Markdown cell:\n",
    "1. Adding a new Markdown Cell\n",
    "    - Click the cell above where you would like to insert text.\n",
    "    - In the top menu, click the '**<span style=\"font-size:larger;\">+</span>**' button.\n",
    "    - With the new cell selected, click the drop down menu which defaults to `Code`, and change it to `Markdown`. \n",
    "    - Begin typing, press `Ctrl + Enter` to render text into a stylized form.\n",
    "2. Editing an Existing Markdown Cell\n",
    "    - Simply double click on the markdown cell you wish to edit, and begin editing once the cell changes to its \"raw text\" input format.\n",
    "    \n",
    "\n",
    "    "
   ]
  },
  {
   "cell_type": "markdown",
   "metadata": {
    "slideshow": {
     "slide_type": "subslide"
    }
   },
   "source": [
    "# Basic Markdown Styles\n",
    "\n",
    "Markdown is quite versatile and supports titles, italic and bold fonts, itemized lists, hyperlinks, images, tables, etc... In fact, every non-code cell in this presentation was created using Markdown! A few of the basic markdown commands are\n",
    "\n",
    "1. Titles\n",
    "    - Title text is rendered with a pound sign (`#`) at the beginning of a line, followed by a space and the text you wish to turn into a title/header. For example, `# This is a title` would create a title at any location within your cell. and \n",
    "    - Adding additional pound signs (example: `### Smaller title or heading`) creates different headings. \n",
    "- Italics\n",
    "    - _Italics_ are done by surrounding a word with underscores (`_`). For example `_this would be italics_` would render in italics.\n",
    "- Bold \n",
    "    - **Bold** lettering is done with double asterisks (`**`). For example, `**bold choice**` would render as bold text.\n",
    "\n",
    "- Lists\n",
    "    - Lists can be generated simply by starting a new line and typing `1.` will start a list. Subsequent items can simply be started with a dash `-`, and the markdown will take care of the numbering for you.\n",
    "    - You can also make sub-items by starting a new line within your list, and pressing `Tab`, then either using dashes for points, or starting with `1.` or `A.` for sublist items. \n",
    "    \n",
    "- Raw text\n",
    "    - Raw text, or text which ignores any of the style commands can be rendered using an open comma ( \\`). For example \\` sentence \\` would render as `sentence`, and would escape any and all other markdown commands.\n",
    "\n",
    "- Math\n",
    "    - Markdown also supports Latex style equations. For a variable x, you can render it in-line by surrounding it like so: `$x$` which renders as $x$. if you want to render an equation proper, you can do it either like\n",
    "    ```$$ f(x) = x^2 $$``` or \n",
    "    ```\n",
    "\\begin{equation}\n",
    "f(x) = x^2\n",
    "\\end{equation}\n",
    "       ```\n",
    "    which both render as \n",
    "    \\begin{equation}\n",
    "    f(x) = x^2\n",
    "    \\end{equation}\n"
   ]
  },
  {
   "cell_type": "markdown",
   "metadata": {
    "slideshow": {
     "slide_type": "subslide"
    }
   },
   "source": [
    "# Demo Number Two\n",
    "1. Run stuff\n",
    "- Change stuff\n",
    "- Break stuff?\n",
    "- get comfortable with it"
   ]
  },
  {
   "cell_type": "code",
   "execution_count": null,
   "metadata": {
    "slideshow": {
     "slide_type": "subslide"
    }
   },
   "outputs": [],
   "source": [
    "# Anything after a pound sign is a comment -- it is not run as code\n",
    "\n",
    "# The most basic command is the classic \"hello world\" command, which displays the statement \"hello world\"\n",
    "# on the screen. In Python with a Jupyter note book, this is done by typing:\n",
    "\n",
    "# print(\"Hello world!\")\n",
    "\n",
    "# then pressing Ctrl + Enter in the specified cell. Try deleting the pound sign in the line\n",
    "# above and running this cell. Did you get an \"IndentationError\"? If so, this is because leading\n",
    "# whitespace in Python is used as a \"boundary\" so to speak (more on this in a few minutes!). For \n",
    "# now, simply move the print statement to the left edge of the cell and try again. \n"
   ]
  },
  {
   "cell_type": "code",
   "execution_count": null,
   "metadata": {
    "slideshow": {
     "slide_type": "subslide"
    }
   },
   "outputs": [],
   "source": [
    "# You can also do basic mathematical operations\n",
    "\n",
    "print(1 + 1)\n",
    "print(10 * 6)\n",
    "print(2 / 4)\n",
    "print(10 - 9)\n",
    "# You can also apply certain manipulations to characters, \n",
    "# which are refered to as strings in computer science talk\n",
    "\n",
    "print(\"a\" + \"b\")\n",
    "print(\"a\" * 10)\n"
   ]
  },
  {
   "cell_type": "code",
   "execution_count": null,
   "metadata": {
    "slideshow": {
     "slide_type": "subslide"
    }
   },
   "outputs": [],
   "source": [
    "# you can also give things names, known as \"variables\". Here 'a' and 'b' are now being\n",
    "# defined as variables, and we're assigning them the values 10 and 20 respectively via the \n",
    "# '=' operation.\n",
    "a = 10\n",
    "b = 20\n",
    "print(a + b)"
   ]
  },
  {
   "cell_type": "code",
   "execution_count": null,
   "metadata": {
    "slideshow": {
     "slide_type": "subslide"
    }
   },
   "outputs": [],
   "source": [
    "# variables are shared between cells as well, where we've used the ',' in the print \n",
    "# statment in order to display both variables on the command line. \n",
    "print(a,b)"
   ]
  },
  {
   "cell_type": "code",
   "execution_count": null,
   "metadata": {
    "slideshow": {
     "slide_type": "subslide"
    }
   },
   "outputs": [],
   "source": [
    "# You can also do things multiple times using a \"for\" loop\n",
    "for i in range(10):\n",
    "    print(i)\n",
    "    \n",
    "# where you'll notice that counting starts at 1 and we ignore the number 10. Here we've assigned each value to\n",
    "# the variable i above. Notice how it counts and we need a colon. What happens if you remove the colon? \n",
    "# Also notice how our print statement is indented under the for loop. This is because python sees everything \n",
    "# indented one level as \"inside the loop\" -- anything indented like the print statement will be executed\n",
    "# every time the program goes through the loop. This is why white space is so important in Python\n",
    "\n"
   ]
  },
  {
   "cell_type": "code",
   "execution_count": null,
   "metadata": {
    "slideshow": {
     "slide_type": "subslide"
    }
   },
   "outputs": [],
   "source": [
    "# You can also test the \"truth\" of something with an if statement, which does something if something\n",
    "# is true\n",
    "\n",
    "for i in range(10):\n",
    "    if i == 5:\n",
    "        print(i == 5,i)\n",
    "    else:\n",
    "        print(i == 5,i)\n",
    "        \n",
    "# notice the next level of indentaion for the if statement as well Also notice the double equals. Also notice \n",
    "# how it prints True\n"
   ]
  },
  {
   "cell_type": "code",
   "execution_count": null,
   "metadata": {},
   "outputs": [],
   "source": [
    "# A handy way to know what something does is type its name followed by a question mark\n",
    "print?\n"
   ]
  }
 ],
 "metadata": {
  "celltoolbar": "Slideshow",
  "kernelspec": {
   "display_name": "Python 3",
   "language": "python",
   "name": "python3"
  },
  "language_info": {
   "codemirror_mode": {
    "name": "ipython",
    "version": 3
   },
   "file_extension": ".py",
   "mimetype": "text/x-python",
   "name": "python",
   "nbconvert_exporter": "python",
   "pygments_lexer": "ipython3",
   "version": "3.6.4"
  }
 },
 "nbformat": 4,
 "nbformat_minor": 2
}
