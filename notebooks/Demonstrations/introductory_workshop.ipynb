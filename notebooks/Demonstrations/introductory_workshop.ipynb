{
 "cells": [
  {
   "cell_type": "markdown",
   "metadata": {},
   "source": []
  },
  {
   "cell_type": "markdown",
   "metadata": {
    "slideshow": {
     "slide_type": "notes"
    }
   },
   "source": [
    "# Things to cover (this slide will be removed) \n",
    "\n",
    "1. Introduction/Flashy examples of what you can do\n",
    "    1. Show off some of the cooler notebooks/lessons?\n",
    "    2. Woo the audience. \n",
    "\n",
    "2. Accessing Content\n",
    "   \n",
    "    1. logging in/github?\n",
    "    2. requesting new content?\n",
    "    3. how it's organized \n",
    "\n",
    "3. Doin' stuff with the content\n",
    "    1. how to run stuff, what you can do\n",
    "    2. changing it if you want\n",
    "    3. interactive activity of making things happen? \n",
    "    4. examples where no coding is required? \n",
    "4. Basic trouble shooting.\n",
    "    1. go over some error messages and how to fix them?\n",
    "    2. reload - kill kernel - run all\n",
    "    \n",
    "5. nbgitpuller for automation\n",
    "    1. how to set up automated assignments and grading\n",
    "\n",
    "6. How to use this in a classroom \n",
    "\n",
    "** NEED MORE IMAGES SO THE DEMO IS MORE EXCITING **\n",
    "    "
   ]
  },
  {
   "cell_type": "markdown",
   "metadata": {
    "slideshow": {
     "slide_type": "slide"
    }
   },
   "source": [
    "\n",
    "# Callysto Introductory Workshop\n",
    "</br>\n",
    "</br>\n",
    "</br>\n",
    "</br>\n",
    "</br>\n",
    "<img src=\"images/Cybera_logo_color_flat.png\" alt=\"Cybera logo\" width=40% align =\"right\">\n",
    "\n"
   ]
  },
  {
   "cell_type": "markdown",
   "metadata": {
    "slideshow": {
     "slide_type": "subslide"
    }
   },
   "source": [
    "<div style= \"float:left; width: 60%; position: relative; \">\n",
    "<img src=\"images/TW_CanCode-EN.JPG\" alt=\"CanCode logo\" width=80% align = \"left\">\n",
    "<br>\n",
    "<br>\n",
    "</div>\n",
    "<div style= \"float:right; width: 40%; position: relative; top:25px;\">\n",
    "<img src=\"images/Cybera_logo_color_flat.png\" alt=\"Cybera logo\" width=300 align = \"middle\">\n",
    "<br>\n",
    "<br>\n",
    "<img src=\"images/PIMS_logo.png\" alt=\"PIMS logo\" width=300 align = \"middle\">\n",
    "</div>"
   ]
  },
  {
   "cell_type": "markdown",
   "metadata": {
    "slideshow": {
     "slide_type": "slide"
    }
   },
   "source": [
    "# Today's Agenda\n",
    "- Introduction to Callysto\n",
    "- What is computational thinking?\n",
    "- How Callysto incorporates computational thinking into current curriculum objectives\n",
    "- Hands on demonstrations of classroom-ready pre-made notebooks\n",
    "    - And how to modify them to your classroom specific needs!\n",
    "    - Break in the middle\n",
    "- Future Plans\n",
    "    - How to request new content\n",
    "    - Developing your own content\n",
    "- Anonymous feedback form"
   ]
  },
  {
   "cell_type": "markdown",
   "metadata": {
    "slideshow": {
     "slide_type": "slide"
    }
   },
   "source": [
    "# Introduction to Callysto\n",
    "- Callysto is a cost-free learning program for grades 5-12 using Jupyter notebooks\n",
    "- Teaches traditional curriculum goals through the use of computational thinking\n",
    "    - Incorporates real world data in many cases\n",
    "    - Demonstrates problem solving skills?\n",
    "- Completely free for classroom use\n",
    "- Only requires a modern web browser - you do not need to install anything on your local machine\n",
    "- Funded by the federal government through the CanCODE initiative. "
   ]
  },
  {
   "cell_type": "markdown",
   "metadata": {
    "slideshow": {
     "slide_type": "subslide"
    }
   },
   "source": [
    "# [CanCODE](https://www.canada.ca/en/innovation-science-economic-development/programs/science-technology-partnerships/cancode.html?utm_campaign=not-applicable&utm_source=cancode_vanity-url&utm_medium=vanity-url): Preparing Canada's Youth For a Digital Future\n",
    "\n",
    "- In order to prepare Canada's youth for an ever more competitive job market which requires digital skills, the federal government is supplying funding via the CanCODE initiative.\n",
    "- This project aims to teach Canadian students more than just how to use technoligy - **it aims to introduce Canadian students of all ages to the idea of 'Computational thinking'**\n",
    "- Does not necessarily mean learning how to code."
   ]
  },
  {
   "cell_type": "markdown",
   "metadata": {
    "slideshow": {
     "slide_type": "subslide"
    }
   },
   "source": [
    "## Computational Thinking\n",
    "\n",
    ">\"Simply put, [computational thinking] is “thinking (or problem solving) like a computer scientist.” It is the thought processes involved in understanding a problem and expressing its solutions in such a way that a computer can potentially carry out the solution. [computational thinking] is fundamentally about using analytic and algorithmic concepts and strategies most closely related to computer science to formulate, analyze and solve problems.\"\n",
    ">\n",
    ">-[Shuchi Grover](https://www.edsurge.com/news/2018-02-25-the-5th-c-of-21st-century-skills-try-computational-thinking-not-coding)"
   ]
  },
  {
   "cell_type": "markdown",
   "metadata": {
    "slideshow": {
     "slide_type": "subslide"
    }
   },
   "source": [
    "## Computational thinking is not:\n",
    "\n",
    "- Writing code.\n",
    "- Using computers to automate and solve problems.\n",
    "- Only applicable to math and science. \n",
    "\n",
    "\n",
    "<div style= \"float:right; position: relative; top: -75px; right:0px;\">\n",
    "<img src=\"images/code-cross.png\" width = 500  border=0></a>\n",
    "</div>"
   ]
  },
  {
   "cell_type": "markdown",
   "metadata": {
    "slideshow": {
     "slide_type": "subslide"
    }
   },
   "source": [
    "## Computational thinking is:\n",
    "- A problem solving methodology.\n",
    "- Thinking algorithmically.\n",
    "- Problem abstraction and modeling.\n",
    "- Problem modularization.\n",
    "- Finding solutions to abstract and complicated problems.\n",
    "\n",
    "\n"
   ]
  },
  {
   "cell_type": "markdown",
   "metadata": {
    "slideshow": {
     "slide_type": "subslide"
    }
   },
   "source": [
    "## Computational thinking can:\n",
    "- Be embedded in all subjects and assist in curriculum outcomes.\n",
    "    - ** EXAMPLES OF THE ABOVE **\n",
    "- Be learned and taught without writing a single line of code.\n",
    "    - Of course, there is no reason why you couldn't write code.\n",
    "- Help teach course content, provide \"real world\" examples, and the thought processes that go into that analysis.\n",
    "\n"
   ]
  },
  {
   "cell_type": "markdown",
   "metadata": {
    "slideshow": {
     "slide_type": "slide"
    }
   },
   "source": [
    "# Callysto and Jupyter Notebooks \n",
    "- Will allow students to experiment and explore concepts easily and quickly.\n",
    "- Will allow students to tie in real-time data with their current learning objectives.\n",
    "- Will enable students to ask questions and explore problems in ways that traditional pen and paper demonstrations cannot"
   ]
  },
  {
   "cell_type": "markdown",
   "metadata": {
    "slideshow": {
     "slide_type": "subslide"
    }
   },
   "source": [
    "# Embedding Computational Thinking in Current Objectives With Callysto\n",
    "- Our notebooks use concepts of computer science to teach and demonstrate standard curriculum goals.\n",
    "- No programming required to understand many of our notebooks. \n",
    "- You will not need to create new lessons which incorporate this for you - simply ask our development team to develop content, or even create your own if you're truly interested. "
   ]
  },
  {
   "cell_type": "markdown",
   "metadata": {
    "slideshow": {
     "slide_type": "slide"
    }
   },
   "source": [
    "# First Demo\n",
    "- Link to demo\n",
    "- Instructions\n",
    "    - To run the notebook, from the top menu simply click `Cell` $\\rightarrow$ `Run All`\n",
    "    - Looking at any code is not necessary, simply click the `Hide Code` button at the top\n",
    "    to view or hide code. \n",
    "    - Take sometime to familiarize yourself with the notebook.\n",
    "    \n",
    "- Demo specific instructions "
   ]
  },
  {
   "cell_type": "markdown",
   "metadata": {
    "slideshow": {
     "slide_type": "subslide"
    }
   },
   "source": [
    "# Tutorial on Editing a Notebook \n",
    "** For this one I was thinking we'd have the teachers do this directly in a notebook/new notebook and we could have them create all these things themselves while we run a demo at the front of the room ***\n",
    "- If you like the content of a notebook, but you want to add/remove some detail or custom questions, you're free to do that directly in the Notebook itself. And the process is no more complicated than Microsoft Word!\n",
    "- By double clicking on a markdown, or text cell, you will enter edit mode.\n",
    "    - Simply begin typing your additional information, then press `Ctrl + Enter`\n",
    "    - You can add titles\n",
    "    - You can create lists\n",
    "    - You can create links\n",
    "    - You can use block quotes\n",
    "    - You can create tables\n",
    "    - You can write equations\n",
    "    - You can embed images\n",
    "    \n",
    "- If you want to create a new cell, from the top menu simply click the '**<span style=\"font-size:larger;\">+</span>**'. This will create a new cell below your currently selected one. Then, from the dropdown menu which defaults to `Code` click this menu, and select `Markdown`. You have now created a new cell for writing text\n",
    "\n",
    "- [A link to a list of markdown options](https://github.com/adam-p/markdown-here/wiki/Markdown-Cheatsheet)"
   ]
  },
  {
   "cell_type": "markdown",
   "metadata": {
    "slideshow": {
     "slide_type": "slide"
    }
   },
   "source": [
    "# Second Demo\n",
    "- Link to demo\n",
    "- Demo specific instructions"
   ]
  },
  {
   "cell_type": "markdown",
   "metadata": {
    "slideshow": {
     "slide_type": "slide"
    }
   },
   "source": [
    "# 15 Minute Break\n",
    "- Grab a coffee and feel free to ask us any questions you may have."
   ]
  },
  {
   "cell_type": "markdown",
   "metadata": {
    "slideshow": {
     "slide_type": "slide"
    }
   },
   "source": [
    "# Third Demo\n",
    "- Link to demo\n",
    "- Demo specific instructions"
   ]
  },
  {
   "cell_type": "markdown",
   "metadata": {
    "slideshow": {
     "slide_type": "slide"
    }
   },
   "source": [
    "# Final Demo\n",
    "- Link to demo\n",
    "- Demo specific instructions "
   ]
  },
  {
   "cell_type": "markdown",
   "metadata": {
    "slideshow": {
     "slide_type": "slide"
    }
   },
   "source": [
    "# Distributing and Collecting Student Notebooks \n",
    " - There are a few potential ways you can distribute and collect notebooks from students\n",
    "    - Email them a link to the notebook as we've done here\n",
    "    - To collect assignments, do so using `nbgrader`, a notebook add-on that will allow you to collect assignments quickly, and even automate grading. (DO WE WANT TO INCLUDE THIS IN THE DEMO) "
   ]
  },
  {
   "cell_type": "markdown",
   "metadata": {
    "slideshow": {
     "slide_type": "subslide"
    }
   },
   "source": [
    "# Accessing More Ready Made Content\n",
    "1. Go to [hub.callysto.ca](https://hub.callysto.ca/)\n",
    "2. Log in with an existing Google account.\n",
    "3. Download content using nbgitpuller **HOW ARE WE HAVING THE TEACHERS/STUDENTS DOWNLOAD THE REPOSITORY???**\n",
    "4. Celebrate \n",
    "\n",
    "\n",
    "- All this content is hosted on the Rapid Access Cloud (RAC) and can be used directly in your browser.\n",
    "- There is no need to install any packages or files to your, or your student's computers.\n",
    "- Tour of the Hub\n",
    "\n",
    "\n",
    "<div style= \"float:right; position: relative; top: -125px; right:30px;\">\n",
    "<a href= \"https://hub.callysto.ca/\"><img src=\"images/jhub.png\" width = 250  ></a>\n",
    "</div>"
   ]
  },
  {
   "cell_type": "markdown",
   "metadata": {
    "slideshow": {
     "slide_type": "subslide"
    }
   },
   "source": [
    "# Current Alberta Curriculum Outcomes\n",
    "- The current Alberta curriculum competency requirements are\n",
    "<img src=\"images/alberta_competencies.png\" width = 600  border=0></a>\n",
    "\n",
    "\n"
   ]
  },
  {
   "cell_type": "markdown",
   "metadata": {
    "slideshow": {
     "slide_type": "subslide"
    }
   },
   "source": [
    "# Conclusion\n",
    "- With Callysto, computational thinking is naturally incorporated into the existing curriculum outcomes\n",
    "<img src=\"images/alberta_competencies_conclude.png\" width = 600  border=0></a>\n",
    "\n",
    "- I note that this slide will be our conclusion. If everything works out well, the workshop will leave the teachers with the impression we want: after they've tested out sample notebooks they'll realize that if they use Callysto they'll be meeting their new competency goal of Computational thinking in parallel with their other objectives and curriculum outcomes."
   ]
  },
  {
   "cell_type": "markdown",
   "metadata": {
    "slideshow": {
     "slide_type": "slide"
    }
   },
   "source": [
    "# Requesting Custom Content\n",
    "- Demos shown today/content online not right for you? Ask us to create some content that will work well in your classroom\n",
    "- Contact us at callysto@cybera.ca ** IS THIS THE CORRECT EMAIL?**\n",
    "    - Tell us what you would like to see in a notebook that you would use in the classroom\n",
    "- Work with our developers to create some content\n",
    "\n"
   ]
  },
  {
   "cell_type": "markdown",
   "metadata": {
    "slideshow": {
     "slide_type": "slide"
    }
   },
   "source": [
    "# Creating your own content\n",
    "- If you know Python, you can create and distribute your own content right on the hub already.\n",
    "- If you would like to learn python/how to use the hub attend our next workshop at TIME AND LOCATION IF WE KNOW IT\n"
   ]
  },
  {
   "cell_type": "markdown",
   "metadata": {
    "slideshow": {
     "slide_type": "slide"
    }
   },
   "source": [
    "# Questions?"
   ]
  },
  {
   "cell_type": "markdown",
   "metadata": {
    "slideshow": {
     "slide_type": "slide"
    }
   },
   "source": [
    "# Please take a moment to fill out a short survey about today's workshop\n",
    "\n",
    "- [Link to survey](https://docs.google.com/forms/d/e/1FAIpQLSfg7K3CxYeUf8_9hbWnVcd77rqZZPT-5uIe_1JbLJscpP9AmQ/viewform?usp=sf_link)"
   ]
  },
  {
   "cell_type": "markdown",
   "metadata": {
    "slideshow": {
     "slide_type": "subslide"
    }
   },
   "source": [
    "# Using Ready Made Content\n",
    "1. Once you have the files, you can browse them from the Jupyter hub as you would on your computer.\n",
    "- Open DEMONSTRATION NOTEBOOK\n",
    "- In the top menu, click `Cell` $\\rightarrow$ `Run All`\n",
    "- Walk through of notebook\n",
    "- Note Show/Hide code button\n",
    "- Demo of FIRST DEMONSTRATION\n"
   ]
  },
  {
   "cell_type": "markdown",
   "metadata": {
    "slideshow": {
     "slide_type": "slide"
    }
   },
   "source": [
    "# Basic Jupyter/Python ( I don't know if this is part of the presentation)\n",
    "I suggest having a \"Do this section\" in the presentation, but making a separate notebook for the teachers to use themselves to keep them engaged/learn. "
   ]
  },
  {
   "cell_type": "markdown",
   "metadata": {
    "slideshow": {
     "slide_type": "subslide"
    }
   },
   "source": [
    "# Basic Markdown Styles\n",
    "\n",
    "Markdown is quite versatile and supports titles, italic and bold fonts, itemized lists, hyperlinks, images, tables, etc... In fact, every non-code cell in this presentation was created using Markdown! A few of the basic markdown commands are\n",
    "\n",
    "1. Titles\n",
    "    - Title text is rendered with a pound sign (`#`) at the beginning of a line, followed by a space and the text you wish to turn into a title/header. For example, `# This is a title` would create a title at any location within your cell. and \n",
    "    - Adding additional pound signs (example: `### Smaller title or heading`) creates different headings. \n",
    "- Italics\n",
    "    - _Italics_ are done by surrounding a word with underscores (`_`). For example `_this would be italics_` would render in italics.\n",
    "- Bold \n",
    "    - **Bold** lettering is done with double asterisks (`**`). For example, `**bold choice**` would render as bold text.\n",
    "\n",
    "- Lists\n",
    "    - Lists can be generated simply by starting a new line and typing `1.` will start a list. Subsequent items can simply be started with a dash `-`, and the markdown will take care of the numbering for you.\n",
    "    - You can also make sub-items by starting a new line within your list, and pressing `Tab`, then either using dashes for points, or starting with `1.` or `A.` for sublist items. \n",
    "    \n",
    "- Raw text\n",
    "    - Raw text, or text which ignores any of the style commands can be rendered using an open comma ( \\`). For example \\` sentence \\` would render as `sentence`, and would escape any and all other markdown commands.\n",
    "\n",
    "- Math\n",
    "    - Markdown also supports Latex style equations. For a variable x, you can render it in-line by surrounding it like so: `$x$` which renders as $x$. if you want to render an equation proper, you can do it either like\n",
    "    ```$$ f(x) = x^2 $$``` or \n",
    "    ```\n",
    "\\begin{equation}\n",
    "f(x) = x^2\n",
    "\\end{equation}\n",
    "       ```\n",
    "    which both render as \n",
    "    \\begin{equation}\n",
    "    f(x) = x^2\n",
    "    \\end{equation}\n"
   ]
  },
  {
   "cell_type": "markdown",
   "metadata": {
    "slideshow": {
     "slide_type": "subslide"
    }
   },
   "source": [
    "# Demo Number Two\n",
    "1. Run stuff\n",
    "- Change stuff\n",
    "- Break stuff?\n",
    "- get comfortable with it"
   ]
  },
  {
   "cell_type": "code",
   "execution_count": null,
   "metadata": {
    "slideshow": {
     "slide_type": "subslide"
    }
   },
   "outputs": [],
   "source": [
    "# Anything after a pound sign is a comment -- it is not run as code\n",
    "\n",
    "# The most basic command is the classic \"hello world\" command, which displays the statement \"hello world\"\n",
    "# on the screen. In Python with a Jupyter note book, this is done by typing:\n",
    "\n",
    "# print(\"Hello world!\")\n",
    "\n",
    "# then pressing Ctrl + Enter in the specified cell. Try deleting the pound sign in the line\n",
    "# above and running this cell. Did you get an \"IndentationError\"? If so, this is because leading\n",
    "# whitespace in Python is used as a \"boundary\" so to speak (more on this in a few minutes!). For \n",
    "# now, simply move the print statement to the left edge of the cell and try again. \n"
   ]
  },
  {
   "cell_type": "code",
   "execution_count": null,
   "metadata": {
    "slideshow": {
     "slide_type": "subslide"
    }
   },
   "outputs": [],
   "source": [
    "# You can also do basic mathematical operations\n",
    "\n",
    "print(1 + 1)\n",
    "print(10 * 6)\n",
    "print(2 / 4)\n",
    "print(10 - 9)\n",
    "# You can also apply certain manipulations to characters, \n",
    "# which are refered to as strings in computer science talk\n",
    "\n",
    "print(\"a\" + \"b\")\n",
    "print(\"a\" * 10)\n"
   ]
  },
  {
   "cell_type": "code",
   "execution_count": null,
   "metadata": {
    "slideshow": {
     "slide_type": "subslide"
    }
   },
   "outputs": [],
   "source": [
    "# you can also give things names, known as \"variables\". Here 'a' and 'b' are now being\n",
    "# defined as variables, and we're assigning them the values 10 and 20 respectively via the \n",
    "# '=' operation.\n",
    "a = 10\n",
    "b = 20\n",
    "print(a + b)"
   ]
  },
  {
   "cell_type": "code",
   "execution_count": null,
   "metadata": {
    "slideshow": {
     "slide_type": "subslide"
    }
   },
   "outputs": [],
   "source": [
    "# variables are shared between cells as well, where we've used the ',' in the print \n",
    "# statment in order to display both variables on the command line. \n",
    "print(a,b)"
   ]
  },
  {
   "cell_type": "code",
   "execution_count": null,
   "metadata": {
    "slideshow": {
     "slide_type": "subslide"
    }
   },
   "outputs": [],
   "source": [
    "# You can also do things multiple times using a \"for\" loop\n",
    "for i in range(10):\n",
    "    print(i)\n",
    "    \n",
    "# where you'll notice that counting starts at 0 and we ignore the number 10. Here we've assigned each value to\n",
    "# the variable i above. Notice how it counts and we need a colon. What happens if you remove the colon? \n",
    "# Also notice how our print statement is indented under the for loop. This is because python sees everything \n",
    "# indented one level as \"inside the loop\" -- anything indented like the print statement will be executed\n",
    "# every time the program goes through the loop. This is why white space is so important in Python\n",
    "\n"
   ]
  },
  {
   "cell_type": "code",
   "execution_count": null,
   "metadata": {
    "slideshow": {
     "slide_type": "subslide"
    }
   },
   "outputs": [],
   "source": [
    "# You can also test the \"truth\" of something with an if statement, which does something if something\n",
    "# is true\n",
    "\n",
    "for i in range(10):\n",
    "    if i == 5:\n",
    "        print(i == 5,i)\n",
    "    else:\n",
    "        print(i == 5,i)\n",
    "        \n",
    "# notice the next level of indentaion for the if statement as well Also notice the double equals. Also notice \n",
    "# how it prints True\n"
   ]
  },
  {
   "cell_type": "code",
   "execution_count": null,
   "metadata": {},
   "outputs": [],
   "source": [
    "# A handy way to know what something does is type its name followed by a question mark\n",
    "print?\n"
   ]
  },
  {
   "cell_type": "markdown",
   "metadata": {},
   "source": []
  }
 ],
 "metadata": {
  "celltoolbar": "Slideshow",
  "kernelspec": {
   "display_name": "Python 3",
   "language": "python",
   "name": "python3"
  },
  "language_info": {
   "codemirror_mode": {
    "name": "ipython",
    "version": 3
   },
   "file_extension": ".py",
   "mimetype": "text/x-python",
   "name": "python",
   "nbconvert_exporter": "python",
   "pygments_lexer": "ipython3",
   "version": "3.7.6"
  }
 },
 "nbformat": 4,
 "nbformat_minor": 2
}
