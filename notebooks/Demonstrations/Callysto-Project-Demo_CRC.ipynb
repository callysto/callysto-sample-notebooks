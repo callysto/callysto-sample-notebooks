{
 "cells": [
  {
   "cell_type": "markdown",
   "metadata": {},
   "source": []
  },
  {
   "cell_type": "markdown",
   "metadata": {
    "slideshow": {
     "slide_type": "slide"
    }
   },
   "source": [
    "\n",
    "# Introduction to Callysto\n",
    "</br>\n",
    "</br>\n",
    "</br>\n",
    "</br>\n",
    "</br>\n",
    "<img src=\"images/Cybera_logo_color_flat.png\" alt=\"Cybera logo\" width=40% align =\"right\">\n",
    "\n",
    "\n",
    "\n"
   ]
  },
  {
   "cell_type": "markdown",
   "metadata": {
    "slideshow": {
     "slide_type": "subslide"
    }
   },
   "source": [
    "\n",
    "<img src=\"images/Cybera landscape.jpg\" alt=\"Cybera landscape\" width=100% align = \"centre\">"
   ]
  },
  {
   "cell_type": "markdown",
   "metadata": {
    "slideshow": {
     "slide_type": "subslide"
    }
   },
   "source": [
    "<div style= \"float:left; width: 60%; position: relative; \">\n",
    "<img src=\"images/TW_CanCode-EN.JPG\" alt=\"CanCode logo\" width=80% align = \"left\">\n",
    "<br>\n",
    "<br>\n",
    "</div>\n",
    "<div style= \"float:right; width: 40%; position: relative; top:25px;\">\n",
    "<img src=\"images/Cybera_logo_color_flat.png\" alt=\"Cybera logo\" width=300 align = \"middle\">\n",
    "<br>\n",
    "<br>\n",
    "<img src=\"images/PIMS_logo.png\" alt=\"PIMS logo\" width=300 align = \"middle\">\n",
    "</div>"
   ]
  },
  {
   "cell_type": "markdown",
   "metadata": {
    "slideshow": {
     "slide_type": "slide"
    }
   },
   "source": [
    "<img src=\"images/Callysto_black_wide.png\" alt=\"Callysto-black\" width=100% align = \"center\">\n"
   ]
  },
  {
   "cell_type": "markdown",
   "metadata": {
    "slideshow": {
     "slide_type": "subslide"
    }
   },
   "source": [
    "## Callysto\n",
    "\n",
    "* Cost-free learning program for grades 5-12\n",
    "    * Includes free training and support for teachers \n",
    "* Builds computational thinking across all subject areas\n",
    "* Available immediately\n"
   ]
  },
  {
   "cell_type": "markdown",
   "metadata": {
    "slideshow": {
     "slide_type": "subslide"
    }
   },
   "source": [
    "<img src=\"images/Presentation Banner Header.jpg\" alt=\"Callysto-black\" width=100% align = \"center\">\n",
    "\n"
   ]
  },
  {
   "cell_type": "markdown",
   "metadata": {
    "slideshow": {
     "slide_type": "subslide"
    }
   },
   "source": [
    "## Callysto: Jupyter Notebooks\n",
    "\n",
    "* University level research tool\n",
    "* Access through any modern web browser\n",
    "* Hosted on Cybera's Alberta-based Rapid Access Cloud\n",
    "* Connects easily to open and big data\n",
    "* Categorize, analyze, produce highly visual graphics"
   ]
  },
  {
   "cell_type": "markdown",
   "metadata": {
    "slideshow": {
     "slide_type": "subslide"
    }
   },
   "source": [
    "## Jupyter: All-in-One Analysis Notebook\n",
    "\n",
    "* All-in-one teaching and learning platform\n",
    "* To record, understand, reproduce and share \n",
    "* Hosts narrative text - the student’s written report\n",
    "* Supports live code and outside media sources like Youtube videos\n",
    "* Browser based, compatible with school issued Chrome notebooks and it lives inside Cybera’s own, Rapid Access Cloud. "
   ]
  },
  {
   "cell_type": "markdown",
   "metadata": {
    "slideshow": {
     "slide_type": "slide"
    }
   },
   "source": [
    "<div style= \"float:left;position: relative; top: 0px;\">\n",
    "## Learning with Callysto\n",
    "\n",
    "### Both ends of the spectrum:\n",
    "   \n",
    "* Grade 6 math\n",
    "\n",
    "* Grade 12 social studies\n",
    "</div>\n",
    "<img src=\"images/bookends.jpg\" alt=\"Bookends\" width=40% align = \"right\">"
   ]
  },
  {
   "cell_type": "markdown",
   "metadata": {
    "slideshow": {
     "slide_type": "subslide"
    }
   },
   "source": [
    "### Grade 6 math\n",
    "\n",
    "[Sample](../Math/math_grade6_sample.ipynb) from a grade 6 math class taught in Alberta using Jupyter\n",
    "\n",
    "\n"
   ]
  },
  {
   "cell_type": "markdown",
   "metadata": {
    "slideshow": {
     "slide_type": "subslide"
    }
   },
   "source": [
    "### Grade 12 Social Studies - Source Analysis\n",
    "\n",
    "Understanding how an LA Times newspaper article comes to its conclusions through a Jupyter notebook.\n",
    "<br>\n",
    "http://www.latimes.com/projects/la-fi-farms-immigration/\n",
    "\n",
    "Analysis\n",
    "https://github.com/datadesk/california-crop-production-wages-analysis/blob/master/03-analysis.ipynb"
   ]
  },
  {
   "cell_type": "markdown",
   "metadata": {
    "slideshow": {
     "slide_type": "subslide"
    }
   },
   "source": [
    "<div style= \"float:left;position: relative; top: 0px;\">\n",
    "### Social Studies - Source Analysis\n",
    "\n",
    "##### Jupyter provides an excellent way of:\n",
    "\n",
    "* showing your work\n",
    "* explaining your thought process\n",
    "* allowing others to build on your results\n",
    "* tying in real-life data\n",
    "</div>\n",
    "<img src=\"images/sharing_work.jpg\" alt=\"Sharing notebook\" width=25% align = \"right\">"
   ]
  },
  {
   "cell_type": "markdown",
   "metadata": {
    "slideshow": {
     "slide_type": "subslide"
    }
   },
   "source": [
    "## ...and everything in between\n",
    "\n",
    "### From grade 6 math to grade 12 social studies, there are applications for Jupyter notebooks in virtually every subject\n",
    "\n",
    "<img src=\"images/all_the_things.png\" alt=\"Jack of all trades\" height=50% align=right>\n"
   ]
  },
  {
   "cell_type": "markdown",
   "metadata": {
    "slideshow": {
     "slide_type": "subslide"
    }
   },
   "source": [
    "* [Interactive geometry](../Math/Interactive%20Geometry.ipynb) notebook\n",
    "* [Showcasing](../Social_Sciences/History/American_revolution_with_animated_slider.ipynb) the battles during the American Revolution\n",
    "* Integrating open data into a [science lab](../Science/investigating_conductivity.ipynb)"
   ]
  },
  {
   "cell_type": "markdown",
   "metadata": {
    "slideshow": {
     "slide_type": "subslide"
    }
   },
   "source": [
    "#### Interactive math display\n",
    "* Get students interested through interactivity\n",
    "* Allow students to experiment and tinker\n",
    "\n",
    "#### A new perspective on Shakespeare & History\n",
    "* Engage a broader section of the classroom\n",
    "* Enable interdisciplinary learning\n",
    "\n",
    "#### Integrating open data into a science lab\n",
    "* Tie-in student results with real-life meaning\n",
    "* Look at real-time data "
   ]
  },
  {
   "cell_type": "markdown",
   "metadata": {
    "slideshow": {
     "slide_type": "subslide"
    }
   },
   "source": [
    "### Throughout the notebooks: \n",
    "* Introduce concepts of computational thinking\n",
    "* Allow students to explore further if they choose"
   ]
  },
  {
   "cell_type": "markdown",
   "metadata": {
    "slideshow": {
     "slide_type": "slide"
    }
   },
   "source": [
    "<div style= \"float:left; width: 60%; position: relative; top: 0px;\">\n",
    "## Callysto is just getting started\n",
    "\n",
    "### Looking for teachers interested to\n",
    "\n",
    "* Provide input into course development\n",
    "* Participate in no-cost professional development workshops\n",
    "    * Support teams available\n",
    "* Use Callysto in their classes starting in fall 2018\n",
    "\n",
    "</div>\n",
    "<img src=\"images/callysto-logo-temp.png\" alt=\"Callysto logo\" width=25% align = \"right\">"
   ]
  },
  {
   "cell_type": "markdown",
   "metadata": {
    "slideshow": {
     "slide_type": "slide"
    }
   },
   "source": [
    "#### Workshop #1 Outline: Introduction to working with Callysto\n",
    "* **Goal**: Using Callysto in the classroom \n",
    "    * **Prerequisite**: None\n",
    "    * Demonstration of using sample course curriculum content in Callysto\n",
    "    * Teaching teachers how to use Callysto\n",
    "        * Jupyter notebook basics\n",
    "        * Classroom specific considerations (e.g. basic troubleshooting)\n",
    "        * Accessing developed content\n",
    "    * Customizing content for teachers\n",
    "        * Working with teachers to identify new content needs and requirements\n",
    "        * Modifying existing content for individual teacher's classrooms\n",
    "        "
   ]
  },
  {
   "cell_type": "markdown",
   "metadata": {
    "slideshow": {
     "slide_type": "subslide"
    }
   },
   "source": [
    "#### Workshop #2 Outline: Creating your own content with Callysto\n",
    "* **Goal**: Enable teachers to create their own Callysto classroom content \n",
    "    * **Prerequisite**: Some knowledge of coding\n",
    "        * Includes pre-workshop refresher materials\n",
    "    * Useful python coding skills and principles for teachers\n",
    "        * Accessing open data\n",
    "        * Interactive visualizations  \n",
    "    * Create new or adapt existing classroom content\n",
    "        * Work with our team to: \n",
    "            * Develop new classroom content in Callysto\n",
    "            * Adapt our existing classroom content "
   ]
  },
  {
   "cell_type": "markdown",
   "metadata": {
    "slideshow": {
     "slide_type": "subslide"
    }
   },
   "source": [
    "## Our Goal:\n",
    "\n",
    "To have 750 grades 5-12 teachers and 25,000 grades 5-12 students using these Jupyter notebooks in the classroom by Spring 2019."
   ]
  },
  {
   "cell_type": "markdown",
   "metadata": {
    "slideshow": {
     "slide_type": "fragment"
    }
   },
   "source": [
    "Interested teachers can sign-up at\n",
    "http://www.cybera.ca/services/cancode/\n",
    "\n",
    "Email us: **callysto@cybera.ca**\n"
   ]
  },
  {
   "cell_type": "markdown",
   "metadata": {},
   "source": []
  }
 ],
 "metadata": {
  "celltoolbar": "Slideshow",
  "kernelspec": {
   "display_name": "Python 3",
   "language": "python",
   "name": "python3"
  },
  "language_info": {
   "codemirror_mode": {
    "name": "ipython",
    "version": 3
   },
   "file_extension": ".py",
   "mimetype": "text/x-python",
   "name": "python",
   "nbconvert_exporter": "python",
   "pygments_lexer": "ipython3",
   "version": "3.7.6"
  }
 },
 "nbformat": 4,
 "nbformat_minor": 2
}
