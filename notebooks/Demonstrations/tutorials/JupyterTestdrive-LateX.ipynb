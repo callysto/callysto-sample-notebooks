{
 "cells": [
  {
   "cell_type": "markdown",
   "metadata": {},
   "source": [
<<<<<<< HEAD
=======
    "<img src=\"../../images/Callysto_Notebook-Banner_Top_06.06.18.jpg\"/>"
   ]
  },
  {
   "cell_type": "markdown",
   "metadata": {},
   "source": [
>>>>>>> workshop_demos
    "## Mathematical Typesetting With Latex\n",
    "\n",
    "This will only serve as a brief introduction to mathematical typesetting with latex as a full guide could take a few notebooks on its own. However, most of these commands are easy to find if you need to do something special. The basics are as follows:\n",
    "\n",
    "1. To put a variable in-line, surround it in dollar signs like so: `$variable$`.\n",
    "1. To typeset an equation, surround it (on a new line) in double dollar signs: `$$equation$$`\n",
    "1. you could also use this syntax\n",
    "   ```latex\n",
    "    \\begin{equation}\n",
    "       equation\n",
    "   \\end{equation}\n",
    "    ```\n",
    "1. Special symbols start with a backslash (`\\`). For example, the greek letter $\\alpha$ would be called like this `$\\alpha$`. \n",
    "\n",
    "1. Fractions can be typeset with `\\frac{numerator}{denominator}`\n",
    "1. Square roots are `\\sqrt{stuff inside square root}`\n",
    "\n",
    "Change the cell below to markdown format and run it to see some of these in action.\n"
   ]
  },
  {
   "cell_type": "raw",
   "metadata": {},
   "source": [
    "If you want to type inline variables it's as easy as $x$. If you want special symbols in line, simply call it by its name, such as $\\alpha$, $\\gamma$, $\\epsilon$, $\\Delta$, $\\nabla$ and so on. [here](http://tug.ctan.org/info/symbols/comprehensive/symbols-a4.pdf) is a link to a comprehensive symbol list, and the command you have to call to render it. Of course, sometimes a Google search is faster. \n",
    "\n",
    "You can start equations easily\n",
    "$$ c  = \\sqrt{a^2 + b^2}$$\n",
    "notice how in the above, the variables appearing under the square root are surrounded by curly brackets, and powers are done with carrots.\n",
    "\n",
    "You can also type equations like this\n",
    "\\begin{equation}\n",
    "a = \\frac{x^3 +\\Gamma}{\\int e^{-x^2} dx}\n",
    "\\end{equation}\n",
    "\n",
    "Notice here how the numerator of the fraction appears in curly braces, and the denominator appears in separate curly braces. Notice how to find a capital gamma, we simply wrote the first letter as a capital. Also notice how in the exponent, this time we included curly brackets. This is because without them only the first character will become a superscript. \n",
    "\n",
    "\\begin{equation}\n",
    "a = x^-10\n",
    "\\end{equation}\n",
    "\n",
    "The above doesn't render how you want it to, but \n",
    "\\begin{equation}\n",
    "a = x^{-10}\n",
    "\\end{equation}\n",
    "does once you include the curly braces.\n",
    "\n",
    "You can also include vectors on variables\n",
    "\\begin{equation}\n",
    "\\vec{F} = m \\vec{a}\n",
    "\\end{equation}"
   ]
  },
  {
   "cell_type": "markdown",
   "metadata": {},
   "source": [
    "### Latex Common Errors\n",
    "\n",
    "You'll need to convert the cells below to markdown in order to see how these common mistakes render, and their solutions. \n",
    "\n",
    "##### Exponents need to be wrapped in curly braces if they're more than one character long."
   ]
  },
  {
   "cell_type": "raw",
   "metadata": {},
   "source": [
    "\\begin{equation}\n",
    "a = x^-10\n",
    "\\end{equation}\n",
    "\n",
    "Doesn't render how you want it to, but \n",
    "\\begin{equation}\n",
    "a = x^{-10}\n",
    "\\end{equation}\n",
    "does once you include the curly braces.\n"
   ]
  },
  {
   "cell_type": "markdown",
   "metadata": {},
   "source": [
    "##### The same is true for subscripts"
   ]
  },
  {
   "cell_type": "raw",
   "metadata": {},
   "source": [
    "\\begin{equation}\n",
    "a = x_10\n",
    "\\end{equation}\n",
    "\n",
    "Doesn't render how you want it to, but \n",
    "\\begin{equation}\n",
    "a = x_{10}\n",
    "\\end{equation}\n",
    "does once you include the curly braces.\n",
    "\n"
   ]
  },
  {
   "cell_type": "markdown",
   "metadata": {},
   "source": [
    "##### Spaces in equations are ignored"
   ]
  },
  {
   "cell_type": "raw",
   "metadata": {},
   "source": [
    "$$\n",
    "If you use words as a varable, they become hard to read = x_a^2\n",
    "$$\n",
    "\n",
    "If you need to include words in your equations, you can do so with `\\text{}`\n",
    "$$\n",
    "\\text{Now we can read this easily once we've rendered the math} = x_a^2\n",
    "$$"
   ]
  },
  {
   "cell_type": "markdown",
   "metadata": {},
   "source": [
    "##### You cannot include percent signs without a little extra work"
   ]
  },
  {
   "cell_type": "raw",
   "metadata": {},
   "source": [
    "$$\n",
    "100 % That's because a percent sign is a comment in latex!\n",
    "$$\n",
    "To escape the comment, simply add a backslash\n",
    "$$ 100 \\% $$"
   ]
  },
  {
   "cell_type": "markdown",
   "metadata": {},
   "source": [
    "Latex is very extensive for mathematical typesetting, and we can't cover it all here. However, it's fairly intuitive and with a little practice significantly faster than using the equation editors in other tools. Feel free to try creating your own equations now. "
   ]
  },
  {
   "cell_type": "markdown",
   "metadata": {},
   "source": [
    "---\n",
    "### Exercises\n",
    "1. Fix the following to correctly represent the formula for calculating the surface area of a sphere\n",
    "$$\n",
    "Area = 4 pi r_2\n",
    "$$  \n",
    "  \n",
    "2. Fix the following to correctly represent the formula for calculating the volume of a sphere\n",
    "\\begin{equation}\n",
    "Volume = \\frac{4} / {3} pi r3\n",
    "\\end{equation}\n",
    "3. Make sure pi is showing up as a symbol in questions 1 & 2.\n",
    "4. In this sentence, change the variables x, Y, and y to ensure they render as LateX variables.\n",
    "5. In a new cell below, write out the following formula in LateX. \n",
    "![exercise image](../images/latex_exercise_formula.png)\n",
    "---\n"
   ]
<<<<<<< HEAD
=======
  },
  {
   "cell_type": "markdown",
   "metadata": {},
   "source": [
    "<img src=\"../../images/Callysto_Notebook-Banners_Bottom_06.06.18.jpg\"/>"
   ]
>>>>>>> workshop_demos
  }
 ],
 "metadata": {
  "kernelspec": {
   "display_name": "Python 3",
   "language": "python",
   "name": "python3"
  },
  "language_info": {
   "codemirror_mode": {
    "name": "ipython",
    "version": 3
   },
   "file_extension": ".py",
   "mimetype": "text/x-python",
   "name": "python",
   "nbconvert_exporter": "python",
   "pygments_lexer": "ipython3",
   "version": "3.6.5"
  }
 },
 "nbformat": 4,
 "nbformat_minor": 2
}
