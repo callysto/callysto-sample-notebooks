{
 "cells": [
  {
   "cell_type": "markdown",
   "metadata": {},
   "source": []
  },
  {
   "cell_type": "code",
   "execution_count": null,
   "metadata": {
    "slideshow": {
     "slide_type": "skip"
    }
   },
   "outputs": [],
   "source": [
    "%%html\n",
    "\n",
    "<script>\n",
    "  function code_toggle() {\n",
    "    if (code_shown){\n",
    "      $('div.input').hide('500');\n",
    "      $('#toggleButton').val('Show Code')\n",
    "    } else {\n",
    "      $('div.input').show('500');\n",
    "      $('#toggleButton').val('Hide Code')\n",
    "    }\n",
    "    code_shown = !code_shown\n",
    "  }\n",
    "\n",
    "  $( document ).ready(function(){\n",
    "    code_shown=false;\n",
    "    $('div.input').hide()\n",
    "  });\n",
    "</script>\n",
    "<form action=\"javascript:code_toggle()\"><input type=\"submit\" id=\"toggleButton\" value=\"Show Code\"></form>"
   ]
  },
  {
   "cell_type": "markdown",
   "metadata": {
    "slideshow": {
     "slide_type": "slide"
    }
   },
   "source": [
    "<img src=\"images/Callysto_Screen_BKGD.jpg\" alt=\"Callysto\" width=800>"
   ]
  },
  {
   "cell_type": "code",
   "execution_count": null,
   "metadata": {
    "slideshow": {
     "slide_type": "slide"
    }
   },
   "outputs": [],
   "source": [
    "from mobilechelonian import Turtle\n",
    "import math\n",
    "\n",
    "squirt = Turtle()\n",
    "squirt.pencolor('blue')\n",
    "squirt.backward(100)\n",
    "squirt.left(90)\n",
    "squirt.forward(100)\n",
    "squirt.right(135)\n",
    "squirt.forward(math.sqrt(100**2 + 100**2))"
   ]
  },
  {
   "cell_type": "code",
   "execution_count": null,
   "metadata": {
    "slideshow": {
     "slide_type": "slide"
    }
   },
   "outputs": [],
   "source": [
    "from metakernel import register_ipython_magics\n",
    "register_ipython_magics()\n",
    "%jigsaw Python --workspace workspace1"
   ]
  },
  {
   "cell_type": "code",
   "execution_count": null,
   "metadata": {
    "slideshow": {
     "slide_type": "slide"
    }
   },
   "outputs": [],
   "source": [
    "# Grade 6\n",
    "print('Factors of', 21, 'are:')\n",
    "for i in range(1, 21 + 1):\n",
    "    if 21 % i == 0:\n",
    "        print(i)"
   ]
  },
  {
   "cell_type": "markdown",
   "metadata": {
    "slideshow": {
     "slide_type": "slide"
    }
   },
   "source": [
    "## Why Callysto?\n",
    "\n",
    "1. Computational Thinking\n",
    "    * the process of understanding a problem and expressing its solutions in a way that a computer can potentially carry out the solution.\n",
    "    * Jupyter Notebooks and Literate Programming\n",
    "2. Only requires a web browser\n",
    "3. Compatible with Chromebooks (and other devices)\n",
    "4.  Operates from the Cybera Cloud (Alberta based)\n",
    "5. Facilitates access to Open Data Sources\n"
   ]
  },
  {
   "cell_type": "markdown",
   "metadata": {
    "slideshow": {
     "slide_type": "slide"
    }
   },
   "source": [
    "## Example - Immigration Analysis\n",
    "[Imigration news article](http://www.latimes.com/projects/la-fi-farms-immigration/)\n",
    "<br>\n",
    "[Source analysis in a Jupyter notebook](https://github.com/datadesk/california-crop-production-wages-analysis/blob/master/03-analysis.ipynb)\n"
   ]
  },
  {
   "cell_type": "markdown",
   "metadata": {
    "slideshow": {
     "slide_type": "slide"
    }
   },
   "source": [
    "## Example - Olympics Analysis\n",
    "[Olympic figure skating news article](https://www.buzzfeed.com/johntemplon/by-voting-for-their-own-figure-skating-judges-may-have?utm_term=.alRkdwOPqj#.up7kPr6mla)\n",
    "<br>\n",
    "[Source analysis in a Jupyter notebook](https://github.com/BuzzFeedNews/2018-02-olympic-figure-skating-analysis/blob/master/notebooks/points-versus-average.ipynb)"
   ]
  },
  {
   "cell_type": "markdown",
   "metadata": {
    "slideshow": {
     "slide_type": "slide"
    }
   },
   "source": [
    "## Example - Climate Change and Arctic Sea Ice Volume\n",
    "\n",
    "[Open data from PIOMAS Arctic Sea Ice Volume Project](http://psc.apl.uw.edu/research/projects/arctic-sea-ice-volume-anomaly/)\n",
    "<br>\n",
    "[Inspired by this Jupyter notebook project](https://github.com/certik/climate/blob/master/Sea%20Ice%20Index%20Arctic.ipynb)"
   ]
  },
  {
   "cell_type": "code",
   "execution_count": null,
   "metadata": {
    "slideshow": {
     "slide_type": "slide"
    }
   },
   "outputs": [],
   "source": [
    "from ipyleaflet import Map\n",
    "\n",
    "Map(center=[84.12, 15.36], zoom=2)"
   ]
  },
  {
   "cell_type": "code",
   "execution_count": null,
   "metadata": {
    "slideshow": {
     "slide_type": "skip"
    }
   },
   "outputs": [],
   "source": [
    "import pandas as pd\n",
    "import matplotlib as mpl\n",
    "import matplotlib.pyplot as plt  \n",
    "mpl.rcParams['figure.figsize'] = (12,12)"
   ]
  },
  {
   "cell_type": "code",
   "execution_count": null,
   "metadata": {
    "slideshow": {
     "slide_type": "skip"
    }
   },
   "outputs": [],
   "source": [
    "df = pd.read_table(\"data/PIOMAS.vol.daily.1979.2018.Current.v2.1.dat\", sep=\"\\s+\")"
   ]
  },
  {
   "cell_type": "code",
   "execution_count": null,
   "metadata": {
    "slideshow": {
     "slide_type": "skip"
    }
   },
   "outputs": [],
   "source": [
    "df.head()"
   ]
  },
  {
   "cell_type": "code",
   "execution_count": null,
   "metadata": {
    "slideshow": {
     "slide_type": "slide"
    }
   },
   "outputs": [],
   "source": [
    "plt.plot( 'Year', 'Vol', data=df, marker='*', ms=1,color='blue', linewidth=0);\n",
    "plt.xlabel('Year');\n",
    "plt.ylabel('Arctic Sea Ice Volume');"
   ]
  },
  {
   "cell_type": "markdown",
   "metadata": {
    "slideshow": {
     "slide_type": "slide"
    }
   },
   "source": [
    "## Example - Uses in the Classroom\n",
    "[Interactive textbooks](https://ds8.gitbooks.io/textbook/content/)"
   ]
  },
  {
   "cell_type": "markdown",
   "metadata": {},
   "source": []
  }
 ],
 "metadata": {
  "celltoolbar": "Slideshow",
  "kernelspec": {
   "display_name": "Python 3",
   "language": "python",
   "name": "python3"
  },
  "language_info": {
   "codemirror_mode": {
    "name": "ipython",
    "version": 3
   },
   "file_extension": ".py",
   "mimetype": "text/x-python",
   "name": "python",
   "nbconvert_exporter": "python",
   "pygments_lexer": "ipython3",
   "version": "3.7.6"
  }
 },
 "nbformat": 4,
 "nbformat_minor": 2
}
