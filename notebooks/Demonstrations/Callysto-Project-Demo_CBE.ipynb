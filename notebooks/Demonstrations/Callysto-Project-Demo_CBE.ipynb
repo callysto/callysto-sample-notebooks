{
 "cells": [
  {
   "cell_type": "markdown",
   "metadata": {},
   "source": []
  },
  {
   "cell_type": "markdown",
   "metadata": {
    "slideshow": {
     "slide_type": "slide"
    }
   },
   "source": [
    "<img src=\"images/callysto-logo-temp.png\" alt=\"Callysto\" width=500 align = \"left\">"
   ]
  },
  {
   "cell_type": "markdown",
   "metadata": {
    "slideshow": {
     "slide_type": "slide"
    }
   },
   "source": [
    "<img src=\"images/TW_CanCode-EN.JPG\" alt=\"CanCode logo\" width=600 align = \"middle\">"
   ]
  },
  {
   "cell_type": "markdown",
   "metadata": {
    "slideshow": {
     "slide_type": "slide"
    }
   },
   "source": [
    "<img src=\"images/cybera-png-main.png\" alt=\"Cybera logo\" width=400 align = \"middle\">\n",
    "<br>\n",
    "<img src=\"images/PIMS_logo.png\" alt=\"PIMS logo\" width=400 align = \"middle\">"
   ]
  },
  {
   "cell_type": "markdown",
   "metadata": {
    "slideshow": {
     "slide_type": "slide"
    }
   },
   "source": [
    "## The Project\n",
    "\n",
    "Delivering tools, frameworks, and training to K-12 teachers in order to bring computational thinking elements into Social Science, Natural Science, and Humanities courses in the K-12 classroom."
   ]
  },
  {
   "cell_type": "markdown",
   "metadata": {
    "slideshow": {
     "slide_type": "slide"
    }
   },
   "source": [
    "## What is Our Plan?\n",
    "\n",
    "With the help K-12 teachers we are going to: \n",
    "- Identify K-12 curriculum modules to build within Jupyter Notebooks,\n",
    "- Train K-12 teachers to use these Jupyter-enabled curriculum modules,\n",
    "- Deliver these Jupyter-enabled curriculum modules in the classroom.\n",
    "\n",
    "Interested K-12 teachers can sign-up to get more information at http://www.cybera.ca/services/cancode/"
   ]
  },
  {
   "cell_type": "markdown",
   "metadata": {
    "slideshow": {
     "slide_type": "slide"
    }
   },
   "source": [
    "## Our Goal:\n",
    "\n",
    "To have 750 K-12 teachers and 25,000 K-12 students using these Jupyter notebooks in the classroom by Spring 2019."
   ]
  },
  {
   "cell_type": "markdown",
   "metadata": {
    "slideshow": {
     "slide_type": "slide"
    }
   },
   "source": [
    "## What is Jupyter and Why Would I Want to Use It?\n",
    "\n",
    "<img src=\"https://wwejubwfy.s3.amazonaws.com/Artboard-2016-11-13-18-46-27.jpg\" alt=\"Jupyter\" width=100 align = \"right\">\n",
    "\n",
    "The Jupyter Notebook is an open-source web application that runs in a browser and allows you to create and share documents that contain live code (e.g. Python), visualizations, math equations like this $F(x) = \\int_0^x f(s) ds$, and narrative text like this:\n",
    ">To-morrow, and to-morrow, and to-morrow,\n",
    ">Creeps in this petty pace from day to day,\n",
    ">To the last syllable of recorded time."
   ]
  },
  {
   "cell_type": "markdown",
   "metadata": {
    "slideshow": {
     "slide_type": "slide"
    }
   },
   "source": [
    "## Jupyter History: Interactive Notebooks to Share Code\n",
    "\n",
    "Jupyter Notebooks were created by University researchers to make data analysis easier to record, understand, reproduce and share.\n",
    "<br>\n",
    "<br>\n",
    "They can be used as a tool to teach and highlight elements of computational thinking (e.g. decomposition, pattern recognition, abstraction and algorithms) by allowing students to show their data analysis work and interpretations transparently in one place."
   ]
  },
  {
   "cell_type": "markdown",
   "metadata": {
    "slideshow": {
     "slide_type": "subslide"
    }
   },
   "source": [
    "### Literate Programming: Interspersing Human-Friendly Text and Blocks of Code\n",
    "\n",
    "Jupyter Notebooks have gained enormous popularity through its use of _Literate Programming_, which emphasizes the interspersing of human-friendly text that is punctuated with code blocks."
   ]
  },
  {
   "cell_type": "markdown",
   "metadata": {
    "slideshow": {
     "slide_type": "slide"
    }
   },
   "source": [
    "## A Glimpse Into the Future: Interactive Textbooks\n",
    "\n",
    "Jupyter Notebooks are easy to maintain, keep current and evergreen. \n",
    "\n",
    "Multiple Jupyter Notebooks can be combined to create Interactive Textbooks.\n",
    "\n",
    "For example, _The Foundations of Data Science_ class at UC Berkeley's [Interactive Textbook](https://ds8.gitbooks.io/textbook/content/).\n",
    "https://ds8.gitbooks.io/textbook/content/"
   ]
  },
  {
   "cell_type": "markdown",
   "metadata": {
    "slideshow": {
     "slide_type": "slide"
    }
   },
   "source": [
    "### Social Studies - Source Analysis\n",
    "\n",
    "Understanding how a LA Times newspaper article comes to its conclusions through a Jupyter notebook.\n",
    "<br>\n",
    "http://www.latimes.com/projects/la-fi-farms-immigration/\n",
    "https://github.com/datadesk/california-crop-production-wages-analysis/blob/master/03-analysis.ipynb\n",
    "\n",
    "\n",
    "### Math\n",
    "\n",
    "[The following math examples are by teacher David Hay](https://github.com/misterhay/Math)."
   ]
  },
  {
   "cell_type": "code",
   "execution_count": null,
   "metadata": {
    "slideshow": {
     "slide_type": "slide"
    }
   },
   "outputs": [],
   "source": [
    "from mobilechelonian import Turtle\n",
    "import math\n",
    "\n",
    "squirt = Turtle()\n",
    "squirt.pencolor('blue')\n",
    "squirt.backward(100)\n",
    "squirt.left(90)\n",
    "squirt.forward(100)\n",
    "squirt.right(135)\n",
    "squirt.forward(math.sqrt(100**2 + 100**2))\n",
    "# squirt.penup()\n",
    "# squirt.home()"
   ]
  },
  {
   "cell_type": "code",
   "execution_count": null,
   "metadata": {
    "slideshow": {
     "slide_type": "skip"
    }
   },
   "outputs": [],
   "source": [
    "from metakernel import register_ipython_magics\n",
    "register_ipython_magics()"
   ]
  },
  {
   "cell_type": "code",
   "execution_count": null,
   "metadata": {
    "scrolled": true,
    "slideshow": {
     "slide_type": "slide"
    }
   },
   "outputs": [],
   "source": [
    "%jigsaw Python --workspace workspace1"
   ]
  },
  {
   "cell_type": "code",
   "execution_count": null,
   "metadata": {},
   "outputs": [],
   "source": [
    "x_var = 3 * 7\n",
    "print(x_var)\n"
   ]
  },
  {
   "cell_type": "code",
   "execution_count": null,
   "metadata": {
    "slideshow": {
     "slide_type": "slide"
    }
   },
   "outputs": [],
   "source": [
    "# Grade 6\n",
    "print('Factors of', x_var, 'are:')\n",
    "for i in range(1, x_var + 1):\n",
    "    if x_var % i == 0:\n",
    "        print(i)"
   ]
  },
  {
   "cell_type": "code",
   "execution_count": null,
   "metadata": {
    "slideshow": {
     "slide_type": "skip"
    }
   },
   "outputs": [],
   "source": [
    "import matplotlib as mpl\n",
    "import matplotlib.pyplot as plt  \n",
    "import numpy as np  \n",
    "mpl.rcParams['figure.figsize'] = (10,10)"
   ]
  },
  {
   "cell_type": "code",
   "execution_count": null,
   "metadata": {
    "slideshow": {
     "slide_type": "slide"
    }
   },
   "outputs": [],
   "source": [
    "# graphing a sine wave\n",
    "x = np.arange(0.0, 2.0, 0.01)\n",
    "y = np.sin(2*np.pi*x)\n",
    "plt.plot(x, y);"
   ]
  },
  {
   "cell_type": "markdown",
   "metadata": {
    "slideshow": {
     "slide_type": "skip"
    }
   },
   "source": [
    "[Open Data Hockey Assignment](https://cybera.syzygy.ca/jupyter/user/byron.chu/notebooks/jupyter-demo-notebooks/teaching/open-data-sample-assignment.ipynb)"
   ]
  },
  {
   "cell_type": "markdown",
   "metadata": {
    "slideshow": {
     "slide_type": "slide"
    }
   },
   "source": [
    "# Using open data with Jupyter notebooks\n",
    "\n",
    "This notebook highlights how to use and work with open data using Jupyter notebooks in comparison to a more traditional approach of using standard, desktop tools to perform an open data assignment. \n",
    "\n",
    "The goal of the exercise is to use current National Hockey League (NHL) results to determine whether a team is on pace for making the playoffs. "
   ]
  },
  {
   "cell_type": "markdown",
   "metadata": {
    "slideshow": {
     "slide_type": "slide"
    }
   },
   "source": [
    "## Traditional approach\n",
    "\n",
    "### Tool 1\n",
    "Traditionally, students would have had to go to a particular website to access the data:\n",
    "    http://www.hockey-reference.com/teams/CGY/2018_games.html"
   ]
  },
  {
   "cell_type": "markdown",
   "metadata": {
    "slideshow": {
     "slide_type": "slide"
    }
   },
   "source": [
    "<img src=\"images/cgy_standings.png\" width=\"800px\" />"
   ]
  },
  {
   "cell_type": "markdown",
   "metadata": {
    "slideshow": {
     "slide_type": "slide"
    }
   },
   "source": [
    "### Tool 2\n",
    "From there, they would have to manually copy and paste the data into a tool such as Microsoft Excel. "
   ]
  },
  {
   "cell_type": "markdown",
   "metadata": {
    "slideshow": {
     "slide_type": "slide"
    }
   },
   "source": [
    "<img src=\"images/cgy_excel.png\" width=\"100%\"/>"
   ]
  },
  {
   "cell_type": "markdown",
   "metadata": {
    "slideshow": {
     "slide_type": "slide"
    }
   },
   "source": [
    "<img src=\"images/cgy_excel_graph.png\" width = 80% />"
   ]
  },
  {
   "cell_type": "markdown",
   "metadata": {
    "slideshow": {
     "slide_type": "slide"
    }
   },
   "source": [
    "### Tool 3\n",
    "...that is then copied and pasted into Microsoft Word in order to write up a final report. "
   ]
  },
  {
   "cell_type": "markdown",
   "metadata": {
    "slideshow": {
     "slide_type": "slide"
    }
   },
   "source": [
    "<img src =\"images/cgy_word.png\" width = 80% />"
   ]
  },
  {
   "cell_type": "markdown",
   "metadata": {
    "slideshow": {
     "slide_type": "slide"
    }
   },
   "source": [
    "In total, that means the students would need to use the following tools:\n",
    "- a web browser\n",
    "- Microsoft Excel or something like it\n",
    "- Microsoft Word or something similar\n",
    "\n",
    "The final product is usually a static snapshot in time. "
   ]
  },
  {
   "cell_type": "markdown",
   "metadata": {
    "slideshow": {
     "slide_type": "slide"
    }
   },
   "source": [
    "## Jupyter notebooks approach\n",
    "\n",
    "Using Jupyter notebooks, the entire analysis can be done in one tool, requiring only a web browser. The end product is an interactive notebook that combines active code along with the explanatory narrative for how the analysis was conducted which can be interpreted by anyone. "
   ]
  },
  {
   "cell_type": "code",
   "execution_count": null,
   "metadata": {
    "slideshow": {
     "slide_type": "skip"
    }
   },
   "outputs": [],
   "source": [
    "import urllib.request\n",
    "import pandas as pd\n",
    "from bs4 import BeautifulSoup\n",
    "from argparse import ArgumentParser\n",
    "import numpy as np"
   ]
  },
  {
   "cell_type": "code",
   "execution_count": null,
   "metadata": {
    "slideshow": {
     "slide_type": "skip"
    }
   },
   "outputs": [],
   "source": [
    "# Query the hockey-reference website for data\n",
    "html1 = urllib.request.urlopen(\"https://www.hockey-reference.com/teams/CGY/2018_games.html\").read()\n",
    "html2 = urllib.request.urlopen(\"https://www.hockey-reference.com/teams/EDM/2018_games.html\").read()\n",
    "soup1 = BeautifulSoup(html1,\"html5lib\")\n",
    "soup2 = BeautifulSoup(html2,\"html5lib\")"
   ]
  },
  {
   "cell_type": "code",
   "execution_count": null,
   "metadata": {
    "slideshow": {
     "slide_type": "skip"
    }
   },
   "outputs": [],
   "source": [
    "table1 = soup1.find_all('table')[0]\n",
    "table_body1 = table1.find('tbody')\n",
    "rows1 = table_body1.find_all('tr')\n",
    "table2 = soup2.find_all('table')[0]\n",
    "table_body2 = table2.find('tbody')\n",
    "rows2 = table_body2.find_all('tr')"
   ]
  },
  {
   "cell_type": "code",
   "execution_count": null,
   "metadata": {
    "slideshow": {
     "slide_type": "skip"
    }
   },
   "outputs": [],
   "source": [
    "column_headers = [ch.getText() for ch in table1.find_all('tr')[1].find_all('th')]\n",
    "#print(column_headers)"
   ]
  },
  {
   "cell_type": "code",
   "execution_count": null,
   "metadata": {
    "slideshow": {
     "slide_type": "skip"
    }
   },
   "outputs": [],
   "source": [
    "team1_data = [[td1.getText() for td1 in rows1[i].find_all(['th','td'])]\n",
    "            for i in range(len(rows1))]\n",
    "team2_data = [[td2.getText() for td2 in rows2[i].find_all(['th','td'])]\n",
    "            for i in range(len(rows2))]"
   ]
  },
  {
   "cell_type": "code",
   "execution_count": null,
   "metadata": {
    "slideshow": {
     "slide_type": "skip"
    }
   },
   "outputs": [],
   "source": [
    "df1 = pd.DataFrame(team1_data, columns=column_headers)\n",
    "df2 = pd.DataFrame(team2_data, columns=column_headers)"
   ]
  },
  {
   "cell_type": "code",
   "execution_count": null,
   "metadata": {
    "slideshow": {
     "slide_type": "skip"
    }
   },
   "outputs": [],
   "source": [
    "df1 = df1.drop(df1.index[[20,41,62,83]])\n",
    "df2 = df2.drop(df2.index[[20,41,62,83]])"
   ]
  },
  {
   "cell_type": "code",
   "execution_count": null,
   "metadata": {
    "slideshow": {
     "slide_type": "slide"
    }
   },
   "outputs": [],
   "source": [
    "# Extracted and cleaned data from the hockey-reference website\n",
    "print(df1)"
   ]
  },
  {
   "cell_type": "code",
   "execution_count": null,
   "metadata": {
    "slideshow": {
     "slide_type": "skip"
    }
   },
   "outputs": [],
   "source": [
    "cols = ['GP','W', 'OL']\n",
    "df1_clean = df1[cols].apply(pd.to_numeric, errors='coerce')\n",
    "df2_clean = df2[cols].apply(pd.to_numeric, errors='coerce')"
   ]
  },
  {
   "cell_type": "code",
   "execution_count": null,
   "metadata": {
    "slideshow": {
     "slide_type": "skip"
    }
   },
   "outputs": [],
   "source": [
    "df1_clean['Playoff_Pace']=df1_clean['GP']*96/82\n",
    "df1_clean['CGY_Points']=df1_clean['W']*2 + df1_clean['OL']\n",
    "df2_clean['EDM_Points']=df2_clean['W']*2 + df2_clean['OL']"
   ]
  },
  {
   "cell_type": "code",
   "execution_count": null,
   "metadata": {
    "slideshow": {
     "slide_type": "skip"
    }
   },
   "outputs": [],
   "source": [
    "df1_clean['EDM_Points']=df2_clean['EDM_Points']"
   ]
  },
  {
   "cell_type": "code",
   "execution_count": null,
   "metadata": {
    "slideshow": {
     "slide_type": "slide"
    }
   },
   "outputs": [],
   "source": [
    "# Data analysis of my two favorite hockey teams\n",
    "df_combined=df1_clean\n",
    "df_combined=df_combined.drop(['W','OL'],axis=1)\n",
    "print(df_combined)"
   ]
  },
  {
   "cell_type": "code",
   "execution_count": null,
   "metadata": {
    "slideshow": {
     "slide_type": "skip"
    }
   },
   "outputs": [],
   "source": [
    "import matplotlib.pyplot as plt"
   ]
  },
  {
   "cell_type": "code",
   "execution_count": null,
   "metadata": {
    "slideshow": {
     "slide_type": "slide"
    }
   },
   "outputs": [],
   "source": [
    "# Calgary Flames Points Pace\n",
    "plt.plot( 'GP', 'Playoff_Pace', data=df_combined, marker='', color='black', linewidth=4);\n",
    "plt.plot( 'GP', 'CGY_Points', data=df_combined, marker='', color='red', linewidth=4, linestyle='dashed', label=\"CGY\");\n",
    "plt.xlabel('GP');\n",
    "plt.ylabel('Points');"
   ]
  },
  {
   "cell_type": "code",
   "execution_count": null,
   "metadata": {
    "slideshow": {
     "slide_type": "slide"
    }
   },
   "outputs": [],
   "source": [
    "# Calgary Flames and Edmonton Oilers Points Pace\n",
    "plt.plot( 'GP', 'Playoff_Pace', data=df_combined, marker='', color='black', linewidth=4);\n",
    "plt.plot( 'GP', 'CGY_Points', data=df_combined, marker='', color='red', linewidth=4, linestyle='dashed', label=\"CGY\");\n",
    "plt.plot( 'GP', 'EDM_Points', data=df_combined, marker='', color='blue', linewidth=4, linestyle='dashed', label=\"EDM\");\n",
    "plt.xlabel('GP');\n",
    "plt.ylabel('Points')\n",
    "plt.legend();"
   ]
  },
  {
   "cell_type": "markdown",
   "metadata": {
    "slideshow": {
     "slide_type": "slide"
    }
   },
   "source": [
    "### In conclusion, the Calgary Flames are on pace to make the playoffs (and the Oilers are not) this year. \n",
    "\n",
    "I can save this analysis as a snapshot in time and I can also re-run this analysis next year in the _same_ Jupyter notebook to see how the results have changed."
   ]
  },
  {
   "cell_type": "markdown",
   "metadata": {
    "slideshow": {
     "slide_type": "slide"
    }
   },
   "source": [
    "## Callysto Next Steps\n",
    "\n",
    "* Identify and prioritize K-12 course curriculum modules to build\n",
    "* Communicate, recruit and train K-12 teachers to use Callysto in their classrooms with students\n",
    "    * Webinars\n",
    "    * Spring, summer and fall workshops\n",
    "    * Train the trainer model?\n",
    "* Assess effectiveness of these modules to teach aspects of computational thinking in the classroom\n",
    "* Interested teachers can sign-up at http://www.cybera.ca/services/cancode/\n",
    "    \n",
    "    \n",
    "    \n"
   ]
  },
  {
   "cell_type": "markdown",
   "metadata": {},
   "source": []
  }
 ],
 "metadata": {
  "celltoolbar": "Slideshow",
  "kernelspec": {
   "display_name": "Python 3",
   "language": "python",
   "name": "python3"
  },
  "language_info": {
   "codemirror_mode": {
    "name": "ipython",
    "version": 3
   },
   "file_extension": ".py",
   "mimetype": "text/x-python",
   "name": "python",
   "nbconvert_exporter": "python",
   "pygments_lexer": "ipython3",
   "version": "3.7.6"
  }
 },
 "nbformat": 4,
 "nbformat_minor": 2
}
