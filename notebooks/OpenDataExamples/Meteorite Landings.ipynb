{
 "cells": [
  {
   "cell_type": "markdown",
   "metadata": {},
   "source": [
    "![alt text](https://github.com/callysto/callysto-sample-notebooks/blob/master/notebooks/images/Callysto_Notebook-Banner_Top_06.06.18.jpg?raw=true)"
   ]
  },
  {
   "cell_type": "markdown",
   "metadata": {},
   "source": [
    "# Open Data Tutorial 3: Meteorite Landings and Falls\n",
    "\n",
    "In this third installment of our working with open data tutorial series we will be working with another interesting data set which contains the year and location of all recorded meteorite falls until the year 2013. This is an open data set, and is hosted at [this github repository](https://github.com/fleiser/Meteorite-landings/blob/master/Meteorite_Landings.csv). This repository also contains an interesting analysis of this data set as well with many more colorful figures, and interested readers are invited to explore that analysis as well. However, we note that the analysis on that page was _not_ meant to be a tutorial, and it may be difficult to follow for those unfamiliar with Python. \n",
    "\n",
    "\n",
    "However, as this is the third installment in the tutorial series, let's continue with our traditional first step and import the required libraries. You'll notice this time we're using a few more than we have in the past. Not to worry however, as for the most part their just extra tools to make some visualizations a little more exciting. We have entered comments as to what each library is for, and we will explain what we're using them for when they come up in the tutorial. "
   ]
  },
  {
   "cell_type": "code",
   "execution_count": null,
   "metadata": {},
   "outputs": [],
   "source": [
    "# These first three libraries are nothing new!\n",
    "import pandas as pd\n",
    "import matplotlib.pyplot as plt\n",
    "%matplotlib inline\n",
    "\n",
    "# Geopandas is very similar to pandas, however it contains extra functionality to work with \n",
    "# geospacial data such as latitude and longitude\n",
    "import geopandas as gpd\n",
    "# This imports the \"Point\" function, or a function that creates a point on a geospacial graph.\n",
    "# this function simply makes things easier to work with in Pandas\n",
    "from shapely.geometry import Point\n",
    "\n",
    "# The following three libraries are included in order to make interactive widgets in this notebook.\n",
    "# More on this later. \n",
    "from IPython import display\n",
    "from ipywidgets import interact_manual\n",
    "import ipywidgets as widgets\n",
    "\n"
   ]
  },
  {
   "cell_type": "markdown",
   "metadata": {},
   "source": [
    "Don't worry too much about those new libraries, as they will be considerably less intimidating once you see how they're similar to what we've already used!\n",
    "\n",
    "## Gathering The Data\n",
    "\n",
    "We now are ready to download the data directly from the Github site in the cell below. However, you'll notice that we're using a few more steps in the cell below. These are simply to make handling the data a little more straight forward, and their functionality is commented in the cell below for your convenience. "
   ]
  },
  {
   "cell_type": "code",
   "execution_count": null,
   "metadata": {},
   "outputs": [],
   "source": [
    "'''\n",
    "These first two lines should not be surprising anymore! This is how we've been bringing data into\n",
    "our Jupyter notebooks throughout this tutorial series. \n",
    "'''\n",
    "url = 'https://github.com/fleiser/Meteorite-landings/raw/master/Meteorite_Landings.csv'\n",
    "landings = pd.read_csv(url)\n",
    "\n",
    "'''\n",
    "Here things are new and exciting. What the `pd.to_datetime' function does is convert some text that looks \n",
    "like a date into a 'datetime' object inside of pandas. This is convenient for parsing later as we will be able\n",
    "to search by year, month, and day. We're also using errors = 'coerce', which tells python to ignore any data\n",
    "points that cannot be coerced into a datetime object. You'll also note that we're redefining our pandas column\n",
    "'year' in place\n",
    "'''\n",
    "landings['year'] = pd.to_datetime(landings['year'], errors = 'coerce')\n",
    "print(\"Number of observed meteorites in data set:\", len(landings))\n",
    "landings.head()"
   ]
  },
  {
   "cell_type": "code",
   "execution_count": null,
   "metadata": {},
   "outputs": [],
   "source": [
    "landings[landings['fall'] == \"Found\"]"
   ]
  },
  {
   "cell_type": "markdown",
   "metadata": {},
   "source": [
    "You may notice that the 'year' column also contains months and days in our dataframe. However, you'll also notice that the date here is always January first. This is the result of the month and day lingering as an artifact of the data set from the github site itself, and in fact the month and day in this data do not exist. As such, we will be ignoring those quantities in our later analysis. This is a perfect example of data that could be misleading if you're not paying attention! The month and date were not included maliciously - this is more than likely an artifact of date time conversions of the original data set. However, with the appearance of month and days, this data could be unintentionally misleading. \n",
    "\n",
    "# Creating a Map\n",
    "\n",
    "As we have the latitude and longitude of each meteor, a natural first analysis goal is to create a map; to see where these meteorites are falling. In order to do that, we require `geopandas`, or \"Geo-spacial pandas\". Geopandas behaves nearly identical to the pandas tool we have used before, however it contains further functionality that makes creating maps significantly more straight forward. In which case, our first task is creating a geopandas data frame, which is done in the code cell below"
   ]
  },
  {
   "cell_type": "code",
   "execution_count": null,
   "metadata": {},
   "outputs": [],
   "source": [
    "# Here we're creating a function which defines our points that we will plot on a map\n",
    "def create_point(row):\n",
    "    '''\n",
    "    Here row is going to be the row of a dataframe that we will use the apply() with this \n",
    "    function on. As well, reclong and reclat are the latitude and longitude from our landings \n",
    "    data frame. Finally, Point is the Point function that we imported in the beginning of the notebook\n",
    "    So, all this functio does is return a Point object of latitude and longitude. Easy!\n",
    "    \n",
    "    '''\n",
    "    return Point(row.reclong, row.reclat)\n",
    "\n",
    "# Now, we create our points by using the apply function on our landings data frame \n",
    "points = landings.apply(create_point, axis=1)\n",
    "\n",
    "# We are now creating a geopandas data frame with a 'geometry' column as defined \n",
    "# by the points we just created\n",
    "geo_landings = gpd.GeoDataFrame(landings, geometry=points)\n",
    "\n",
    "# We also need to define the map projection we're using. In this case, epsg:4326 is the most \n",
    "# common projection for a rectangular map. \n",
    "geo_landings.crs = {'init': 'epsg:4326'}\n",
    "\n",
    "# View the first rows, note our 'geometry' tab \n",
    "geo_landings.head()"
   ]
  },
  {
   "cell_type": "markdown",
   "metadata": {},
   "source": [
    "Now that we've created a geopandas data frame, let's take a look at plotting that on a map! First, let's create a simple world map using geopandas, as done below"
   ]
  },
  {
   "cell_type": "code",
   "execution_count": null,
   "metadata": {},
   "outputs": [],
   "source": [
    "# This creates a world map for us!\n",
    "world = gpd.read_file(gpd.datasets.get_path('naturalearth_lowres'))\n",
    "# Now we're just creating a plot as we've done using regular pandas data frames\n",
    "ax = world.plot(figsize=(20,10), linewidth=0.25, edgecolor='white', color='lightgrey')"
   ]
  },
  {
   "cell_type": "markdown",
   "metadata": {},
   "source": [
    "Now that we have a basic map, let's put our meteorite landings onto it"
   ]
  },
  {
   "cell_type": "code",
   "execution_count": null,
   "metadata": {},
   "outputs": [],
   "source": [
    "\n",
    "ax = world.plot(figsize=(16,10), linewidth=0.25, edgecolor='white', color='lightgrey')\n",
    "\n",
    "# Because we have a 'geometry' column, geopandas will plot our meteorite landings without \n",
    "# us needing to specify which column to plot. However, we do need to specify that it should appear on the same \n",
    "# axis as \n",
    "geo_landings.plot(ax=ax, column='fall', alpha = 0.5, markersize=10, legend=True)\n",
    "ax.axis('off')\n",
    "plt.show()\n"
   ]
  },
  {
   "cell_type": "markdown",
   "metadata": {},
   "source": [
    "Of course, there's around 45000 observed meteorites on the plot above, and that gets messy pretty quickly. In some regard, it might be more interesting to view the meteorite falls and finds for each year. The easiest way to do this in a Jupyter notebook is by using interactive widgets, some of the libraries we imported earlier.  Let's work through how we might go about doing that in the cell below. "
   ]
  },
  {
   "cell_type": "code",
   "execution_count": null,
   "metadata": {},
   "outputs": [],
   "source": [
    "a = len(landings[landings['fall'] == \"Fell\"])\n",
    "b = len(landings[landings['fall'] == \"Found\"])\n",
    "print(a, b, a/b)"
   ]
  },
  {
   "cell_type": "code",
   "execution_count": null,
   "metadata": {},
   "outputs": [],
   "source": [
    "'''\n",
    "This function is actually nothing new! Instead of plotting our graph directly, we've hidden it \n",
    "in a function to call instead. We've also called it 'update' as it is the function that will update\n",
    "our plot with new data. In this case, our function takes a single input 'y' for year, this is the input \n",
    "that is used to filter our data down to a single year. \n",
    "'''\n",
    "def update(y):\n",
    "    ax = world.plot(figsize=(20,10), linewidth=0.25, edgecolor='white', color='lightgrey')\n",
    "    geo_landings[(geo_landings.year.dt.year == y) & (geo_landings.reclat !=0)].plot(alpha=0.75, \n",
    "                                                                                    ax=ax,\n",
    "                                                                                    column = \"fall\",\n",
    "                                                                                    legend = True)\n",
    "    plt.title(\"Meteorite Falls in \" + str(int(y)), size = 20)\n",
    "    ax.axis('off')\n",
    "\n",
    "'''\n",
    "Here we're simply finding and sorting all the years which had meteorites fall. Here's a quick overview\n",
    "of what each funciton is doing below, as there's actually a lot to digest in that short line. \n",
    "\n",
    "sorted() : This function sorts data in ascending order (smallest -> middlest -> biggest) \n",
    "           If it is not simply numerical data, it will be sorted alphanumerically. \n",
    "           \n",
    "list()   : This function simply turns what is inside parenthesis into a python list\n",
    "\n",
    "landings.year.dt.year.unique() : There is a lot to digest in this line. First, we're taking our\n",
    "                                 dataframe \"landings\" and accessing the column 'year' using the\n",
    "                                 dot notation instead. Then, on the year column we use the \n",
    "                                 datetime .dt function to specify that we want to resolve that \n",
    "                                 column in terms of a date time. Then, the second .year specifies \n",
    "                                 that we're only interested in the year of the datetime. Finally, \n",
    "                                 .unique() filters our years down to only the unique years where \n",
    "                                 meteors fell. \n",
    "                                   \n",
    "[:-1]  : This is a short hand to parse our list. In this case the colon specifies that we're taking \n",
    "         elements from the beginning of the list. The -1 like this specifies that we're taking the \n",
    "         whole list, with the exception of the final element. This is because the year in the final \n",
    "         element has an error, and our widget won't work at that point. \n",
    "'''\n",
    "\n",
    "years_with_fall = sorted(list(landings.year.dt.year.unique()))[:-1]\n",
    "\n",
    "\n",
    "'''\n",
    "The contents of this code is explained below.\n",
    "\n",
    "interact_manual             : This is the function that we imported earlier that allows us to create an interactive\n",
    "                              widget taht will help us explore the data. The _manual suffix tells us that we also\n",
    "                              want to create a button to only update our plot when we've found the year we desire. \n",
    "                  \n",
    "update                      : This is the function we defined at the beginning of the cell, and the function that \n",
    "                              interact will continuously update for us. \n",
    "\n",
    "y = widgets.SelectionSlider : This is the widget that we will be using to pass values to our 'update' function. \n",
    "                              Notice how we have used the name 'y', the same argument that our update() parameter\n",
    "                              takes. In this case, SelectionSlider specifies that we want to use a slider widget\n",
    "                              in order to select the values of y, the year that we're interested in. The arguments\n",
    "                              of Selection Slider are explaned below. \n",
    "                              \n",
    "description                 : This is a string (computer science talk for \"a bunch of text\") that will be the label\n",
    "                              for our slider.\n",
    "                            \n",
    "options                     : This is a list of values our slider can take. In ourcase, it is the list we created \n",
    "                              earlier where we know meteors have fallen. \n",
    "'''\n",
    "\n",
    "interact_manual(update, \n",
    "         y=widgets.SelectionSlider(description='Select Year', \n",
    "                                   options=years_with_fall))"
   ]
  },
  {
   "cell_type": "code",
   "execution_count": null,
   "metadata": {},
   "outputs": [],
   "source": [
    "# Build up to the final form - it is a tutorial after all. Also caclulate fell/vs found as motivator\n",
    "\n",
    "import numpy as np\n",
    "\n",
    "mass_fell = np.log10(landings[landings['fall'] == \"Fell\"]['mass (g)'].dropna())\n",
    "mass_found = np.log10(landings[(landings['fall'] == \"Found\") & (landings[\"mass (g)\"] > 0)]['mass (g)'].dropna())\n",
    "\n",
    "plt.figure(figsize=(12,8))\n",
    "plt.hist([mass_fell, mass_found], bins = 20, density = True, histtype='stepfilled', alpha = 0.55)\n",
    "plt.xlabel(\"Mass of Meteorite (log$_{10}$(grams))\", size = 18)\n",
    "plt.ylabel(\"Normalized Number Counts\", size = 18)\n",
    "labels = [\"Found\", \"Fell\"]\n",
    "plt.title(\"Mass Distribution of Meteorite Observations\", size = 20)\n",
    "plt.legend(labels, prop={'size': 16})\n",
    "plt.show()"
   ]
  },
  {
   "cell_type": "code",
   "execution_count": null,
   "metadata": {},
   "outputs": [],
   "source": [
    "landings[landings.name == 'Chelyabinsk']"
   ]
  },
  {
   "cell_type": "markdown",
   "metadata": {},
   "source": [
    "![alt text](https://github.com/callysto/callysto-sample-notebooks/blob/master/notebooks/images/Callysto_Notebook-Banners_Bottom_06.06.18.jpg?raw=true)"
   ]
  }
 ],
 "metadata": {
  "kernelspec": {
   "display_name": "Python 3",
   "language": "python",
   "name": "python3"
  },
  "language_info": {
   "codemirror_mode": {
    "name": "ipython",
    "version": 3
   },
   "file_extension": ".py",
   "mimetype": "text/x-python",
   "name": "python",
   "nbconvert_exporter": "python",
   "pygments_lexer": "ipython3",
   "version": "3.6.4"
  }
 },
 "nbformat": 4,
 "nbformat_minor": 2
}
