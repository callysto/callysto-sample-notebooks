{
 "cells": [
  {
   "cell_type": "markdown",
   "metadata": {},
   "source": [
    "![alt text](https://github.com/callysto/callysto-sample-notebooks/blob/master/notebooks/images/Callysto_Notebook-Banner_Top_06.06.18.jpg?raw=true)"
   ]
  },
  {
   "cell_type": "markdown",
   "metadata": {
    "lang": "en"
   },
   "source": [
    "# Working With Open Data Part 4:  Meteorite Landings and Falls Part 1\n",
    "\n",
    "In this third installment of our working with open data tutorial series we will be working with another interesting data set which contains the year and location of all recorded meteorite falls until the year 2013. This is an open data set, and is hosted at [this github repository](https://github.com/fleiser/Meteorite-landings/blob/master/Meteorite_Landings.csv). This repository also contains an interesting analysis of this data set as well with many more colorful figures, and interested readers are invited to explore that analysis as well. However, we note that the analysis on that page was _not_ meant to be a tutorial, and it may be difficult to follow for those unfamiliar with Python. \n",
    "\n",
    "\n",
    "However, as this is the third installment in the tutorial series, let's continue with our traditional first step and import the required libraries. You'll notice this time we're using a few more than we have in the past. Not to worry however, as for the most part their just extra tools to make some visualizations a little more exciting. We have entered comments as to what each library is for, and we will explain what we're using them for when they come up in the tutorial. "
   ]
  },
  {
   "cell_type": "markdown",
   "metadata": {
    "lang": "fr"
   },
   "source": [
    "# Travailler avec des données ouvertes, partie 4: Atterrissages et chutes de météorites, partie 1\n",
    "\n",
    "Dans cette troisième partie de notre série de travaux pratiques sur les données ouvertes, nous travaillerons avec un autre jeu de données intéressant, qui contient l'année et l'emplacement de toutes les chutes de météorites enregistrées jusqu'en 2013. Ce jeu de données est ouvert et est hébergé à référentiel github] (https://github.com/fleiser/Meteorite-landings/blob/master/Meteorite <_> Landings.csv). Ce référentiel contient également une analyse intéressante de cet ensemble de données ainsi que de nombreuses autres figures colorées, et les lecteurs intéressés sont invités à explorer cette analyse également. Cependant, nous notons que l’analyse présentée sur cette page n’a pas été conçue pour être un tutoriel, et il peut être difficile à suivre pour ceux qui ne connaissent pas Python.\n",
    "\n",
    "\n",
    "Cependant, comme il s'agit du troisième versement de la série de didacticiels, poursuivons avec notre première étape traditionnelle et importons les bibliothèques requises. Vous remarquerez que cette fois-ci, nous en utilisons un peu plus que par le passé. Ne vous inquiétez pas cependant, car la plupart du temps, ils ne disposent que d’outils supplémentaires pour rendre certaines visualisations un peu plus excitantes. Nous avons entré des commentaires sur le rôle de chaque bibliothèque et nous expliquerons à quoi ils servent quand ils apparaîtront dans le didacticiel."
   ]
  },
  {
   "cell_type": "code",
   "execution_count": null,
   "metadata": {
    "lang": "en"
   },
   "outputs": [],
   "source": [
    "# These first three libraries are nothing new!\n",
    "import pandas as pd\n",
    "import matplotlib.pyplot as plt\n",
    "%matplotlib inline\n",
    "\n",
    "# Geopandas is very similar to pandas, however it contains extra functionality to work with \n",
    "# geospacial data such as latitude and longitude\n",
    "import geopandas as gpd\n",
    "# This imports the \"Point\" function, or a function that creates a point on a geospacial graph.\n",
    "# this function simply makes things easier to work with in Pandas\n",
    "from shapely.geometry import Point\n",
    "\n",
    "# The following three libraries are included in order to make interactive widgets in this notebook.\n",
    "# More on this later. \n",
    "from IPython import display\n",
    "from ipywidgets import interact_manual\n",
    "import ipywidgets as widgets\n",
    "\n"
   ]
  },
  {
   "cell_type": "code",
   "execution_count": null,
   "metadata": {
    "lang": "fr"
   },
   "outputs": [],
   "source": [
    "# Ces trois premières bibliothèques ne sont pas nouvelles!\n",
    "import pandas as pd\n",
    "import matplotlib.pyplot as plt\n",
    "%matplotlib inline\n",
    "\n",
    "# Geopandas est très similaire aux pandas, mais il contient des fonctionnalités supplémentaires pour travailler avec\n",
    "# Nombre de données géospaciales telles que la latitude et la longitude\n",
    "import geopandas as gpd\n",
    "# Ceci importe la fonction \"Point\", ou une fonction qui crée un point sur un graphe géospacial.\n",
    "# cette fonction facilite simplement le travail dans les pandas\n",
    "from shapely.geometry import Point\n",
    "\n",
    "# Les trois bibliothèques suivantes sont incluses afin de créer des widgets interactifs dans ce cahier.\n",
    "# Plus sur cela plus tard.\n",
    "from IPython import display\n",
    "from ipywidgets import interact_manual\n",
    "import ipywidgets as widgets"
   ]
  },
  {
   "cell_type": "markdown",
   "metadata": {
    "lang": "en"
   },
   "source": [
    "Don't worry too much about those new libraries, as they will be considerably less intimidating once you see how they're similar to what we've already used!\n",
    "\n",
    "## Gathering The Data\n",
    "\n",
    "We now are ready to download the data directly from the Github site in the cell below. However, you'll notice that we're using a few more steps in the cell below. These are simply to make handling the data a little more straight forward, and their functionality is commented in the cell below for your convenience. "
   ]
  },
  {
   "cell_type": "markdown",
   "metadata": {
    "lang": "fr"
   },
   "source": [
    "Ne vous inquiétez pas trop à propos de ces nouvelles bibliothèques, elles seront beaucoup moins intimidantes une fois que vous verrez en quoi elles ressemblent à ce que nous avons déjà utilisé!\n",
    "\n",
    "## Collecter les données\n",
    "\n",
    "Nous sommes maintenant prêts à télécharger les données directement depuis le site Github dans la cellule ci-dessous. Cependant, vous remarquerez que nous utilisons quelques étapes supplémentaires dans la cellule ci-dessous. Celles-ci ont simplement pour but de simplifier le traitement des données, et leur fonctionnalité est commentée dans la cellule ci-dessous pour votre commodité."
   ]
  },
  {
   "cell_type": "code",
   "execution_count": null,
   "metadata": {
    "lang": "en"
   },
   "outputs": [],
   "source": [
    "'''\n",
    "These first two lines should not be surprising anymore! This is how we've been bringing data into\n",
    "our Jupyter notebooks throughout this tutorial series. \n",
    "'''\n",
    "url = 'https://github.com/fleiser/Meteorite-landings/raw/master/Meteorite_Landings.csv'\n",
    "landings = pd.read_csv(url)\n",
    "\n",
    "'''\n",
    "Here things are new and exciting. What the `pd.to_datetime' function does is convert some text that looks \n",
    "like a date into a 'datetime' object inside of pandas. This is convenient for parsing later as we will be able\n",
    "to search by year, month, and day. We're also using errors = 'coerce', which tells python to ignore any data\n",
    "points that cannot be coerced into a datetime object. You'll also note that we're redefining our pandas column\n",
    "'year' in place\n",
    "'''\n",
    "landings['year'] = pd.to_datetime(landings['year'], errors = 'coerce')\n",
    "print(\"Number of observed meteorites in data set:\", len(landings))\n",
    "landings.head()"
   ]
  },
  {
   "cell_type": "code",
   "execution_count": null,
   "metadata": {
    "lang": "fr"
   },
   "outputs": [],
   "source": [
    "'''\n",
    "Ces deux premières lignes ne devraient plus être surprenantes! Voici comment nous avons introduit des données dans\n",
    "nos cahiers Jupyter tout au long de cette série de tutoriels.\n",
    "'''\n",
    "url = 'https://github.com/fleiser/Meteorite-landings/raw/master/Meteorite_Landings.csv'\n",
    "landings = pd.read_csv(url)\n",
    "\n",
    "'''\n",
    "Ici, les choses sont nouvelles et passionnantes. La fonction `pd.to_datetime 'convertit du texte qui a l'air\n",
    "comme une date dans un objet 'datetime' à l'intérieur de pandas. C’est pratique pour l’analyse ultérieure car nous pourrons\n",
    "rechercher par année, mois et jour. Nous utilisons également errors = 'coerce', qui indique à python d'ignorer toutes les données.\n",
    "points qui ne peuvent pas être forcés dans un objet datetime. Vous noterez également que nous redéfinissons notre colonne sur les pandas\n",
    "'année' en place\n",
    "'''\n",
    "landings['year'] = pd.to_datetime(landings['year'], errors = 'coerce')\n",
    "print(\"Number of observed meteorites in data set:\", len(landings))\n",
    "landings.head()"
   ]
  },
  {
   "cell_type": "markdown",
   "metadata": {
    "lang": "en"
   },
   "source": [
    "You may notice that the 'year' column also contains months and days in our dataframe. However, you'll also notice that the date here is always January first. This is not the result of some great cosmic coincidence, the month and day linger simply as an artifact of the data set from the github site itself, and in fact the month and day in this data do not exist. As such, we will be ignoring those quantities in our later analysis. This is a perfect example of data that could be misleading if you're not paying attention! The month and date were not included maliciously - this is more than likely an artifact of date time conversions of the original data set. However, with the appearance of month and days, this data could be unintentionally misleading. \n",
    "\n",
    "# Creating a Map\n",
    "\n",
    "As we have the latitude and longitude of each meteor, a natural first analysis goal is to create a map which will allow us to observe the locations where meteorites have fallen or been discovered. In order to do that, we require `geopandas`, or \"Geo-spacial pandas\". Geopandas behaves nearly identical to the pandas tool we have used before, however it contains further functionality that makes creating maps significantly more straight forward. In which case, our first task is creating a geopandas data frame, which is done in the code cell below"
   ]
  },
  {
   "cell_type": "markdown",
   "metadata": {
    "lang": "fr"
   },
   "source": [
    "Vous remarquerez peut-être que la colonne 'année' contient également des mois et des jours dans notre base de données. Cependant, vous remarquerez également que la date indiquée ici est toujours le premier janvier. Ce n'est pas le résultat d'une grande coïncidence cosmique, le mois et le jour persistent simplement comme un artefact de l'ensemble de données du site github lui-même et, en fait, le mois et le jour dans ces données n'existent pas. En tant que tels, nous ignorerons ces quantités dans notre analyse ultérieure. Ceci est un exemple parfait de données qui pourraient être trompeuses si vous ne faites pas attention! Le mois et la date n'ont pas été inclus avec malveillance - il s'agit probablement d'un artefact des conversions date-heure de l'ensemble de données d'origine. Cependant, avec l'apparition du mois et des jours, ces données pourraient être involontairement trompeuses.\n",
    "\n",
    "# Créer une carte\n",
    "\n",
    "Comme nous avons la latitude et la longitude de chaque météore, l’un des objectifs premiers de l’analyse est de créer une carte qui nous permettra d’observer les endroits où les météorites sont tombées ou ont été découvertes. Pour ce faire, nous avons besoin de `géopandas`, ou\" pandas géo-spatiaux \". Les géopandas se comportent presque de la même manière que l’outil Pandas que nous utilisions auparavant. Cependant, il contient des fonctionnalités supplémentaires qui facilitent considérablement la création de cartes. Dans ce cas, notre première tâche consiste à créer un cadre de données geopandas, ce qui se fait dans la cellule de code ci-dessous."
   ]
  },
  {
   "cell_type": "code",
   "execution_count": null,
   "metadata": {},
   "outputs": [],
   "source": [
    "# Here we're creating a function which defines our points that we will plot on a map\n",
    "def create_point(row):\n",
    "    '''\n",
    "    Here 'row' is the row of a dataframe that we will use the apply() with this \n",
    "    function on. As well, reclong and reclat are the latitude and longitude from our landings \n",
    "    data frame. Finally, Point is the Point function that we imported in the beginning of the notebook\n",
    "    So, all this functio does is return a Point object of latitude and longitude. Easy!\n",
    "    \n",
    "    '''\n",
    "    return Point(row.reclong, row.reclat)\n",
    "\n",
    "# Now, we create our points by using the apply function on our landings data frame \n",
    "points = landings.apply(create_point, axis=1)\n",
    "\n",
    "print(\"Below is what our create_point function creates\")\n",
    "print()\n",
    "print(points.head())\n",
    "\n",
    "# We are now creating a geopandas data frame with a 'geometry' column as defined \n",
    "# by the points we just created. Besides that it is identical to our 'landings'\n",
    "# data frame \n",
    "\n",
    "geo_landings = gpd.GeoDataFrame(landings, geometry=points)\n",
    "\n",
    "# We also need to define the map projection we're using. In this case, epsg:4326 is the most \n",
    "# common projection for a rectangular map. \n",
    "\n",
    "geo_landings.crs = {'init': 'epsg:4326'}\n",
    "\n",
    "# View the first rows, note our 'geometry' tab \n",
    "geo_landings.head()"
   ]
  },
  {
   "cell_type": "markdown",
   "metadata": {
    "lang": "en"
   },
   "source": [
    "Now that we've created a geopandas data frame, let's take a look at plotting that on a map! First, let's create a simple world map using geopandas, as done below"
   ]
  },
  {
   "cell_type": "markdown",
   "metadata": {
    "lang": "fr"
   },
   "source": [
    "Maintenant que nous avons créé un bloc de données de géopandas, examinons-le sur une carte! Commençons par créer une carte du monde simple à l'aide de géopandas, comme indiqué ci-dessous."
   ]
  },
  {
   "cell_type": "code",
   "execution_count": null,
   "metadata": {},
   "outputs": [],
   "source": [
    "# This creates a world map for us! This data set is a part of geopands and included\n",
    "# in the hub. \n",
    "world = gpd.read_file(gpd.datasets.get_path('naturalearth_lowres'))\n",
    "\n",
    "# Now we're just creating a plot as we've done using regular pandas data frames\n",
    "\n",
    "ax = world.plot(figsize=(20,10), linewidth=0.25, edgecolor='white', color='lightgrey')"
   ]
  },
  {
   "cell_type": "markdown",
   "metadata": {
    "lang": "en"
   },
   "source": [
    "Now that we have a basic map, let's put our meteorite landings onto it"
   ]
  },
  {
   "cell_type": "markdown",
   "metadata": {
    "lang": "fr"
   },
   "source": [
    "Maintenant que nous avons une carte de base, mettons nos atterrissages de météorites dessus"
   ]
  },
  {
   "cell_type": "code",
   "execution_count": null,
   "metadata": {},
   "outputs": [],
   "source": [
    "\n",
    "ax = world.plot(figsize=(16,10), linewidth=0.25, edgecolor='white', color='lightgrey')\n",
    "\n",
    "# Because we have a 'geometry' column, geopandas will plot our meteorite landings without \n",
    "# us needing to specify which column to plot. However, we do need to specify that it should appear on the same \n",
    "# axis as \n",
    "geo_landings.plot(ax=ax, column='fall', alpha = 0.5, markersize=10, legend=True)\n",
    "ax.axis('off')\n",
    "plt.show()\n"
   ]
  },
  {
   "cell_type": "markdown",
   "metadata": {
    "lang": "en"
   },
   "source": [
    "Of course, there's around 45000 observed meteorites on the plot above, and that gets messy pretty quickly. In some regard, it might be more interesting to view the meteorite falls and finds for each year. The easiest way to do this in a Jupyter notebook is by using interactive widgets, some of the libraries we imported earlier. However, before we start getting into creating the widget, let's walk through how we would make a map of any year we might be interested first. The first order of buisiness: how do we extract just the year from a date time column?"
   ]
  },
  {
   "cell_type": "markdown",
   "metadata": {
    "lang": "fr"
   },
   "source": [
    "Bien sûr, il y a environ 45 000 météorites observées sur la parcelle ci-dessus, et cela devient vite compliqué. À certains égards, il pourrait être plus intéressant de voir les chutes de météorites et les découvertes pour chaque année. La manière la plus simple de procéder dans un bloc-notes Jupyter consiste à utiliser des widgets interactifs, parmi les bibliothèques que nous avons importées précédemment. Cependant, avant de commencer à créer le widget, voyons comment nous pourrions créer une carte de toute année qui pourrait nous intéresser en premier. Le premier ordre de commerce: comment extraire simplement l'année d'une colonne date / heure?"
   ]
  },
  {
   "cell_type": "code",
   "execution_count": null,
   "metadata": {
    "lang": "en"
   },
   "outputs": [],
   "source": [
    "'''\n",
    "To extract the year from a datetime object, we have to be aware of two methods:\n",
    "\n",
    "dt   : This stands for \"datetime\" and is used to cast the text in our data frame into a datetime object\n",
    "\n",
    "year : This extracts the year from the date time object\n",
    "\n",
    "'''\n",
    "# This is how we get just the year out!\n",
    "print(\"Syntax 1 output:\")\n",
    "print( geo_landings[\"year\"].dt.year.head() )\n",
    "print()\n",
    "\n",
    "# Note that this is equivalent, however the first \".year\" is in reference to the column name\n",
    "# and not a method of the date time object.\n",
    "print(\"Syntax 2 output:\")\n",
    "print( geo_landings.year.dt.year.head() )\n",
    "\n",
    "# If our 'year' column was called 'time', this would look like\n",
    "# geo_landings.time.dt.year.head()\n"
   ]
  },
  {
   "cell_type": "code",
   "execution_count": null,
   "metadata": {
    "lang": "fr"
   },
   "outputs": [],
   "source": [
    "'' '\n",
    "Pour extraire l'année d'un objet datetime, nous devons connaître deux méthodes:\n",
    "\n",
    "dt: Ceci signifie \"datetime\" et est utilisé pour convertir le texte de notre cadre de données en un objet datetime\n",
    "\n",
    "year: Ceci extrait l'année de l'objet date / heure\n",
    "\n",
    "'' '\n",
    "# C’est comme ça que nous sortons de l’année!\n",
    "print(\"Syntax 1 output:\")\n",
    "print( geo_landings[\"year\"].dt.year.head() )\n",
    "print()\n",
    "\n",
    "# Notez que ceci est équivalent, cependant le premier \".year\" est en référence au nom de la colonne\n",
    "# et non une méthode de l'objet date / heure.\n",
    "print(\"Syntax 2 output:\")\n",
    "print( geo_landings.year.dt.year.head() )\n",
    "\n",
    "# Si notre colonne 'année' s'appelait 'temps', cela ressemblerait à\n",
    "# geo_landings.time.dt.year.head ()"
   ]
  },
  {
   "cell_type": "code",
   "execution_count": null,
   "metadata": {},
   "outputs": [],
   "source": [
    "\n",
    "ax = world.plot(figsize=(16,10), linewidth=0.25, edgecolor='white', color='lightgrey')\n",
    "\n",
    "# Notice how we're specifying only a single year in this line! \n",
    "plot_single_year = geo_landings[geo_landings.year.dt.year == 2012]\n",
    "\n",
    "plot_single_year.plot(ax=ax, column='fall', alpha = 0.5, markersize=10, legend=True)\n",
    "plt.title(\"Meteor Falls in 2012\", size = 20)\n",
    "ax.axis('off')\n",
    "plt.show()"
   ]
  },
  {
   "cell_type": "markdown",
   "metadata": {
    "lang": "en"
   },
   "source": [
    "Feel free to change the code above to look at any year you like in order to get comfortable with the syntax. However, you may have noticed that there is a peculiar point off the coast of Africa in the Atlantic ocean. Let's take a closer look at what's going on there in the cell below. "
   ]
  },
  {
   "cell_type": "markdown",
   "metadata": {
    "lang": "fr"
   },
   "source": [
    "N'hésitez pas à changer le code ci-dessus pour regarder l'année de votre choix afin de vous familiariser avec la syntaxe. Cependant, vous avez peut-être remarqué qu'il existe un point particulier au large des côtes africaines dans l'océan Atlantique. Examinons de plus près ce qui se passe dans la cellule ci-dessous."
   ]
  },
  {
   "cell_type": "code",
   "execution_count": null,
   "metadata": {},
   "outputs": [],
   "source": [
    "# Here we're looking at the last 10 entries of our dataframe\n",
    "plot_single_year.tail(10)"
   ]
  },
  {
   "cell_type": "markdown",
   "metadata": {
    "lang": "en"
   },
   "source": [
    "Ah ha! There's the problem. In this case the \"Northwest Africa\" meteorites don't have valid coordinates and were simply zero filled. This is another case of \"poor data\" that is not intentionally misleading, but can lead to some strange results if you're not careful. One of the most popular ways to deal with missing data in a lot of cases is to simply replace those missing values with zero, so it's best to be careful. In this case, let's filter those points out so they don't show up in our map."
   ]
  },
  {
   "cell_type": "markdown",
   "metadata": {
    "lang": "fr"
   },
   "source": [
    "Ah ah! Il y a le problème. Dans ce cas, les météorites \"Afrique du Nord-Ouest\" n'ont pas de coordonnées valides et ont simplement été remplies de zéros. Ceci est un autre cas de \"données médiocres\" qui n'est pas intentionnellement trompeur, mais peut conduire à des résultats étranges si vous ne faites pas attention. L'un des moyens les plus populaires de traiter les données manquantes dans de nombreux cas est simplement de remplacer ces valeurs manquantes par zéro, il est donc préférable d'être prudent. Dans ce cas, filtrons ces points afin qu'ils n'apparaissent pas dans notre carte."
   ]
  },
  {
   "cell_type": "code",
   "execution_count": null,
   "metadata": {
    "lang": "en"
   },
   "outputs": [],
   "source": [
    "\n",
    "# If you want to have multiple conditions, the syntax is the same, but each condition is separated\n",
    "# by an ampersand (&) for 'and'. Also note that '!=' means \"not equal to\" \n",
    "\n",
    "ax = world.plot(figsize=(16,10), linewidth=0.25, edgecolor='white', color='lightgrey')\n",
    "# Note the changes in the line below\n",
    "plot_single_year = geo_landings[(geo_landings.year.dt.year == 2012) & (geo_landings.reclat != 0)]\n",
    "\n",
    "plot_single_year.plot(ax=ax, column='fall', alpha = 0.5, markersize=10, legend=True)\n",
    "plt.title(\"Meteor Falls in 2012\", size = 20)\n",
    "ax.axis('off')\n",
    "plt.show()"
   ]
  },
  {
   "cell_type": "code",
   "execution_count": null,
   "metadata": {
    "lang": "fr"
   },
   "outputs": [],
   "source": [
    "# Si vous voulez avoir plusieurs conditions, la syntaxe est la même, mais chaque condition est séparée\n",
    "# par un esperluette (&) pour 'et'. Notez également que '! =' Signifie \"pas égal à\"\n",
    "\n",
    "ax = world.plot(figsize=(16,10), linewidth=0.25, edgecolor='white', color='lightgrey')\n",
    "# Notez les changements dans la ligne ci-dessous\n",
    "plot_single_year = geo_landings[(geo_landings.year.dt.year == 2012) & (geo_landings.reclat != 0)]\n",
    "\n",
    "plot_single_year.plot(ax=ax, column='fall', alpha = 0.5, markersize=10, legend=True)\n",
    "plt.title(\"Meteor Falls in 2012\", size = 20)\n",
    "ax.axis('off')\n",
    "plt.show()"
   ]
  },
  {
   "cell_type": "markdown",
   "metadata": {
    "lang": "en"
   },
   "source": [
    "There we go! That took care of that peculiar landing sight (far) off the coast of Africa. Now that we understand how to create maps with just single years of data, let's use that to put it all into a interactive widget so we can view any year we feel like!\n",
    "\n",
    "## Putting it in a widget\n",
    "\n",
    "In the cell below we're creating the widget that we can use to view any year we like instead. The code here looks long and intimidating, but it's about 95% comments explaining what's going on. The actual code for the widget is but a pittance at approximately 12 lines of code!"
   ]
  },
  {
   "cell_type": "markdown",
   "metadata": {
    "lang": "fr"
   },
   "source": [
    "Nous y voilà! Cela a pris soin de ce site d'atterrissage particulier (loin) au large des côtes africaines. Maintenant que nous savons comment créer des cartes avec seulement une année de données, utilisons-le pour tout mettre dans un widget interactif afin de pouvoir afficher l'année qui nous ressemble!\n",
    "\n",
    "## Le mettre dans un widget\n",
    "\n",
    "Dans la cellule ci-dessous, nous créons le widget que nous pouvons utiliser pour afficher l'année de notre choix. Le code ici a l'air long et intimidant, mais environ 95% des commentaires expliquent ce qui se passe. Le code réel du widget n’est qu’une minuscule somme d’environ 12 lignes de code!"
   ]
  },
  {
   "cell_type": "code",
   "execution_count": null,
   "metadata": {
    "lang": "en"
   },
   "outputs": [],
   "source": [
    "'''\n",
    "This function is actually nothing new! Instead of plotting our graph directly, we've hidden it \n",
    "in a function to call instead. We've also called it 'update' as it is the function that will update\n",
    "our plot with new data. In this case, our function takes a single input 'y' for year, this is the input \n",
    "that is used to filter our data down to a single year. But, everything in the function below is exactly\n",
    "the plots we've already used. \n",
    "'''\n",
    "def update(y):\n",
    "    ax = world.plot(figsize=(20,10), linewidth=0.25, edgecolor='white', color='lightgrey')\n",
    "    \n",
    "    # Notice how we're specifying the year exactly as we did before, now we're just using\n",
    "    # the variable 'y' to select the year instead!\n",
    "    geo_landings[(geo_landings.year.dt.year == y) & (geo_landings.reclat !=0)].plot(alpha=0.75, \n",
    "                                                                                    ax=ax,\n",
    "                                                                                    column = \"fall\",\n",
    "                                                                                    legend = True)\n",
    "    plt.title(\"Meteorite Falls in \" + str(int(y)), size = 20)\n",
    "    ax.axis('off')\n",
    "    plt.show()\n",
    "\n",
    "'''\n",
    "Here we're simply finding and sorting all the years which had meteorites fall. Here's a quick overview\n",
    "of what each funciton is doing below, as there's actually a lot to digest in that short line. \n",
    "\n",
    "sorted() : This function sorts data in ascending order (smallest -> middlest -> biggest) \n",
    "           If it is not simply numerical data, it will be sorted alphanumerically. \n",
    "           \n",
    "list()   : This function simply turns what is inside parenthesis into a python list\n",
    "\n",
    "landings.year.dt.year.unique() : We've actually seen this before to extract just the year. However this\n",
    "                                 time we've also added the .unique() method. This returns a filtered list \n",
    "                                 of only the unique years that meteorites were observed to fall or found. \n",
    "                                   \n",
    "[:-1]  : This is a short hand to parse our list. In this case the colon specifies that we're taking \n",
    "         elements from the beginning of the list. The -1 like this specifies that we're taking the \n",
    "         whole list, with the exception of the final element. This is because the year in the final \n",
    "         element has an error, and our widget won't work at that point. \n",
    "'''\n",
    "\n",
    "years_with_fall = sorted(list(landings.year.dt.year.unique()))[:-1]\n",
    "\n",
    "\n",
    "'''\n",
    "The contents of this code is explained below.\n",
    "\n",
    "interact_manual             : This is the function that we imported earlier that allows us to create an interactive\n",
    "                              widget taht will help us explore the data. The _manual suffix tells us that we also\n",
    "                              want to create a button to only update our plot when we've found the year we desire. \n",
    "                  \n",
    "update                      : This is the function we defined at the beginning of the cell, and the function that \n",
    "                              interact will continuously update for us. \n",
    "\n",
    "y = widgets.SelectionSlider : This is the widget that we will be using to pass values to our 'update' function. \n",
    "                              Notice how we have used the name 'y', the same argument that our update() parameter\n",
    "                              takes. In this case, SelectionSlider specifies that we want to use a slider widget\n",
    "                              in order to select the values of y, the year that we're interested in. The arguments\n",
    "                              of Selection Slider are explaned below. \n",
    "                              \n",
    "description                 : This is a string (computer science talk for \"a bunch of text\") that will be the label\n",
    "                              for our slider.\n",
    "                            \n",
    "options                     : This is a list of values our slider can take. In ourcase, it is the list we created \n",
    "                              earlier where we know meteors have fallen. \n",
    "'''\n",
    "\n",
    "interact_manual(update, \n",
    "         y=widgets.SelectionSlider(description='Select Year', \n",
    "                                   options=years_with_fall))"
   ]
  },
  {
   "cell_type": "code",
   "execution_count": null,
   "metadata": {
    "lang": "fr"
   },
   "outputs": [],
   "source": [
    "'''\n",
    "Cette fonction n'est en réalité rien de nouveau! Au lieu de tracer notre graphique directement, nous l'avons caché\n",
    "dans une fonction pour appeler à la place. Nous l'avons aussi appelé 'update' car c'est la fonction qui va mettre à jour\n",
    "notre parcelle avec de nouvelles données. Dans ce cas, notre fonction prend une seule entrée 'y' pour l'année, c'est l'entrée\n",
    "qui est utilisé pour filtrer nos données sur une seule année. Mais tout dans la fonction ci-dessous est exactement\n",
    "les parcelles que nous avons déjà utilisées.\n",
    "'''\n",
    "def update(y):\n",
    "    ax = world.plot(figsize=(20,10), linewidth=0.25, edgecolor='white', color='lightgrey')\n",
    "    \n",
    "    # Notice how we're specifying the year exactly as we did before, now we're just using\n",
    "    # the variable 'y' to select the year instead!\n",
    "    geo_landings[(geo_landings.year.dt.year == y) & (geo_landings.reclat !=0)].plot(alpha=0.75, \n",
    "                                                                                    ax=ax,\n",
    "                                                                                    column = \"fall\",\n",
    "                                                                                    legend = True)\n",
    "    plt.title(\"Meteorite Falls in \" + str(int(y)), size = 20)\n",
    "    ax.axis('off')\n",
    "    plt.show()\n",
    "\n",
    "'''\n",
    "Ici, nous cherchons et trions simplement toutes les années au cours desquelles les météorites sont tombées. Voici un aperçu rapide\n",
    "de ce que chaque fonction fait ci-dessous, car il y a beaucoup de choses à digérer dans cette courte ligne.\n",
    "\n",
    "Sorted (): Cette fonction trie les données par ordre croissant (plus petit -> moyen - plus grand)\n",
    "           S'il ne s'agit pas simplement de données numériques, elles seront triées par ordre alphanumérique.\n",
    "           \n",
    "list (): Cette fonction transforme simplement le contenu de la parenthèse en une liste python\n",
    "\n",
    "landings.year.dt.year.unique (): Nous avons déjà vu cela auparavant pour extraire uniquement l'année. Cependant cela\n",
    "                                 temps nous avons également ajouté la méthode .unique (). Cela retourne une liste filtrée\n",
    "                                 seulement l’année où on a observé la chute ou la découverte de météorites.\n",
    "                                   \n",
    "[: -1]: Ceci est un raccourci pour analyser notre liste. Dans ce cas, le colon indique que nous prenons\n",
    "         éléments du début de la liste. Le -1 comme ceci spécifie que nous prenons la\n",
    "         toute la liste, à l’exception de l’élément final. C'est parce que l'année en finale\n",
    "         L'élément a une erreur et notre widget ne fonctionnera pas à ce stade.\n",
    "'''\n",
    "\n",
    "years_with_fall = sorted(list(landings.year.dt.year.unique()))[:-1]\n",
    "\n",
    "\n",
    "'''\n",
    "Le contenu de ce code est expliqué ci-dessous.\n",
    "\n",
    "interact _manual: C’est la fonction que nous avons importée précédemment qui nous permet de créer un\n",
    "                              widget qui nous aidera à explorer les données. Le suffixe manuel_ nous indique que nous avons également\n",
    "                              vouloir créer un bouton pour mettre à jour notre parcelle uniquement lorsque nous avons trouvé l'année souhaitée.\n",
    "                  \n",
    "update: C’est la fonction que nous avons définie au début de la cellule et la fonction qui\n",
    "                              interact sera continuellement mis à jour pour nous.\n",
    "\n",
    "y = widgets.SelectionSlider: C'est le widget que nous allons utiliser pour transmettre des valeurs à notre fonction 'update'.\n",
    "                              Remarquez comment nous avons utilisé le nom 'y', le même argument que notre paramètre update ()\n",
    "                              prend. Dans ce cas, SelectionSlider spécifie que nous voulons utiliser un widget de curseur\n",
    "                              afin de sélectionner les valeurs de y, l'année qui nous intéresse. Les arguments\n",
    "                              du curseur de sélection sont expliquées ci-dessous.\n",
    "                              \n",
    "description: C’est une chaîne (conversation informatique pour \"un tas de texte\") qui sera l’étiquette\n",
    "                              pour notre curseur.\n",
    "                            \n",
    "options: Ceci est une liste de valeurs que notre curseur peut prendre. Dans notre cas, c'est la liste que nous avons créée\n",
    "                              plus tôt où nous savons que les météores sont tombés.\n",
    "'''\n",
    "\n",
    "interact_manual(update, \n",
    "         y=widgets.SelectionSlider(description='Select Year', \n",
    "                                   options=years_with_fall))"
   ]
  },
  {
   "cell_type": "markdown",
   "metadata": {
    "lang": "en"
   },
   "source": [
    "We note that you'll have to click \"Run Interact\" after adjusting your slider to the year of your choice. However, hopefully we've demonstrated how straight forward it is to create an interactive widget of a data set using Jupyter notebooks. If you want to learn more, the documentation for widgets is available [at this link](https://ipywidgets.readthedocs.io/en/latest/examples/Widget%20Basics.html). We note that this link goes directly to the \"basics\" tutorial of the documentation, rather than the home page. \n",
    "\n",
    "\n"
   ]
  },
  {
   "cell_type": "markdown",
   "metadata": {
    "lang": "en"
   },
   "source": [
    "Nous notons que vous devrez cliquer sur \"Run Interact\" après avoir ajusté votre curseur en fonction de l'année de votre choix. Cependant, nous espérons avoir montré à quel point il est simple de créer un widget interactif d'un ensemble de données à l'aide de blocs-notes Jupyter. Si vous souhaitez en savoir plus, la documentation sur les widgets est disponible [sur ce lien] (https://ipywidgets.readthedocs.io/en/latest/examples/Widget%20Basics.html). Nous notons que ce lien renvoie directement au didacticiel \"Principes de base\" de la documentation, plutôt qu'à la page d'accueil."
   ]
  },
  {
   "cell_type": "markdown",
   "metadata": {
    "lang": "fr"
   },
   "source": [
    "Nous n'allons pas cliquer sur \"Run Interact\" après avoir ajusté votre curseur. Jupyter. La documentation sur les widgets est disponible sur ce lien. Nous notons que ce lien a été envoyé directement au didacticiel \"Principes de base\" de la documentation, plutôt qu'à la page d'accueil."
   ]
  },
  {
   "cell_type": "markdown",
   "metadata": {
    "lang": "en"
   },
   "source": [
    "\n",
    "# Conclusion\n",
    "\n",
    "This notebook demonstrated how to work with open data sets that contain a geo-spacial component and how to crate maps using that data. We also demonstrated how you might add a small slice of interactivity to the procedure in order to see meteorite falls at any given year. Finally we also worked through how one might go about exploring other aspects of that data with a classic approach of creating a histogram. In doing so, we demonstrated how you might go about manipulating that data with both logarithmic transformations, and normalization in order to compare data sets of different sizes. The skills we have demonstrated here are ubiquitous to almost any other open-data related project, and can be applied in other analysis of your own.  "
   ]
  },
  {
   "cell_type": "markdown",
   "metadata": {
    "lang": "fr"
   },
   "source": [
    "# Conclusion\n",
    "\n",
    "Ce cahier a montré comment utiliser des ensembles de données ouverts contenant un composant géospatial et comment créer des cartes à l'aide de ces données. Nous avons également montré comment ajouter une petite tranche d’interactivité à la procédure afin de voir les chutes de météorites à n’importe quelle année. Enfin, nous avons également étudié la manière d’explorer d’autres aspects de ces données avec une approche classique de la création d’un histogramme. Ce faisant, nous avons montré comment manipuler ces données à la fois avec des transformations logarithmiques et une normalisation afin de comparer des ensembles de données de différentes tailles. Les compétences que nous avons démontrées ici sont omniprésentes dans presque tous les projets liés aux données ouvertes et peuvent être appliquées à d'autres analyses que vous-même."
   ]
  },
  {
   "cell_type": "markdown",
   "metadata": {},
   "source": [
    "![alt text](https://github.com/callysto/callysto-sample-notebooks/blob/master/notebooks/images/Callysto_Notebook-Banners_Bottom_06.06.18.jpg?raw=true)"
   ]
  }
 ],
 "metadata": {
  "kernelspec": {
   "display_name": "Python 3",
   "language": "python",
   "name": "python3"
  },
  "language_info": {
   "codemirror_mode": {
    "name": "ipython",
    "version": 3
   },
   "file_extension": ".py",
   "mimetype": "text/x-python",
   "name": "python",
   "nbconvert_exporter": "python",
   "pygments_lexer": "ipython3",
   "version": "3.6.5"
  },
  "nbTranslate": {
   "displayLangs": [
    "*"
   ],
   "hotkey": "alt-t",
   "langInMainMenu": true,
   "sourceLang": "en",
   "targetLang": "fr",
   "useGoogleTranslate": true
  }
 },
 "nbformat": 4,
 "nbformat_minor": 2
}
