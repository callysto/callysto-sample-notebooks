{
 "cells": [
  {
   "cell_type": "markdown",
   "metadata": {},
   "source": []
  },
  {
   "cell_type": "code",
   "execution_count": null,
   "metadata": {},
   "outputs": [],
   "source": [
    "from IPython.core.display import display, HTML\n",
    "from string import Template"
   ]
  },
  {
   "cell_type": "markdown",
   "metadata": {},
   "source": [
    "## Output HTML from Python\n",
    "\n",
    "Instead of raw text output, we can output rich HTML..."
   ]
  },
  {
   "cell_type": "code",
   "execution_count": null,
   "metadata": {},
   "outputs": [],
   "source": [
    "display(HTML('<h1>Hello, world!</h1>'))"
   ]
  },
  {
   "cell_type": "markdown",
   "metadata": {},
   "source": [
    "We can also output the other things we might use in developing a webpage, like CSS:"
   ]
  },
  {
   "cell_type": "code",
   "execution_count": null,
   "metadata": {},
   "outputs": [],
   "source": [
    "display(HTML('''\n",
    "<style>\n",
    "    h1:hover {\n",
    "      background-color: yellow;\n",
    "    }\n",
    "</style>\n",
    "<h1>Hello, world!</h1>\n",
    "'''))"
   ]
  },
  {
   "cell_type": "markdown",
   "metadata": {},
   "source": [
    "Note that CSS is global, so even though we may have run this after outputting our first `h1` tag, it affects all `h1` tags in the document, even the ones we do in Markdown...\n",
    "\n",
    "# Oh, this is affected too?"
   ]
  },
  {
   "cell_type": "markdown",
   "metadata": {},
   "source": [
    "We can use the properties of CSS that web developers use to avoid conflicts like these to target our changes to only the areas we intend. For example, the following will only affect `h1` headings with the `output` class on them:"
   ]
  },
  {
   "cell_type": "code",
   "execution_count": null,
   "metadata": {},
   "outputs": [],
   "source": [
    "display(HTML('''\n",
    "<style>\n",
    "    h1.output:hover {\n",
    "      background-color: red;\n",
    "    }\n",
    "</style>\n",
    "<h1 class='output'>Hello, world!</h1>\n",
    "'''))"
   ]
  },
  {
   "cell_type": "markdown",
   "metadata": {},
   "source": [
    "And if we want to get even more specific, we can add a containing div and use its classname or ID to fence in our changes:"
   ]
  },
  {
   "cell_type": "code",
   "execution_count": null,
   "metadata": {},
   "outputs": [],
   "source": [
    "display(HTML('''\n",
    "<style>\n",
    "    #block-1234 h1.output:hover {\n",
    "      background-color: blue;\n",
    "    }\n",
    "</style>\n",
    "<div id=\"block-1234\">\n",
    "    <h1 class='output'>Hello, world!</h1>\n",
    "</div>\n",
    "'''))"
   ]
  },
  {
   "cell_type": "markdown",
   "metadata": {},
   "source": [
    "## We can insert Javascript too\n",
    "\n",
    "The following is based on https://stackoverflow.com/questions/44349183/cant-run-d3js-to-a-website-jupyter-notebook but removes the direct use of `%%javascript` magic. Why? Well, whatever we can do directly in Python is something we can abstract into a function. This will be important for making it easy for others to insert these things into their notebooks without having to switch between multiple libraries. Note, there are more advanced integrations of D3 as well (https://github.com/ResidentMario/py_d3), which are great *if* you're comfortable switching back and forth between multiple languages. We want to *hide* that as much as possible. This way, we can use the power of D3 without the end user really knowing that they're using D3 or Javascript or HTML."
   ]
  },
  {
   "cell_type": "code",
   "execution_count": null,
   "metadata": {},
   "outputs": [],
   "source": [
    "from IPython.display import Javascript\n",
    "def notebook_init():\n",
    "    display(Javascript('''\n",
    "        require.config({\n",
    "            paths: {\n",
    "                d3: \"https://d3js.org/d3.v4.min\",\n",
    "                d3_selection: \"https://d3js.org/d3-selection-multi.v0.4.min\"\n",
    "             }\n",
    "        });\n",
    "\n",
    "        require([\"d3\"], function(d3) {\n",
    "            window.d3 = d3;\n",
    "        });\n",
    "        require([\"d3_selection\"]);\n",
    "    '''))\n",
    "    \n",
    "# If notebook_init() is in a library, people can simply call it, without knowing that they're actually doing a \n",
    "# fancy D3JS import\n",
    "notebook_init()"
   ]
  },
  {
   "cell_type": "code",
   "execution_count": null,
   "metadata": {},
   "outputs": [],
   "source": [
    "HTML('''\n",
    "<style>\n",
    "\n",
    ".bar {\n",
    "  fill: steelblue;\n",
    "}\n",
    "\n",
    ".bar:hover {\n",
    "  fill: brown;\n",
    "}\n",
    "\n",
    ".axis--x path {\n",
    "  display: none;\n",
    "}\n",
    "\n",
    "</style>\n",
    "<svg width=\"960\" height=\"500\"></svg>\n",
    "<script>\n",
    "\n",
    "var svg = d3.select(\"svg\"),\n",
    "    margin = {top: 20, right: 20, bottom: 30, left: 40},\n",
    "    width = +svg.attr(\"width\") - margin.left - margin.right,\n",
    "    height = +svg.attr(\"height\") - margin.top - margin.bottom;\n",
    "\n",
    "var x = d3.scaleBand().rangeRound([0, width]).padding(0.1),\n",
    "    y = d3.scaleLinear().rangeRound([height, 0]);\n",
    "\n",
    "var g = svg.append(\"g\")\n",
    "    .attr(\"transform\", \"translate(\" + margin.left + \",\" + margin.top + \")\");\n",
    "\n",
    "d3.tsv(\"data/data.tsv\", function(d) {\n",
    "  d.frequency = +d.frequency;\n",
    "  return d;\n",
    "}, function(error, data) {\n",
    "  if (error) throw error;\n",
    "\n",
    "  x.domain(data.map(function(d) { return d.letter; }));\n",
    "  y.domain([0, d3.max(data, function(d) { return d.frequency; })]);\n",
    "\n",
    "  g.append(\"g\")\n",
    "      .attr(\"class\", \"axis axis--x\")\n",
    "      .attr(\"transform\", \"translate(0,\" + height + \")\")\n",
    "      .call(d3.axisBottom(x));\n",
    "\n",
    "  g.append(\"g\")\n",
    "      .attr(\"class\", \"axis axis--y\")\n",
    "      .call(d3.axisLeft(y).ticks(10, \"%\"))\n",
    "    .append(\"text\")\n",
    "      .attr(\"transform\", \"rotate(-90)\")\n",
    "      .attr(\"y\", 6)\n",
    "      .attr(\"dy\", \"0.71em\")\n",
    "      .attr(\"text-anchor\", \"end\")\n",
    "      .text(\"Frequency\");\n",
    "\n",
    "  g.selectAll(\".bar\")\n",
    "    .data(data)\n",
    "    .enter().append(\"rect\")\n",
    "      .attr(\"class\", \"bar\")\n",
    "      .attr(\"x\", function(d) { return x(d.letter); })\n",
    "      .attr(\"y\", function(d) { return y(d.frequency); })\n",
    "      .attr(\"width\", x.bandwidth())\n",
    "      .attr(\"height\", function(d) { return height - y(d.frequency); });\n",
    "});\n",
    "\n",
    "</script>\n",
    "''')"
   ]
  },
  {
   "cell_type": "code",
   "execution_count": null,
   "metadata": {},
   "outputs": [],
   "source": [
    "def bouncing_balls(down_speed, up_speed):\n",
    "    display(HTML(\n",
    "    '<script>var down_speed = ' + str(down_speed) + '; var up_speed = ' + str(up_speed) + ';</script>' +\n",
    "    '''\n",
    "        <style>\n",
    "          .ball {\n",
    "            position: absolute;\n",
    "            background-color: red;\n",
    "            border-radius: 50px;\n",
    "          }\n",
    "        </style>\n",
    "        <div class=\"bounce-container\" style=\"width: 100%; height: 300px\"></div>\n",
    "        <script>\n",
    "            var width = 300;\n",
    "            var height = 200;\n",
    "            var radius = 50; \n",
    "            var bounceTop = 0 + 'px';\n",
    "            var bounceBottom = (height - radius * 2) + 'px';\n",
    "            var ball = d3.select('.bounce-container')\n",
    "                        .selectAll('div') \n",
    "                        .data([0])\n",
    "                        .enter()\n",
    "                        .append('div').attr('class', 'ball') \n",
    "                        .style(\"top\", \"bounceTop\")\n",
    "                        .style(\"left\", width / 2 - radius + 'px')\n",
    "                        .style(\"width\", radius * 2 + 'px')\n",
    "                        .style(\"height\", radius * 2 + 'px')\n",
    "            function intervalFunc(){ \n",
    "              ball.transition().duration(down_speed) \n",
    "              .style('top',height + 'px') \n",
    "              .transition().duration( up_speed ) \n",
    "              .style('top',0+'px')};\n",
    "            if(document.bounceInterval) {\n",
    "                clearInterval(document.bounceInterval);\n",
    "            }\n",
    "            document.bounceInterval = setInterval(intervalFunc, down_speed+up_speed);\n",
    "        </script>\n",
    "\n",
    "    '''))"
   ]
  },
  {
   "cell_type": "code",
   "execution_count": null,
   "metadata": {},
   "outputs": [],
   "source": [
    "bouncing_balls(500, 500)"
   ]
  },
  {
   "cell_type": "markdown",
   "metadata": {},
   "source": []
  }
 ],
 "metadata": {
  "kernelspec": {
   "display_name": "Python 3",
   "language": "python",
   "name": "python3"
  },
  "language_info": {
   "codemirror_mode": {
    "name": "ipython",
    "version": 3
   },
   "file_extension": ".py",
   "mimetype": "text/x-python",
   "name": "python",
   "nbconvert_exporter": "python",
   "pygments_lexer": "ipython3",
   "version": "3.7.6"
  }
 },
 "nbformat": 4,
 "nbformat_minor": 2
}
