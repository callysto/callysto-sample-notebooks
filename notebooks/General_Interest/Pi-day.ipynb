{
 "cells": [
  {
   "cell_type": "code",
   "execution_count": 1,
   "metadata": {},
   "outputs": [
    {
     "data": {
      "text/html": [
       "<script>\n",
       "  function code_toggle() {\n",
       "    if (code_shown){\n",
       "      $('div.input').hide('500');\n",
       "      $('#toggleButton').val('Show Code')\n",
       "    } else {\n",
       "      $('div.input').show('500');\n",
       "      $('#toggleButton').val('Hide Code')\n",
       "    }\n",
       "    code_shown = !code_shown\n",
       "  }\n",
       "  \n",
       "  $( document ).ready(function(){\n",
       "    code_shown=false;\n",
       "    $('div.input').hide()\n",
       "  });\n",
       "</script>\n",
       "<form action=\"javascript:code_toggle()\"><input type=\"submit\" id=\"toggleButton\" value=\"Show Code\"></form>"
      ],
      "text/plain": [
       "<IPython.core.display.HTML object>"
      ]
     },
     "execution_count": 1,
     "metadata": {},
     "output_type": "execute_result"
    }
   ],
   "source": [
    "from IPython.display import display, Math, Latex, HTML\n",
    "HTML('''<script>\n",
    "  function code_toggle() {\n",
    "    if (code_shown){\n",
    "      $('div.input').hide('500');\n",
    "      $('#toggleButton').val('Show Code')\n",
    "    } else {\n",
    "      $('div.input').show('500');\n",
    "      $('#toggleButton').val('Hide Code')\n",
    "    }\n",
    "    code_shown = !code_shown\n",
    "  }\n",
    "  \n",
    "  $( document ).ready(function(){\n",
    "    code_shown=false;\n",
    "    $('div.input').hide()\n",
    "  });\n",
    "</script>\n",
    "<form action=\"javascript:code_toggle()\"><input type=\"submit\" id=\"toggleButton\" value=\"Show Code\"></form>''') "
   ]
  },
  {
   "cell_type": "markdown",
   "metadata": {},
   "source": [
    "<img src=\"images/pi.png\" width=\"200\"/>\n",
    "<center> https://www.pcworld.com/article/191389/a-brief-history-of-pi.html</center>"
   ]
  },
  {
   "cell_type": "markdown",
   "metadata": {},
   "source": [
    "<img style=\"float: left;\" src=\"images/pi_calculation.png\" width=\"400\"/>\n",
    "\n",
    "<img style=\"float: right;\" src=\"images/William.png\" width=\"300\"/>\n",
    "\n",
    "$\\pi$ is **the circumference  divided by the diameter  of a circle**. \n",
    "\n",
    "It's believed that human civilizations were aware of pi [as early as 2550 BC](https://www.pcworld.com/article/191389/a-brief-history-of-pi.html).\n",
    "\n",
    "The symbol for Pi  was introduced by **William Jones** in 1706.\n",
    "Before being ascribed a modern name, pi was known as \"quantitas in quam cum multiflicetur diameter, proveniet circumferencia\" — Latin for “the quantity which, when the diameter is multiplied by it, yields the circumference.”\n",
    "\n",
    "**Pi is an irrational number - its  digits never end or repeat in any known way.** \n",
    "   \n",
    "(Image sources https://www.mathsisfun.com/numbers/pi.html, https://www.historytoday.com/archive/william-jones-and-his-circle-man-who-invented-pi)\n"
   ]
  },
  {
   "cell_type": "code",
   "execution_count": 2,
   "metadata": {},
   "outputs": [],
   "source": [
    "import ipywidgets as widgets\n",
    "from IPython.display import display, Markdown, Latex,Math, HTML, clear_output, Javascript"
   ]
  },
  {
   "cell_type": "code",
   "execution_count": 3,
   "metadata": {},
   "outputs": [
    {
     "data": {
      "text/markdown": [
       "**How many digits of $\\pi$ can you remember?**"
      ],
      "text/plain": [
       "<IPython.core.display.Markdown object>"
      ]
     },
     "metadata": {},
     "output_type": "display_data"
    },
    {
     "data": {
      "application/vnd.jupyter.widget-view+json": {
       "model_id": "0068764b189046b1bd556b658755b49e",
       "version_major": 2,
       "version_minor": 0
      },
      "text/plain": [
       "HBox(children=(HTML(value='Enter the next digit:'), Text(value='', layout=Layout(width='3%')), Button(button_s…"
      ]
     },
     "metadata": {},
     "output_type": "display_data"
    },
    {
     "data": {
      "application/vnd.jupyter.widget-view+json": {
       "model_id": "a8599f3d4ea84e49afc34b2f0adf97c6",
       "version_major": 2,
       "version_minor": 0
      },
      "text/plain": [
       "HBox(children=(HTMLMath(value='$$\\\\pi=3.$$'), Text(value='', disabled=True, layout=Layout(width='3%')), Text(v…"
      ]
     },
     "metadata": {},
     "output_type": "display_data"
    },
    {
     "data": {
      "application/vnd.jupyter.widget-view+json": {
       "model_id": "888d2d83810c4b6b9d12688452c99836",
       "version_major": 2,
       "version_minor": 0
      },
      "text/plain": [
       "HBox(children=(Text(value='', disabled=True, layout=Layout(width='3%')), Text(value='', disabled=True, layout=…"
      ]
     },
     "metadata": {},
     "output_type": "display_data"
    },
    {
     "data": {
      "application/vnd.jupyter.widget-view+json": {
       "model_id": "4e55d7b87cd84518b78a0eb9713c5bfd",
       "version_major": 2,
       "version_minor": 0
      },
      "text/plain": [
       "HBox(children=(HTML(value=\"Mistakes left: <font color='red'>5</font>\"), Button(description='Reset', style=Butt…"
      ]
     },
     "metadata": {},
     "output_type": "display_data"
    }
   ],
   "source": [
    "digit_answers=[1,4,1,5,9,2,6,5,3,5,8,9,7,9,3,2,3,8,4,6,2,6,4,3,3,8,3,2,7,9,5,0,2,8,8,4,1,9,7,1]\n",
    "current_position=0\n",
    "number_of_mistakes=5\n",
    "number_of_mistakes_left=number_of_mistakes\n",
    "\n",
    "digit_widgets=[]\n",
    "for i in range(35):\n",
    "    digit_widgets.append(widgets.Text(value='',disabled=True,layout=widgets.Layout(width='3%')))\n",
    "pi_real=widgets.HTMLMath(value=\"$$\\pi=3.$$\")\n",
    "next_number=widgets.HTML(value=\"Enter the next digit:\")\n",
    "answer_text=widgets.Text(value='',disabled=False,layout=widgets.Layout(width='3%'))\n",
    "check_button=widgets.Button(description='Check',button_style='info',disabled=False)\n",
    "warning=widgets.HTML(value=\"\")\n",
    "mistakes=widgets.HTML(value=\"Mistakes left: <font color='red'>\"+str(number_of_mistakes_left)+\"</font>\")\n",
    "reset_button=widgets.Button(description='Reset',disabled=False)\n",
    "\n",
    "def on_button_clicked(b):\n",
    "    global current_position,number_of_mistakes_left\n",
    "    answer_text.value=answer_text.value.replace(\" \", \"\")\n",
    "    if answer_text.value in ['0','1','2','3','4','5','6','7','8','9']:\n",
    "        if answer_text.value == str(digit_answers[current_position]):\n",
    "            digit_widgets[current_position].value=answer_text.value\n",
    "            current_position=current_position+1\n",
    "            warning.value=\"<font color='green'> Correct! </font>\"\n",
    "        else:\n",
    "            warning.value=\"<font color='red'> Not quite... </font>\"\n",
    "            number_of_mistakes_left=number_of_mistakes_left-1\n",
    "            mistakes.value=\"Mistakes left: <font color='red'>\"+str(number_of_mistakes_left)+\"</font>\"\n",
    "        if number_of_mistakes_left==0 or current_position==40:\n",
    "            b.disabled=True\n",
    "            answer_text.disabled=True\n",
    "            for i in range(35):\n",
    "                digit_widgets[i].value=str(digit_answers[i])\n",
    "            warning.value=\"<font color='red'> Game over! You scored \"+str(current_position)+\"! Press Reset button to start again </font>\"\n",
    "    else:\n",
    "        warning.value=\"Please enter number from zero to 9\"\n",
    "    answer_text.value=''\n",
    "\n",
    "check_button.on_click(on_button_clicked)\n",
    "\n",
    "def on_button_reset_clicked(b):\n",
    "    global current_position,number_of_mistakes_left\n",
    "    for i in range(35):\n",
    "        digit_widgets[i].value=''\n",
    "    number_of_mistakes_left=5\n",
    "    current_position=0\n",
    "    answer_text.value=''\n",
    "    check_button.disabled=False\n",
    "    answer_text.disabled=False\n",
    "    mistakes.value=\"Mistakes left: <font color='red'>\"+str(number_of_mistakes_left)+\"</font>\"\n",
    "    warning.value=\"\"\n",
    "reset_button.on_click(on_button_reset_clicked)\n",
    "\n",
    "\n",
    "\n",
    "display(Markdown(\"**How many digits of $\\pi$ can you remember?**\"))\n",
    "display(widgets.HBox([next_number,answer_text,check_button,warning]))\n",
    "display(widgets.HBox([pi_real]+digit_widgets[:17]))\n",
    "display(widgets.HBox(digit_widgets[17:]))\n",
    "display(widgets.HBox([mistakes, reset_button]))"
   ]
  },
  {
   "cell_type": "markdown",
   "metadata": {},
   "source": [
    "According to the [guiness world recors:](http://www.guinnessworldrecords.com/world-records/most-pi-places-memorised) \n",
    ">The most decimal places of Pi memorised is 70,000, and was achieved by Rajveer Meena (India) at the VIT University, Vellore, India, on 21 March 2015.  \n",
    ">Rajveer wore a blindfold throughout the entire recall, which took nearly 10 hours.\n",
    "\n",
    "<img src=\"images/rajveer.png\" width=\"700\"/>\n",
    "<center>http://www.guinnessworldrecords.com/world-records/most-pi-places-memorised</center>\n"
   ]
  },
  {
   "cell_type": "markdown",
   "metadata": {},
   "source": [
    "### [Writing in Pilish](http://www.cadaeic.net/pilish.htm)\n",
    "\n",
    "<img style=\"float: right;\" src=\"images/not_a_wake.png\" width=\"150\"/>\n",
    "\n",
    "Pilish   - language in which the lengths of successive words represent the digits of the number(=3.14159265358979...) \n",
    "\n",
    "One of the earliest example is the following sentence, believed to have been composed by the English physicist Sir James Jeans:\n",
    "\n",
    "**How I need a drink, alcoholic in nature, after the heavy lectures involving quantum mechanics!**\n",
    "\n",
    "The most recent example is the [book by Mike Keith  \"Not A Wake\"](https://www.amazon.ca/dp/B0077QIOE4/ref=dp-kindle-redirect?_encoding=UTF8&btkr=1) (Vinculum Press, 2010):\n",
    "\n",
    "> **Now I fall, a tired suburbian in liquid under the trees,   \n",
    "> Drifting alongside forests simmering red in the twilight over Europe.**  "
   ]
  },
  {
   "cell_type": "code",
   "execution_count": 4,
   "metadata": {},
   "outputs": [
    {
     "data": {
      "text/markdown": [
       "**Can you write in Pilish?** Remember $\\pi=3.1415926535 8979323846 26433832795028841971$.."
      ],
      "text/plain": [
       "<IPython.core.display.Markdown object>"
      ]
     },
     "metadata": {},
     "output_type": "display_data"
    },
    {
     "data": {
      "application/vnd.jupyter.widget-view+json": {
       "model_id": "553a618c7a1a46fd90be5d5dba3af9ed",
       "version_major": 2,
       "version_minor": 0
      },
      "text/plain": [
       "HBox(children=(VBox(children=(Textarea(value='', layout=Layout(height='100px'), placeholder='Type something(up…"
      ]
     },
     "metadata": {},
     "output_type": "display_data"
    }
   ],
   "source": [
    "import re\n",
    "pi_digits=[3,1,4,1,5,9,2,6,5,3,5,8,9,7,9,3,2,3,8,4,6,2,6,4,3,3,8,3,2,7,9,5,0,2,8,8,4,1,9,7,1]\n",
    "\n",
    "text_area1=widgets.Textarea(placeholder='Type something(up to 32 words)',disabled=False,layout=widgets.Layout(height='100px'))\n",
    "text_area2=widgets.Textarea(disabled=True,layout=widgets.Layout(height='100px'))\n",
    "submit_button=widgets.Button(description='Submit',button_style='info',disabled=False)\n",
    "reset_button1=widgets.Button(description='Reset',disabled=False)\n",
    "warning1=widgets.HTML(value=\" \")\n",
    "\n",
    "\n",
    "def on_button_reset1_clicked(b):\n",
    "    text_area1.value=\"\"\n",
    "    text_area2.value=\"\"\n",
    "    warning1.value=\"\"\n",
    "reset_button1.on_click(on_button_reset1_clicked)\n",
    "\n",
    "\n",
    "def on_button_submit_clicked(b):\n",
    "    text=re.sub(r'[^\\w\\s]',' ',text_area1.value)\n",
    "    text = re.sub(\"\\d+\", \"\", text)  ### do we need to remove digits??\n",
    "    text_list=text.split()\n",
    "    text_len=len(text_list)\n",
    "    if text_len==0:\n",
    "        text_area1.value=\"\"\n",
    "        warning1.value=\"There is no text, try again!\"\n",
    "    else:\n",
    "        if text_len>32:\n",
    "            text_len=32\n",
    "            text_list=text_list[:text_len]\n",
    "        pi_subset=pi_digits[:text_len]\n",
    "        text_list1=[]\n",
    "        word_length=[]\n",
    "        for word in text_list:\n",
    "            lenw=len(word)\n",
    "            word_length.append(lenw)\n",
    "            text_list1.append(word+\"(\"+ str(lenw)+\")\")\n",
    "        if word_length==pi_subset:\n",
    "            warning1.value=\" <font color='green'> Well done! This is written in Pilish!</font>\"\n",
    "        else:\n",
    "            warning1.value=\" <font color='red'>Not quite. Your sequence is \"+' '.join(str(word_length))+\", it needs to be \"+' '.join(str(pi_subset))+\"</font>\"\n",
    "        text_area2.value=' '.join(text_list1)\n",
    "\n",
    "submit_button.on_click(on_button_submit_clicked)\n",
    "\n",
    "\n",
    "display(Markdown(\"**Can you write in Pilish?** Remember $\\pi=3.1415926535 8979323846 26433832795028841971$..\"))\n",
    "vbox1=widgets.VBox([text_area1,widgets.HBox([submit_button,reset_button1])])\n",
    "vbox2=widgets.VBox([text_area2,warning1])                \n",
    "display(widgets.HBox([vbox1,vbox2]))"
   ]
  },
  {
   "cell_type": "markdown",
   "metadata": {},
   "source": [
    "### How to calculate Pi?\n",
    "#### [Pi can be calculated using infinite series](http://www.mathscareers.org.uk/article/calculating-pi/)\n",
    "\n",
    " There are in fact exact formulas for calculating Pi (π).  The only catch is that each formula requires you to do something an **infinite** number of times. \n",
    "\n",
    "One of the most well known ways to calculate Pi (π) is to use the **Gregory-Leibniz Series**:\n",
    "\n",
    "$$\\pi=\\frac{4}{1}-\\frac{4}{3}+\\frac{4}{5}-\\frac{4}{7}+\\frac{4}{9}-...$$\n",
    "\n",
    "The problem with this series is that you need to add up a lot of terms in order to get an accurate approximation of Pi (π). (More than 300 terms need to be added in order to produce Pi (π) accurate to two decimal places!)\n",
    "\n",
    "Another series which converges more quickly is the **Nilakantha Series** which was developed around 1500 AD (Converges more quickly means that you need to work out fewer terms for your answer to become closer to Pi (π)): \n",
    "\n",
    "$$\\pi=3+\\frac{4}{2\\times3\\times4}-\\frac{4}{4\\times5\\times6}+\\frac{4}{6\\times7\\times8}-\\frac{4}{8\\times9\\times10}+...$$\n"
   ]
  },
  {
   "cell_type": "code",
   "execution_count": 5,
   "metadata": {
    "scrolled": false
   },
   "outputs": [
    {
     "data": {
      "text/markdown": [
       "**How quickly Nilakantha and Gregory-Leibniz Series converge ?**"
      ],
      "text/plain": [
       "<IPython.core.display.Markdown object>"
      ]
     },
     "metadata": {},
     "output_type": "display_data"
    },
    {
     "data": {
      "application/vnd.jupyter.widget-view+json": {
       "model_id": "255a25901ff74d229eb4ea8be0a7ce98",
       "version_major": 2,
       "version_minor": 0
      },
      "text/plain": [
       "IntSlider(value=1, continuous_update=False, description='Number of elements:', layout=Layout(width='60%'), max…"
      ]
     },
     "metadata": {},
     "output_type": "display_data"
    },
    {
     "data": {
      "application/vnd.jupyter.widget-view+json": {
       "model_id": "c8d7dd12f8bc49359d0023b7883f9434",
       "version_major": 2,
       "version_minor": 0
      },
      "text/plain": [
       "HTML(value='<b>Nilakantha Series</b>')"
      ]
     },
     "metadata": {},
     "output_type": "display_data"
    },
    {
     "data": {
      "application/vnd.jupyter.widget-view+json": {
       "model_id": "bbfeee90a2294ef88dd646c388a28210",
       "version_major": 2,
       "version_minor": 0
      },
      "text/plain": [
       "HTMLMath(value='Calculated $\\\\pi=3$')"
      ]
     },
     "metadata": {},
     "output_type": "display_data"
    },
    {
     "data": {
      "application/vnd.jupyter.widget-view+json": {
       "model_id": "a0b0d629782a4d70b081b8c294ddc56a",
       "version_major": 2,
       "version_minor": 0
      },
      "text/plain": [
       "HTMLMath(value='Difference: $0.14159265358979312$')"
      ]
     },
     "metadata": {},
     "output_type": "display_data"
    },
    {
     "data": {
      "application/vnd.jupyter.widget-view+json": {
       "model_id": "2e68d488184145609db3905bcd39c304",
       "version_major": 2,
       "version_minor": 0
      },
      "text/plain": [
       "HTML(value='<b>Gregory-Leibniz Series</b>')"
      ]
     },
     "metadata": {},
     "output_type": "display_data"
    },
    {
     "data": {
      "application/vnd.jupyter.widget-view+json": {
       "model_id": "e2ec45f07f904649b40d0f0880b4fca9",
       "version_major": 2,
       "version_minor": 0
      },
      "text/plain": [
       "HTMLMath(value='Calculated $\\\\pi=\\\\frac{4}{1}$ $=4$')"
      ]
     },
     "metadata": {},
     "output_type": "display_data"
    },
    {
     "data": {
      "application/vnd.jupyter.widget-view+json": {
       "model_id": "eef2b9238ab04d9e8097ffffde4f4d87",
       "version_major": 2,
       "version_minor": 0
      },
      "text/plain": [
       "HTMLMath(value='Difference: $0.8584073464102069$')"
      ]
     },
     "metadata": {},
     "output_type": "display_data"
    }
   ],
   "source": [
    "from math import *\n",
    "\n",
    "result0=widgets.HTML(value=\"<b>Nilakantha Series</b>\")\n",
    "result1=widgets.HTMLMath(value=\"Calculated $\\pi=3$\")\n",
    "#result2=widgets.HTMLMath(value=\"Actual $\\pi$ $=\"+str(pi)+\"$\")\n",
    "result3=widgets.HTMLMath(value=\"Difference: $\"+ str(pi-3)+\"$\")\n",
    "\n",
    "result01=widgets.HTML(value=\"<b>Gregory-Leibniz Series</b>\")\n",
    "result11=widgets.HTMLMath(value=\"Calculated $\\pi=\\\\frac{4}{1}$ $=4$\")\n",
    "#result21=widgets.HTMLMath(value=\"Actual $\\pi$ $=\"+str(pi)+\"$\")\n",
    "result31=widgets.HTMLMath(value=\"Difference: $\"+ str(4-pi)+\"$\")\n",
    "\n",
    "style = {'description_width': 'initial'}\n",
    "sl1=widgets.IntSlider(\n",
    "    value=1,\n",
    "    min=1,\n",
    "    max=50,\n",
    "    step=1,\n",
    "    description='Number of elements:',\n",
    "    disabled=False,\n",
    "    continuous_update=False,\n",
    "    orientation='horizontal',\n",
    "    readout=True,\n",
    "    readout_format='d',\n",
    "    style=style,\n",
    "    layout=widgets.Layout(width='60%')\n",
    ")\n",
    "\n",
    "def on_value_change(change):\n",
    "    if change['new']==1:\n",
    "        result1.value=\"Calculated $\\pi=3$\"\n",
    "        result3.value=\"Difference: $\"+ str(pi-3)+\"$\"\n",
    "        result11.value=\"Calculated $\\pi=\\\\frac{4}{1}$ $=4$\"\n",
    "        result31.value=\"Difference: $\"+ str(4-pi)+\"$\"\n",
    "    elif change['new']>0 :\n",
    "        step = 0\n",
    "        ans = 3\n",
    "        j = 2\n",
    "        ans1 = 4\n",
    "        j1 = 3\n",
    "        for step in range(1,change['new']):\n",
    "            if step % 2 == 1:\n",
    "                ans += 4.0 / (j * (j + 1) * (j + 2))\n",
    "                ans1 -= 4.0 / j1\n",
    "                sign=\"+\"\n",
    "                sign1=\"-\"\n",
    "            else:\n",
    "                ans -= 4.0 / (j * (j + 1) * (j + 2))\n",
    "                ans1 += 4.0 / j1\n",
    "                sign=\"-\"\n",
    "                sign1=\"+\"\n",
    "            digit=j\n",
    "            digit1=j1\n",
    "            j += 2 \n",
    "            j1 += 2\n",
    "        ans=round(ans,15)\n",
    "        ans1=round(ans1,15)\n",
    "        result31.value=\"Difference: $\"+ '{0:.15f}'.format(abs(pi-ans1))+\"$\"\n",
    "        result3.value=\"Difference: $\"+ '{0:.15f}'.format(abs(pi-ans))+\"$\"\n",
    "        if change['new']==2:\n",
    "            result1.value=\"Calculated $\\pi$ $=3$ $+\\\\frac{4}{2\\\\times3\\\\times4}$ $=\"+str(ans)+\"$\"\n",
    "            result11.value=\"Calculated $\\pi$ $=\\\\frac{4}{1}$ $-\\\\frac{4}{3}$ $=\"+str(ans1)+\"$\"\n",
    "        elif change['new']==3:\n",
    "            result1.value=\"Calculated $\\pi$ $=3$ $+\\\\frac{4}{2\\\\times3\\\\times4}$ $-\\\\frac{4}{4\\\\times5\\\\times6}$ $=\"+str(ans)+\"$\"\n",
    "            result11.value=\"Calculated $\\pi$ $=\\\\frac{4}{1}$ $-\\\\frac{4}{3}$ $+\\\\frac{4}{5}$ $=\"+str(ans1)+\"$\"\n",
    "        else:\n",
    "            result1.value=\"Calculated $\\pi$ $=3$ $+\\\\frac{4}{2\\\\times3\\\\times4} ... $ $\"+sign+\"\\\\frac{4}{\"+str(digit)+\"\\\\times\"+str(digit+1)+\"\\\\times\"+str(digit+2)+\"}$ $=\"+str(ans)+\"$\"\n",
    "            result11.value=\"Calculated $\\pi$ $=\\\\frac{4}{1}$ $-\\\\frac{4}{3}$... $\"+sign1+\"\\\\frac{4}{\"+str(digit1)+\"}$ $=\"+str(ans1)+\"$\"\n",
    "            \n",
    "\n",
    "sl1.observe(on_value_change, names='value')\n",
    "\n",
    "display(Markdown(\"**How quickly Nilakantha and Gregory-Leibniz Series converge ?**\"))\n",
    "display(sl1)\n",
    "display(result0,result1,result3)\n",
    "display(result01,result11,result31)"
   ]
  },
  {
   "cell_type": "code",
   "execution_count": 6,
   "metadata": {},
   "outputs": [
    {
     "data": {
      "image/png": "[encoded data removed]",
      "text/plain": [
       "<Figure size 1224x360 with 1 Axes>"
      ]
     },
     "metadata": {
      "needs_background": "light"
     },
     "output_type": "display_data"
    }
   ],
   "source": [
    "import matplotlib.pyplot as plt\n",
    "%matplotlib inline\n",
    "\n",
    "series_l_x=[]\n",
    "series_l_y=[]\n",
    "\n",
    "series_n_x=[]\n",
    "series_n_y=[]\n",
    "\n",
    "step = 0\n",
    "series_l_x.append(step)\n",
    "series_n_x.append(step)\n",
    "\n",
    "ans = 3\n",
    "series_n_y.append(ans)\n",
    "j = 2\n",
    "\n",
    "ans1 = 4\n",
    "series_l_y.append(ans1)\n",
    "j1 = 3\n",
    "for step in range(1,50):\n",
    "    series_l_x.append(step)\n",
    "    series_n_x.append(step)\n",
    "    if step % 2 == 1:\n",
    "        ans += 4.0 / (j * (j + 1) * (j + 2))\n",
    "        ans1 -= 4.0 / j1\n",
    "    else:\n",
    "        ans -= 4.0 / (j * (j + 1) * (j + 2))\n",
    "        ans1 += 4.0 / j1\n",
    "    ans=round(ans,15)\n",
    "    ans1=round(ans1,15)\n",
    "    series_n_y.append(ans)\n",
    "    series_l_y.append(ans1)\n",
    "    j += 2 \n",
    "    j1 += 2\n",
    "\n",
    "\n",
    "fig = plt.figure(figsize=(17,5))  \n",
    "\n",
    "plt.scatter(series_n_x,series_n_y)\n",
    "plt.plot(series_n_x,series_n_y,label='Nilakantha Series')\n",
    "\n",
    "plt.scatter(series_l_x,series_l_y, color=\"r\")\n",
    "plt.plot(series_l_x,series_l_y,color=\"r\", label=\"Gregory-Leibniz Series\")\n",
    "plt.title(\"Calculating Pi - infinite series\")\n",
    "plt.ylabel('Estimated Pi')\n",
    "plt.xlabel('Number of elements')\n",
    "plt.grid()\n",
    "plt.legend()\n",
    "plt.show()"
   ]
  },
  {
   "cell_type": "markdown",
   "metadata": {},
   "source": [
    "<img style=\"float: right;\" src=\"images/Peter.png\" width=\"500\"/>\n",
    "\n",
    "[**Calculating Pi**](https://www.piday.org/pi-facts/)\n",
    "  \n",
    "      \n",
    "         \n",
    "             \n",
    "               \n",
    "               \n",
    "- [Ludolph van Ceulen](http://www.mathscareers.org.uk/article/celebrating-pi-day-ludolph-van-ceulen/) produced a **35 digit** approximation of Pi and took 25 years of calculations which were done by hand. Ludolph’s achievement was so great that when he died, his upper and lower bounds for Pi were inscribed on his tombstone.\n",
    "   \n",
    "\n",
    "- By 1665, Isaac Newton calculated pi to **16 decimal places**. \n",
    "   \n",
    "\n",
    "- It was in the early 1700s that Thomas Lagney calculated **127 decimal places** of pi reaching a new record. \n",
    "  \n",
    "\n",
    "- In the second half of the twentieth century, the number of digits of pi increased from about 2000 to **500,000**. \n",
    "  \n",
    " \n",
    "- This record was broken  in 2017 when a Swiss scientist Peter Trueb computed more than **22 trillion digits** of pi which took more than a hundred days(https://pi2e.ch).\n",
    "\n",
    "Image source - https://www.nzz.ch/wissenschaft/video-serie-nerdzz-der-wahrscheinlich-laengste-rekord-der-welt-ld.152445"
   ]
  },
  {
   "cell_type": "markdown",
   "metadata": {},
   "source": [
    "### Calculating Pi with darts"
   ]
  },
  {
   "cell_type": "code",
   "execution_count": 7,
   "metadata": {},
   "outputs": [
    {
     "data": {
      "image/jpeg": "[encoded data removed]",
      "text/html": [
       "\n",
       "        <iframe\n",
       "            width=\"400\"\n",
       "            height=\"300\"\n",
       "            src=\"https://www.youtube.com/embed/M34TO71SKGk\"\n",
       "            frameborder=\"0\"\n",
       "            allowfullscreen\n",
       "        ></iframe>\n",
       "        "
      ],
      "text/plain": [
       "<IPython.lib.display.YouTubeVideo at 0x7f5cb43eadd8>"
      ]
     },
     "execution_count": 7,
     "metadata": {},
     "output_type": "execute_result"
    }
   ],
   "source": [
    "from IPython.display import YouTubeVideo\n",
    "YouTubeVideo('M34TO71SKGk')"
   ]
  },
  {
   "cell_type": "markdown",
   "metadata": {},
   "source": [
    "\n",
    "**Idea**:  \n",
    "Throwing darts at target - square with side 1 and circle inside of the square the diameter 1.\n",
    "Number of darts that land in the circle divided the number of darts in the entire square should be proportional to the area of the circle divided by the area of the square:\n",
    "$$\\frac{n \\mspace{3mu} circle}{n \\mspace{3mu} square}\\propto\\frac{A \\mspace{3mu} circle}{A \\mspace{3mu} square}$$\n",
    "\n",
    "\n",
    "Area of the square is 1 (side is 1). Area of the circle is $\\pi\\times r^{2}$, where $r$ - is radius 0.5:\n",
    "$$\\frac{n \\mspace{3mu} circle}{n \\mspace{3mu} square}\\propto\\pi\\times r^{2}=\\pi\\times 0.5^{2}=\\frac{\\pi}{4}$$\n",
    "\n",
    "So we can get pi by multiplying both parts by 4:\n",
    "\n",
    "$$\\pi\\approx\\frac{n \\mspace{3mu} circle}{n \\mspace{3mu} square}\\times4$$\n",
    "\n",
    "**Try it yourself!**"
   ]
  },
  {
   "cell_type": "code",
   "execution_count": 8,
   "metadata": {},
   "outputs": [
    {
     "data": {
      "text/markdown": [
       "**Number of darts to throw**(up to 100000):"
      ],
      "text/plain": [
       "<IPython.core.display.Markdown object>"
      ]
     },
     "metadata": {},
     "output_type": "display_data"
    },
    {
     "data": {
      "application/vnd.jupyter.widget-view+json": {
       "model_id": "33cfad9732c942a3a1a419d174314403",
       "version_major": 2,
       "version_minor": 0
      },
      "text/plain": [
       "HBox(children=(IntText(value=0), Button(button_style='info', description='Throw', style=ButtonStyle())))"
      ]
     },
     "metadata": {},
     "output_type": "display_data"
    },
    {
     "data": {
      "application/vnd.jupyter.widget-view+json": {
       "model_id": "4ff228f15be246538fd37fe5653adbc5",
       "version_major": 2,
       "version_minor": 0
      },
      "text/plain": [
       "HTML(value=' ')"
      ]
     },
     "metadata": {},
     "output_type": "display_data"
    }
   ],
   "source": [
    "import matplotlib.pyplot as plt\n",
    "%matplotlib inline\n",
    "import random\n",
    "\n",
    "circle_centerx=0.5\n",
    "circle_centery=0.5\n",
    "circle_radius=0.5\n",
    "\n",
    "darts_number=widgets.IntText(value=0,disabled=False)\n",
    "submit_button3=widgets.Button(description='Throw',button_style='info',disabled=False)\n",
    "reset_button3=widgets.Button(description='Restart',disabled=False)\n",
    "warning3=widgets.HTML(value=\" \")\n",
    "\n",
    "def on_button_submit3_clicked(b):\n",
    "    global circle_centerx,circle_centery,circle_radius\n",
    "    x_inside=[]\n",
    "    y_inside=[]\n",
    "    x_outside=[]\n",
    "    y_outside=[]\n",
    "    if darts_number.value >0:\n",
    "        if darts_number.value>100000:\n",
    "            darts_number.value=100000\n",
    "        warning3.value=\"\"\n",
    "        for i in range(darts_number.value):\n",
    "            x=random.random()\n",
    "            y=random.random()\n",
    "            if (x-circle_centerx)**2+(y-circle_centery)**2<circle_radius**2:\n",
    "                x_inside.append(x)\n",
    "                y_inside.append(y)\n",
    "            else:\n",
    "                x_outside.append(x)\n",
    "                y_outside.append(y)\n",
    "\n",
    "\n",
    "        circle2 = plt.Circle((circle_centerx, circle_centery), circle_radius,color='b',fill=False)\n",
    "        fig, ax = plt.subplots(figsize=(10,10)) \n",
    "\n",
    "        ax.plot(x_inside,y_inside, 'o', color='y',alpha=0.4)\n",
    "        ax.plot(x_outside,y_outside, 'o', color='r',alpha=0.4)\n",
    "\n",
    "        ax.add_artist(circle2)\n",
    "\n",
    "        plt.ylim(0, 1) \n",
    "        plt.xlim(0, 1) \n",
    "        plt.show()\n",
    "        b.disabled=True\n",
    "        darts_number.disabled=True\n",
    "        display(Latex(\"Number of  darts inside the circle: \"+str(len(x_inside))))\n",
    "        display(Latex(\"Total number of darts: \"+str(darts_number.value)))\n",
    "        display(Latex(\"Estimated $\\pi=\\\\frac{\"+str(len(x_inside))+\"}{\"+str(darts_number.value)+\"}\\\\times4=\"+str(len(x_inside)*4/darts_number.value)+\"$\"))\n",
    "        display(reset_button3)\n",
    "    else:\n",
    "        warning3.value=\"Please enter number greater than zero\"\n",
    "    \n",
    "submit_button3.on_click(on_button_submit3_clicked)\n",
    "\n",
    "def restart_cell(b):\n",
    "    display(Javascript('IPython.notebook.execute_cell_range(IPython.notebook.get_selected_index(), IPython.notebook.get_selected_index()+1)'))\n",
    "\n",
    "reset_button3.on_click(restart_cell)\n",
    "\n",
    "display(Markdown(\"**Number of darts to throw**(up to 100000):\"))\n",
    "display(widgets.HBox([darts_number,submit_button3]))\n",
    "display(warning3)"
   ]
  },
  {
   "cell_type": "markdown",
   "metadata": {},
   "source": [
    "## [Pi day](https://www.exploratorium.edu/pi/pi-day-history)\n",
    "\n",
    "<img src=\"images/PiDay.jpeg\" width=\"600\"/>\n",
    "<center>https://www.exploratorium.edu/pi/pi-day-history</center>\n",
    "\n",
    "March 14 is Community Pi (π) Day, the annual celebration of a never-ending number—and Albert Einstein’s birthday. How did pi inspire a national holiday and an international celebration thousands of years after its discovery? It all started at tat San Francisco’s Exploratorium with former staff physicist, tinkerer, and media specialist Larry Shaw in 1988."
   ]
  },
  {
   "cell_type": "markdown",
   "metadata": {},
   "source": [
    "<center><font size=\"20\" color=\"INDIANRED\">Happy Pi day 2019!</font></center>"
   ]
  }
 ],
 "metadata": {
  "kernelspec": {
   "display_name": "Python 3",
   "language": "python",
   "name": "python3"
  },
  "language_info": {
   "codemirror_mode": {
    "name": "ipython",
    "version": 3
   },
   "file_extension": ".py",
   "mimetype": "text/x-python",
   "name": "python",
   "nbconvert_exporter": "python",
   "pygments_lexer": "ipython3",
   "version": "3.6.8"
  }
 },
 "nbformat": 4,
 "nbformat_minor": 2
}
