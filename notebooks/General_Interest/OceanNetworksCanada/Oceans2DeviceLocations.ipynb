{
 "cells": [
  {
   "cell_type": "markdown",
   "metadata": {},
   "source": []
  },
  {
   "cell_type": "markdown",
   "metadata": {},
   "source": [
    "## Accessing and Visualizing Device Locations in Oceans 2.0"
   ]
  },
  {
   "cell_type": "markdown",
   "metadata": {},
   "source": [
    "To motivate this work, from [Ocean Networks Canada](http://www.oceannetworks.ca) (ONC):\n",
    "\n",
    ">\"Long-term, continuous scientific data from the ocean environment are gathered by Ocean Networks Canada and made available through **Oceans 2.0**—a powerful online data management system. Oceans 2.0, combined with high-performance computing, allows ONC to provide ocean analytics that assist researchers, communities, industry, and policy-makers in making evidence-based decisions in Canada and globally.\""
   ]
  },
  {
   "cell_type": "markdown",
   "metadata": {},
   "source": [
    "The API documentation [here](https://wiki.oceannetworks.ca/display/O2A/API+Reference) captures ONC's mission with Oceans 2.0, but allow us to paraphrase.\n",
    "\n",
    "What we have is a public archive of oceans data that is programmatically accessible. This data is served in three forms:\n",
    "\n",
    "* **Discovery**:  we need identifier codes to find devices.\n",
    "* **Data Delivery**: once we have found a device, we want its data!\n",
    "* **Interoperability**: we may want to share with or integrate other data sources.\n",
    "\n",
    "We could, of course, access the same data [here](https://data.oceannetworks.ca/), but our aim is leverage Jupyter in place of a _fixed_ interface."
   ]
  },
  {
   "cell_type": "markdown",
   "metadata": {},
   "source": [
    "---"
   ]
  },
  {
   "cell_type": "markdown",
   "metadata": {},
   "source": [
    "Let's look at **Discovery**.\n",
    "\n",
    "We will refine our search, filtering by one of `locations`, `devices`, `deviceCategories`, `properties`, `dataProducts`, and `deployments`."
   ]
  },
  {
   "cell_type": "markdown",
   "metadata": {},
   "source": [
    "Our data journey begins with `locations` $\\dots$\n",
    "\n",
    "> \"Find locations that have the data you are interested in and use the locationCode when requesting a data using the `dataProductDelivery`, `scalardata` or `rawdata` web services.\""
   ]
  },
  {
   "cell_type": "markdown",
   "metadata": {},
   "source": [
    "First and foremost, we need to make a request to $\\text{Oceans} \\ 2.0$.\n",
    "\n",
    "Python offers a convenient library for doing this. Enter `requests`."
   ]
  },
  {
   "cell_type": "code",
   "execution_count": null,
   "metadata": {
    "collapsed": true
   },
   "outputs": [],
   "source": [
    "import requests"
   ]
  },
  {
   "cell_type": "markdown",
   "metadata": {},
   "source": [
    "Here `requests` expects a valid base `url` to which we will pass search parameters.\n",
    "\n",
    "Since we seek `locations`, we append this to the `url`. "
   ]
  },
  {
   "cell_type": "code",
   "execution_count": null,
   "metadata": {
    "collapsed": true
   },
   "outputs": [],
   "source": [
    "url = 'https://data.oceannetworks.ca/api/'\n",
    "searchFilter = 'locations'\n",
    "url += searchFilter\n",
    "url"
   ]
  },
  {
   "cell_type": "markdown",
   "metadata": {},
   "source": [
    "We wish to \"`get`\" data, so that's our `method` parameter.\n",
    "\n",
    "Also, ONC expects an access token to authenticate the request, so we include one of those, too.\n",
    "\n",
    "The access token is located in `Oceans2ApiToken.txt`, within our current directory."
   ]
  },
  {
   "cell_type": "code",
   "execution_count": null,
   "metadata": {
    "collapsed": true
   },
   "outputs": [],
   "source": [
    "with open('Oceans2ApiToken.txt', 'r') as f:\n",
    "    parameters = {\n",
    "        'method':'get',\n",
    "        'token': f.read()\n",
    "    }"
   ]
  },
  {
   "cell_type": "markdown",
   "metadata": {},
   "source": [
    "Now `requests` _also_ needs to be told that we are \"getting\" data.\n",
    "\n",
    "Upon initializing `response`, we make a request to Oceans 2.0."
   ]
  },
  {
   "cell_type": "code",
   "execution_count": null,
   "metadata": {
    "collapsed": true
   },
   "outputs": [],
   "source": [
    "response = requests.get(url, params=parameters)"
   ]
  },
  {
   "cell_type": "markdown",
   "metadata": {},
   "source": [
    "We may check that the `response` is well-received."
   ]
  },
  {
   "cell_type": "code",
   "execution_count": null,
   "metadata": {
    "collapsed": true
   },
   "outputs": [],
   "source": [
    "response.ok"
   ]
  },
  {
   "cell_type": "markdown",
   "metadata": {},
   "source": [
    "$\\downarrow \\ $ We should also be reluctant to move on if this status code is anything _but_ $200$."
   ]
  },
  {
   "cell_type": "code",
   "execution_count": null,
   "metadata": {
    "collapsed": true
   },
   "outputs": [],
   "source": [
    "response.status_code"
   ]
  },
  {
   "cell_type": "markdown",
   "metadata": {},
   "source": [
    "If all is well,  we proceed."
   ]
  },
  {
   "cell_type": "markdown",
   "metadata": {},
   "source": [
    "---"
   ]
  },
  {
   "cell_type": "markdown",
   "metadata": {},
   "source": [
    "The data we receive is formatted as [$\\text{JSON}$](https://www.json.org/). This needs to be parsed for Python to handle it elegantly, so we import another library."
   ]
  },
  {
   "cell_type": "code",
   "execution_count": null,
   "metadata": {
    "collapsed": true
   },
   "outputs": [],
   "source": [
    "import json"
   ]
  },
  {
   "cell_type": "markdown",
   "metadata": {},
   "source": [
    "The `content` of our `response` is where the data lingers.\n",
    "\n",
    "To keep the formatting consistent, we convert our newfound `data` to a `UTF-8` `str`ing.\n",
    "\n",
    "Then, we use  `json.loads` to yield a `list`."
   ]
  },
  {
   "cell_type": "code",
   "execution_count": null,
   "metadata": {
    "collapsed": true
   },
   "outputs": [],
   "source": [
    "jsonData = str(response.content, 'utf-8')\n",
    "data = json.loads(jsonData)\n",
    "type(jsonData) # just checking ..."
   ]
  },
  {
   "cell_type": "markdown",
   "metadata": {},
   "source": [
    "We may [slice](https://en.wikipedia.org/wiki/Array_slicing) the first $3$ elements of our `data` for a preview.\n",
    "\n",
    "$\\downarrow \\ $ We anticipate a list of dictionaries, where each dictionary corresponds to a location."
   ]
  },
  {
   "cell_type": "code",
   "execution_count": null,
   "metadata": {
    "collapsed": true
   },
   "outputs": [],
   "source": [
    "data[:3]"
   ]
  },
  {
   "cell_type": "markdown",
   "metadata": {},
   "source": [
    "Above we should see some coordinates, perhaps a description, etc.\n",
    "\n",
    "The `deployments`, `hasDeviceData` and `hasPropertyData` keys are valuable. These tell us if and how many devices there are somewhere. What is more, they tell us if we can \"observe\" the ocean from there."
   ]
  },
  {
   "cell_type": "markdown",
   "metadata": {},
   "source": [
    "---"
   ]
  },
  {
   "cell_type": "markdown",
   "metadata": {},
   "source": [
    "Let's transform our newfound data into a `DataFrame` via [`pandas`](https://pandas.pydata.org/)."
   ]
  },
  {
   "cell_type": "code",
   "execution_count": null,
   "metadata": {
    "collapsed": true
   },
   "outputs": [],
   "source": [
    "import pandas"
   ]
  },
  {
   "cell_type": "code",
   "execution_count": null,
   "metadata": {
    "collapsed": true
   },
   "outputs": [],
   "source": [
    "dataFrame = pandas.read_json(jsonData)\n",
    "dataFrame"
   ]
  },
  {
   "cell_type": "markdown",
   "metadata": {},
   "source": [
    "There is quite a bit of information here. We may get the \"length,\" i.e. the number of locations, in our `dataFrame`."
   ]
  },
  {
   "cell_type": "code",
   "execution_count": null,
   "metadata": {
    "collapsed": true
   },
   "outputs": [],
   "source": [
    "len(dataFrame)"
   ]
  },
  {
   "cell_type": "markdown",
   "metadata": {},
   "source": [
    "Also, there is a programmatic way to see what data is visible for each location."
   ]
  },
  {
   "cell_type": "code",
   "execution_count": null,
   "metadata": {
    "collapsed": true
   },
   "outputs": [],
   "source": [
    "dataFrame.columns.values"
   ]
  },
  {
   "cell_type": "markdown",
   "metadata": {},
   "source": [
    "For now, to see where the data is coming from, let's grab the coordinates of these locations.\n",
    "\n",
    "Again we slice the first $3$ elements of our `latitudes` and `longitudes` for a preview."
   ]
  },
  {
   "cell_type": "code",
   "execution_count": null,
   "metadata": {
    "collapsed": true
   },
   "outputs": [],
   "source": [
    "latitudes = dataFrame['lat']\n",
    "latitudes[:3]"
   ]
  },
  {
   "cell_type": "code",
   "execution_count": null,
   "metadata": {
    "collapsed": true
   },
   "outputs": [],
   "source": [
    "longitudes = dataFrame['lon']\n",
    "longitudes[:3]"
   ]
  },
  {
   "cell_type": "markdown",
   "metadata": {},
   "source": [
    "It seems that some locations do not have registered coordinates.\n",
    "\n",
    "Since these locations are not immediately informative, we will exclude them and [`zip`](https://en.wikipedia.org/wiki/Convolution_(computer_science) the valid `latitudes` with their corresponding `longitudes`.\n",
    "\n",
    "A subtle way to catch and exclude `NaNs` in a DataFrames is to check if an element equals itself. To be clear, `NaN != NaN`.\n",
    "\n",
    "We see this below as `l` ... `if l == l`. Elements that fail to meet this criteria are excluded."
   ]
  },
  {
   "cell_type": "code",
   "execution_count": null,
   "metadata": {
    "collapsed": true
   },
   "outputs": [],
   "source": [
    "coordinates = list(zip(\n",
    "    [l for l in latitudes if l == l],\n",
    "    [l for l in longitudes if l == l]\n",
    "))"
   ]
  },
  {
   "cell_type": "markdown",
   "metadata": {},
   "source": [
    "Once more we slice some elements of `coordinates` to see that the structure meets our expectations."
   ]
  },
  {
   "cell_type": "code",
   "execution_count": null,
   "metadata": {
    "collapsed": true
   },
   "outputs": [],
   "source": [
    "coordinates[:3]"
   ]
  },
  {
   "cell_type": "markdown",
   "metadata": {},
   "source": [
    "---"
   ]
  },
  {
   "cell_type": "markdown",
   "metadata": {},
   "source": [
    "We may visualize our `coordinates` with [$\\mathbf{D3}$](https://d3js.org/)$.js,$ but we still need to pass the `coordinates` to our current window via $\\text{JavaScript}.$\n",
    "\n",
    "For now, we cheat by globally initializing them."
   ]
  },
  {
   "cell_type": "code",
   "execution_count": null,
   "metadata": {
    "collapsed": true
   },
   "outputs": [],
   "source": [
    "from IPython.display import Javascript\n",
    "Javascript(\"window.coordinates = %s\" % json.dumps({'coordinates': coordinates}))"
   ]
  },
  {
   "cell_type": "markdown",
   "metadata": {},
   "source": [
    "We have also blackboxed the code needed to generate an interactive map using a [Mercator projection](https://en.wikipedia.org/wiki/Mercator_projection).\n",
    "\n",
    "If we're curious, we may look in our current directory at `d3Geography.py` to see what's been abstracted.\n",
    "\n",
    "The file `americas.geojson`, which is also in our current directory, contains the geographic data."
   ]
  },
  {
   "cell_type": "code",
   "execution_count": null,
   "metadata": {
    "collapsed": true
   },
   "outputs": [],
   "source": [
    "from d3Geography import SVG, geography\n",
    "view = geography(\"americas.geojson\")\n",
    "svg = SVG(height=500)\n",
    "\n",
    "view.addProjection(\"Mercator\")\n",
    "view.addBrush() # drag to select a region\n",
    "view.addZoom()  # zoom to region\n",
    "view.make(svg=svg)"
   ]
  },
  {
   "cell_type": "markdown",
   "metadata": {},
   "source": [
    "$\\uparrow \\ $ Look above! The <font color=\"red\">red</font> circles are the `coordinates` in our `data`.\n",
    "\n",
    "We may _click_ on these circles to zoom towards one, or _drag_ to select and zoom into a specific region.\n",
    "\n",
    "Also, double-clicking the white space (i.e. the ocean) at any time will restore the initial view. \n",
    "\n",
    "If any circles seem out of place, try running the previous cell once more to refresh things."
   ]
  },
  {
   "cell_type": "markdown",
   "metadata": {},
   "source": [
    "---"
   ]
  },
  {
   "cell_type": "markdown",
   "metadata": {},
   "source": [
    "* _Assembled by Eric Easthope_\n",
    "\n",
    "* I humbly and _**heavily**_ borrow bits from [bl.ocks](https://bl.ocks.org/) and [Stack Overflow](https://stackoverflow.com/)."
   ]
  },
  {
   "cell_type": "markdown",
   "metadata": {},
   "source": []
  },
  {
   "cell_type": "markdown",
   "metadata": {},
   "source": [
    "---"
   ]
  }
 ],
 "metadata": {
  "kernel_info": {
   "name": "python3"
  },
  "kernelspec": {
   "display_name": "Python 3",
   "language": "python",
   "name": "python3"
  },
  "language_info": {
   "codemirror_mode": {
    "name": "ipython",
    "version": 3
   },
   "file_extension": ".py",
   "mimetype": "text/x-python",
   "name": "python",
   "nbconvert_exporter": "python",
   "pygments_lexer": "ipython3",
   "version": "3.7.6"
  }
 },
 "nbformat": 4,
 "nbformat_minor": 2
}
